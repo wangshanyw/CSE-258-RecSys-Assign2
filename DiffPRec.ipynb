{
 "cells": [
  {
   "cell_type": "code",
   "execution_count": 1,
   "id": "eefab22f",
   "metadata": {
    "_cell_guid": "b1076dfc-b9ad-4769-8c92-a6c4dae69d19",
    "_uuid": "8f2839f25d086af736a60e9eeb907d3b93b6e0e5",
    "execution": {
     "iopub.execute_input": "2022-05-30T05:41:13.418523Z",
     "iopub.status.busy": "2022-05-30T05:41:13.417919Z",
     "iopub.status.idle": "2022-05-30T05:41:15.111511Z",
     "shell.execute_reply": "2022-05-30T05:41:15.110749Z"
    },
    "papermill": {
     "duration": 1.715527,
     "end_time": "2022-05-30T05:41:15.113618",
     "exception": false,
     "start_time": "2022-05-30T05:41:13.398091",
     "status": "completed"
    },
    "tags": []
   },
   "outputs": [],
   "source": [
    "import numpy as np\n",
    "import json\n",
    "import pandas as pd\n",
    "import torch\n",
    "import pickle\n",
    "from collections import defaultdict\n",
    "from tqdm import tqdm\n",
    "# import warnings\n",
    "# warnings.filterwarnings(\"ignore\")"
   ]
  },
  {
   "cell_type": "code",
   "execution_count": 2,
   "id": "88201589",
   "metadata": {
    "execution": {
     "iopub.execute_input": "2022-05-30T05:41:15.149564Z",
     "iopub.status.busy": "2022-05-30T05:41:15.149333Z",
     "iopub.status.idle": "2022-05-30T05:41:15.203661Z",
     "shell.execute_reply": "2022-05-30T05:41:15.202994Z"
    },
    "papermill": {
     "duration": 0.074055,
     "end_time": "2022-05-30T05:41:15.205263",
     "exception": false,
     "start_time": "2022-05-30T05:41:15.131208",
     "status": "completed"
    },
    "tags": []
   },
   "outputs": [],
   "source": [
    "n_users = 6611\n",
    "n_items = 79937\n",
    "device = torch.device('cuda:0' if torch.cuda.is_available() else 'cpu')"
   ]
  },
  {
   "cell_type": "code",
   "execution_count": 3,
   "id": "05cc75b0",
   "metadata": {
    "execution": {
     "iopub.execute_input": "2022-05-30T05:41:15.240713Z",
     "iopub.status.busy": "2022-05-30T05:41:15.240507Z",
     "iopub.status.idle": "2022-05-30T05:41:41.653748Z",
     "shell.execute_reply": "2022-05-30T05:41:41.652815Z"
    },
    "papermill": {
     "duration": 26.433561,
     "end_time": "2022-05-30T05:41:41.656251",
     "exception": false,
     "start_time": "2022-05-30T05:41:15.222690",
     "status": "completed"
    },
    "tags": []
   },
   "outputs": [
    {
     "name": "stdout",
     "output_type": "stream",
     "text": [
      "Looking in links: https://data.dgl.ai/wheels/repo.html\r\n",
      "Collecting dgl-cu110\r\n",
      "  Downloading https://data.dgl.ai/wheels/dgl_cu110-0.8.1-cp37-cp37m-manylinux1_x86_64.whl (221.1 MB)\r\n",
      "\u001b[2K     \u001b[90m━━━━━━━━━━━━━━━━━━━━━━━━━━━━━━━━━━━━━━━\u001b[0m \u001b[32m221.1/221.1 MB\u001b[0m \u001b[31m5.8 MB/s\u001b[0m eta \u001b[36m0:00:00\u001b[0m\r\n",
      "\u001b[?25hCollecting dglgo\r\n",
      "  Downloading dglgo-0.0.1-py3-none-any.whl (77 kB)\r\n",
      "\u001b[2K     \u001b[90m━━━━━━━━━━━━━━━━━━━━━━━━━━━━━━━━━━━━━━━\u001b[0m \u001b[32m77.2/77.2 KB\u001b[0m \u001b[31m592.9 kB/s\u001b[0m eta \u001b[36m0:00:00\u001b[0m\r\n",
      "\u001b[?25hRequirement already satisfied: tqdm in /opt/conda/lib/python3.7/site-packages (from dgl-cu110) (4.63.0)\r\n",
      "Requirement already satisfied: requests>=2.19.0 in /opt/conda/lib/python3.7/site-packages (from dgl-cu110) (2.27.1)\r\n",
      "Requirement already satisfied: numpy>=1.14.0 in /opt/conda/lib/python3.7/site-packages (from dgl-cu110) (1.21.6)\r\n",
      "Requirement already satisfied: scipy>=1.1.0 in /opt/conda/lib/python3.7/site-packages (from dgl-cu110) (1.7.3)\r\n",
      "Requirement already satisfied: networkx>=2.1 in /opt/conda/lib/python3.7/site-packages (from dgl-cu110) (2.5)\r\n",
      "Requirement already satisfied: isort>=5.10.1 in /opt/conda/lib/python3.7/site-packages (from dglgo) (5.10.1)\r\n",
      "Requirement already satisfied: typer>=0.4.0 in /opt/conda/lib/python3.7/site-packages (from dglgo) (0.4.1)\r\n",
      "Requirement already satisfied: autopep8>=1.6.0 in /opt/conda/lib/python3.7/site-packages (from dglgo) (1.6.0)\r\n",
      "Collecting pydantic>=1.9.0\r\n",
      "  Downloading pydantic-1.9.1-cp37-cp37m-manylinux_2_17_x86_64.manylinux2014_x86_64.whl (11.1 MB)\r\n",
      "\u001b[2K     \u001b[90m━━━━━━━━━━━━━━━━━━━━━━━━━━━━━━━━━━━━━━━━\u001b[0m \u001b[32m11.1/11.1 MB\u001b[0m \u001b[31m23.8 MB/s\u001b[0m eta \u001b[36m0:00:00\u001b[0m\r\n",
      "\u001b[?25hCollecting numpydoc>=1.1.0\r\n",
      "  Downloading numpydoc-1.3.1-py3-none-any.whl (51 kB)\r\n",
      "\u001b[2K     \u001b[90m━━━━━━━━━━━━━━━━━━━━━━━━━━━━━━━━━━━━━━━━\u001b[0m \u001b[32m51.7/51.7 KB\u001b[0m \u001b[31m4.6 MB/s\u001b[0m eta \u001b[36m0:00:00\u001b[0m\r\n",
      "\u001b[?25hRequirement already satisfied: PyYAML>=5.1 in /opt/conda/lib/python3.7/site-packages (from dglgo) (6.0)\r\n",
      "Collecting ruamel.yaml>=0.17.20\r\n",
      "  Downloading ruamel.yaml-0.17.21-py3-none-any.whl (109 kB)\r\n",
      "\u001b[2K     \u001b[90m━━━━━━━━━━━━━━━━━━━━━━━━━━━━━━━━━━━━━━━\u001b[0m \u001b[32m109.5/109.5 KB\u001b[0m \u001b[31m9.4 MB/s\u001b[0m eta \u001b[36m0:00:00\u001b[0m\r\n",
      "\u001b[?25hRequirement already satisfied: toml in /opt/conda/lib/python3.7/site-packages (from autopep8>=1.6.0->dglgo) (0.10.2)\r\n",
      "Requirement already satisfied: pycodestyle>=2.8.0 in /opt/conda/lib/python3.7/site-packages (from autopep8>=1.6.0->dglgo) (2.8.0)\r\n",
      "Requirement already satisfied: decorator>=4.3.0 in /opt/conda/lib/python3.7/site-packages (from networkx>=2.1->dgl-cu110) (5.1.1)\r\n",
      "Requirement already satisfied: Jinja2>=2.10 in /opt/conda/lib/python3.7/site-packages (from numpydoc>=1.1.0->dglgo) (3.1.2)\r\n",
      "Collecting sphinx>=3.0\r\n",
      "  Downloading Sphinx-5.0.0-py3-none-any.whl (3.1 MB)\r\n",
      "\u001b[2K     \u001b[90m━━━━━━━━━━━━━━━━━━━━━━━━━━━━━━━━━━━━━━━━\u001b[0m \u001b[32m3.1/3.1 MB\u001b[0m \u001b[31m71.0 MB/s\u001b[0m eta \u001b[36m0:00:00\u001b[0m\r\n",
      "\u001b[?25hRequirement already satisfied: typing-extensions>=3.7.4.3 in /opt/conda/lib/python3.7/site-packages (from pydantic>=1.9.0->dglgo) (4.2.0)\r\n",
      "Requirement already satisfied: idna<4,>=2.5 in /opt/conda/lib/python3.7/site-packages (from requests>=2.19.0->dgl-cu110) (3.3)\r\n",
      "Requirement already satisfied: certifi>=2017.4.17 in /opt/conda/lib/python3.7/site-packages (from requests>=2.19.0->dgl-cu110) (2021.10.8)\r\n",
      "Requirement already satisfied: charset-normalizer~=2.0.0 in /opt/conda/lib/python3.7/site-packages (from requests>=2.19.0->dgl-cu110) (2.0.12)\r\n",
      "Requirement already satisfied: urllib3<1.27,>=1.21.1 in /opt/conda/lib/python3.7/site-packages (from requests>=2.19.0->dgl-cu110) (1.26.8)\r\n",
      "Collecting ruamel.yaml.clib>=0.2.6\r\n",
      "  Downloading ruamel.yaml.clib-0.2.6-cp37-cp37m-manylinux1_x86_64.whl (546 kB)\r\n",
      "\u001b[2K     \u001b[90m━━━━━━━━━━━━━━━━━━━━━━━━━━━━━━━━━━━━━━\u001b[0m \u001b[32m546.8/546.8 KB\u001b[0m \u001b[31m39.3 MB/s\u001b[0m eta \u001b[36m0:00:00\u001b[0m\r\n",
      "\u001b[?25hRequirement already satisfied: click<9.0.0,>=7.1.1 in /opt/conda/lib/python3.7/site-packages (from typer>=0.4.0->dglgo) (8.0.4)\r\n",
      "Requirement already satisfied: importlib-metadata in /opt/conda/lib/python3.7/site-packages (from click<9.0.0,>=7.1.1->typer>=0.4.0->dglgo) (4.11.3)\r\n",
      "Requirement already satisfied: MarkupSafe>=2.0 in /opt/conda/lib/python3.7/site-packages (from Jinja2>=2.10->numpydoc>=1.1.0->dglgo) (2.0.1)\r\n",
      "Collecting sphinxcontrib-devhelp\r\n",
      "  Downloading sphinxcontrib_devhelp-1.0.2-py2.py3-none-any.whl (84 kB)\r\n",
      "\u001b[2K     \u001b[90m━━━━━━━━━━━━━━━━━━━━━━━━━━━━━━━━━━━━━━━━\u001b[0m \u001b[32m84.7/84.7 KB\u001b[0m \u001b[31m7.8 MB/s\u001b[0m eta \u001b[36m0:00:00\u001b[0m\r\n",
      "\u001b[?25hRequirement already satisfied: Pygments>=2.0 in /opt/conda/lib/python3.7/site-packages (from sphinx>=3.0->numpydoc>=1.1.0->dglgo) (2.11.2)\r\n",
      "Requirement already satisfied: docutils<0.19,>=0.14 in /opt/conda/lib/python3.7/site-packages (from sphinx>=3.0->numpydoc>=1.1.0->dglgo) (0.18.1)\r\n",
      "Collecting imagesize\r\n",
      "  Downloading imagesize-1.3.0-py2.py3-none-any.whl (5.2 kB)\r\n",
      "Collecting sphinxcontrib-serializinghtml>=1.1.5\r\n",
      "  Downloading sphinxcontrib_serializinghtml-1.1.5-py2.py3-none-any.whl (94 kB)\r\n",
      "\u001b[2K     \u001b[90m━━━━━━━━━━━━━━━━━━━━━━━━━━━━━━━━━━━━━━━━\u001b[0m \u001b[32m94.0/94.0 KB\u001b[0m \u001b[31m10.1 MB/s\u001b[0m eta \u001b[36m0:00:00\u001b[0m\r\n",
      "\u001b[?25hCollecting sphinxcontrib-jsmath\r\n",
      "  Downloading sphinxcontrib_jsmath-1.0.1-py2.py3-none-any.whl (5.1 kB)\r\n",
      "Requirement already satisfied: snowballstemmer>=1.1 in /opt/conda/lib/python3.7/site-packages (from sphinx>=3.0->numpydoc>=1.1.0->dglgo) (2.2.0)\r\n",
      "Collecting sphinxcontrib-htmlhelp>=2.0.0\r\n",
      "  Downloading sphinxcontrib_htmlhelp-2.0.0-py2.py3-none-any.whl (100 kB)\r\n",
      "\u001b[2K     \u001b[90m━━━━━━━━━━━━━━━━━━━━━━━━━━━━━━━━━━━━━━\u001b[0m \u001b[32m100.5/100.5 KB\u001b[0m \u001b[31m10.5 MB/s\u001b[0m eta \u001b[36m0:00:00\u001b[0m\r\n",
      "\u001b[?25hCollecting sphinxcontrib-applehelp\r\n",
      "  Downloading sphinxcontrib_applehelp-1.0.2-py2.py3-none-any.whl (121 kB)\r\n",
      "\u001b[2K     \u001b[90m━━━━━━━━━━━━━━━━━━━━━━━━━━━━━━━━━━━━━━\u001b[0m \u001b[32m121.2/121.2 KB\u001b[0m \u001b[31m10.9 MB/s\u001b[0m eta \u001b[36m0:00:00\u001b[0m\r\n",
      "\u001b[?25hRequirement already satisfied: packaging in /opt/conda/lib/python3.7/site-packages (from sphinx>=3.0->numpydoc>=1.1.0->dglgo) (21.3)\r\n",
      "Collecting alabaster<0.8,>=0.7\r\n",
      "  Downloading alabaster-0.7.12-py2.py3-none-any.whl (14 kB)\r\n",
      "Collecting sphinxcontrib-qthelp\r\n",
      "  Downloading sphinxcontrib_qthelp-1.0.3-py2.py3-none-any.whl (90 kB)\r\n",
      "\u001b[2K     \u001b[90m━━━━━━━━━━━━━━━━━━━━━━━━━━━━━━━━━━━━━━━━\u001b[0m \u001b[32m90.6/90.6 KB\u001b[0m \u001b[31m8.2 MB/s\u001b[0m eta \u001b[36m0:00:00\u001b[0m\r\n",
      "\u001b[?25hRequirement already satisfied: babel>=1.3 in /opt/conda/lib/python3.7/site-packages (from sphinx>=3.0->numpydoc>=1.1.0->dglgo) (2.9.1)\r\n",
      "Requirement already satisfied: pytz>=2015.7 in /opt/conda/lib/python3.7/site-packages (from babel>=1.3->sphinx>=3.0->numpydoc>=1.1.0->dglgo) (2021.3)\r\n",
      "Requirement already satisfied: zipp>=0.5 in /opt/conda/lib/python3.7/site-packages (from importlib-metadata->click<9.0.0,>=7.1.1->typer>=0.4.0->dglgo) (3.7.0)\r\n",
      "Requirement already satisfied: pyparsing!=3.0.5,>=2.0.2 in /opt/conda/lib/python3.7/site-packages (from packaging->sphinx>=3.0->numpydoc>=1.1.0->dglgo) (3.0.7)\r\n",
      "Installing collected packages: alabaster, sphinxcontrib-serializinghtml, sphinxcontrib-qthelp, sphinxcontrib-jsmath, sphinxcontrib-htmlhelp, sphinxcontrib-devhelp, sphinxcontrib-applehelp, ruamel.yaml.clib, pydantic, imagesize, sphinx, ruamel.yaml, dgl-cu110, numpydoc, dglgo\r\n",
      "  Attempting uninstall: pydantic\r\n",
      "    Found existing installation: pydantic 1.8.2\r\n",
      "    Uninstalling pydantic-1.8.2:\r\n",
      "      Successfully uninstalled pydantic-1.8.2\r\n",
      "\u001b[31mERROR: pip's dependency resolver does not currently take into account all the packages that are installed. This behaviour is the source of the following dependency conflicts.\r\n",
      "thinc 8.0.15 requires pydantic!=1.8,!=1.8.1,<1.9.0,>=1.7.4, but you have pydantic 1.9.1 which is incompatible.\r\n",
      "thinc 8.0.15 requires typing-extensions<4.0.0.0,>=3.7.4.1; python_version < \"3.8\", but you have typing-extensions 4.2.0 which is incompatible.\r\n",
      "spacy 3.2.4 requires pydantic!=1.8,!=1.8.1,<1.9.0,>=1.7.4, but you have pydantic 1.9.1 which is incompatible.\r\n",
      "spacy 3.2.4 requires typing-extensions<4.0.0.0,>=3.7.4; python_version < \"3.8\", but you have typing-extensions 4.2.0 which is incompatible.\u001b[0m\u001b[31m\r\n",
      "\u001b[0mSuccessfully installed alabaster-0.7.12 dgl-cu110-0.8.1 dglgo-0.0.1 imagesize-1.3.0 numpydoc-1.3.1 pydantic-1.9.1 ruamel.yaml-0.17.21 ruamel.yaml.clib-0.2.6 sphinx-5.0.0 sphinxcontrib-applehelp-1.0.2 sphinxcontrib-devhelp-1.0.2 sphinxcontrib-htmlhelp-2.0.0 sphinxcontrib-jsmath-1.0.1 sphinxcontrib-qthelp-1.0.3 sphinxcontrib-serializinghtml-1.1.5\r\n",
      "\u001b[33mWARNING: Running pip as the 'root' user can result in broken permissions and conflicting behaviour with the system package manager. It is recommended to use a virtual environment instead: https://pip.pypa.io/warnings/venv\u001b[0m\u001b[33m\r\n",
      "\u001b[0mNote: you may need to restart the kernel to use updated packages.\n"
     ]
    }
   ],
   "source": [
    "pip install dgl-cu110 dglgo -f https://data.dgl.ai/wheels/repo.html"
   ]
  },
  {
   "cell_type": "code",
   "execution_count": 4,
   "id": "bd2207fa",
   "metadata": {
    "execution": {
     "iopub.execute_input": "2022-05-30T05:41:41.770355Z",
     "iopub.status.busy": "2022-05-30T05:41:41.770077Z",
     "iopub.status.idle": "2022-05-30T05:41:45.695261Z",
     "shell.execute_reply": "2022-05-30T05:41:45.694450Z"
    },
    "papermill": {
     "duration": 3.984828,
     "end_time": "2022-05-30T05:41:45.697506",
     "exception": false,
     "start_time": "2022-05-30T05:41:41.712678",
     "status": "completed"
    },
    "tags": []
   },
   "outputs": [],
   "source": [
    "# load data\n",
    "# to do: str_id -> int\n",
    "cite_file = '../input/cs245-2-project-11-graph-based-recommendation/paper_file_ann.txt'\n",
    "coauthor_file = '../input/cs245-2-project-11-graph-based-recommendation/author_file_ann.txt'\n",
    "author_train_file = '../input/cs245-2-project-11-graph-based-recommendation/bipartite_train_ann.txt'\n",
    "author_test_file = '../input/cs245-2-project-11-graph-based-recommendation/bipartite_test_ann.txt'\n",
    "\n",
    "import random as rd\n",
    "\n",
    "def generate_test(all_user_ratings):\n",
    "    ratings_test = {}\n",
    "    for user in all_user_ratings:\n",
    "        ratings_test[user] = rd.sample(all_user_ratings[user], 1)[0]\n",
    "    return ratings_test\n",
    "\n",
    "def load_data(cite_file, coauthor_file, author_train_file, author_test_file, n_users):\n",
    "    citation, author_train, coauthor = defaultdict(list), defaultdict(list), defaultdict(list)\n",
    "    user_ratings_train = defaultdict(list)\n",
    "    test_ratings = defaultdict(list)\n",
    "    \n",
    "    train_users = set()\n",
    "\n",
    "    with open(cite_file, 'r') as f:\n",
    "        line = f.readlines()\n",
    "    for l in line:\n",
    "        src, tgt = l.strip().split(' ')\n",
    "        src, tgt = int(src), int(tgt)\n",
    "        citation['src'].append(src)\n",
    "        citation['tgt'].append(tgt)\n",
    "\n",
    "    with open(coauthor_file, 'r') as f:\n",
    "        line = f.readlines()\n",
    "    for l in line:\n",
    "        src, tgt = l.strip().split(' ')\n",
    "        src, tgt = int(src), int(tgt)\n",
    "        coauthor['src'].append(src)\n",
    "        coauthor['tgt'].append(tgt)\n",
    "        \n",
    "    \n",
    "    with open(author_train_file, 'r') as f:\n",
    "        line = f.readlines()\n",
    "        train_interacts = len(line)\n",
    "    for l in line:\n",
    "        src, tgt = l.strip().split(' ')\n",
    "        src, tgt = int(src), int(tgt)\n",
    "        user_ratings_train[src].append(tgt)\n",
    "        author_train['src'].append(src)\n",
    "        author_train['tgt'].append(tgt+n_users)\n",
    "        train_users.add(src)\n",
    "    \n",
    "    with open(author_test_file, 'r') as f:\n",
    "        line = f.readlines()\n",
    "    for l in line:\n",
    "        src, tgt = l.strip().split(' ')\n",
    "        src, tgt = int(src), int(tgt)\n",
    "        test_ratings[src].append(tgt)\n",
    "        \n",
    "    user_ratings_test = generate_test(user_ratings_train)\n",
    "            \n",
    "    return citation, author_train, coauthor, user_ratings_train, user_ratings_test, train_interacts, list(train_users), test_ratings\n",
    "\n",
    "citation, author_train, coauthor, user_ratings_train, user_ratings_test, train_interacts, train_users, test_ratings = \\\n",
    "            load_data(cite_file, coauthor_file, author_train_file, author_test_file, n_users)"
   ]
  },
  {
   "cell_type": "code",
   "execution_count": 5,
   "id": "9af3819a",
   "metadata": {
    "execution": {
     "iopub.execute_input": "2022-05-30T05:41:45.813335Z",
     "iopub.status.busy": "2022-05-30T05:41:45.811780Z",
     "iopub.status.idle": "2022-05-30T05:41:48.556646Z",
     "shell.execute_reply": "2022-05-30T05:41:48.555445Z"
    },
    "papermill": {
     "duration": 2.804174,
     "end_time": "2022-05-30T05:41:48.559619",
     "exception": false,
     "start_time": "2022-05-30T05:41:45.755445",
     "status": "completed"
    },
    "tags": []
   },
   "outputs": [
    {
     "name": "stdout",
     "output_type": "stream",
     "text": [
      "torch.Size([79937, 512])\n"
     ]
    }
   ],
   "source": [
    "# load pickle \n",
    "feature_file = '../input/cs245-2-project-11-graph-based-recommendation/feature.pkl'\n",
    "\n",
    "def load_item_feature(feature_file):\n",
    "    with open(feature_file, 'rb') as f:\n",
    "        feature_matrix = pickle.load(f)\n",
    "    # feature_matrix_shape: 79937*512\n",
    "    print(feature_matrix.shape)\n",
    "    return feature_matrix\n",
    "\n",
    "item_feature = load_item_feature(feature_file)\n",
    "item_feature_dim = 512"
   ]
  },
  {
   "cell_type": "code",
   "execution_count": 6,
   "id": "01f4e8d0",
   "metadata": {
    "execution": {
     "iopub.execute_input": "2022-05-30T05:41:48.747321Z",
     "iopub.status.busy": "2022-05-30T05:41:48.746818Z",
     "iopub.status.idle": "2022-05-30T05:43:07.294691Z",
     "shell.execute_reply": "2022-05-30T05:43:07.293895Z"
    },
    "papermill": {
     "duration": 78.640395,
     "end_time": "2022-05-30T05:43:07.296751",
     "exception": false,
     "start_time": "2022-05-30T05:41:48.656356",
     "status": "completed"
    },
    "tags": []
   },
   "outputs": [
    {
     "name": "stdout",
     "output_type": "stream",
     "text": [
      "generate single-normalized adjacency matrix.\n"
     ]
    },
    {
     "name": "stderr",
     "output_type": "stream",
     "text": [
      "/opt/conda/lib/python3.7/site-packages/ipykernel_launcher.py:8: RuntimeWarning: divide by zero encountered in power\n",
      "  \n"
     ]
    },
    {
     "name": "stdout",
     "output_type": "stream",
     "text": [
      "generate single-normalized adjacency matrix.\n",
      "already normalize adjacency matrix\n"
     ]
    }
   ],
   "source": [
    "import scipy.sparse as sp\n",
    "\n",
    "def create_adj_mat(adj_mat):    \n",
    "    def mean_adj_single(adj):\n",
    "        # D^-1 * A\n",
    "        rowsum = np.array(adj.sum(1))\n",
    "\n",
    "        d_inv = np.power(rowsum, -1).flatten()\n",
    "        d_inv[np.isinf(d_inv)] = 0.\n",
    "        d_mat_inv = sp.diags(d_inv)\n",
    "\n",
    "        norm_adj = d_mat_inv.dot(adj)\n",
    "        # norm_adj = adj.dot(d_mat_inv)\n",
    "        print('generate single-normalized adjacency matrix.')\n",
    "        return norm_adj.tocoo()\n",
    "\n",
    "    def normalized_adj_single(adj):\n",
    "        # D^-1/2 * A * D^-1/2\n",
    "        rowsum = np.array(adj.sum(1))\n",
    "\n",
    "        d_inv_sqrt = np.power(rowsum, -0.5).flatten()\n",
    "        d_inv_sqrt[np.isinf(d_inv_sqrt)] = 0.\n",
    "        d_mat_inv_sqrt = sp.diags(d_inv_sqrt)\n",
    "\n",
    "        # bi_lap = adj.dot(d_mat_inv_sqrt).transpose().dot(d_mat_inv_sqrt)\n",
    "        bi_lap = d_mat_inv_sqrt.dot(adj).dot(d_mat_inv_sqrt)\n",
    "        return bi_lap.tocoo()\n",
    "\n",
    "    def check_adj_if_equal(adj):\n",
    "        dense_A = np.array(adj.todense())\n",
    "        degree = np.sum(dense_A, axis=1, keepdims=False)\n",
    "\n",
    "        temp = np.dot(np.diag(np.power(degree, -1)), dense_A)\n",
    "        print('check normalized adjacency matrix whether equal to this laplacian matrix.')\n",
    "        return temp\n",
    "\n",
    "    norm_adj_mat = mean_adj_single(adj_mat + sp.eye(adj_mat.shape[0]))\n",
    "    # norm_adj_mat = normalized_adj_single(adj_mat + sp.eye(adj_mat.shape[0]))\n",
    "    mean_adj_mat = mean_adj_single(adj_mat)\n",
    "\n",
    "    print('already normalize adjacency matrix')\n",
    "    return adj_mat.tocsr(), norm_adj_mat.tocsr(), mean_adj_mat.tocsr()\n",
    "\n",
    "def normalize_adj(mx):\n",
    "    \"\"\"Row-normalize sparse matrix\"\"\"\n",
    "    rowsum = np.array(mx.sum(1))\n",
    "    r_inv_sqrt = np.power(rowsum, -0.5).flatten()\n",
    "    r_inv_sqrt[np.isinf(r_inv_sqrt)] = 0.\n",
    "    r_mat_inv_sqrt = sp.diags(r_inv_sqrt)\n",
    "    return mx.dot(r_mat_inv_sqrt).transpose().dot(r_mat_inv_sqrt)\n",
    "\n",
    "# info graph          \n",
    "R = sp.dok_matrix((n_users, n_items), dtype=np.float32)\n",
    "for user in train_users:\n",
    "    for item in user_ratings_train[user]:\n",
    "        R[user, item] = 1\n",
    "\n",
    "          \n",
    "adj_mat = sp.dok_matrix((n_users + n_items, n_users + n_items), dtype=np.float32)\n",
    "adj_mat = adj_mat.tolil()\n",
    "R = R.tolil()\n",
    "\n",
    "adj_mat[:n_users, n_users:] = R\n",
    "adj_mat[n_users:, :n_users] = R.T\n",
    "adj_mat = adj_mat.todok()\n",
    "\n",
    "_, info_norm_adj,_ = create_adj_mat(adj_mat)"
   ]
  },
  {
   "cell_type": "code",
   "execution_count": 7,
   "id": "a59c5ef4",
   "metadata": {
    "execution": {
     "iopub.execute_input": "2022-05-30T05:43:07.408987Z",
     "iopub.status.busy": "2022-05-30T05:43:07.408749Z",
     "iopub.status.idle": "2022-05-30T05:43:07.414930Z",
     "shell.execute_reply": "2022-05-30T05:43:07.414304Z"
    },
    "papermill": {
     "duration": 0.064278,
     "end_time": "2022-05-30T05:43:07.416639",
     "exception": false,
     "start_time": "2022-05-30T05:43:07.352361",
     "status": "completed"
    },
    "tags": []
   },
   "outputs": [],
   "source": [
    "def build_graph(citation, coauthor, author_train, n_users, n_items, device):\n",
    "    # build social graph\n",
    "    soc_src, soc_tgt = coauthor['src'], coauthor['tgt']\n",
    "    soc_src, soc_tgt = torch.tensor(soc_src).to(device), torch.tensor(soc_tgt).to(device)\n",
    "    soc_graph = dgl.DGLGraph((soc_src, soc_tgt), num_nodes=n_users)\n",
    "    soc_graph = dgl.add_reverse_edges(soc_graph)\n",
    "    \n",
    "    # build cite graph\n",
    "    cite_src, cite_tgt = citation['src'], citation['tgt']\n",
    "    cite_src, cite_tgt = torch.tensor(cite_src).to(device), torch.tensor(cite_tgt).to(device)\n",
    "    cite_graph = dgl.DGLGraph((cite_src, cite_tgt), num_nodes=n_items)\n",
    "   \n",
    "    return soc_graph, cite_graph"
   ]
  },
  {
   "cell_type": "code",
   "execution_count": 8,
   "id": "c8e8f6e6",
   "metadata": {
    "execution": {
     "iopub.execute_input": "2022-05-30T05:43:07.528538Z",
     "iopub.status.busy": "2022-05-30T05:43:07.528319Z",
     "iopub.status.idle": "2022-05-30T05:43:07.536964Z",
     "shell.execute_reply": "2022-05-30T05:43:07.536333Z"
    },
    "papermill": {
     "duration": 0.066298,
     "end_time": "2022-05-30T05:43:07.538641",
     "exception": false,
     "start_time": "2022-05-30T05:43:07.472343",
     "status": "completed"
    },
    "tags": []
   },
   "outputs": [],
   "source": [
    "def generate_train_batch(user_ratings_train, n, batch_size, train_users, test_ratings):\n",
    "    t = []\n",
    "    for b in range(batch_size):\n",
    "        u = rd.sample(train_users, 1)[0]\n",
    "        i = rd.sample(user_ratings_train[u], 1)[0]\n",
    "        j = rd.randint(0, n - 1)\n",
    "        # one negative sample\n",
    "        while j in user_ratings_train[u] and j in test_ratings[u]:\n",
    "            j = rd.randint(0, n - 1)\n",
    "        t.append([u, i, 1])\n",
    "        t.append([u, j, 0])\n",
    "    train_batch = np.asarray(t)\n",
    "    return train_batch\n",
    "\n",
    "def generate_test_batch(user_ratings, user_ratings_test, n, train_users, test_ratings):\n",
    "    t = []\n",
    "    for u in train_users:\n",
    "        i = user_ratings_test[u]\n",
    "        rated = user_ratings[u]\n",
    "        for j in range(10):\n",
    "            k = np.random.randint(0, n)\n",
    "            while k in rated and k in test_ratings[u]:\n",
    "                k = np.random.randint(0, n)\n",
    "            t.append([u, i, 1])\n",
    "            t.append([u, k, 0])\n",
    "    test_batch = np.asarray(t)\n",
    "    return test_batch"
   ]
  },
  {
   "cell_type": "code",
   "execution_count": 9,
   "id": "4e35a51f",
   "metadata": {
    "execution": {
     "iopub.execute_input": "2022-05-30T05:43:07.650658Z",
     "iopub.status.busy": "2022-05-30T05:43:07.650059Z",
     "iopub.status.idle": "2022-05-30T05:43:08.504866Z",
     "shell.execute_reply": "2022-05-30T05:43:08.504136Z"
    },
    "papermill": {
     "duration": 0.913651,
     "end_time": "2022-05-30T05:43:08.507710",
     "exception": false,
     "start_time": "2022-05-30T05:43:07.594059",
     "status": "completed"
    },
    "tags": []
   },
   "outputs": [],
   "source": [
    "from sklearn.metrics import precision_score, recall_score, f1_score\n",
    "import numpy as np\n",
    "\n",
    "def evaluation(pred, labels):\n",
    "    auc = cal_auc(pred, labels)\n",
    "    pred = (pred > 0.5).astype(int)\n",
    "    labels = (labels > 0.5).astype(int)\n",
    "    precision = precision_score(pred, labels, average='binary')\n",
    "    recall = recall_score(pred, labels, average='binary')\n",
    "    f1score = f1_score(pred, labels, average='binary')\n",
    "    return auc, precision, recall, f1score\n",
    "\n",
    "def cal_auc(pred, labels):\n",
    "    P_ind = []  # 正样本下标\n",
    "    F_ind = []  # 负样本下标\n",
    "\n",
    "    #  计数过程\n",
    "    for ind, val in enumerate(labels):\n",
    "        if val > 0.5:\n",
    "            P_ind.append(ind)\n",
    "        else:\n",
    "            F_ind.append(ind)\n",
    "\n",
    "    new_data = [[p, l] for p, l in zip(pred, labels)]\n",
    "    new_data.sort(key=lambda x:x[0])\n",
    "\n",
    "    # 求正样本rank之和\n",
    "    rank_sum = 0\n",
    "    for ind, [prob,label] in enumerate(new_data):\n",
    "        if label>0.5:\n",
    "            rank_sum+=ind\n",
    "    auc = (rank_sum - len(P_ind)*(1+len(P_ind))/2) / (len(P_ind)*len(F_ind))\n",
    "    return auc"
   ]
  },
  {
   "cell_type": "code",
   "execution_count": 10,
   "id": "d63e5017",
   "metadata": {
    "execution": {
     "iopub.execute_input": "2022-05-30T05:43:08.723230Z",
     "iopub.status.busy": "2022-05-30T05:43:08.722761Z",
     "iopub.status.idle": "2022-05-30T05:43:09.190088Z",
     "shell.execute_reply": "2022-05-30T05:43:09.189340Z"
    },
    "papermill": {
     "duration": 0.583479,
     "end_time": "2022-05-30T05:43:09.192174",
     "exception": false,
     "start_time": "2022-05-30T05:43:08.608695",
     "status": "completed"
    },
    "tags": []
   },
   "outputs": [
    {
     "name": "stderr",
     "output_type": "stream",
     "text": [
      "DGL backend not selected or invalid.  Assuming PyTorch for now.\n"
     ]
    },
    {
     "name": "stdout",
     "output_type": "stream",
     "text": [
      "Setting the default backend to \"pytorch\". You can change it in the ~/.dgl/config.json file or export the DGLBACKEND environment variable.  Valid options are: pytorch, mxnet, tensorflow (all lowercase)\n"
     ]
    }
   ],
   "source": [
    "import torch\n",
    "import torch.nn as nn\n",
    "import torch.nn.functional as F\n",
    "import torch.sparse as sparse\n",
    "\n",
    "\n",
    "import dgl\n",
    "import dgl.function as fn"
   ]
  },
  {
   "cell_type": "code",
   "execution_count": 11,
   "id": "de5515df",
   "metadata": {
    "execution": {
     "iopub.execute_input": "2022-05-30T05:43:09.308059Z",
     "iopub.status.busy": "2022-05-30T05:43:09.307356Z",
     "iopub.status.idle": "2022-05-30T05:43:09.322734Z",
     "shell.execute_reply": "2022-05-30T05:43:09.322026Z"
    },
    "papermill": {
     "duration": 0.075553,
     "end_time": "2022-05-30T05:43:09.324435",
     "exception": false,
     "start_time": "2022-05-30T05:43:09.248882",
     "status": "completed"
    },
    "tags": []
   },
   "outputs": [],
   "source": [
    "class GATLayer(nn.Module):\n",
    "    def __init__(self, g, in_dim, out_dim):\n",
    "        super(GATLayer, self).__init__()\n",
    "        self.g = g\n",
    "        # equation (1)\n",
    "        self.fc = nn.Linear(in_dim, out_dim, bias=False)\n",
    "        # equation (2)\n",
    "        self.attn_fc = nn.Linear(2 * out_dim, 1, bias=False)\n",
    "\n",
    "    def edge_attention(self, edges):\n",
    "        # edge UDF for equation (2)\n",
    "        z2 = torch.cat([edges.src['z'], edges.dst['z']], dim=1)\n",
    "        a = self.attn_fc(z2)\n",
    "        return {'e': F.leaky_relu(a)}\n",
    "\n",
    "    def message_func(self, edges):\n",
    "        # message UDF for equation (3) & (4)\n",
    "        return {'z': edges.src['z'], 'e': edges.data['e']}\n",
    "\n",
    "    def reduce_func(self, nodes):\n",
    "        # reduce UDF for equation (3) & (4)\n",
    "        # equation (3)\n",
    "        alpha = F.softmax(nodes.mailbox['e'], dim=1)\n",
    "        # equation (4)\n",
    "        h = torch.sum(alpha * nodes.mailbox['z'], dim=1)\n",
    "        return {'h': h}\n",
    "\n",
    "    def forward(self, h):\n",
    "        # equation (1)\n",
    "        z = self.fc(h)\n",
    "        self.g.ndata['z'] = z\n",
    "        # equation (2)\n",
    "        self.g.apply_edges(self.edge_attention)\n",
    "        # equation (3) & (4)\n",
    "        self.g.update_all(self.message_func, self.reduce_func)\n",
    "        return self.g.ndata.pop('h')\n",
    "\n",
    "    \n",
    "class MultiHeadGATLayer(nn.Module):\n",
    "    def __init__(self, g, in_dim, out_dim, num_heads, merge='cat'):\n",
    "        super(MultiHeadGATLayer, self).__init__()\n",
    "        self.heads = nn.ModuleList()\n",
    "        for i in range(num_heads):\n",
    "            self.heads.append(GATLayer(g, in_dim, out_dim))\n",
    "        self.merge = merge\n",
    "\n",
    "    def forward(self, h):\n",
    "        head_outs = [attn_head(h) for attn_head in self.heads]\n",
    "        if self.merge == 'cat':\n",
    "            # concat on the output feature dimension (dim=1)\n",
    "            return torch.cat(head_outs, dim=1)\n",
    "        else:\n",
    "            # merge using average\n",
    "            return torch.mean(torch.stack(head_outs))\n",
    "\n",
    "class GAT(nn.Module):\n",
    "    def __init__(self, g, in_dim, hidden_dim, out_dim, num_heads):\n",
    "        super(GAT, self).__init__()\n",
    "        self.layer1 = MultiHeadGATLayer(g, in_dim, hidden_dim, num_heads)\n",
    "        # Be aware that the input dimension is hidden_dim*num_heads since\n",
    "        # multiple head outputs are concatenated together. Also, only\n",
    "        # one attention head in the output layer.\n",
    "        self.layer2 = MultiHeadGATLayer(g, hidden_dim * num_heads, out_dim, 1)\n",
    "\n",
    "    def forward(self, h):\n",
    "        h = self.layer1(h)\n",
    "        h = F.elu(h)\n",
    "        h = self.layer2(h)\n",
    "        return h"
   ]
  },
  {
   "cell_type": "code",
   "execution_count": 12,
   "id": "9f6691b3",
   "metadata": {
    "execution": {
     "iopub.execute_input": "2022-05-30T05:43:09.438698Z",
     "iopub.status.busy": "2022-05-30T05:43:09.438157Z",
     "iopub.status.idle": "2022-05-30T05:43:09.450805Z",
     "shell.execute_reply": "2022-05-30T05:43:09.450105Z"
    },
    "papermill": {
     "duration": 0.071493,
     "end_time": "2022-05-30T05:43:09.452424",
     "exception": false,
     "start_time": "2022-05-30T05:43:09.380931",
     "status": "completed"
    },
    "tags": []
   },
   "outputs": [],
   "source": [
    "class LightGCNLayer(nn.Module):\n",
    "    def __init__(self, n_users, n_items, n_layers, emb_dim, graph, device, keep_prob=0.6):\n",
    "        super(LightGCNLayer, self).__init__()\n",
    "        self.n_users = n_users\n",
    "        self.n_items = n_items\n",
    "        self.n_layers = n_layers\n",
    "        self.graph = graph\n",
    "        self.graph = self._convert_sp_mat_to_sp_tensor(self.graph)\n",
    "        self.graph = self.graph.coalesce().to(device)\n",
    "        self.keep_prob = keep_prob\n",
    "    \n",
    "    def _convert_sp_mat_to_sp_tensor(self, X):\n",
    "        coo = X.tocoo().astype(np.float32)\n",
    "        row = torch.Tensor(coo.row).long()\n",
    "        col = torch.Tensor(coo.col).long()\n",
    "        index = torch.stack([row, col])\n",
    "        data = torch.FloatTensor(coo.data)\n",
    "        return torch.sparse.FloatTensor(index, data, torch.Size(coo.shape))\n",
    "    \n",
    "    def __dropout_x(self, x, keep_prob):\n",
    "        size = x.size()\n",
    "        index = x.indices().t()\n",
    "        values = x.values()\n",
    "        random_index = torch.rand(len(values)) + keep_prob\n",
    "        random_index = random_index.int().bool()\n",
    "        index = index[random_index]\n",
    "        values = values[random_index]/keep_prob\n",
    "        g = torch.sparse.FloatTensor(index.t(), values, size)\n",
    "        return g\n",
    "    \n",
    "    def __dropout(self, keep_prob):\n",
    "        graph = self.__dropout_x(self.graph, keep_prob)\n",
    "        return graph\n",
    "    \n",
    "    def forward(self, user_embedding, item_embedding):\n",
    "        all_emb = torch.cat([user_embedding, item_embedding])\n",
    "        embs = [all_emb]\n",
    "        if self.training:\n",
    "            g_droped = self.__dropout(self.keep_prob)\n",
    "        else:\n",
    "            g_droped = self.graph\n",
    "        for layer in range(self.n_layers):\n",
    "            all_emb = torch.sparse.mm(g_droped, all_emb)\n",
    "            embs.append(all_emb)\n",
    "        embs = torch.stack(embs, dim=1)\n",
    "        light_out = torch.mean(embs, dim=1)\n",
    "        users, items = torch.split(light_out, [self.n_users, self.n_items])\n",
    "        return users, items"
   ]
  },
  {
   "cell_type": "code",
   "execution_count": 13,
   "id": "dab2f0f3",
   "metadata": {
    "execution": {
     "iopub.execute_input": "2022-05-30T05:43:09.567240Z",
     "iopub.status.busy": "2022-05-30T05:43:09.566976Z",
     "iopub.status.idle": "2022-05-30T05:43:09.572984Z",
     "shell.execute_reply": "2022-05-30T05:43:09.572200Z"
    },
    "papermill": {
     "duration": 0.066324,
     "end_time": "2022-05-30T05:43:09.575012",
     "exception": false,
     "start_time": "2022-05-30T05:43:09.508688",
     "status": "completed"
    },
    "tags": []
   },
   "outputs": [],
   "source": [
    "# class NGCFLayer(nn.Module):\n",
    "#     def __init__(self, norm_adj, emb_dim, n_users, device):\n",
    "#         super(NGCFLayer, self).__init__()\n",
    "#         self.n_users = n_users\n",
    "#         self.norm_adj = norm_adj\n",
    "#         self.sparse_norm_adj = self._convert_sp_mat_to_sp_tensor(self.norm_adj).to(device)\n",
    "#         self.layers = [8]\n",
    "#         self.node_dropout = 0.1\n",
    "#         self.mess_dropout = [0.1,0.1,0.1]\n",
    "#         self.emb_size = emb_dim\n",
    "#         self.init_weight()\n",
    "    \n",
    "#     def init_weight(self):\n",
    "#         # xavier init\n",
    "#         initializer = nn.init.xavier_uniform_\n",
    "#         self.weight_dict = nn.ParameterDict()\n",
    "#         layers = [self.emb_size] + self.layers\n",
    "#         for k in range(len(self.layers)):\n",
    "#             self.weight_dict.update({'W_gc_%d'%k: nn.Parameter(initializer(torch.empty(layers[k],\n",
    "#                                                                       layers[k+1])))})\n",
    "#             self.weight_dict.update({'b_gc_%d'%k: nn.Parameter(initializer(torch.empty(1, layers[k+1])))})\n",
    "\n",
    "#             self.weight_dict.update({'W_bi_%d'%k: nn.Parameter(initializer(torch.empty(layers[k],\n",
    "#                                                                       layers[k+1])))})\n",
    "#             self.weight_dict.update({'b_bi_%d'%k: nn.Parameter(initializer(torch.empty(1, layers[k+1])))})\n",
    "    \n",
    "    \n",
    "#     def sparse_dropout(self, x, rate, noise_shape):\n",
    "#         random_tensor = 1 - rate\n",
    "#         random_tensor += torch.rand(noise_shape).to(x.device)\n",
    "#         dropout_mask = torch.floor(random_tensor).type(torch.bool)\n",
    "#         i = x._indices()\n",
    "#         v = x._values()\n",
    "\n",
    "#         i = i[:, dropout_mask]\n",
    "#         v = v[dropout_mask]\n",
    "\n",
    "#         out = torch.sparse.FloatTensor(i, v, x.shape).to(x.device)\n",
    "#         return out * (1. / (1 - rate))\n",
    "    \n",
    "    \n",
    "#     def _convert_sp_mat_to_sp_tensor(self, X):\n",
    "#         coo = X.tocoo()\n",
    "#         i = torch.LongTensor([coo.row, coo.col])\n",
    "#         v = torch.from_numpy(coo.data).float()\n",
    "#         return torch.sparse.FloatTensor(i, v, coo.shape)\n",
    "    \n",
    "#     def forward(self, user_embedding, item_embedding, drop_flag=True):\n",
    "\n",
    "#         A_hat = self.sparse_dropout(self.sparse_norm_adj,\n",
    "#                                     self.node_dropout,\n",
    "#                                     self.sparse_norm_adj._nnz()) if drop_flag else self.sparse_norm_adj\n",
    "\n",
    "#         ego_embeddings = torch.cat([user_embedding, item_embedding], 0)\n",
    "\n",
    "# #         all_embeddings = [ego_embeddings]\n",
    "\n",
    "#         for k in range(len(self.layers)):\n",
    "#             side_embeddings = torch.sparse.mm(A_hat, ego_embeddings)\n",
    "\n",
    "#             # transformed sum messages of neighbors.\n",
    "#             sum_embeddings = torch.matmul(side_embeddings, self.weight_dict['W_gc_%d' % k]) \\\n",
    "#                                              + self.weight_dict['b_gc_%d' % k]\n",
    "\n",
    "#             # bi messages of neighbors.\n",
    "#             # element-wise product\n",
    "#             bi_embeddings = torch.mul(ego_embeddings, side_embeddings)\n",
    "#             # transformed bi messages of neighbors.\n",
    "#             bi_embeddings = torch.matmul(bi_embeddings, self.weight_dict['W_bi_%d' % k]) \\\n",
    "#                                             + self.weight_dict['b_bi_%d' % k]\n",
    "\n",
    "#             # non-linear activation.\n",
    "#             ego_embeddings = nn.LeakyReLU(negative_slope=0.2)(sum_embeddings + bi_embeddings)\n",
    "\n",
    "#             # message dropout.soc_norm_adj\n",
    "#             ego_embeddings = nn.Dropout(self.mess_dropout[k])(ego_embeddings)\n",
    "\n",
    "#             # normalize the distribution of embeddings.\n",
    "#             norm_embeddings = F.normalize(ego_embeddings, p=2, dim=1)\n",
    "# #             all_embeddings += [norm_embeddings]\n",
    "#             all_embeddings = norm_embeddings\n",
    "\n",
    "# #         all_embeddings = torch.cat(all_embeddings, 1)\n",
    "#         u_g_embeddings = all_embeddings[:self.n_users, :]\n",
    "#         i_g_embeddings = all_embeddings[self.n_users:, :]\n",
    "#         return u_g_embeddings, i_g_embeddings"
   ]
  },
  {
   "cell_type": "code",
   "execution_count": 14,
   "id": "4b69e40b",
   "metadata": {
    "execution": {
     "iopub.execute_input": "2022-05-30T05:43:09.690561Z",
     "iopub.status.busy": "2022-05-30T05:43:09.690309Z",
     "iopub.status.idle": "2022-05-30T05:43:09.710169Z",
     "shell.execute_reply": "2022-05-30T05:43:09.709477Z"
    },
    "papermill": {
     "duration": 0.079473,
     "end_time": "2022-05-30T05:43:09.711852",
     "exception": false,
     "start_time": "2022-05-30T05:43:09.632379",
     "status": "completed"
    },
    "tags": []
   },
   "outputs": [],
   "source": [
    "class OurModel(nn.Module):\n",
    "    def __init__(self, soc_graph, info_norm_adj, cite_graph, n_users, n_items, item_feature, emb_dim, item_feature_dim, num_layers, lightgcn_n_layers, device):\n",
    "        super(OurModel, self).__init__()\n",
    "        self.item_feature = torch.tensor(item_feature).to(device)\n",
    "        \n",
    "        self.n_users = n_users\n",
    "        self.n_items = n_items\n",
    "        self.emb_dim = emb_dim\n",
    "#         self.num_layers = num_layers\n",
    "        self.num_layers = num_layers\n",
    "        self.lightgcn_n_layers = lightgcn_n_layers\n",
    "        \n",
    "        self.emb_dim = emb_dim\n",
    "\n",
    "        self.user_embedding = nn.Embedding(n_users, self.emb_dim, sparse=True).to(device)\n",
    "        self.item_embedding = nn.Embedding(n_items, self.emb_dim, sparse=True).to(device)\n",
    "          \n",
    "        self.info_norm_adj = info_norm_adj\n",
    "#         self.cite_edges = cite_edges\n",
    "#         self.soc_edges = soc_edges\n",
    "        self.soc_graph = soc_graph\n",
    "        self.cite_graph = cite_graph\n",
    "        \n",
    "        self.hidden_dim = self.emb_dim\n",
    "        self.dim = self.emb_dim\n",
    "        self.num_heads = 1\n",
    "        \n",
    "#         self.soc_gat_layer = nn.ModuleList([SpGAT(nfeat=self.emb_dim, nhid=self.hidden_dim, nclass=2, dropout=self.dropout, nheads=self.num_heads, alpha=self.alpha)])\n",
    "#         self.cite_gat_layer = nn.ModuleList([SpGAT(nfeat=self.emb_dim, nhid=self.hidden_dim, nclass=2, dropout=self.dropout, nheads=self.num_heads, alpha=self.alpha)])\n",
    "#         self.info_ngcf_layer = nn.ModuleList([NGCFLayer(self.info_norm_adj, self.emb_dim, self.n_users, device)])\n",
    "        self.info_lightgcn_layer = nn.ModuleList([LightGCNLayer(n_users=self.n_users, n_items=self.n_items, n_layers=self.lightgcn_n_layers, emb_dim=self.emb_dim, graph=self.info_norm_adj, device=device) for i in range(self.num_layers)])\n",
    "        self.soc_gat_layer = nn.ModuleList([GAT(self.soc_graph, self.dim, self.hidden_dim, self.emb_dim, self.num_heads) for i in range(self.num_layers)])\n",
    "        self.cite_gat_layer = nn.ModuleList([GAT(self.cite_graph, self.dim, self.hidden_dim, self.emb_dim, self.num_heads) for i in range(self.num_layers)])\n",
    "        \n",
    "        self.reduce_dim_layer = nn.Linear(item_feature_dim, self.emb_dim)\n",
    "        \n",
    "        self.initializer = nn.init.xavier_uniform_\n",
    "        self.loss = nn.BCELoss()\n",
    "        \n",
    "    \n",
    "    def _convert_distribution(self, x):\n",
    "        mean, std = torch.mean(x), torch.std(x)\n",
    "        y = (x-mean)*0.2/std\n",
    "        return y\n",
    "    \n",
    "    def init_nodes_feature(self):\n",
    "        first_item_feature = self._convert_distribution(self.item_feature)\n",
    "        second_item_feature = self.reduce_dim_layer(first_item_feature)\n",
    "        third_item_feature = self._convert_distribution(second_item_feature)\n",
    "        \n",
    "        self.init_user_feature = self.user_embedding.weight\n",
    "        self.init_item_feature = third_item_feature + self.item_embedding.weight\n",
    "    \n",
    "    def forward(self, users, items):\n",
    "        self.init_nodes_feature()\n",
    "        \n",
    "        item_embedding = self.init_item_feature\n",
    "        user_embedding = self.init_user_feature\n",
    "        \n",
    "        for i in range(self.num_layers):\n",
    "            user_embedding_from_consumed_items, item_embedding_from_related_users = self.info_lightgcn_layer[i](user_embedding, item_embedding)\n",
    "            gcn_user_embedding = self.soc_gat_layer[i](user_embedding)[:self.n_users]\n",
    "            gcn_item_embedding = self.cite_gat_layer[i](item_embedding)[:self.n_items]\n",
    "        \n",
    "            item_embedding = item_embedding_from_related_users + gcn_item_embedding\n",
    "            user_embedding = user_embedding_from_consumed_items + gcn_user_embedding\n",
    "#         item_embedding = torch.matmul(item_embedding_from_related_users, self.item_fusion_weight_1)+torch.matmul(gcn_item_embedding, self.item_fusion_weight_2)\n",
    "#         user_embedding = torch.matmul(user_embedding_from_consumed_items, self.user_fusion_weight_1)+torch.matmul(gcn_user_embedding, self.user_fusion_weight_2)\n",
    "        \n",
    "        final_item_embedding = torch.index_select(item_embedding, 0, items)\n",
    "        final_user_embedding = torch.index_select(user_embedding, 0, users)\n",
    "        \n",
    "        # prediction layer\n",
    "        pred = torch.sigmoid(torch.sum(final_user_embedding*final_item_embedding, axis=1, keepdim=True))\n",
    "        return pred\n",
    "\n",
    "    def cal_loss(self, users, items, labels):\n",
    "        pred = self.forward(users, items)\n",
    "        pred = pred.to(torch.float32)\n",
    "        labels = labels.to(torch.float32)\n",
    "        labels = labels.reshape(-1, 1)\n",
    "        loss = self.loss(pred, labels)\n",
    "        return loss"
   ]
  },
  {
   "cell_type": "code",
   "execution_count": 15,
   "id": "1c48182c",
   "metadata": {
    "execution": {
     "iopub.execute_input": "2022-05-30T05:43:09.826021Z",
     "iopub.status.busy": "2022-05-30T05:43:09.825740Z",
     "iopub.status.idle": "2022-05-30T05:43:09.829595Z",
     "shell.execute_reply": "2022-05-30T05:43:09.828943Z"
    },
    "papermill": {
     "duration": 0.062913,
     "end_time": "2022-05-30T05:43:09.831285",
     "exception": false,
     "start_time": "2022-05-30T05:43:09.768372",
     "status": "completed"
    },
    "tags": []
   },
   "outputs": [],
   "source": [
    "# params\n",
    "batch_size = 65536\n",
    "emb_dim = 64\n",
    "lr = 0.001\n",
    "num_epoches = 350"
   ]
  },
  {
   "cell_type": "code",
   "execution_count": 16,
   "id": "ed0aac2d",
   "metadata": {
    "execution": {
     "iopub.execute_input": "2022-05-30T05:43:09.944803Z",
     "iopub.status.busy": "2022-05-30T05:43:09.944555Z",
     "iopub.status.idle": "2022-05-30T05:43:14.067241Z",
     "shell.execute_reply": "2022-05-30T05:43:14.066439Z"
    },
    "papermill": {
     "duration": 4.181546,
     "end_time": "2022-05-30T05:43:14.069290",
     "exception": false,
     "start_time": "2022-05-30T05:43:09.887744",
     "status": "completed"
    },
    "tags": []
   },
   "outputs": [
    {
     "name": "stderr",
     "output_type": "stream",
     "text": [
      "/opt/conda/lib/python3.7/site-packages/dgl/heterograph.py:72: DGLWarning: Recommend creating graphs by `dgl.graph(data)` instead of `dgl.DGLGraph(data)`.\n",
      "  dgl_warning('Recommend creating graphs by `dgl.graph(data)`'\n",
      "/opt/conda/lib/python3.7/site-packages/dgl/heterograph.py:84: DGLWarning: Keyword arguments ['num_nodes'] are deprecated in v0.5, and can be safely removed in all cases.\n",
      "  ' removed in all cases.'.format(list(deprecate_kwargs.keys())))\n",
      "/opt/conda/lib/python3.7/site-packages/ipykernel_launcher.py:4: UserWarning: To copy construct from a tensor, it is recommended to use sourceTensor.clone().detach() or sourceTensor.clone().detach().requires_grad_(True), rather than torch.tensor(sourceTensor).\n",
      "  after removing the cwd from sys.path.\n"
     ]
    }
   ],
   "source": [
    "############################# CREATE MODEL ##############################\n",
    "soc_graph, cite_graph = build_graph(citation, coauthor, author_train, n_users, n_items, device)\n",
    "model = OurModel(soc_graph, info_norm_adj, cite_graph, n_users, n_items, item_feature, emb_dim, item_feature_dim, 2, 3, device)\n",
    "model = model.to(device)\n",
    "opt = torch.optim.Adam(lr=lr, params=model.parameters(), weight_decay=0.0001)"
   ]
  },
  {
   "cell_type": "code",
   "execution_count": 17,
   "id": "e1f3b32f",
   "metadata": {
    "execution": {
     "iopub.execute_input": "2022-05-30T05:43:14.185157Z",
     "iopub.status.busy": "2022-05-30T05:43:14.184898Z",
     "iopub.status.idle": "2022-05-30T13:22:37.718887Z",
     "shell.execute_reply": "2022-05-30T13:22:37.718153Z"
    },
    "papermill": {
     "duration": 27563.594498,
     "end_time": "2022-05-30T13:22:37.720891",
     "exception": false,
     "start_time": "2022-05-30T05:43:14.126393",
     "status": "completed"
    },
    "tags": []
   },
   "outputs": [
    {
     "name": "stderr",
     "output_type": "stream",
     "text": [
      "100%|██████████| 2752512/2752512 [01:15<00:00, 37358.91it/s]"
     ]
    },
    {
     "name": "stdout",
     "output_type": "stream",
     "text": [
      "epoch 1, train loss: 0.627365\n",
      "Evaluation: auc:0.8776444240610375, precision:0.9875832828588734, recall:0.6661355558279201, f1:0.7956181228194307\n"
     ]
    },
    {
     "name": "stderr",
     "output_type": "stream",
     "text": [
      "\n",
      "100%|██████████| 2752512/2752512 [01:20<00:00, 34307.27it/s]\n",
      "\n",
      "  5%|▍         | 131072/2752512 [00:03<01:07, 39039.81it/s]\u001b[A\n",
      " 10%|▉         | 262144/2752512 [00:06<01:02, 39743.85it/s]\u001b[A\n",
      " 14%|█▍        | 393216/2752512 [00:09<00:59, 39855.80it/s]\u001b[A\n",
      " 19%|█▉        | 524288/2752512 [00:13<01:00, 36564.94it/s]\u001b[A\n",
      " 24%|██▍       | 655360/2752512 [00:17<00:57, 36533.20it/s]\u001b[A\n",
      " 29%|██▊       | 786432/2752512 [00:20<00:52, 37429.51it/s]\u001b[A\n",
      " 33%|███▎      | 917504/2752512 [00:24<00:48, 37538.46it/s]\u001b[A\n",
      " 38%|███▊      | 1048576/2752512 [00:27<00:44, 38093.36it/s]\u001b[A\n",
      " 43%|████▎     | 1179648/2752512 [00:30<00:40, 38532.68it/s]\u001b[A\n",
      " 48%|████▊     | 1310720/2752512 [00:34<00:37, 38265.67it/s]\u001b[A\n",
      " 52%|█████▏    | 1441792/2752512 [00:38<00:34, 37693.66it/s]\u001b[A\n",
      " 57%|█████▋    | 1572864/2752512 [00:41<00:30, 38314.59it/s]\u001b[A\n",
      " 62%|██████▏   | 1703936/2752512 [00:45<00:28, 36657.34it/s]\u001b[A\n",
      " 67%|██████▋   | 1835008/2752512 [00:48<00:24, 37666.82it/s]\u001b[A\n",
      " 71%|███████▏  | 1966080/2752512 [00:52<00:21, 37070.67it/s]\u001b[A\n",
      " 76%|███████▌  | 2097152/2752512 [00:55<00:17, 36854.86it/s]\u001b[A\n",
      " 81%|████████  | 2228224/2752512 [00:59<00:13, 37655.44it/s]\u001b[A\n",
      " 86%|████████▌ | 2359296/2752512 [01:02<00:10, 38253.22it/s]\u001b[A\n",
      " 90%|█████████ | 2490368/2752512 [01:05<00:06, 38352.67it/s]\u001b[A\n",
      " 95%|█████████▌| 2621440/2752512 [01:09<00:03, 38868.74it/s]\u001b[A\n",
      "100%|██████████| 2752512/2752512 [01:12<00:00, 39247.04it/s]\u001b[A"
     ]
    },
    {
     "name": "stdout",
     "output_type": "stream",
     "text": [
      "epoch 2, train loss: 0.560492\n",
      "Evaluation: auc:0.9158146472358033, precision:0.9910660205935796, recall:0.6828235195927054, f1:0.8085637338472561\n"
     ]
    },
    {
     "name": "stderr",
     "output_type": "stream",
     "text": [
      "100%|██████████| 2752512/2752512 [01:17<00:00, 35445.08it/s]\n",
      "100%|██████████| 2752512/2752512 [01:13<00:00, 37158.65it/s]"
     ]
    },
    {
     "name": "stdout",
     "output_type": "stream",
     "text": [
      "epoch 3, train loss: 0.501814\n",
      "Evaluation: auc:0.9095262456797103, precision:0.9192913385826772, recall:0.7805448771519304, f1:0.8442556268643225\n"
     ]
    },
    {
     "name": "stderr",
     "output_type": "stream",
     "text": [
      "\n",
      "100%|██████████| 2752512/2752512 [01:17<00:00, 35363.23it/s]\n",
      "\n",
      "  5%|▍         | 131072/2752512 [00:03<01:07, 38770.77it/s]\u001b[A\n",
      " 10%|▉         | 262144/2752512 [00:06<01:04, 38834.62it/s]\u001b[A\n",
      " 14%|█▍        | 393216/2752512 [00:10<01:02, 37816.36it/s]\u001b[A\n",
      " 19%|█▉        | 524288/2752512 [00:14<01:00, 36830.72it/s]\u001b[A\n",
      " 24%|██▍       | 655360/2752512 [00:17<00:57, 36205.66it/s]\u001b[A\n",
      " 29%|██▊       | 786432/2752512 [00:21<00:54, 36334.41it/s]\u001b[A\n",
      " 33%|███▎      | 917504/2752512 [00:24<00:49, 36949.56it/s]\u001b[A\n",
      " 38%|███▊      | 1048576/2752512 [00:28<00:45, 37551.92it/s]\u001b[A\n",
      " 43%|████▎     | 1179648/2752512 [00:31<00:42, 37391.34it/s]\u001b[A\n",
      " 48%|████▊     | 1310720/2752512 [00:35<00:38, 37886.73it/s]\u001b[A\n",
      " 52%|█████▏    | 1441792/2752512 [00:38<00:35, 37069.97it/s]\u001b[A\n",
      " 57%|█████▋    | 1572864/2752512 [00:42<00:31, 37277.01it/s]\u001b[A\n",
      " 62%|██████▏   | 1703936/2752512 [00:45<00:27, 37927.73it/s]\u001b[A\n",
      " 67%|██████▋   | 1835008/2752512 [00:48<00:23, 38544.73it/s]\u001b[A\n",
      " 71%|███████▏  | 1966080/2752512 [00:52<00:20, 37647.44it/s]\u001b[A\n",
      " 76%|███████▌  | 2097152/2752512 [00:56<00:17, 37379.21it/s]\u001b[A\n",
      " 81%|████████  | 2228224/2752512 [00:59<00:13, 38119.82it/s]\u001b[A\n",
      " 86%|████████▌ | 2359296/2752512 [01:02<00:10, 37512.25it/s]\u001b[A\n",
      " 90%|█████████ | 2490368/2752512 [01:06<00:06, 37502.62it/s]\u001b[A\n",
      " 95%|█████████▌| 2621440/2752512 [01:09<00:03, 38243.91it/s]\u001b[A\n",
      "100%|██████████| 2752512/2752512 [01:12<00:00, 38814.61it/s]\u001b[A"
     ]
    },
    {
     "name": "stdout",
     "output_type": "stream",
     "text": [
      "epoch 4, train loss: 0.427727\n",
      "Evaluation: auc:0.9270320609428201, precision:0.8976377952755905, recall:0.8331342318665411, f1:0.8641840327130392\n"
     ]
    },
    {
     "name": "stderr",
     "output_type": "stream",
     "text": [
      "100%|██████████| 2752512/2752512 [01:17<00:00, 35530.56it/s]\n",
      "100%|██████████| 2752512/2752512 [01:13<00:00, 37340.68it/s]"
     ]
    },
    {
     "name": "stdout",
     "output_type": "stream",
     "text": [
      "epoch 5, train loss: 0.391908\n",
      "Evaluation: auc:0.9378771643637962, precision:0.9043004239854634, recall:0.849913187032135, f1:0.8762637007908677\n"
     ]
    },
    {
     "name": "stderr",
     "output_type": "stream",
     "text": [
      "\n",
      "100%|██████████| 2752512/2752512 [01:17<00:00, 35309.81it/s]\n",
      "\n",
      "  5%|▍         | 131072/2752512 [00:03<01:06, 39507.77it/s]\u001b[A\n",
      " 10%|▉         | 262144/2752512 [00:06<01:06, 37182.44it/s]\u001b[A\n",
      " 14%|█▍        | 393216/2752512 [00:10<01:03, 37198.40it/s]\u001b[A\n",
      " 19%|█▉        | 524288/2752512 [00:13<00:58, 38130.72it/s]\u001b[A\n",
      " 24%|██▍       | 655360/2752512 [00:17<00:54, 38660.30it/s]\u001b[A\n",
      " 29%|██▊       | 786432/2752512 [00:20<00:51, 38195.14it/s]\u001b[A\n",
      " 33%|███▎      | 917504/2752512 [00:23<00:47, 38668.01it/s]\u001b[A\n",
      " 38%|███▊      | 1048576/2752512 [00:27<00:43, 38780.64it/s]\u001b[A\n",
      " 43%|████▎     | 1179648/2752512 [00:30<00:41, 38242.69it/s]\u001b[A\n",
      " 48%|████▊     | 1310720/2752512 [00:34<00:38, 37709.72it/s]\u001b[A\n",
      " 52%|█████▏    | 1441792/2752512 [00:38<00:35, 37258.12it/s]\u001b[A\n",
      " 57%|█████▋    | 1572864/2752512 [00:41<00:31, 37441.64it/s]\u001b[A\n",
      " 62%|██████▏   | 1703936/2752512 [00:44<00:27, 38099.75it/s]\u001b[A\n",
      " 67%|██████▋   | 1835008/2752512 [00:48<00:23, 38614.52it/s]\u001b[A\n",
      " 71%|███████▏  | 1966080/2752512 [00:51<00:21, 37408.60it/s]\u001b[A\n",
      " 76%|███████▌  | 2097152/2752512 [00:55<00:17, 37623.03it/s]\u001b[A\n",
      " 81%|████████  | 2228224/2752512 [00:58<00:13, 37950.45it/s]\u001b[A\n",
      " 86%|████████▌ | 2359296/2752512 [01:02<00:10, 38290.02it/s]\u001b[A\n",
      " 90%|█████████ | 2490368/2752512 [01:05<00:07, 36756.62it/s]\u001b[A\n",
      " 95%|█████████▌| 2621440/2752512 [01:09<00:03, 37489.57it/s]\u001b[A\n",
      "100%|██████████| 2752512/2752512 [01:12<00:00, 38100.78it/s]\u001b[A"
     ]
    },
    {
     "name": "stdout",
     "output_type": "stream",
     "text": [
      "epoch 6, train loss: 0.371269\n",
      "Evaluation: auc:0.9457931333762076, precision:0.9209569957601453, recall:0.8553908469522657, f1:0.8869638768575636\n"
     ]
    },
    {
     "name": "stderr",
     "output_type": "stream",
     "text": [
      "100%|██████████| 2752512/2752512 [01:16<00:00, 35747.19it/s]\n",
      "100%|██████████| 2752512/2752512 [01:13<00:00, 38534.03it/s]"
     ]
    },
    {
     "name": "stdout",
     "output_type": "stream",
     "text": [
      "epoch 7, train loss: 0.354530\n",
      "Evaluation: auc:0.9506014764100534, precision:0.9229254996971532, recall:0.864502219763698, f1:0.892759057586255\n"
     ]
    },
    {
     "name": "stderr",
     "output_type": "stream",
     "text": [
      "\n",
      "100%|██████████| 2752512/2752512 [01:18<00:00, 35275.93it/s]\n",
      "\n",
      "  5%|▍         | 131072/2752512 [00:03<01:06, 39334.20it/s]\u001b[A\n",
      " 10%|▉         | 262144/2752512 [00:06<01:03, 39058.49it/s]\u001b[A\n",
      " 14%|█▍        | 393216/2752512 [00:10<01:02, 37614.47it/s]\u001b[A\n",
      " 19%|█▉        | 524288/2752512 [00:13<00:57, 38436.73it/s]\u001b[A\n",
      " 24%|██▍       | 655360/2752512 [00:16<00:53, 39038.10it/s]\u001b[A\n",
      " 29%|██▊       | 786432/2752512 [00:20<00:50, 38621.04it/s]\u001b[A\n",
      " 33%|███▎      | 917504/2752512 [00:23<00:46, 39083.61it/s]\u001b[A\n",
      " 38%|███▊      | 1048576/2752512 [00:26<00:43, 39368.38it/s]\u001b[A\n",
      " 43%|████▎     | 1179648/2752512 [00:30<00:41, 37456.69it/s]\u001b[A\n",
      " 48%|████▊     | 1310720/2752512 [00:34<00:37, 38221.65it/s]\u001b[A\n",
      " 52%|█████▏    | 1441792/2752512 [00:37<00:33, 38794.18it/s]\u001b[A\n",
      " 57%|█████▋    | 1572864/2752512 [00:40<00:30, 38086.15it/s]\u001b[A\n",
      " 62%|██████▏   | 1703936/2752512 [00:44<00:28, 36887.65it/s]\u001b[A\n",
      " 67%|██████▋   | 1835008/2752512 [00:48<00:24, 37729.97it/s]\u001b[A\n",
      " 71%|███████▏  | 1966080/2752512 [00:51<00:20, 37896.41it/s]\u001b[A\n",
      " 76%|███████▌  | 2097152/2752512 [00:54<00:17, 38499.75it/s]\u001b[A\n",
      " 81%|████████  | 2228224/2752512 [00:58<00:13, 38822.02it/s]\u001b[A\n",
      " 86%|████████▌ | 2359296/2752512 [01:01<00:10, 38770.03it/s]\u001b[A\n",
      " 90%|█████████ | 2490368/2752512 [01:04<00:06, 38820.31it/s]\u001b[A\n",
      " 95%|█████████▌| 2621440/2752512 [01:08<00:03, 39055.79it/s]\u001b[A\n",
      "100%|██████████| 2752512/2752512 [01:11<00:00, 38203.52it/s]\u001b[A"
     ]
    },
    {
     "name": "stdout",
     "output_type": "stream",
     "text": [
      "epoch 8, train loss: 0.339882\n",
      "Evaluation: auc:0.9543814471874505, precision:0.9220169594185342, recall:0.8748311830119824, f1:0.8978045148257915\n"
     ]
    },
    {
     "name": "stderr",
     "output_type": "stream",
     "text": [
      "100%|██████████| 2752512/2752512 [01:16<00:00, 35986.71it/s]\n",
      "100%|██████████| 2752512/2752512 [01:12<00:00, 38788.07it/s]"
     ]
    },
    {
     "name": "stdout",
     "output_type": "stream",
     "text": [
      "epoch 9, train loss: 0.327914\n",
      "Evaluation: auc:0.9581654461385846, precision:0.9323137492428831, recall:0.8765036657413339, f1:0.9035477125142164\n"
     ]
    },
    {
     "name": "stderr",
     "output_type": "stream",
     "text": [
      "\n",
      "100%|██████████| 2752512/2752512 [01:16<00:00, 35892.07it/s]\n",
      "\n",
      "  5%|▍         | 131072/2752512 [00:03<01:07, 38682.51it/s]\u001b[A\n",
      " 10%|▉         | 262144/2752512 [00:06<01:06, 37283.93it/s]\u001b[A\n",
      " 14%|█▍        | 393216/2752512 [00:10<01:03, 37383.71it/s]\u001b[A\n",
      " 19%|█▉        | 524288/2752512 [00:13<00:57, 38447.96it/s]\u001b[A\n",
      " 24%|██▍       | 655360/2752512 [00:17<00:53, 38968.51it/s]\u001b[A\n",
      " 29%|██▊       | 786432/2752512 [00:21<00:54, 35800.55it/s]\u001b[A\n",
      " 33%|███▎      | 917504/2752512 [00:24<00:49, 36949.72it/s]\u001b[A\n",
      " 38%|███▊      | 1048576/2752512 [00:27<00:44, 37934.68it/s]\u001b[A\n",
      " 43%|████▎     | 1179648/2752512 [00:31<00:42, 37298.97it/s]\u001b[A\n",
      " 48%|████▊     | 1310720/2752512 [00:34<00:38, 37725.57it/s]\u001b[A\n",
      " 52%|█████▏    | 1441792/2752512 [00:38<00:34, 38509.38it/s]\u001b[A\n",
      " 57%|█████▋    | 1572864/2752512 [00:41<00:31, 37215.37it/s]\u001b[A\n",
      " 62%|██████▏   | 1703936/2752512 [00:45<00:27, 37963.09it/s]\u001b[A\n",
      " 67%|██████▋   | 1835008/2752512 [00:48<00:23, 38613.85it/s]\u001b[A\n",
      " 71%|███████▏  | 1966080/2752512 [00:51<00:20, 38605.70it/s]\u001b[A\n",
      " 76%|███████▌  | 2097152/2752512 [00:55<00:17, 36681.67it/s]\u001b[A\n",
      " 81%|████████  | 2228224/2752512 [00:59<00:13, 37652.08it/s]\u001b[A\n",
      " 86%|████████▌ | 2359296/2752512 [01:02<00:10, 38028.66it/s]\u001b[A\n",
      " 90%|█████████ | 2490368/2752512 [01:05<00:06, 38157.18it/s]\u001b[A\n",
      " 95%|█████████▌| 2621440/2752512 [01:09<00:03, 38674.49it/s]\u001b[A\n",
      "100%|██████████| 2752512/2752512 [01:12<00:00, 38905.54it/s]\u001b[A"
     ]
    },
    {
     "name": "stdout",
     "output_type": "stream",
     "text": [
      "epoch 10, train loss: 0.318652\n",
      "Evaluation: auc:0.9610383058044223, precision:0.9248940036341611, recall:0.8862320627965352, f1:0.9051503767755129\n"
     ]
    },
    {
     "name": "stderr",
     "output_type": "stream",
     "text": [
      "100%|██████████| 2752512/2752512 [01:17<00:00, 35545.85it/s]\n",
      "100%|██████████| 2752512/2752512 [01:12<00:00, 38430.81it/s]"
     ]
    },
    {
     "name": "stdout",
     "output_type": "stream",
     "text": [
      "epoch 11, train loss: 0.307212\n",
      "Evaluation: auc:0.9645485285793057, precision:0.9301938219261053, recall:0.8889757170559462, f1:0.9091178168149059\n"
     ]
    },
    {
     "name": "stderr",
     "output_type": "stream",
     "text": [
      "\n",
      "100%|██████████| 2752512/2752512 [01:17<00:00, 35693.16it/s]\n",
      "\n",
      "  5%|▍         | 131072/2752512 [00:03<01:05, 39916.99it/s]\u001b[A\n",
      " 10%|▉         | 262144/2752512 [00:07<01:09, 35985.25it/s]\u001b[A\n",
      " 14%|█▍        | 393216/2752512 [00:10<01:03, 37019.50it/s]\u001b[A\n",
      " 19%|█▉        | 524288/2752512 [00:13<00:58, 38175.35it/s]\u001b[A\n",
      " 24%|██▍       | 655360/2752512 [00:17<00:53, 38885.31it/s]\u001b[A\n",
      " 29%|██▊       | 786432/2752512 [00:20<00:50, 38592.53it/s]\u001b[A\n",
      " 33%|███▎      | 917504/2752512 [00:24<00:48, 37895.55it/s]\u001b[A\n",
      " 38%|███▊      | 1048576/2752512 [00:27<00:44, 38480.93it/s]\u001b[A\n",
      " 43%|████▎     | 1179648/2752512 [00:30<00:40, 38429.36it/s]\u001b[A\n",
      " 48%|████▊     | 1310720/2752512 [00:34<00:37, 37944.17it/s]\u001b[A\n",
      " 52%|█████▏    | 1441792/2752512 [00:38<00:35, 37118.72it/s]\u001b[A\n",
      " 57%|█████▋    | 1572864/2752512 [00:41<00:31, 37406.17it/s]\u001b[A\n",
      " 62%|██████▏   | 1703936/2752512 [00:44<00:27, 38187.67it/s]\u001b[A\n",
      " 67%|██████▋   | 1835008/2752512 [00:48<00:23, 38692.94it/s]\u001b[A\n",
      " 71%|███████▏  | 1966080/2752512 [00:51<00:21, 37275.47it/s]\u001b[A\n",
      " 76%|███████▌  | 2097152/2752512 [00:55<00:17, 38053.65it/s]\u001b[A\n",
      " 81%|████████  | 2228224/2752512 [00:58<00:13, 38631.48it/s]\u001b[A\n",
      " 86%|████████▌ | 2359296/2752512 [01:01<00:10, 39003.53it/s]\u001b[A\n",
      " 90%|█████████ | 2490368/2752512 [01:05<00:06, 38551.59it/s]\u001b[A\n",
      " 95%|█████████▌| 2621440/2752512 [01:08<00:03, 37943.16it/s]\u001b[A\n",
      "100%|██████████| 2752512/2752512 [01:12<00:00, 38509.12it/s]\u001b[A"
     ]
    },
    {
     "name": "stdout",
     "output_type": "stream",
     "text": [
      "epoch 12, train loss: 0.298357\n",
      "Evaluation: auc:0.9661655784850032, precision:0.94442761962447, recall:0.8854846953262536, f1:0.9140068583487206\n"
     ]
    },
    {
     "name": "stderr",
     "output_type": "stream",
     "text": [
      "100%|██████████| 2752512/2752512 [01:16<00:00, 35951.72it/s]\n",
      "100%|██████████| 2752512/2752512 [01:11<00:00, 39116.74it/s]"
     ]
    },
    {
     "name": "stdout",
     "output_type": "stream",
     "text": [
      "epoch 13, train loss: 0.288969\n",
      "Evaluation: auc:0.9679729187860743, precision:0.9474560872198667, recall:0.8873666893578398, f1:0.9164274415607242\n"
     ]
    },
    {
     "name": "stderr",
     "output_type": "stream",
     "text": [
      "\n",
      "100%|██████████| 2752512/2752512 [01:16<00:00, 35871.40it/s]\n",
      "\n",
      "  5%|▍         | 131072/2752512 [00:03<01:05, 39943.05it/s]\u001b[A\n",
      " 10%|▉         | 262144/2752512 [00:06<01:02, 39842.17it/s]\u001b[A\n",
      " 14%|█▍        | 393216/2752512 [00:10<01:02, 37573.46it/s]\u001b[A\n",
      " 19%|█▉        | 524288/2752512 [00:13<00:58, 38072.67it/s]\u001b[A\n",
      " 24%|██▍       | 655360/2752512 [00:16<00:54, 38685.56it/s]\u001b[A\n",
      " 29%|██▊       | 786432/2752512 [00:20<00:51, 38313.97it/s]\u001b[A\n",
      " 33%|███▎      | 917504/2752512 [00:23<00:47, 38921.09it/s]\u001b[A\n",
      " 38%|███▊      | 1048576/2752512 [00:26<00:43, 39328.58it/s]\u001b[A\n",
      " 43%|████▎     | 1179648/2752512 [00:30<00:41, 37851.02it/s]\u001b[A\n",
      " 48%|████▊     | 1310720/2752512 [00:33<00:37, 38501.96it/s]\u001b[A\n",
      " 52%|█████▏    | 1441792/2752512 [00:37<00:33, 38890.83it/s]\u001b[A\n",
      " 57%|█████▋    | 1572864/2752512 [00:40<00:30, 38397.76it/s]\u001b[A\n",
      " 62%|██████▏   | 1703936/2752512 [00:44<00:28, 36695.39it/s]\u001b[A\n",
      " 67%|██████▋   | 1835008/2752512 [00:47<00:24, 37660.83it/s]\u001b[A\n",
      " 71%|███████▏  | 1966080/2752512 [00:51<00:20, 38421.49it/s]\u001b[A\n",
      " 76%|███████▌  | 2097152/2752512 [00:54<00:17, 38439.38it/s]\u001b[A\n",
      " 81%|████████  | 2228224/2752512 [00:57<00:13, 38970.02it/s]\u001b[A\n",
      " 86%|████████▌ | 2359296/2752512 [01:01<00:10, 39193.20it/s]\u001b[A\n",
      " 90%|█████████ | 2490368/2752512 [01:04<00:06, 38701.13it/s]\u001b[A\n",
      " 95%|█████████▌| 2621440/2752512 [01:07<00:03, 39098.44it/s]\u001b[A\n",
      "100%|██████████| 2752512/2752512 [01:11<00:00, 37999.64it/s]\u001b[A"
     ]
    },
    {
     "name": "stdout",
     "output_type": "stream",
     "text": [
      "epoch 14, train loss: 0.281465\n",
      "Evaluation: auc:0.9706534083926156, precision:0.9276196244700182, recall:0.9068569398389389, f1:0.917120785675789\n"
     ]
    },
    {
     "name": "stderr",
     "output_type": "stream",
     "text": [
      "100%|██████████| 2752512/2752512 [01:16<00:00, 36084.02it/s]\n",
      "100%|██████████| 2752512/2752512 [01:12<00:00, 38383.48it/s]"
     ]
    },
    {
     "name": "stdout",
     "output_type": "stream",
     "text": [
      "epoch 15, train loss: 0.274975\n",
      "Evaluation: auc:0.9713284232781483, precision:0.9470018170805572, recall:0.8963352586243962, f1:0.9209722191542783\n"
     ]
    },
    {
     "name": "stderr",
     "output_type": "stream",
     "text": [
      "\n",
      "100%|██████████| 2752512/2752512 [01:16<00:00, 35918.53it/s]\n",
      "\n",
      "  5%|▍         | 131072/2752512 [00:03<01:04, 40646.52it/s]\u001b[A\n",
      " 10%|▉         | 262144/2752512 [00:06<01:05, 38298.44it/s]\u001b[A\n",
      " 14%|█▍        | 393216/2752512 [00:10<01:01, 38127.94it/s]\u001b[A\n",
      " 19%|█▉        | 524288/2752512 [00:13<00:57, 38445.94it/s]\u001b[A\n",
      " 24%|██▍       | 655360/2752512 [00:16<00:53, 39210.95it/s]\u001b[A\n",
      " 29%|██▊       | 786432/2752512 [00:20<00:52, 37604.11it/s]\u001b[A\n",
      " 33%|███▎      | 917504/2752512 [00:24<00:49, 37369.06it/s]\u001b[A\n",
      " 38%|███▊      | 1048576/2752512 [00:27<00:44, 38258.08it/s]\u001b[A\n",
      " 43%|████▎     | 1179648/2752512 [00:30<00:40, 38669.41it/s]\u001b[A\n",
      " 48%|████▊     | 1310720/2752512 [00:34<00:37, 38734.29it/s]\u001b[A\n",
      " 52%|█████▏    | 1441792/2752512 [00:37<00:33, 39269.23it/s]\u001b[A\n",
      " 57%|█████▋    | 1572864/2752512 [00:40<00:30, 38298.39it/s]\u001b[A\n",
      " 62%|██████▏   | 1703936/2752512 [00:44<00:27, 37634.10it/s]\u001b[A\n",
      " 67%|██████▋   | 1835008/2752512 [00:47<00:23, 38510.53it/s]\u001b[A\n",
      " 71%|███████▏  | 1966080/2752512 [00:51<00:20, 39105.55it/s]\u001b[A\n",
      " 76%|███████▌  | 2097152/2752512 [00:54<00:17, 37651.50it/s]\u001b[A\n",
      " 81%|████████  | 2228224/2752512 [00:58<00:13, 38446.53it/s]\u001b[A\n",
      " 86%|████████▌ | 2359296/2752512 [01:01<00:10, 37972.42it/s]\u001b[A\n",
      " 90%|█████████ | 2490368/2752512 [01:05<00:06, 37945.50it/s]\u001b[A\n",
      " 95%|█████████▌| 2621440/2752512 [01:08<00:03, 38582.58it/s]\u001b[A\n",
      "100%|██████████| 2752512/2752512 [01:11<00:00, 39092.10it/s]\u001b[A"
     ]
    },
    {
     "name": "stdout",
     "output_type": "stream",
     "text": [
      "epoch 16, train loss: 0.271470\n",
      "Evaluation: auc:0.9724623353832507, precision:0.9512416717141127, recall:0.896660005709392, f1:0.9231447465099192\n"
     ]
    },
    {
     "name": "stderr",
     "output_type": "stream",
     "text": [
      "100%|██████████| 2752512/2752512 [01:16<00:00, 36022.21it/s]\n",
      "100%|██████████| 2752512/2752512 [01:11<00:00, 38520.70it/s]"
     ]
    },
    {
     "name": "stdout",
     "output_type": "stream",
     "text": [
      "epoch 17, train loss: 0.265229\n",
      "Evaluation: auc:0.9727318277269691, precision:0.9519987886129618, recall:0.8968872150417986, f1:0.9236216192393013\n"
     ]
    },
    {
     "name": "stderr",
     "output_type": "stream",
     "text": [
      "\n",
      "100%|██████████| 2752512/2752512 [01:15<00:00, 36442.28it/s]\n",
      "\n",
      "  5%|▍         | 131072/2752512 [00:03<01:04, 40466.27it/s]\u001b[A\n",
      " 10%|▉         | 262144/2752512 [00:06<01:04, 38397.14it/s]\u001b[A\n",
      " 14%|█▍        | 393216/2752512 [00:10<01:02, 37515.43it/s]\u001b[A\n",
      " 19%|█▉        | 524288/2752512 [00:13<00:58, 38074.68it/s]\u001b[A\n",
      " 24%|██▍       | 655360/2752512 [00:17<00:54, 38332.36it/s]\u001b[A\n",
      " 29%|██▊       | 786432/2752512 [00:20<00:50, 39166.68it/s]\u001b[A\n",
      " 33%|███▎      | 917504/2752512 [00:24<00:48, 37572.33it/s]\u001b[A\n",
      " 38%|███▊      | 1048576/2752512 [00:27<00:44, 38421.11it/s]\u001b[A\n",
      " 43%|████▎     | 1179648/2752512 [00:30<00:40, 38983.07it/s]\u001b[A\n",
      " 48%|████▊     | 1310720/2752512 [00:34<00:37, 38515.47it/s]\u001b[A\n",
      " 52%|█████▏    | 1441792/2752512 [00:37<00:34, 37782.09it/s]\u001b[A\n",
      " 57%|█████▋    | 1572864/2752512 [00:41<00:31, 37055.53it/s]\u001b[A\n",
      " 62%|██████▏   | 1703936/2752512 [00:44<00:28, 36954.90it/s]\u001b[A\n",
      " 67%|██████▋   | 1835008/2752512 [00:48<00:25, 36643.02it/s]\u001b[A\n",
      " 71%|███████▏  | 1966080/2752512 [00:52<00:21, 36727.85it/s]\u001b[A\n",
      " 76%|███████▌  | 2097152/2752512 [00:55<00:17, 37217.61it/s]\u001b[A\n",
      " 81%|████████  | 2228224/2752512 [00:58<00:13, 38115.07it/s]\u001b[A\n",
      " 86%|████████▌ | 2359296/2752512 [01:02<00:10, 38861.59it/s]\u001b[A\n",
      " 90%|█████████ | 2490368/2752512 [01:05<00:06, 39314.80it/s]\u001b[A\n",
      " 95%|█████████▌| 2621440/2752512 [01:08<00:03, 39108.92it/s]\u001b[A\n",
      "100%|██████████| 2752512/2752512 [01:11<00:00, 39388.02it/s]\u001b[A"
     ]
    },
    {
     "name": "stdout",
     "output_type": "stream",
     "text": [
      "epoch 18, train loss: 0.260838\n",
      "Evaluation: auc:0.9740455030466274, precision:0.9498788612961842, recall:0.9043987255085711, f1:0.9265810444531429\n"
     ]
    },
    {
     "name": "stderr",
     "output_type": "stream",
     "text": [
      "100%|██████████| 2752512/2752512 [01:16<00:00, 35940.85it/s]\n",
      "100%|██████████| 2752512/2752512 [01:12<00:00, 38493.61it/s]"
     ]
    },
    {
     "name": "stdout",
     "output_type": "stream",
     "text": [
      "epoch 19, train loss: 0.259263\n",
      "Evaluation: auc:0.9744872885529795, precision:0.9523016353725016, recall:0.9042155509546814, f1:0.9276358487226386\n"
     ]
    },
    {
     "name": "stderr",
     "output_type": "stream",
     "text": [
      "\n",
      "100%|██████████| 2752512/2752512 [01:17<00:00, 35526.91it/s]\n",
      "\n",
      "  5%|▍         | 131072/2752512 [00:03<01:05, 40286.96it/s]\u001b[A\n",
      " 10%|▉         | 262144/2752512 [00:06<01:01, 40396.04it/s]\u001b[A\n",
      " 14%|█▍        | 393216/2752512 [00:09<00:58, 40364.55it/s]\u001b[A\n",
      " 19%|█▉        | 524288/2752512 [00:13<00:56, 39504.49it/s]\u001b[A\n",
      " 24%|██▍       | 655360/2752512 [00:16<00:52, 39884.41it/s]\u001b[A\n",
      " 29%|██▊       | 786432/2752512 [00:20<00:51, 38081.87it/s]\u001b[A\n",
      " 33%|███▎      | 917504/2752512 [00:23<00:48, 38208.54it/s]\u001b[A\n",
      " 38%|███▊      | 1048576/2752512 [00:26<00:43, 38994.72it/s]\u001b[A\n",
      " 43%|████▎     | 1179648/2752512 [00:30<00:40, 38368.09it/s]\u001b[A\n",
      " 48%|████▊     | 1310720/2752512 [00:33<00:37, 38074.18it/s]\u001b[A\n",
      " 52%|█████▏    | 1441792/2752512 [00:37<00:33, 38682.88it/s]\u001b[A\n",
      " 57%|█████▋    | 1572864/2752512 [00:40<00:30, 39247.61it/s]\u001b[A\n",
      " 62%|██████▏   | 1703936/2752512 [00:44<00:27, 37938.21it/s]\u001b[A\n",
      " 67%|██████▋   | 1835008/2752512 [00:47<00:23, 38600.35it/s]\u001b[A\n",
      " 71%|███████▏  | 1966080/2752512 [00:50<00:20, 38628.95it/s]\u001b[A\n",
      " 76%|███████▌  | 2097152/2752512 [00:54<00:17, 38111.43it/s]\u001b[A\n",
      " 81%|████████  | 2228224/2752512 [00:57<00:13, 38252.17it/s]\u001b[A\n",
      " 86%|████████▌ | 2359296/2752512 [01:00<00:10, 38965.36it/s]\u001b[A\n",
      " 90%|█████████ | 2490368/2752512 [01:04<00:06, 39432.15it/s]\u001b[A\n",
      " 95%|█████████▌| 2621440/2752512 [01:07<00:03, 39076.91it/s]\u001b[A\n",
      "100%|██████████| 2752512/2752512 [01:11<00:00, 38393.84it/s]\u001b[A"
     ]
    },
    {
     "name": "stdout",
     "output_type": "stream",
     "text": [
      "epoch 20, train loss: 0.253910\n",
      "Evaluation: auc:0.9756806485506462, precision:0.9427619624470018, recall:0.9144317480833064, f1:0.9283807762849857\n"
     ]
    },
    {
     "name": "stderr",
     "output_type": "stream",
     "text": [
      "100%|██████████| 2752512/2752512 [01:15<00:00, 36584.57it/s]\n",
      "100%|██████████| 2752512/2752512 [01:12<00:00, 38734.04it/s]"
     ]
    },
    {
     "name": "stdout",
     "output_type": "stream",
     "text": [
      "epoch 21, train loss: 0.250853\n",
      "Evaluation: auc:0.9757282698736995, precision:0.9504845548152635, recall:0.9092884459381156, f1:0.9294302298033641\n"
     ]
    },
    {
     "name": "stderr",
     "output_type": "stream",
     "text": [
      "\n",
      "100%|██████████| 2752512/2752512 [01:16<00:00, 35924.66it/s]\n",
      "\n",
      "  5%|▍         | 131072/2752512 [00:03<01:14, 35361.96it/s]\u001b[A\n",
      " 10%|▉         | 262144/2752512 [00:07<01:09, 35834.59it/s]\u001b[A\n",
      " 14%|█▍        | 393216/2752512 [00:10<01:02, 37638.04it/s]\u001b[A\n",
      " 19%|█▉        | 524288/2752512 [00:14<00:59, 37524.06it/s]\u001b[A\n",
      " 24%|██▍       | 655360/2752512 [00:17<00:54, 38304.58it/s]\u001b[A\n",
      " 29%|██▊       | 786432/2752512 [00:20<00:52, 37698.21it/s]\u001b[A\n",
      " 33%|███▎      | 917504/2752512 [00:24<00:49, 37109.92it/s]\u001b[A\n",
      " 38%|███▊      | 1048576/2752512 [00:27<00:44, 38099.32it/s]\u001b[A\n",
      " 43%|████▎     | 1179648/2752512 [00:31<00:40, 38799.49it/s]\u001b[A\n",
      " 48%|████▊     | 1310720/2752512 [00:34<00:36, 39212.67it/s]\u001b[A\n",
      " 52%|█████▏    | 1441792/2752512 [00:38<00:34, 37619.11it/s]\u001b[A\n",
      " 57%|█████▋    | 1572864/2752512 [00:41<00:31, 37298.05it/s]\u001b[A\n",
      " 62%|██████▏   | 1703936/2752512 [00:45<00:27, 38057.23it/s]\u001b[A\n",
      " 67%|██████▋   | 1835008/2752512 [00:48<00:24, 37962.28it/s]\u001b[A\n",
      " 71%|███████▏  | 1966080/2752512 [00:51<00:20, 38496.40it/s]\u001b[A\n",
      " 76%|███████▌  | 2097152/2752512 [00:55<00:17, 37191.86it/s]\u001b[A\n",
      " 81%|████████  | 2228224/2752512 [00:59<00:14, 37428.59it/s]\u001b[A\n",
      " 86%|████████▌ | 2359296/2752512 [01:02<00:10, 38257.76it/s]\u001b[A\n",
      " 90%|█████████ | 2490368/2752512 [01:05<00:06, 38853.14it/s]\u001b[A\n",
      " 95%|█████████▌| 2621440/2752512 [01:09<00:03, 36615.54it/s]\u001b[A\n",
      "100%|██████████| 2752512/2752512 [01:12<00:00, 37713.62it/s]\u001b[A"
     ]
    },
    {
     "name": "stdout",
     "output_type": "stream",
     "text": [
      "epoch 22, train loss: 0.246775\n",
      "Evaluation: auc:0.9761170035431787, precision:0.955481526347668, recall:0.905529325660491, f1:0.9298350316453364\n"
     ]
    },
    {
     "name": "stderr",
     "output_type": "stream",
     "text": [
      "100%|██████████| 2752512/2752512 [01:17<00:00, 35544.14it/s]\n",
      "100%|██████████| 2752512/2752512 [01:12<00:00, 37423.86it/s]"
     ]
    },
    {
     "name": "stdout",
     "output_type": "stream",
     "text": [
      "epoch 23, train loss: 0.243234\n",
      "Evaluation: auc:0.9774322804562768, precision:0.9488188976377953, recall:0.9160684785310156, f1:0.9321561130905007\n"
     ]
    },
    {
     "name": "stderr",
     "output_type": "stream",
     "text": [
      "\n",
      "100%|██████████| 2752512/2752512 [01:16<00:00, 36030.23it/s]\n",
      "\n",
      "  5%|▍         | 131072/2752512 [00:03<01:09, 37719.89it/s]\u001b[A\n",
      " 10%|▉         | 262144/2752512 [00:07<01:07, 37109.67it/s]\u001b[A\n",
      " 14%|█▍        | 393216/2752512 [00:10<01:01, 38149.29it/s]\u001b[A\n",
      " 19%|█▉        | 524288/2752512 [00:14<01:01, 36307.74it/s]\u001b[A\n",
      " 24%|██▍       | 655360/2752512 [00:17<00:55, 37576.40it/s]\u001b[A\n",
      " 29%|██▊       | 786432/2752512 [00:20<00:51, 38305.72it/s]\u001b[A\n",
      " 33%|███▎      | 917504/2752512 [00:24<00:49, 36952.18it/s]\u001b[A\n",
      " 38%|███▊      | 1048576/2752512 [00:28<00:45, 37222.28it/s]\u001b[A\n",
      " 43%|████▎     | 1179648/2752512 [00:31<00:41, 38048.16it/s]\u001b[A\n",
      " 48%|████▊     | 1310720/2752512 [00:34<00:37, 38529.97it/s]\u001b[A\n",
      " 52%|█████▏    | 1441792/2752512 [00:38<00:34, 37512.57it/s]\u001b[A\n",
      " 57%|█████▋    | 1572864/2752512 [00:41<00:30, 38256.93it/s]\u001b[A\n",
      " 62%|██████▏   | 1703936/2752512 [00:44<00:27, 38695.46it/s]\u001b[A\n",
      " 67%|██████▋   | 1835008/2752512 [00:48<00:24, 36807.73it/s]\u001b[A\n",
      " 71%|███████▏  | 1966080/2752512 [00:52<00:21, 36625.95it/s]\u001b[A\n",
      " 76%|███████▌  | 2097152/2752512 [00:55<00:17, 37516.50it/s]\u001b[A\n",
      " 81%|████████  | 2228224/2752512 [00:59<00:14, 36868.55it/s]\u001b[A\n",
      " 86%|████████▌ | 2359296/2752512 [01:02<00:10, 37694.79it/s]\u001b[A\n",
      " 90%|█████████ | 2490368/2752512 [01:06<00:06, 38344.11it/s]\u001b[A\n",
      " 95%|█████████▌| 2621440/2752512 [01:09<00:03, 37722.28it/s]\u001b[A\n",
      "100%|██████████| 2752512/2752512 [01:13<00:00, 38153.26it/s]\u001b[A"
     ]
    },
    {
     "name": "stdout",
     "output_type": "stream",
     "text": [
      "epoch 24, train loss: 0.239595\n",
      "Evaluation: auc:0.9782079079690704, precision:0.959267110841914, recall:0.9060484274660678, f1:0.9318985870740444\n"
     ]
    },
    {
     "name": "stderr",
     "output_type": "stream",
     "text": [
      "100%|██████████| 2752512/2752512 [01:17<00:00, 35612.02it/s]\n",
      "100%|██████████| 2752512/2752512 [01:13<00:00, 37731.82it/s]"
     ]
    },
    {
     "name": "stdout",
     "output_type": "stream",
     "text": [
      "epoch 25, train loss: 0.238746\n",
      "Evaluation: auc:0.9786523874083252, precision:0.9562386432465173, recall:0.9092348892792351, f1:0.9321445968087148\n"
     ]
    },
    {
     "name": "stderr",
     "output_type": "stream",
     "text": [
      "\n",
      "100%|██████████| 2752512/2752512 [01:17<00:00, 35296.70it/s]\n",
      "\n",
      "  5%|▍         | 131072/2752512 [00:03<01:11, 36744.71it/s]\u001b[A\n",
      " 10%|▉         | 262144/2752512 [00:06<01:05, 38093.56it/s]\u001b[A\n",
      " 14%|█▍        | 393216/2752512 [00:10<01:00, 38818.52it/s]\u001b[A\n",
      " 19%|█▉        | 524288/2752512 [00:13<00:58, 38139.00it/s]\u001b[A\n",
      " 24%|██▍       | 655360/2752512 [00:17<00:54, 38677.51it/s]\u001b[A\n",
      " 29%|██▊       | 786432/2752512 [00:20<00:50, 39063.77it/s]\u001b[A\n",
      " 33%|███▎      | 917504/2752512 [00:24<00:50, 36244.07it/s]\u001b[A\n",
      " 38%|███▊      | 1048576/2752512 [00:27<00:45, 37321.43it/s]\u001b[A\n",
      " 43%|████▎     | 1179648/2752512 [00:31<00:43, 36440.77it/s]\u001b[A\n",
      " 48%|████▊     | 1310720/2752512 [00:35<00:39, 36694.24it/s]\u001b[A\n",
      " 52%|█████▏    | 1441792/2752512 [00:38<00:34, 37747.76it/s]\u001b[A\n",
      " 57%|█████▋    | 1572864/2752512 [00:41<00:30, 38441.88it/s]\u001b[A\n",
      " 62%|██████▏   | 1703936/2752512 [00:45<00:28, 37082.52it/s]\u001b[A\n",
      " 67%|██████▋   | 1835008/2752512 [00:48<00:24, 37941.61it/s]\u001b[A\n",
      " 71%|███████▏  | 1966080/2752512 [00:51<00:20, 38576.29it/s]\u001b[A\n",
      " 76%|███████▌  | 2097152/2752512 [00:55<00:17, 38512.83it/s]\u001b[A\n",
      " 81%|████████  | 2228224/2752512 [00:59<00:14, 37331.34it/s]\u001b[A\n",
      " 86%|████████▌ | 2359296/2752512 [01:02<00:10, 37355.48it/s]\u001b[A\n",
      " 90%|█████████ | 2490368/2752512 [01:05<00:06, 38082.52it/s]\u001b[A\n",
      " 95%|█████████▌| 2621440/2752512 [01:09<00:03, 38026.05it/s]\u001b[A\n",
      "100%|██████████| 2752512/2752512 [01:12<00:00, 37508.68it/s]\u001b[A"
     ]
    },
    {
     "name": "stdout",
     "output_type": "stream",
     "text": [
      "epoch 26, train loss: 0.235806\n",
      "Evaluation: auc:0.9784463287121841, precision:0.9545729860690491, recall:0.9125651418645049, f1:0.9330965068087625\n"
     ]
    },
    {
     "name": "stderr",
     "output_type": "stream",
     "text": [
      "100%|██████████| 2752512/2752512 [01:17<00:00, 35717.94it/s]\n",
      "100%|██████████| 2752512/2752512 [01:12<00:00, 38879.09it/s]"
     ]
    },
    {
     "name": "stdout",
     "output_type": "stream",
     "text": [
      "epoch 27, train loss: 0.233352\n",
      "Evaluation: auc:0.9788499325519361, precision:0.9621441550575409, recall:0.9036864262145864, f1:0.9319995306266136\n"
     ]
    },
    {
     "name": "stderr",
     "output_type": "stream",
     "text": [
      "\n",
      "100%|██████████| 2752512/2752512 [01:17<00:00, 35643.99it/s]\n",
      "\n",
      "  5%|▍         | 131072/2752512 [00:04<01:23, 31272.75it/s]\u001b[A\n",
      " 10%|▉         | 262144/2752512 [00:07<01:13, 34083.31it/s]\u001b[A\n",
      " 14%|█▍        | 393216/2752512 [00:11<01:04, 36502.53it/s]\u001b[A\n",
      " 19%|█▉        | 524288/2752512 [00:14<00:59, 37207.04it/s]\u001b[A\n",
      " 24%|██▍       | 655360/2752512 [00:17<00:54, 38276.43it/s]\u001b[A\n",
      " 29%|██▊       | 786432/2752512 [00:21<00:52, 37600.25it/s]\u001b[A\n",
      " 33%|███▎      | 917504/2752512 [00:24<00:48, 37614.74it/s]\u001b[A\n",
      " 38%|███▊      | 1048576/2752512 [00:28<00:44, 38339.87it/s]\u001b[A\n",
      " 43%|████▎     | 1179648/2752512 [00:31<00:40, 38874.33it/s]\u001b[A\n",
      " 48%|████▊     | 1310720/2752512 [00:35<00:38, 37595.21it/s]\u001b[A\n",
      " 52%|█████▏    | 1441792/2752512 [00:38<00:35, 37339.48it/s]\u001b[A\n",
      " 57%|█████▋    | 1572864/2752512 [00:42<00:31, 37064.45it/s]\u001b[A\n",
      " 62%|██████▏   | 1703936/2752512 [00:45<00:28, 37249.72it/s]\u001b[A\n",
      " 67%|██████▋   | 1835008/2752512 [00:49<00:24, 37980.22it/s]\u001b[A\n",
      " 71%|███████▏  | 1966080/2752512 [00:52<00:20, 38597.72it/s]\u001b[A\n",
      " 76%|███████▌  | 2097152/2752512 [00:56<00:17, 37357.41it/s]\u001b[A\n",
      " 81%|████████  | 2228224/2752512 [00:59<00:13, 38075.16it/s]\u001b[A\n",
      " 86%|████████▌ | 2359296/2752512 [01:02<00:10, 38532.95it/s]\u001b[A\n",
      " 90%|█████████ | 2490368/2752512 [01:06<00:06, 38063.40it/s]\u001b[A\n",
      " 95%|█████████▌| 2621440/2752512 [01:10<00:03, 36741.62it/s]\u001b[A\n",
      "100%|██████████| 2752512/2752512 [01:13<00:00, 37344.24it/s]\u001b[A"
     ]
    },
    {
     "name": "stdout",
     "output_type": "stream",
     "text": [
      "epoch 28, train loss: 0.231244\n",
      "Evaluation: auc:0.9794196329812778, precision:0.9441247728649304, recall:0.923019985196151, f1:0.933453102777154\n"
     ]
    },
    {
     "name": "stderr",
     "output_type": "stream",
     "text": [
      "100%|██████████| 2752512/2752512 [01:18<00:00, 35147.08it/s]\n",
      "100%|██████████| 2752512/2752512 [01:11<00:00, 37977.72it/s]"
     ]
    },
    {
     "name": "stdout",
     "output_type": "stream",
     "text": [
      "epoch 29, train loss: 0.229894\n",
      "Evaluation: auc:0.9795595971147564, precision:0.9600242277407631, recall:0.9128606807579336, f1:0.9358486109881026\n"
     ]
    },
    {
     "name": "stderr",
     "output_type": "stream",
     "text": [
      "\n",
      "100%|██████████| 2752512/2752512 [01:16<00:00, 36011.13it/s]\n",
      "\n",
      "  5%|▍         | 131072/2752512 [00:03<01:08, 38350.89it/s]\u001b[A\n",
      " 10%|▉         | 262144/2752512 [00:07<01:09, 35826.63it/s]\u001b[A\n",
      " 14%|█▍        | 393216/2752512 [00:10<01:02, 37582.79it/s]\u001b[A\n",
      " 19%|█▉        | 524288/2752512 [00:14<01:01, 36520.39it/s]\u001b[A\n",
      " 24%|██▍       | 655360/2752512 [00:17<00:55, 37645.68it/s]\u001b[A\n",
      " 29%|██▊       | 786432/2752512 [00:20<00:51, 38488.39it/s]\u001b[A\n",
      " 33%|███▎      | 917504/2752512 [00:24<00:49, 37131.58it/s]\u001b[A\n",
      " 38%|███▊      | 1048576/2752512 [00:27<00:44, 38013.53it/s]\u001b[A\n",
      " 43%|████▎     | 1179648/2752512 [00:31<00:40, 38701.18it/s]\u001b[A\n",
      " 48%|████▊     | 1310720/2752512 [00:34<00:37, 38418.61it/s]\u001b[A\n",
      " 52%|█████▏    | 1441792/2752512 [00:38<00:35, 37232.98it/s]\u001b[A\n",
      " 57%|█████▋    | 1572864/2752512 [00:41<00:30, 38097.00it/s]\u001b[A\n",
      " 62%|██████▏   | 1703936/2752512 [00:45<00:27, 38068.96it/s]\u001b[A\n",
      " 67%|██████▋   | 1835008/2752512 [00:48<00:24, 37490.59it/s]\u001b[A\n",
      " 71%|███████▏  | 1966080/2752512 [00:52<00:21, 37232.03it/s]\u001b[A\n",
      " 76%|███████▌  | 2097152/2752512 [00:55<00:17, 37414.19it/s]\u001b[A\n",
      " 81%|████████  | 2228224/2752512 [00:58<00:13, 38214.04it/s]\u001b[A\n",
      " 86%|████████▌ | 2359296/2752512 [01:02<00:10, 38792.55it/s]\u001b[A\n",
      " 90%|█████████ | 2490368/2752512 [01:05<00:06, 39136.28it/s]\u001b[A\n",
      " 95%|█████████▌| 2621440/2752512 [01:09<00:03, 38236.03it/s]\u001b[A\n",
      "100%|██████████| 2752512/2752512 [01:12<00:00, 38839.77it/s]\u001b[A"
     ]
    },
    {
     "name": "stdout",
     "output_type": "stream",
     "text": [
      "epoch 30, train loss: 0.227371\n",
      "Evaluation: auc:0.9798451079150678, precision:0.961992731677771, recall:0.9087918061396733, f1:0.9346358112780073\n"
     ]
    },
    {
     "name": "stderr",
     "output_type": "stream",
     "text": [
      "100%|██████████| 2752512/2752512 [01:16<00:00, 35782.77it/s]\n",
      "100%|██████████| 2752512/2752512 [01:13<00:00, 37868.46it/s]"
     ]
    },
    {
     "name": "stdout",
     "output_type": "stream",
     "text": [
      "epoch 31, train loss: 0.226094\n",
      "Evaluation: auc:0.9802927194611786, precision:0.9580557238037553, recall:0.9154970337143684, f1:0.9362930077691454\n"
     ]
    },
    {
     "name": "stderr",
     "output_type": "stream",
     "text": [
      "\n",
      "100%|██████████| 2752512/2752512 [01:18<00:00, 35183.51it/s]\n",
      "\n",
      "  5%|▍         | 131072/2752512 [00:03<01:06, 39488.04it/s]\u001b[A\n",
      " 10%|▉         | 262144/2752512 [00:06<01:03, 39516.63it/s]\u001b[A\n",
      " 14%|█▍        | 393216/2752512 [00:10<01:03, 37341.09it/s]\u001b[A\n",
      " 19%|█▉        | 524288/2752512 [00:13<00:58, 38251.11it/s]\u001b[A\n",
      " 24%|██▍       | 655360/2752512 [00:16<00:54, 38802.77it/s]\u001b[A\n",
      " 29%|██▊       | 786432/2752512 [00:20<00:50, 39120.29it/s]\u001b[A\n",
      " 33%|███▎      | 917504/2752512 [00:23<00:48, 37981.13it/s]\u001b[A\n",
      " 38%|███▊      | 1048576/2752512 [00:27<00:44, 38596.97it/s]\u001b[A\n",
      " 43%|████▎     | 1179648/2752512 [00:30<00:41, 37801.59it/s]\u001b[A\n",
      " 48%|████▊     | 1310720/2752512 [00:34<00:38, 37153.96it/s]\u001b[A\n",
      " 52%|█████▏    | 1441792/2752512 [00:37<00:34, 37953.22it/s]\u001b[A\n",
      " 57%|█████▋    | 1572864/2752512 [00:41<00:31, 37607.07it/s]\u001b[A\n",
      " 62%|██████▏   | 1703936/2752512 [00:45<00:28, 36660.39it/s]\u001b[A\n",
      " 67%|██████▋   | 1835008/2752512 [00:48<00:24, 37575.58it/s]\u001b[A\n",
      " 71%|███████▏  | 1966080/2752512 [00:51<00:20, 38176.87it/s]\u001b[A\n",
      " 76%|███████▌  | 2097152/2752512 [00:55<00:17, 38048.96it/s]\u001b[A\n",
      " 81%|████████  | 2228224/2752512 [00:58<00:13, 37767.24it/s]\u001b[A\n",
      " 86%|████████▌ | 2359296/2752512 [01:01<00:10, 38409.21it/s]\u001b[A\n",
      " 90%|█████████ | 2490368/2752512 [01:05<00:06, 38287.89it/s]\u001b[A\n",
      " 95%|█████████▌| 2621440/2752512 [01:08<00:03, 38819.50it/s]\u001b[A\n",
      "100%|██████████| 2752512/2752512 [01:12<00:00, 37250.16it/s]\u001b[A"
     ]
    },
    {
     "name": "stdout",
     "output_type": "stream",
     "text": [
      "epoch 32, train loss: 0.223394\n",
      "Evaluation: auc:0.9809694471459949, precision:0.9492731677771048, recall:0.9265034065885344, f1:0.9377500878813491\n"
     ]
    },
    {
     "name": "stderr",
     "output_type": "stream",
     "text": [
      "100%|██████████| 2752512/2752512 [01:17<00:00, 35708.98it/s]\n",
      "100%|██████████| 2752512/2752512 [01:12<00:00, 38948.20it/s]"
     ]
    },
    {
     "name": "stdout",
     "output_type": "stream",
     "text": [
      "epoch 33, train loss: 0.221976\n",
      "Evaluation: auc:0.9815739685325524, precision:0.9519987886129618, recall:0.9232960803606832, f1:0.9374277769079943\n"
     ]
    },
    {
     "name": "stderr",
     "output_type": "stream",
     "text": [
      "\n",
      "100%|██████████| 2752512/2752512 [01:17<00:00, 35421.94it/s]\n",
      "\n",
      "  5%|▍         | 131072/2752512 [00:03<01:05, 39752.68it/s]\u001b[A\n",
      " 10%|▉         | 262144/2752512 [00:06<01:06, 37526.78it/s]\u001b[A\n",
      " 14%|█▍        | 393216/2752512 [00:10<01:02, 37598.39it/s]\u001b[A\n",
      " 19%|█▉        | 524288/2752512 [00:13<00:59, 37171.99it/s]\u001b[A\n",
      " 24%|██▍       | 655360/2752512 [00:17<00:55, 38048.17it/s]\u001b[A\n",
      " 29%|██▊       | 786432/2752512 [00:21<00:53, 36733.53it/s]\u001b[A\n",
      " 33%|███▎      | 917504/2752512 [00:24<00:48, 37625.82it/s]\u001b[A\n",
      " 38%|███▊      | 1048576/2752512 [00:27<00:44, 38369.96it/s]\u001b[A\n",
      " 43%|████▎     | 1179648/2752512 [00:31<00:41, 38254.36it/s]\u001b[A\n",
      " 48%|████▊     | 1310720/2752512 [00:34<00:38, 37622.85it/s]\u001b[A\n",
      " 52%|█████▏    | 1441792/2752512 [00:38<00:34, 38297.53it/s]\u001b[A\n",
      " 57%|█████▋    | 1572864/2752512 [00:41<00:31, 37612.34it/s]\u001b[A\n",
      " 62%|██████▏   | 1703936/2752512 [00:45<00:29, 36057.84it/s]\u001b[A\n",
      " 67%|██████▋   | 1835008/2752512 [00:48<00:24, 37114.73it/s]\u001b[A\n",
      " 71%|███████▏  | 1966080/2752512 [00:52<00:20, 37919.88it/s]\u001b[A\n",
      " 76%|███████▌  | 2097152/2752512 [00:56<00:17, 36725.90it/s]\u001b[A\n",
      " 81%|████████  | 2228224/2752512 [00:59<00:13, 37684.69it/s]\u001b[A\n",
      " 86%|████████▌ | 2359296/2752512 [01:02<00:10, 38284.38it/s]\u001b[A\n",
      " 90%|█████████ | 2490368/2752512 [01:06<00:07, 36652.95it/s]\u001b[A\n",
      " 95%|█████████▌| 2621440/2752512 [01:09<00:03, 37586.15it/s]\u001b[A\n",
      "100%|██████████| 2752512/2752512 [01:13<00:00, 38239.04it/s]\u001b[A"
     ]
    },
    {
     "name": "stdout",
     "output_type": "stream",
     "text": [
      "epoch 34, train loss: 0.220875\n",
      "Evaluation: auc:0.982174221678325, precision:0.952755905511811, recall:0.9251308592601306, f1:0.9387401903738849\n"
     ]
    },
    {
     "name": "stderr",
     "output_type": "stream",
     "text": [
      "100%|██████████| 2752512/2752512 [01:18<00:00, 35213.82it/s]\n",
      "100%|██████████| 2752512/2752512 [01:12<00:00, 37442.78it/s]"
     ]
    },
    {
     "name": "stdout",
     "output_type": "stream",
     "text": [
      "epoch 35, train loss: 0.219700\n",
      "Evaluation: auc:0.9815288632130519, precision:0.9638098122350091, recall:0.9133959962689244, f1:0.9379259532142198\n"
     ]
    },
    {
     "name": "stderr",
     "output_type": "stream",
     "text": [
      "\n",
      "100%|██████████| 2752512/2752512 [01:16<00:00, 35808.91it/s]\n",
      "\n",
      "  5%|▍         | 131072/2752512 [00:03<01:05, 39772.74it/s]\u001b[A\n",
      " 10%|▉         | 262144/2752512 [00:06<01:06, 37670.59it/s]\u001b[A\n",
      " 14%|█▍        | 393216/2752512 [00:10<01:07, 35042.60it/s]\u001b[A\n",
      " 19%|█▉        | 524288/2752512 [00:14<01:00, 36736.85it/s]\u001b[A\n",
      " 24%|██▍       | 655360/2752512 [00:17<00:57, 36621.49it/s]\u001b[A\n",
      " 29%|██▊       | 786432/2752512 [00:21<00:53, 36517.03it/s]\u001b[A\n",
      " 33%|███▎      | 917504/2752512 [00:25<00:50, 36458.20it/s]\u001b[A\n",
      " 38%|███▊      | 1048576/2752512 [00:28<00:45, 37466.32it/s]\u001b[A\n",
      " 43%|████▎     | 1179648/2752512 [00:31<00:41, 37634.47it/s]\u001b[A\n",
      " 48%|████▊     | 1310720/2752512 [00:35<00:37, 38271.87it/s]\u001b[A\n",
      " 52%|█████▏    | 1441792/2752512 [00:38<00:34, 37647.83it/s]\u001b[A\n",
      " 57%|█████▋    | 1572864/2752512 [00:42<00:32, 36515.27it/s]\u001b[A\n",
      " 62%|██████▏   | 1703936/2752512 [00:45<00:28, 37412.15it/s]\u001b[A\n",
      " 67%|██████▋   | 1835008/2752512 [00:49<00:24, 36905.80it/s]\u001b[A\n",
      " 71%|███████▏  | 1966080/2752512 [00:53<00:21, 36166.15it/s]\u001b[A\n",
      " 76%|███████▌  | 2097152/2752512 [00:56<00:17, 37236.32it/s]\u001b[A\n",
      " 81%|████████  | 2228224/2752512 [00:59<00:13, 37944.52it/s]\u001b[A\n",
      " 86%|████████▌ | 2359296/2752512 [01:03<00:10, 37898.92it/s]\u001b[A\n",
      " 90%|█████████ | 2490368/2752512 [01:06<00:06, 38433.08it/s]\u001b[A\n",
      " 95%|█████████▌| 2621440/2752512 [01:09<00:03, 38808.97it/s]\u001b[A\n",
      "100%|██████████| 2752512/2752512 [01:13<00:00, 38946.77it/s]\u001b[A"
     ]
    },
    {
     "name": "stdout",
     "output_type": "stream",
     "text": [
      "epoch 36, train loss: 0.218682\n",
      "Evaluation: auc:0.9819774260850297, precision:0.9642640823743186, recall:0.9132367704001148, f1:0.9380570081755911\n"
     ]
    },
    {
     "name": "stderr",
     "output_type": "stream",
     "text": [
      "100%|██████████| 2752512/2752512 [01:18<00:00, 35278.35it/s]\n",
      "100%|██████████| 2752512/2752512 [01:13<00:00, 37636.46it/s]"
     ]
    },
    {
     "name": "stdout",
     "output_type": "stream",
     "text": [
      "epoch 37, train loss: 0.215772\n",
      "Evaluation: auc:0.982239413524685, precision:0.9503331314354937, recall:0.928965792862535, f1:0.9395279904789706\n"
     ]
    },
    {
     "name": "stderr",
     "output_type": "stream",
     "text": [
      "\n",
      "100%|██████████| 2752512/2752512 [01:18<00:00, 35168.86it/s]\n",
      "\n",
      "  5%|▍         | 131072/2752512 [00:03<01:06, 39280.47it/s]\u001b[A\n",
      " 10%|▉         | 262144/2752512 [00:06<01:05, 38035.61it/s]\u001b[A\n",
      " 14%|█▍        | 393216/2752512 [00:10<01:00, 38706.52it/s]\u001b[A\n",
      " 19%|█▉        | 524288/2752512 [00:13<00:57, 38903.81it/s]\u001b[A\n",
      " 24%|██▍       | 655360/2752512 [00:16<00:54, 38513.49it/s]\u001b[A\n",
      " 29%|██▊       | 786432/2752512 [00:21<00:56, 35108.22it/s]\u001b[A\n",
      " 33%|███▎      | 917504/2752512 [00:24<00:50, 36221.55it/s]\u001b[A\n",
      " 38%|███▊      | 1048576/2752512 [00:28<00:46, 36676.97it/s]\u001b[A\n",
      " 43%|████▎     | 1179648/2752512 [00:31<00:43, 36521.65it/s]\u001b[A\n",
      " 48%|████▊     | 1310720/2752512 [00:35<00:38, 37377.78it/s]\u001b[A\n",
      " 52%|█████▏    | 1441792/2752512 [00:38<00:34, 37819.90it/s]\u001b[A\n",
      " 57%|█████▋    | 1572864/2752512 [00:41<00:30, 38478.67it/s]\u001b[A\n",
      " 62%|██████▏   | 1703936/2752512 [00:45<00:27, 37605.92it/s]\u001b[A\n",
      " 67%|██████▋   | 1835008/2752512 [00:48<00:24, 38218.58it/s]\u001b[A\n",
      " 71%|███████▏  | 1966080/2752512 [00:53<00:22, 35219.27it/s]\u001b[A\n",
      " 76%|███████▌  | 2097152/2752512 [00:56<00:18, 36210.13it/s]\u001b[A\n",
      " 81%|████████  | 2228224/2752512 [00:59<00:14, 37154.12it/s]\u001b[A\n",
      " 86%|████████▌ | 2359296/2752512 [01:03<00:10, 37278.91it/s]\u001b[A\n",
      " 90%|█████████ | 2490368/2752512 [01:06<00:06, 38029.34it/s]\u001b[A\n",
      " 95%|█████████▌| 2621440/2752512 [01:09<00:03, 38539.70it/s]\u001b[A\n",
      "100%|██████████| 2752512/2752512 [01:13<00:00, 36672.68it/s]\u001b[A"
     ]
    },
    {
     "name": "stdout",
     "output_type": "stream",
     "text": [
      "epoch 38, train loss: 0.215040\n",
      "Evaluation: auc:0.9825209903896139, precision:0.958358570563295, recall:0.9218690826463134, f1:0.9397597517335592\n"
     ]
    },
    {
     "name": "stderr",
     "output_type": "stream",
     "text": [
      "100%|██████████| 2752512/2752512 [01:18<00:00, 35219.50it/s]\n",
      "100%|██████████| 2752512/2752512 [01:14<00:00, 37197.81it/s]"
     ]
    },
    {
     "name": "stdout",
     "output_type": "stream",
     "text": [
      "epoch 39, train loss: 0.212275\n",
      "Evaluation: auc:0.9821695998717441, precision:0.9509388249545729, recall:0.9278959810874704, f1:0.9392760993119952\n"
     ]
    },
    {
     "name": "stderr",
     "output_type": "stream",
     "text": [
      "\n",
      "100%|██████████| 2752512/2752512 [01:18<00:00, 35173.57it/s]\n",
      "\n",
      "  5%|▍         | 131072/2752512 [00:03<01:08, 38327.48it/s]\u001b[A\n",
      " 10%|▉         | 262144/2752512 [00:07<01:07, 36937.49it/s]\u001b[A\n",
      " 14%|█▍        | 393216/2752512 [00:10<01:01, 38138.16it/s]\u001b[A\n",
      " 19%|█▉        | 524288/2752512 [00:13<00:57, 38635.17it/s]\u001b[A\n",
      " 24%|██▍       | 655360/2752512 [00:17<00:54, 38550.73it/s]\u001b[A\n",
      " 29%|██▊       | 786432/2752512 [00:20<00:52, 37745.17it/s]\u001b[A\n",
      " 33%|███▎      | 917504/2752512 [00:24<00:49, 37286.08it/s]\u001b[A\n",
      " 38%|███▊      | 1048576/2752512 [00:28<00:47, 35830.33it/s]\u001b[A\n",
      " 43%|████▎     | 1179648/2752512 [00:31<00:42, 36966.21it/s]\u001b[A\n",
      " 48%|████▊     | 1310720/2752512 [00:34<00:38, 37833.00it/s]\u001b[A\n",
      " 52%|█████▏    | 1441792/2752512 [00:38<00:34, 37783.08it/s]\u001b[A\n",
      " 57%|█████▋    | 1572864/2752512 [00:41<00:31, 37301.10it/s]\u001b[A\n",
      " 62%|██████▏   | 1703936/2752512 [00:45<00:27, 37974.16it/s]\u001b[A\n",
      " 67%|██████▋   | 1835008/2752512 [00:48<00:24, 37851.43it/s]\u001b[A\n",
      " 71%|███████▏  | 1966080/2752512 [00:52<00:20, 38382.59it/s]\u001b[A\n",
      " 76%|███████▌  | 2097152/2752512 [00:55<00:17, 36696.72it/s]\u001b[A\n",
      " 81%|████████  | 2228224/2752512 [00:59<00:14, 35494.72it/s]\u001b[A\n",
      " 86%|████████▌ | 2359296/2752512 [01:03<00:10, 36594.31it/s]\u001b[A\n",
      " 90%|█████████ | 2490368/2752512 [01:06<00:06, 37537.32it/s]\u001b[A\n",
      " 95%|█████████▌| 2621440/2752512 [01:10<00:03, 37280.74it/s]\u001b[A\n",
      "100%|██████████| 2752512/2752512 [01:13<00:00, 37817.27it/s]\u001b[A"
     ]
    },
    {
     "name": "stdout",
     "output_type": "stream",
     "text": [
      "epoch 40, train loss: 0.211288\n",
      "Evaluation: auc:0.9826100926388244, precision:0.9576014536644458, recall:0.9258201941235891, f1:0.9414426820100187\n"
     ]
    },
    {
     "name": "stderr",
     "output_type": "stream",
     "text": [
      "100%|██████████| 2752512/2752512 [01:18<00:00, 35272.45it/s]\n",
      "100%|██████████| 2752512/2752512 [01:13<00:00, 36084.17it/s]"
     ]
    },
    {
     "name": "stdout",
     "output_type": "stream",
     "text": [
      "epoch 41, train loss: 0.211411\n",
      "Evaluation: auc:0.9835444519335784, precision:0.9597213809812235, recall:0.9246750215193382, f1:0.9418723018509023\n"
     ]
    },
    {
     "name": "stderr",
     "output_type": "stream",
     "text": [
      "\n",
      "100%|██████████| 2752512/2752512 [01:17<00:00, 35295.58it/s]\n",
      "\n",
      "  5%|▍         | 131072/2752512 [00:03<01:09, 37730.30it/s]\u001b[A\n",
      " 10%|▉         | 262144/2752512 [00:07<01:07, 36829.93it/s]\u001b[A\n",
      " 14%|█▍        | 393216/2752512 [00:10<01:02, 38053.10it/s]\u001b[A\n",
      " 19%|█▉        | 524288/2752512 [00:13<00:58, 37967.30it/s]\u001b[A\n",
      " 24%|██▍       | 655360/2752512 [00:17<00:54, 38565.39it/s]\u001b[A\n",
      " 29%|██▊       | 786432/2752512 [00:20<00:50, 39136.01it/s]\u001b[A\n",
      " 33%|███▎      | 917504/2752512 [00:24<00:49, 37364.11it/s]\u001b[A\n",
      " 38%|███▊      | 1048576/2752512 [00:27<00:46, 36988.86it/s]\u001b[A\n",
      " 43%|████▎     | 1179648/2752512 [00:31<00:43, 36555.17it/s]\u001b[A\n",
      " 48%|████▊     | 1310720/2752512 [00:35<00:39, 36900.09it/s]\u001b[A\n",
      " 52%|█████▏    | 1441792/2752512 [00:38<00:35, 36742.37it/s]\u001b[A\n",
      " 57%|█████▋    | 1572864/2752512 [00:41<00:31, 37472.65it/s]\u001b[A\n",
      " 62%|██████▏   | 1703936/2752512 [00:45<00:27, 37475.65it/s]\u001b[A\n",
      " 67%|██████▋   | 1835008/2752512 [00:48<00:24, 38177.21it/s]\u001b[A\n",
      " 71%|███████▏  | 1966080/2752512 [00:52<00:20, 37514.25it/s]\u001b[A\n",
      " 76%|███████▌  | 2097152/2752512 [00:55<00:17, 38183.03it/s]\u001b[A\n",
      " 81%|████████  | 2228224/2752512 [00:59<00:14, 36933.49it/s]\u001b[A\n",
      " 86%|████████▌ | 2359296/2752512 [01:03<00:10, 36817.10it/s]\u001b[A\n",
      " 90%|█████████ | 2490368/2752512 [01:06<00:06, 37688.66it/s]\u001b[A\n",
      " 95%|█████████▌| 2621440/2752512 [01:09<00:03, 37651.60it/s]\u001b[A\n",
      "100%|██████████| 2752512/2752512 [01:13<00:00, 38164.64it/s]\u001b[A"
     ]
    },
    {
     "name": "stdout",
     "output_type": "stream",
     "text": [
      "epoch 42, train loss: 0.209568\n",
      "Evaluation: auc:0.9833237436445287, precision:0.9657783161720169, recall:0.9183982029461316, f1:0.9414925417198698\n"
     ]
    },
    {
     "name": "stderr",
     "output_type": "stream",
     "text": [
      "100%|██████████| 2752512/2752512 [01:17<00:00, 35628.99it/s]\n",
      "100%|██████████| 2752512/2752512 [01:13<00:00, 39112.31it/s]"
     ]
    },
    {
     "name": "stdout",
     "output_type": "stream",
     "text": [
      "epoch 43, train loss: 0.207675\n",
      "Evaluation: auc:0.9833992535588622, precision:0.9647183525136281, recall:0.9195883431243775, f1:0.9416129056096245\n"
     ]
    },
    {
     "name": "stderr",
     "output_type": "stream",
     "text": [
      "\n",
      "100%|██████████| 2752512/2752512 [01:18<00:00, 35260.97it/s]\n",
      "\n",
      "  5%|▍         | 131072/2752512 [00:03<01:04, 40484.97it/s]\u001b[A\n",
      " 10%|▉         | 262144/2752512 [00:06<01:05, 37895.57it/s]\u001b[A\n",
      " 14%|█▍        | 393216/2752512 [00:10<01:00, 38995.06it/s]\u001b[A\n",
      " 19%|█▉        | 524288/2752512 [00:13<00:57, 38609.89it/s]\u001b[A\n",
      " 24%|██▍       | 655360/2752512 [00:16<00:53, 39256.89it/s]\u001b[A\n",
      " 29%|██▊       | 786432/2752512 [00:20<00:50, 39317.33it/s]\u001b[A\n",
      " 33%|███▎      | 917504/2752512 [00:23<00:48, 38114.84it/s]\u001b[A\n",
      " 38%|███▊      | 1048576/2752512 [00:27<00:44, 38525.71it/s]\u001b[A\n",
      " 43%|████▎     | 1179648/2752512 [00:31<00:42, 36754.30it/s]\u001b[A\n",
      " 48%|████▊     | 1310720/2752512 [00:34<00:38, 37062.80it/s]\u001b[A\n",
      " 52%|█████▏    | 1441792/2752512 [00:37<00:34, 37827.48it/s]\u001b[A\n",
      " 57%|█████▋    | 1572864/2752512 [00:41<00:31, 37252.17it/s]\u001b[A\n",
      " 62%|██████▏   | 1703936/2752512 [00:45<00:28, 36345.90it/s]\u001b[A\n",
      " 67%|██████▋   | 1835008/2752512 [00:48<00:24, 37259.31it/s]\u001b[A\n",
      " 71%|███████▏  | 1966080/2752512 [00:51<00:20, 38026.04it/s]\u001b[A\n",
      " 76%|███████▌  | 2097152/2752512 [00:55<00:17, 37881.16it/s]\u001b[A\n",
      " 81%|████████  | 2228224/2752512 [00:58<00:13, 38485.03it/s]\u001b[A\n",
      " 86%|████████▌ | 2359296/2752512 [01:02<00:10, 37746.14it/s]\u001b[A\n",
      " 90%|█████████ | 2490368/2752512 [01:05<00:06, 38393.35it/s]\u001b[A\n",
      " 95%|█████████▌| 2621440/2752512 [01:08<00:03, 38558.93it/s]\u001b[A\n",
      "100%|██████████| 2752512/2752512 [01:12<00:00, 36704.45it/s]\u001b[A"
     ]
    },
    {
     "name": "stdout",
     "output_type": "stream",
     "text": [
      "epoch 44, train loss: 0.207959\n",
      "Evaluation: auc:0.9838675487040324, precision:0.9660811629315567, recall:0.919865048011765, f1:0.9424068302338292\n"
     ]
    },
    {
     "name": "stderr",
     "output_type": "stream",
     "text": [
      "100%|██████████| 2752512/2752512 [01:17<00:00, 35601.19it/s]\n",
      "100%|██████████| 2752512/2752512 [01:13<00:00, 38651.77it/s]"
     ]
    },
    {
     "name": "stdout",
     "output_type": "stream",
     "text": [
      "epoch 45, train loss: 0.205454\n",
      "Evaluation: auc:0.9839943171750248, precision:0.951847365233192, recall:0.9337076482034372, f1:0.9426902514190593\n"
     ]
    },
    {
     "name": "stderr",
     "output_type": "stream",
     "text": [
      "\n",
      "100%|██████████| 2752512/2752512 [01:17<00:00, 35434.18it/s]\n",
      "\n",
      "  5%|▍         | 131072/2752512 [00:03<01:12, 36217.25it/s]\u001b[A\n",
      " 10%|▉         | 262144/2752512 [00:07<01:08, 36195.86it/s]\u001b[A\n",
      " 14%|█▍        | 393216/2752512 [00:10<01:04, 36583.04it/s]\u001b[A\n",
      " 19%|█▉        | 524288/2752512 [00:14<01:01, 36242.80it/s]\u001b[A\n",
      " 24%|██▍       | 655360/2752512 [00:17<00:55, 37509.78it/s]\u001b[A\n",
      " 29%|██▊       | 786432/2752512 [00:21<00:53, 36422.39it/s]\u001b[A\n",
      " 33%|███▎      | 917504/2752512 [00:24<00:48, 37560.67it/s]\u001b[A\n",
      " 38%|███▊      | 1048576/2752512 [00:28<00:44, 38299.63it/s]\u001b[A\n",
      " 43%|████▎     | 1179648/2752512 [00:31<00:40, 38712.98it/s]\u001b[A\n",
      " 48%|████▊     | 1310720/2752512 [00:35<00:38, 37161.30it/s]\u001b[A\n",
      " 52%|█████▏    | 1441792/2752512 [00:38<00:34, 37950.48it/s]\u001b[A\n",
      " 57%|█████▋    | 1572864/2752512 [00:42<00:31, 37308.20it/s]\u001b[A\n",
      " 62%|██████▏   | 1703936/2752512 [00:45<00:28, 36360.39it/s]\u001b[A\n",
      " 67%|██████▋   | 1835008/2752512 [00:49<00:24, 37530.38it/s]\u001b[A\n",
      " 71%|███████▏  | 1966080/2752512 [00:52<00:20, 38382.85it/s]\u001b[A\n",
      " 76%|███████▌  | 2097152/2752512 [00:56<00:17, 37250.29it/s]\u001b[A\n",
      " 81%|████████  | 2228224/2752512 [00:59<00:13, 38187.96it/s]\u001b[A\n",
      " 86%|████████▌ | 2359296/2752512 [01:02<00:10, 38807.82it/s]\u001b[A\n",
      " 90%|█████████ | 2490368/2752512 [01:06<00:06, 38610.97it/s]\u001b[A\n",
      " 95%|█████████▌| 2621440/2752512 [01:09<00:03, 37931.60it/s]\u001b[A\n",
      "100%|██████████| 2752512/2752512 [01:12<00:00, 38759.98it/s]\u001b[A"
     ]
    },
    {
     "name": "stdout",
     "output_type": "stream",
     "text": [
      "epoch 46, train loss: 0.204534\n",
      "Evaluation: auc:0.9843412129131951, precision:0.9551786795881284, recall:0.9294375930100635, f1:0.942132343606479\n"
     ]
    },
    {
     "name": "stderr",
     "output_type": "stream",
     "text": [
      "100%|██████████| 2752512/2752512 [01:18<00:00, 35248.96it/s]\n",
      "100%|██████████| 2752512/2752512 [01:11<00:00, 38096.01it/s]"
     ]
    },
    {
     "name": "stdout",
     "output_type": "stream",
     "text": [
      "epoch 47, train loss: 0.203428\n",
      "Evaluation: auc:0.9841728867037616, precision:0.9651726226529376, recall:0.9228185490292597, f1:0.9435205127635796\n"
     ]
    },
    {
     "name": "stderr",
     "output_type": "stream",
     "text": [
      "\n",
      "100%|██████████| 2752512/2752512 [01:15<00:00, 36421.22it/s]\n",
      "\n",
      "  5%|▍         | 131072/2752512 [00:03<01:04, 40855.29it/s]\u001b[A\n",
      " 10%|▉         | 262144/2752512 [00:06<01:04, 38475.38it/s]\u001b[A\n",
      " 14%|█▍        | 393216/2752512 [00:10<01:00, 39228.45it/s]\u001b[A\n",
      " 19%|█▉        | 524288/2752512 [00:13<00:58, 37853.44it/s]\u001b[A\n",
      " 24%|██▍       | 655360/2752512 [00:16<00:54, 38738.12it/s]\u001b[A\n",
      " 29%|██▊       | 786432/2752512 [00:20<00:51, 37809.41it/s]\u001b[A\n",
      " 33%|███▎      | 917504/2752512 [00:24<00:49, 37001.89it/s]\u001b[A\n",
      " 38%|███▊      | 1048576/2752512 [00:27<00:44, 38085.18it/s]\u001b[A\n",
      " 43%|████▎     | 1179648/2752512 [00:30<00:40, 38841.22it/s]\u001b[A\n",
      " 48%|████▊     | 1310720/2752512 [00:34<00:37, 38033.51it/s]\u001b[A\n",
      " 52%|█████▏    | 1441792/2752512 [00:37<00:34, 37638.73it/s]\u001b[A\n",
      " 57%|█████▋    | 1572864/2752512 [00:41<00:30, 38513.87it/s]\u001b[A\n",
      " 62%|██████▏   | 1703936/2752512 [00:44<00:27, 38432.17it/s]\u001b[A\n",
      " 67%|██████▋   | 1835008/2752512 [00:48<00:24, 37863.55it/s]\u001b[A\n",
      " 71%|███████▏  | 1966080/2752512 [00:51<00:21, 36454.78it/s]\u001b[A\n",
      " 76%|███████▌  | 2097152/2752512 [00:55<00:17, 37060.22it/s]\u001b[A\n",
      " 81%|████████  | 2228224/2752512 [00:58<00:13, 37996.79it/s]\u001b[A\n",
      " 86%|████████▌ | 2359296/2752512 [01:01<00:10, 38819.25it/s]\u001b[A\n",
      " 90%|█████████ | 2490368/2752512 [01:05<00:06, 39036.82it/s]\u001b[A\n",
      " 95%|█████████▌| 2621440/2752512 [01:08<00:03, 39339.79it/s]\u001b[A\n",
      "100%|██████████| 2752512/2752512 [01:11<00:00, 39755.91it/s]\u001b[A"
     ]
    },
    {
     "name": "stdout",
     "output_type": "stream",
     "text": [
      "epoch 48, train loss: 0.201864\n",
      "Evaluation: auc:0.984470461618438, precision:0.9633555420956996, recall:0.9240243424205894, f1:0.943280129882646\n"
     ]
    },
    {
     "name": "stderr",
     "output_type": "stream",
     "text": [
      "100%|██████████| 2752512/2752512 [01:15<00:00, 36238.66it/s]\n",
      "100%|██████████| 2752512/2752512 [01:12<00:00, 36892.48it/s]"
     ]
    },
    {
     "name": "stdout",
     "output_type": "stream",
     "text": [
      "epoch 49, train loss: 0.200777\n",
      "Evaluation: auc:0.9843663477267783, precision:0.9542701393095094, recall:0.9328418964726083, f1:0.9434343585559555\n"
     ]
    },
    {
     "name": "stderr",
     "output_type": "stream",
     "text": [
      "\n",
      "100%|██████████| 2752512/2752512 [01:17<00:00, 35681.44it/s]\n",
      "\n",
      "  5%|▍         | 131072/2752512 [00:03<01:04, 40455.44it/s]\u001b[A\n",
      " 10%|▉         | 262144/2752512 [00:06<01:01, 40436.13it/s]\u001b[A\n",
      " 14%|█▍        | 393216/2752512 [00:09<00:58, 40285.77it/s]\u001b[A\n",
      " 19%|█▉        | 524288/2752512 [00:13<00:57, 38642.78it/s]\u001b[A\n",
      " 24%|██▍       | 655360/2752512 [00:16<00:53, 39039.97it/s]\u001b[A\n",
      " 29%|██▊       | 786432/2752512 [00:19<00:49, 39386.14it/s]\u001b[A\n",
      " 33%|███▎      | 917504/2752512 [00:23<00:47, 38909.64it/s]\u001b[A\n",
      " 38%|███▊      | 1048576/2752512 [00:27<00:45, 37206.67it/s]\u001b[A\n",
      " 43%|████▎     | 1179648/2752512 [00:30<00:42, 36830.01it/s]\u001b[A\n",
      " 48%|████▊     | 1310720/2752512 [00:34<00:38, 37076.60it/s]\u001b[A\n",
      " 52%|█████▏    | 1441792/2752512 [00:37<00:34, 38018.96it/s]\u001b[A\n",
      " 57%|█████▋    | 1572864/2752512 [00:40<00:30, 38697.55it/s]\u001b[A\n",
      " 62%|██████▏   | 1703936/2752512 [00:44<00:28, 37448.43it/s]\u001b[A\n",
      " 67%|██████▋   | 1835008/2752512 [00:47<00:23, 38288.07it/s]\u001b[A\n",
      " 71%|███████▏  | 1966080/2752512 [00:51<00:20, 39037.53it/s]\u001b[A\n",
      " 76%|███████▌  | 2097152/2752512 [00:54<00:16, 39472.12it/s]\u001b[A\n",
      " 81%|████████  | 2228224/2752512 [00:57<00:13, 39084.75it/s]\u001b[A\n",
      " 86%|████████▌ | 2359296/2752512 [01:02<00:11, 35382.00it/s]\u001b[A\n",
      " 90%|█████████ | 2490368/2752512 [01:05<00:07, 36725.92it/s]\u001b[A\n",
      " 95%|█████████▌| 2621440/2752512 [01:08<00:03, 37181.50it/s]\u001b[A\n",
      "100%|██████████| 2752512/2752512 [01:12<00:00, 36892.08it/s]\u001b[A"
     ]
    },
    {
     "name": "stdout",
     "output_type": "stream",
     "text": [
      "epoch 50, train loss: 0.199818\n",
      "Evaluation: auc:0.9846288691837739, precision:0.9621441550575409, recall:0.9272528274352426, f1:0.9443763237097313\n"
     ]
    },
    {
     "name": "stderr",
     "output_type": "stream",
     "text": [
      "100%|██████████| 2752512/2752512 [01:16<00:00, 35776.57it/s]\n",
      "100%|██████████| 2752512/2752512 [01:12<00:00, 39443.95it/s]"
     ]
    },
    {
     "name": "stdout",
     "output_type": "stream",
     "text": [
      "epoch 51, train loss: 0.198100\n",
      "Evaluation: auc:0.9848324836442572, precision:0.9692610539067232, recall:0.9193800899128162, f1:0.9436618680111748\n"
     ]
    },
    {
     "name": "stderr",
     "output_type": "stream",
     "text": [
      "\n",
      "100%|██████████| 2752512/2752512 [01:16<00:00, 36105.26it/s]\n",
      "\n",
      "  5%|▍         | 131072/2752512 [00:03<01:16, 34408.06it/s]\u001b[A\n",
      " 10%|▉         | 262144/2752512 [00:07<01:14, 33343.59it/s]\u001b[A\n",
      " 14%|█▍        | 393216/2752512 [00:11<01:05, 36134.61it/s]\u001b[A\n",
      " 19%|█▉        | 524288/2752512 [00:14<01:00, 36841.23it/s]\u001b[A\n",
      " 24%|██▍       | 655360/2752512 [00:17<00:55, 38011.91it/s]\u001b[A\n",
      " 29%|██▊       | 786432/2752512 [00:21<00:52, 37479.06it/s]\u001b[A\n",
      " 33%|███▎      | 917504/2752512 [00:24<00:48, 37751.98it/s]\u001b[A\n",
      " 38%|███▊      | 1048576/2752512 [00:28<00:44, 38614.60it/s]\u001b[A\n",
      " 43%|████▎     | 1179648/2752512 [00:31<00:40, 39321.47it/s]\u001b[A\n",
      " 48%|████▊     | 1310720/2752512 [00:34<00:36, 39038.20it/s]\u001b[A\n",
      " 52%|█████▏    | 1441792/2752512 [00:38<00:34, 38320.00it/s]\u001b[A\n",
      " 57%|█████▋    | 1572864/2752512 [00:42<00:32, 36620.66it/s]\u001b[A\n",
      " 62%|██████▏   | 1703936/2752512 [00:45<00:28, 37090.64it/s]\u001b[A\n",
      " 67%|██████▋   | 1835008/2752512 [00:48<00:24, 38062.16it/s]\u001b[A\n",
      " 71%|███████▏  | 1966080/2752512 [00:52<00:20, 38831.59it/s]\u001b[A\n",
      " 76%|███████▌  | 2097152/2752512 [00:55<00:17, 38218.14it/s]\u001b[A\n",
      " 81%|████████  | 2228224/2752512 [00:58<00:13, 38540.47it/s]\u001b[A\n",
      " 86%|████████▌ | 2359296/2752512 [01:02<00:10, 39067.77it/s]\u001b[A\n",
      " 90%|█████████ | 2490368/2752512 [01:05<00:06, 39419.71it/s]\u001b[A\n",
      " 95%|█████████▌| 2621440/2752512 [01:09<00:03, 38418.15it/s]\u001b[A\n",
      "100%|██████████| 2752512/2752512 [01:12<00:00, 38706.72it/s]\u001b[A"
     ]
    },
    {
     "name": "stdout",
     "output_type": "stream",
     "text": [
      "epoch 52, train loss: 0.197622\n",
      "Evaluation: auc:0.9849593981732342, precision:0.9545729860690491, recall:0.9362839744541809, f1:0.9453400314913398\n"
     ]
    },
    {
     "name": "stderr",
     "output_type": "stream",
     "text": [
      "100%|██████████| 2752512/2752512 [01:17<00:00, 35578.99it/s]\n",
      "100%|██████████| 2752512/2752512 [01:12<00:00, 37270.84it/s]"
     ]
    },
    {
     "name": "stdout",
     "output_type": "stream",
     "text": [
      "epoch 53, train loss: 0.195533\n",
      "Evaluation: auc:0.9856409515037965, precision:0.9635069654754694, recall:0.9289729177312213, f1:0.9459248522689263\n"
     ]
    },
    {
     "name": "stderr",
     "output_type": "stream",
     "text": [
      "\n",
      "100%|██████████| 2752512/2752512 [01:16<00:00, 36124.32it/s]\n",
      "\n",
      "  5%|▍         | 131072/2752512 [00:03<01:08, 38511.99it/s]\u001b[A\n",
      " 10%|▉         | 262144/2752512 [00:06<01:06, 37570.85it/s]\u001b[A\n",
      " 14%|█▍        | 393216/2752512 [00:10<01:00, 38890.21it/s]\u001b[A\n",
      " 19%|█▉        | 524288/2752512 [00:13<00:59, 37180.49it/s]\u001b[A\n",
      " 24%|██▍       | 655360/2752512 [00:17<00:54, 38402.58it/s]\u001b[A\n",
      " 29%|██▊       | 786432/2752512 [00:20<00:52, 37426.55it/s]\u001b[A\n",
      " 33%|███▎      | 917504/2752512 [00:24<00:50, 36565.17it/s]\u001b[A\n",
      " 38%|███▊      | 1048576/2752512 [00:27<00:45, 37782.50it/s]\u001b[A\n",
      " 43%|████▎     | 1179648/2752512 [00:31<00:40, 38553.86it/s]\u001b[A\n",
      " 48%|████▊     | 1310720/2752512 [00:34<00:37, 38768.63it/s]\u001b[A\n",
      " 52%|█████▏    | 1441792/2752512 [00:38<00:34, 37575.53it/s]\u001b[A\n",
      " 57%|█████▋    | 1572864/2752512 [00:41<00:30, 38454.71it/s]\u001b[A\n",
      " 62%|██████▏   | 1703936/2752512 [00:44<00:27, 37710.25it/s]\u001b[A\n",
      " 67%|██████▋   | 1835008/2752512 [00:48<00:24, 38107.42it/s]\u001b[A\n",
      " 71%|███████▏  | 1966080/2752512 [00:51<00:20, 37712.15it/s]\u001b[A\n",
      " 76%|███████▌  | 2097152/2752512 [00:55<00:17, 37175.50it/s]\u001b[A\n",
      " 81%|████████  | 2228224/2752512 [00:58<00:13, 37460.99it/s]\u001b[A\n",
      " 86%|████████▌ | 2359296/2752512 [01:02<00:10, 38209.69it/s]\u001b[A\n",
      " 90%|█████████ | 2490368/2752512 [01:05<00:06, 38734.06it/s]\u001b[A\n",
      " 95%|█████████▌| 2621440/2752512 [01:08<00:03, 38566.61it/s]\u001b[A\n",
      "100%|██████████| 2752512/2752512 [01:12<00:00, 39070.14it/s]\u001b[A"
     ]
    },
    {
     "name": "stdout",
     "output_type": "stream",
     "text": [
      "epoch 54, train loss: 0.196313\n",
      "Evaluation: auc:0.9851374192393355, precision:0.9682010902483343, recall:0.9226284955701134, f1:0.9448655997399182\n"
     ]
    },
    {
     "name": "stderr",
     "output_type": "stream",
     "text": [
      "100%|██████████| 2752512/2752512 [01:16<00:00, 35835.72it/s]\n",
      "100%|██████████| 2752512/2752512 [01:12<00:00, 38443.24it/s]"
     ]
    },
    {
     "name": "stdout",
     "output_type": "stream",
     "text": [
      "epoch 55, train loss: 0.194666\n",
      "Evaluation: auc:0.9854223469541613, precision:0.9536644457904301, recall:0.9388929471220501, f1:0.946221050338419\n"
     ]
    },
    {
     "name": "stderr",
     "output_type": "stream",
     "text": [
      "\n",
      "100%|██████████| 2752512/2752512 [01:16<00:00, 36019.83it/s]\n",
      "\n",
      "  5%|▍         | 131072/2752512 [00:03<01:18, 33584.47it/s]\u001b[A\n",
      " 10%|▉         | 262144/2752512 [00:07<01:06, 37332.06it/s]\u001b[A\n",
      " 14%|█▍        | 393216/2752512 [00:10<01:00, 38735.27it/s]\u001b[A\n",
      " 19%|█▉        | 524288/2752512 [00:13<00:57, 38563.99it/s]\u001b[A\n",
      " 24%|██▍       | 655360/2752512 [00:17<00:53, 39285.43it/s]\u001b[A\n",
      " 29%|██▊       | 786432/2752512 [00:20<00:51, 37981.92it/s]\u001b[A\n",
      " 33%|███▎      | 917504/2752512 [00:23<00:47, 38804.36it/s]\u001b[A\n",
      " 38%|███▊      | 1048576/2752512 [00:27<00:43, 39209.83it/s]\u001b[A\n",
      " 43%|████▎     | 1179648/2752512 [00:30<00:40, 38527.46it/s]\u001b[A\n",
      " 48%|████▊     | 1310720/2752512 [00:33<00:36, 39164.15it/s]\u001b[A\n",
      " 52%|█████▏    | 1441792/2752512 [00:37<00:35, 37118.98it/s]\u001b[A\n",
      " 57%|█████▋    | 1572864/2752512 [00:41<00:30, 38198.60it/s]\u001b[A\n",
      " 62%|██████▏   | 1703936/2752512 [00:44<00:27, 37785.56it/s]\u001b[A\n",
      " 67%|██████▋   | 1835008/2752512 [00:48<00:24, 37499.23it/s]\u001b[A\n",
      " 71%|███████▏  | 1966080/2752512 [00:51<00:20, 37752.07it/s]\u001b[A\n",
      " 76%|███████▌  | 2097152/2752512 [00:54<00:17, 38498.52it/s]\u001b[A\n",
      " 81%|████████  | 2228224/2752512 [00:58<00:13, 38363.36it/s]\u001b[A\n",
      " 86%|████████▌ | 2359296/2752512 [01:01<00:10, 38919.56it/s]\u001b[A\n",
      " 90%|█████████ | 2490368/2752512 [01:04<00:06, 39351.21it/s]\u001b[A\n",
      " 95%|█████████▌| 2621440/2752512 [01:08<00:03, 39368.29it/s]\u001b[A\n",
      "100%|██████████| 2752512/2752512 [01:12<00:00, 37331.09it/s]\u001b[A"
     ]
    },
    {
     "name": "stdout",
     "output_type": "stream",
     "text": [
      "epoch 56, train loss: 0.193278\n",
      "Evaluation: auc:0.985377458772669, precision:0.9651726226529376, recall:0.9253774680603949, f1:0.9448562110880522\n"
     ]
    },
    {
     "name": "stderr",
     "output_type": "stream",
     "text": [
      "100%|██████████| 2752512/2752512 [01:16<00:00, 36197.61it/s]\n",
      "100%|██████████| 2752512/2752512 [01:12<00:00, 38215.55it/s]"
     ]
    },
    {
     "name": "stdout",
     "output_type": "stream",
     "text": [
      "epoch 57, train loss: 0.192895\n",
      "Evaluation: auc:0.9861150169711582, precision:0.9588128407026045, recall:0.9350680036032311, f1:0.9467915697870017\n"
     ]
    },
    {
     "name": "stderr",
     "output_type": "stream",
     "text": [
      "\n",
      "100%|██████████| 2752512/2752512 [01:16<00:00, 35883.92it/s]\n",
      "\n",
      "  5%|▍         | 131072/2752512 [00:03<01:05, 40147.09it/s]\u001b[A\n",
      " 10%|▉         | 262144/2752512 [00:06<01:05, 38104.16it/s]\u001b[A\n",
      " 14%|█▍        | 393216/2752512 [00:10<01:00, 39260.41it/s]\u001b[A\n",
      " 19%|█▉        | 524288/2752512 [00:13<00:56, 39730.11it/s]\u001b[A\n",
      " 24%|██▍       | 655360/2752512 [00:17<00:56, 37075.12it/s]\u001b[A\n",
      " 29%|██▊       | 786432/2752512 [00:20<00:53, 36894.96it/s]\u001b[A\n",
      " 33%|███▎      | 917504/2752512 [00:24<00:48, 37965.96it/s]\u001b[A\n",
      " 38%|███▊      | 1048576/2752512 [00:27<00:44, 38075.75it/s]\u001b[A\n",
      " 43%|████▎     | 1179648/2752512 [00:30<00:41, 38272.82it/s]\u001b[A\n",
      " 48%|████▊     | 1310720/2752512 [00:34<00:37, 38831.70it/s]\u001b[A\n",
      " 52%|█████▏    | 1441792/2752512 [00:37<00:33, 38681.87it/s]\u001b[A\n",
      " 57%|█████▋    | 1572864/2752512 [00:41<00:30, 38163.84it/s]\u001b[A\n",
      " 62%|██████▏   | 1703936/2752512 [00:44<00:26, 38877.59it/s]\u001b[A\n",
      " 67%|██████▋   | 1835008/2752512 [00:47<00:23, 38855.07it/s]\u001b[A\n",
      " 71%|███████▏  | 1966080/2752512 [00:51<00:20, 37950.84it/s]\u001b[A\n",
      " 76%|███████▌  | 2097152/2752512 [00:54<00:17, 37572.50it/s]\u001b[A\n",
      " 81%|████████  | 2228224/2752512 [00:58<00:13, 38472.62it/s]\u001b[A\n",
      " 86%|████████▌ | 2359296/2752512 [01:01<00:10, 38334.72it/s]\u001b[A\n",
      " 90%|█████████ | 2490368/2752512 [01:05<00:06, 37735.49it/s]\u001b[A\n",
      " 95%|█████████▌| 2621440/2752512 [01:08<00:03, 38678.18it/s]\u001b[A\n",
      "100%|██████████| 2752512/2752512 [01:11<00:00, 38538.46it/s]\u001b[A"
     ]
    },
    {
     "name": "stdout",
     "output_type": "stream",
     "text": [
      "epoch 58, train loss: 0.191429\n",
      "Evaluation: auc:0.986124332352215, precision:0.9653240460327075, recall:0.9280016303714917, f1:0.9462949768436053\n"
     ]
    },
    {
     "name": "stderr",
     "output_type": "stream",
     "text": [
      "100%|██████████| 2752512/2752512 [01:16<00:00, 36074.07it/s]\n",
      "100%|██████████| 2752512/2752512 [01:11<00:00, 38247.41it/s]"
     ]
    },
    {
     "name": "stdout",
     "output_type": "stream",
     "text": [
      "epoch 59, train loss: 0.191807\n",
      "Evaluation: auc:0.985910287700753, precision:0.9533615990308903, recall:0.9406561883702863, f1:0.9469662786150468\n"
     ]
    },
    {
     "name": "stderr",
     "output_type": "stream",
     "text": [
      "\n",
      "100%|██████████| 2752512/2752512 [01:16<00:00, 36188.67it/s]\n",
      "\n",
      "  5%|▍         | 131072/2752512 [00:03<01:04, 40864.34it/s]\u001b[A\n",
      " 10%|▉         | 262144/2752512 [00:06<01:06, 37283.83it/s]\u001b[A\n",
      " 14%|█▍        | 393216/2752512 [00:10<01:02, 37989.07it/s]\u001b[A\n",
      " 19%|█▉        | 524288/2752512 [00:13<00:58, 38032.95it/s]\u001b[A\n",
      " 24%|██▍       | 655360/2752512 [00:17<00:55, 37952.26it/s]\u001b[A\n",
      " 29%|██▊       | 786432/2752512 [00:20<00:50, 38746.72it/s]\u001b[A\n",
      " 33%|███▎      | 917504/2752512 [00:24<00:48, 37933.77it/s]\u001b[A\n",
      " 38%|███▊      | 1048576/2752512 [00:27<00:44, 37965.57it/s]\u001b[A\n",
      " 43%|████▎     | 1179648/2752512 [00:31<00:43, 36426.42it/s]\u001b[A\n",
      " 48%|████▊     | 1310720/2752512 [00:34<00:38, 37520.34it/s]\u001b[A\n",
      " 52%|█████▏    | 1441792/2752512 [00:38<00:35, 36800.59it/s]\u001b[A\n",
      " 57%|█████▋    | 1572864/2752512 [00:41<00:31, 37819.59it/s]\u001b[A\n",
      " 62%|██████▏   | 1703936/2752512 [00:45<00:27, 37659.59it/s]\u001b[A\n",
      " 67%|██████▋   | 1835008/2752512 [00:48<00:23, 38544.89it/s]\u001b[A\n",
      " 71%|███████▏  | 1966080/2752512 [00:52<00:20, 37491.81it/s]\u001b[A\n",
      " 76%|███████▌  | 2097152/2752512 [00:55<00:17, 38373.33it/s]\u001b[A\n",
      " 81%|████████  | 2228224/2752512 [00:58<00:13, 38896.38it/s]\u001b[A\n",
      " 86%|████████▌ | 2359296/2752512 [01:02<00:10, 38686.16it/s]\u001b[A\n",
      " 90%|█████████ | 2490368/2752512 [01:05<00:06, 37704.81it/s]\u001b[A\n",
      " 95%|█████████▌| 2621440/2752512 [01:08<00:03, 38544.89it/s]\u001b[A\n",
      "100%|██████████| 2752512/2752512 [01:12<00:00, 38440.29it/s]\u001b[A"
     ]
    },
    {
     "name": "stdout",
     "output_type": "stream",
     "text": [
      "epoch 60, train loss: 0.191398\n",
      "Evaluation: auc:0.9858859102333589, precision:0.959267110841914, recall:0.9335258837918686, f1:0.9462214621250028\n"
     ]
    },
    {
     "name": "stderr",
     "output_type": "stream",
     "text": [
      "100%|██████████| 2752512/2752512 [01:16<00:00, 35831.27it/s]\n",
      "100%|██████████| 2752512/2752512 [01:12<00:00, 38523.01it/s]"
     ]
    },
    {
     "name": "stdout",
     "output_type": "stream",
     "text": [
      "epoch 61, train loss: 0.189482\n",
      "Evaluation: auc:0.9858166452723438, precision:0.9692610539067232, recall:0.9227065674912068, f1:0.9454110418574424\n"
     ]
    },
    {
     "name": "stderr",
     "output_type": "stream",
     "text": [
      "\n",
      "100%|██████████| 2752512/2752512 [01:16<00:00, 35976.62it/s]\n",
      "\n",
      "  5%|▍         | 131072/2752512 [00:03<01:04, 40687.24it/s]\u001b[A\n",
      " 10%|▉         | 262144/2752512 [00:06<01:03, 38917.00it/s]\u001b[A\n",
      " 14%|█▍        | 393216/2752512 [00:10<01:03, 37095.63it/s]\u001b[A\n",
      " 19%|█▉        | 524288/2752512 [00:13<00:58, 38344.57it/s]\u001b[A\n",
      " 24%|██▍       | 655360/2752512 [00:17<00:54, 38400.41it/s]\u001b[A\n",
      " 29%|██▊       | 786432/2752512 [00:20<00:50, 39008.37it/s]\u001b[A\n",
      " 33%|███▎      | 917504/2752512 [00:23<00:48, 37994.00it/s]\u001b[A\n",
      " 38%|███▊      | 1048576/2752512 [00:27<00:44, 38667.45it/s]\u001b[A\n",
      " 43%|████▎     | 1179648/2752512 [00:31<00:42, 37222.89it/s]\u001b[A\n",
      " 48%|████▊     | 1310720/2752512 [00:34<00:37, 38077.62it/s]\u001b[A\n",
      " 52%|█████▏    | 1441792/2752512 [00:37<00:33, 38787.12it/s]\u001b[A\n",
      " 57%|█████▋    | 1572864/2752512 [00:40<00:30, 38825.22it/s]\u001b[A\n",
      " 62%|██████▏   | 1703936/2752512 [00:44<00:28, 36656.36it/s]\u001b[A\n",
      " 67%|██████▋   | 1835008/2752512 [00:48<00:24, 37579.48it/s]\u001b[A\n",
      " 71%|███████▏  | 1966080/2752512 [00:51<00:20, 37798.93it/s]\u001b[A\n",
      " 76%|███████▌  | 2097152/2752512 [00:55<00:17, 38100.25it/s]\u001b[A\n",
      " 81%|████████  | 2228224/2752512 [00:58<00:13, 38408.98it/s]\u001b[A\n",
      " 86%|████████▌ | 2359296/2752512 [01:01<00:10, 38222.86it/s]\u001b[A\n",
      " 90%|█████████ | 2490368/2752512 [01:05<00:06, 38768.42it/s]\u001b[A\n",
      " 95%|█████████▌| 2621440/2752512 [01:08<00:03, 39107.14it/s]\u001b[A\n",
      "100%|██████████| 2752512/2752512 [01:12<00:00, 37783.12it/s]\u001b[A"
     ]
    },
    {
     "name": "stdout",
     "output_type": "stream",
     "text": [
      "epoch 62, train loss: 0.188318\n",
      "Evaluation: auc:0.986083435887286, precision:0.9563900666262871, recall:0.9361891351070926, f1:0.9461817909441593\n"
     ]
    },
    {
     "name": "stderr",
     "output_type": "stream",
     "text": [
      "100%|██████████| 2752512/2752512 [01:16<00:00, 35936.32it/s]\n",
      "100%|██████████| 2752512/2752512 [01:12<00:00, 38125.67it/s]"
     ]
    },
    {
     "name": "stdout",
     "output_type": "stream",
     "text": [
      "epoch 63, train loss: 0.187356\n",
      "Evaluation: auc:0.986230143909992, precision:0.961992731677771, recall:0.9333587988129168, f1:0.9474594723576872\n"
     ]
    },
    {
     "name": "stderr",
     "output_type": "stream",
     "text": [
      "\n",
      "100%|██████████| 2752512/2752512 [01:16<00:00, 36052.35it/s]\n",
      "\n",
      "  5%|▍         | 131072/2752512 [00:03<01:11, 36756.11it/s]\u001b[A\n",
      " 10%|▉         | 262144/2752512 [00:07<01:10, 35569.16it/s]\u001b[A\n",
      " 14%|█▍        | 393216/2752512 [00:10<01:02, 37604.35it/s]\u001b[A\n",
      " 19%|█▉        | 524288/2752512 [00:13<00:57, 38700.20it/s]\u001b[A\n",
      " 24%|██▍       | 655360/2752512 [00:17<00:53, 39388.60it/s]\u001b[A\n",
      " 29%|██▊       | 786432/2752512 [00:20<00:52, 37173.37it/s]\u001b[A\n",
      " 33%|███▎      | 917504/2752512 [00:24<00:50, 36490.63it/s]\u001b[A\n",
      " 38%|███▊      | 1048576/2752512 [00:27<00:45, 37731.61it/s]\u001b[A\n",
      " 43%|████▎     | 1179648/2752512 [00:31<00:41, 37770.52it/s]\u001b[A\n",
      " 48%|████▊     | 1310720/2752512 [00:34<00:38, 37773.71it/s]\u001b[A\n",
      " 52%|█████▏    | 1441792/2752512 [00:38<00:33, 38664.33it/s]\u001b[A\n",
      " 57%|█████▋    | 1572864/2752512 [00:41<00:31, 37434.67it/s]\u001b[A\n",
      " 62%|██████▏   | 1703936/2752512 [00:45<00:27, 38348.53it/s]\u001b[A\n",
      " 67%|██████▋   | 1835008/2752512 [00:48<00:23, 39034.66it/s]\u001b[A\n",
      " 71%|███████▏  | 1966080/2752512 [00:51<00:20, 38783.47it/s]\u001b[A\n",
      " 76%|███████▌  | 2097152/2752512 [00:55<00:17, 38255.55it/s]\u001b[A\n",
      " 81%|████████  | 2228224/2752512 [00:58<00:14, 37358.55it/s]\u001b[A\n",
      " 86%|████████▌ | 2359296/2752512 [01:02<00:10, 37467.87it/s]\u001b[A\n",
      " 90%|█████████ | 2490368/2752512 [01:05<00:06, 38032.25it/s]\u001b[A\n",
      " 95%|█████████▌| 2621440/2752512 [01:09<00:03, 37680.65it/s]\u001b[A\n",
      "100%|██████████| 2752512/2752512 [01:12<00:00, 38542.51it/s]\u001b[A"
     ]
    },
    {
     "name": "stdout",
     "output_type": "stream",
     "text": [
      "epoch 64, train loss: 0.186241\n",
      "Evaluation: auc:0.9867597733198425, precision:0.961992731677771, recall:0.9335508140833481, f1:0.9475583927452794\n"
     ]
    },
    {
     "name": "stderr",
     "output_type": "stream",
     "text": [
      "100%|██████████| 2752512/2752512 [01:17<00:00, 35730.39it/s]\n",
      "100%|██████████| 2752512/2752512 [01:11<00:00, 38728.77it/s]"
     ]
    },
    {
     "name": "stdout",
     "output_type": "stream",
     "text": [
      "epoch 65, train loss: 0.184766\n",
      "Evaluation: auc:0.9867476041904747, precision:0.9586614173228346, recall:0.9387603795966786, f1:0.9486065328139047\n"
     ]
    },
    {
     "name": "stderr",
     "output_type": "stream",
     "text": [
      "\n",
      "100%|██████████| 2752512/2752512 [01:15<00:00, 36403.41it/s]\n",
      "\n",
      "  5%|▍         | 131072/2752512 [00:03<01:13, 35565.00it/s]\u001b[A\n",
      " 10%|▉         | 262144/2752512 [00:07<01:08, 36520.42it/s]\u001b[A\n",
      " 14%|█▍        | 393216/2752512 [00:10<01:03, 37256.05it/s]\u001b[A\n",
      " 19%|█▉        | 524288/2752512 [00:13<00:57, 38537.65it/s]\u001b[A\n",
      " 24%|██▍       | 655360/2752512 [00:17<00:55, 37779.01it/s]\u001b[A\n",
      " 29%|██▊       | 786432/2752512 [00:20<00:51, 37906.58it/s]\u001b[A\n",
      " 33%|███▎      | 917504/2752512 [00:24<00:48, 37583.32it/s]\u001b[A\n",
      " 38%|███▊      | 1048576/2752512 [00:27<00:44, 38493.53it/s]\u001b[A\n",
      " 43%|████▎     | 1179648/2752512 [00:31<00:41, 38279.04it/s]\u001b[A\n",
      " 48%|████▊     | 1310720/2752512 [00:34<00:36, 39003.44it/s]\u001b[A\n",
      " 52%|█████▏    | 1441792/2752512 [00:38<00:35, 36760.85it/s]\u001b[A\n",
      " 57%|█████▋    | 1572864/2752512 [00:41<00:31, 37288.74it/s]\u001b[A\n",
      " 62%|██████▏   | 1703936/2752512 [00:45<00:27, 38190.88it/s]\u001b[A\n",
      " 67%|██████▋   | 1835008/2752512 [00:48<00:24, 37930.95it/s]\u001b[A\n",
      " 71%|███████▏  | 1966080/2752512 [00:52<00:21, 37258.17it/s]\u001b[A\n",
      " 76%|███████▌  | 2097152/2752512 [00:55<00:17, 38196.08it/s]\u001b[A\n",
      " 81%|████████  | 2228224/2752512 [00:58<00:13, 38933.00it/s]\u001b[A\n",
      " 86%|████████▌ | 2359296/2752512 [01:01<00:09, 39407.99it/s]\u001b[A\n",
      " 90%|█████████ | 2490368/2752512 [01:05<00:06, 38391.32it/s]\u001b[A\n",
      " 95%|█████████▌| 2621440/2752512 [01:08<00:03, 39012.34it/s]\u001b[A\n",
      "100%|██████████| 2752512/2752512 [01:12<00:00, 37695.98it/s]\u001b[A"
     ]
    },
    {
     "name": "stdout",
     "output_type": "stream",
     "text": [
      "epoch 66, train loss: 0.185560\n",
      "Evaluation: auc:0.9869635753398726, precision:0.9622955784373107, recall:0.935714706402026, f1:0.9488190151990207\n"
     ]
    },
    {
     "name": "stderr",
     "output_type": "stream",
     "text": [
      "100%|██████████| 2752512/2752512 [01:16<00:00, 35821.32it/s]\n",
      "100%|██████████| 2752512/2752512 [01:12<00:00, 37955.87it/s]"
     ]
    },
    {
     "name": "stdout",
     "output_type": "stream",
     "text": [
      "epoch 67, train loss: 0.186582\n",
      "Evaluation: auc:0.9866578645139539, precision:0.9560872198667474, recall:0.939443535188216, f1:0.9476923076923076\n"
     ]
    },
    {
     "name": "stderr",
     "output_type": "stream",
     "text": [
      "\n",
      "100%|██████████| 2752512/2752512 [01:16<00:00, 35921.05it/s]\n",
      "\n",
      "  5%|▍         | 131072/2752512 [00:03<01:05, 40124.85it/s]\u001b[A\n",
      " 10%|▉         | 262144/2752512 [00:06<01:01, 40378.11it/s]\u001b[A\n",
      " 14%|█▍        | 393216/2752512 [00:09<00:59, 39439.71it/s]\u001b[A\n",
      " 19%|█▉        | 524288/2752512 [00:13<00:55, 39896.17it/s]\u001b[A\n",
      " 24%|██▍       | 655360/2752512 [00:16<00:55, 37954.03it/s]\u001b[A\n",
      " 29%|██▊       | 786432/2752512 [00:20<00:51, 38177.08it/s]\u001b[A\n",
      " 33%|███▎      | 917504/2752512 [00:23<00:47, 38948.01it/s]\u001b[A\n",
      " 38%|███▊      | 1048576/2752512 [00:27<00:44, 38008.94it/s]\u001b[A\n",
      " 43%|████▎     | 1179648/2752512 [00:30<00:42, 37300.75it/s]\u001b[A\n",
      " 48%|████▊     | 1310720/2752512 [00:34<00:37, 38328.24it/s]\u001b[A\n",
      " 52%|█████▏    | 1441792/2752512 [00:37<00:33, 38991.31it/s]\u001b[A\n",
      " 57%|█████▋    | 1572864/2752512 [00:40<00:29, 39454.30it/s]\u001b[A\n",
      " 62%|██████▏   | 1703936/2752512 [00:44<00:28, 37392.39it/s]\u001b[A\n",
      " 67%|██████▋   | 1835008/2752512 [00:47<00:23, 38241.87it/s]\u001b[A\n",
      " 71%|███████▏  | 1966080/2752512 [00:51<00:21, 37141.98it/s]\u001b[A\n",
      " 76%|███████▌  | 2097152/2752512 [00:54<00:17, 37414.20it/s]\u001b[A\n",
      " 81%|████████  | 2228224/2752512 [00:58<00:13, 38258.72it/s]\u001b[A\n",
      " 86%|████████▌ | 2359296/2752512 [01:01<00:10, 38592.53it/s]\u001b[A\n",
      " 90%|█████████ | 2490368/2752512 [01:05<00:06, 37909.10it/s]\u001b[A\n",
      " 95%|█████████▌| 2621440/2752512 [01:08<00:03, 38767.71it/s]\u001b[A\n",
      "100%|██████████| 2752512/2752512 [01:11<00:00, 38193.29it/s]\u001b[A"
     ]
    },
    {
     "name": "stdout",
     "output_type": "stream",
     "text": [
      "epoch 68, train loss: 0.184323\n",
      "Evaluation: auc:0.9865568403104262, precision:0.9615384615384616, recall:0.9331922522999148, f1:0.9471533195113583\n"
     ]
    },
    {
     "name": "stderr",
     "output_type": "stream",
     "text": [
      "100%|██████████| 2752512/2752512 [01:15<00:00, 36235.26it/s]\n",
      "100%|██████████| 2752512/2752512 [01:12<00:00, 39364.55it/s]"
     ]
    },
    {
     "name": "stdout",
     "output_type": "stream",
     "text": [
      "epoch 69, train loss: 0.182991\n",
      "Evaluation: auc:0.9868517318395583, precision:0.9595699576014537, recall:0.9376618380361925, f1:0.9484894067638058\n"
     ]
    },
    {
     "name": "stderr",
     "output_type": "stream",
     "text": [
      "\n",
      "100%|██████████| 2752512/2752512 [01:16<00:00, 35907.90it/s]\n",
      "\n",
      "  5%|▍         | 131072/2752512 [00:03<01:14, 35174.55it/s]\u001b[A\n",
      " 10%|▉         | 262144/2752512 [00:07<01:09, 35951.19it/s]\u001b[A\n",
      " 14%|█▍        | 393216/2752512 [00:10<01:03, 37094.42it/s]\u001b[A\n",
      " 19%|█▉        | 524288/2752512 [00:13<00:58, 38321.87it/s]\u001b[A\n",
      " 24%|██▍       | 655360/2752512 [00:17<00:55, 37633.04it/s]\u001b[A\n",
      " 29%|██▊       | 786432/2752512 [00:21<00:53, 36864.27it/s]\u001b[A\n",
      " 33%|███▎      | 917504/2752512 [00:24<00:48, 37931.89it/s]\u001b[A\n",
      " 38%|███▊      | 1048576/2752512 [00:27<00:44, 38696.30it/s]\u001b[A\n",
      " 43%|████▎     | 1179648/2752512 [00:30<00:40, 39208.38it/s]\u001b[A\n",
      " 48%|████▊     | 1310720/2752512 [00:34<00:37, 38845.08it/s]\u001b[A\n",
      " 52%|█████▏    | 1441792/2752512 [00:38<00:34, 37520.27it/s]\u001b[A\n",
      " 57%|█████▋    | 1572864/2752512 [00:41<00:31, 37418.64it/s]\u001b[A\n",
      " 62%|██████▏   | 1703936/2752512 [00:45<00:27, 37684.87it/s]\u001b[A\n",
      " 67%|██████▋   | 1835008/2752512 [00:48<00:23, 38293.20it/s]\u001b[A\n",
      " 71%|███████▏  | 1966080/2752512 [00:51<00:20, 38463.02it/s]\u001b[A\n",
      " 76%|███████▌  | 2097152/2752512 [00:55<00:17, 37366.60it/s]\u001b[A\n",
      " 81%|████████  | 2228224/2752512 [00:58<00:13, 38357.56it/s]\u001b[A\n",
      " 86%|████████▌ | 2359296/2752512 [01:01<00:10, 39034.42it/s]\u001b[A\n",
      " 90%|█████████ | 2490368/2752512 [01:05<00:06, 38868.21it/s]\u001b[A\n",
      " 95%|█████████▌| 2621440/2752512 [01:08<00:03, 39377.46it/s]\u001b[A\n",
      "100%|██████████| 2752512/2752512 [01:12<00:00, 37943.11it/s]\u001b[A"
     ]
    },
    {
     "name": "stdout",
     "output_type": "stream",
     "text": [
      "epoch 70, train loss: 0.181991\n",
      "Evaluation: auc:0.9873595137722819, precision:0.9615384615384616, recall:0.9364676734308636, f1:0.9488374872990257\n"
     ]
    },
    {
     "name": "stderr",
     "output_type": "stream",
     "text": [
      "100%|██████████| 2752512/2752512 [01:17<00:00, 35691.43it/s]\n",
      "100%|██████████| 2752512/2752512 [01:12<00:00, 37052.77it/s]"
     ]
    },
    {
     "name": "stdout",
     "output_type": "stream",
     "text": [
      "epoch 71, train loss: 0.181665\n",
      "Evaluation: auc:0.9876292798887373, precision:0.9651726226529376, recall:0.9346178096453027, f1:0.9496495057323132\n"
     ]
    },
    {
     "name": "stderr",
     "output_type": "stream",
     "text": [
      "\n",
      "100%|██████████| 2752512/2752512 [01:16<00:00, 36002.81it/s]\n",
      "\n",
      "  5%|▍         | 131072/2752512 [00:03<01:04, 40750.93it/s]\u001b[A\n",
      " 10%|▉         | 262144/2752512 [00:06<01:05, 38235.04it/s]\u001b[A\n",
      " 14%|█▍        | 393216/2752512 [00:10<01:00, 39256.76it/s]\u001b[A\n",
      " 19%|█▉        | 524288/2752512 [00:13<00:56, 39440.99it/s]\u001b[A\n",
      " 24%|██▍       | 655360/2752512 [00:17<00:55, 37746.69it/s]\u001b[A\n",
      " 29%|██▊       | 786432/2752512 [00:20<00:50, 38760.22it/s]\u001b[A\n",
      " 33%|███▎      | 917504/2752512 [00:24<00:49, 37435.68it/s]\u001b[A\n",
      " 38%|███▊      | 1048576/2752512 [00:27<00:45, 37680.40it/s]\u001b[A\n",
      " 43%|████▎     | 1179648/2752512 [00:30<00:40, 38592.40it/s]\u001b[A\n",
      " 48%|████▊     | 1310720/2752512 [00:34<00:37, 38604.36it/s]\u001b[A\n",
      " 52%|█████▏    | 1441792/2752512 [00:37<00:34, 38032.20it/s]\u001b[A\n",
      " 57%|█████▋    | 1572864/2752512 [00:40<00:30, 38753.80it/s]\u001b[A\n",
      " 62%|██████▏   | 1703936/2752512 [00:44<00:27, 38764.62it/s]\u001b[A\n",
      " 67%|██████▋   | 1835008/2752512 [00:47<00:23, 39383.39it/s]\u001b[A\n",
      " 71%|███████▏  | 1966080/2752512 [00:51<00:21, 36920.70it/s]\u001b[A\n",
      " 76%|███████▌  | 2097152/2752512 [00:54<00:17, 37329.19it/s]\u001b[A\n",
      " 81%|████████  | 2228224/2752512 [00:58<00:13, 37452.84it/s]\u001b[A\n",
      " 86%|████████▌ | 2359296/2752512 [01:01<00:10, 37344.04it/s]\u001b[A\n",
      " 90%|█████████ | 2490368/2752512 [01:05<00:06, 38223.52it/s]\u001b[A\n",
      " 95%|█████████▌| 2621440/2752512 [01:08<00:03, 38704.15it/s]\u001b[A\n",
      "100%|██████████| 2752512/2752512 [01:11<00:00, 39203.85it/s]\u001b[A"
     ]
    },
    {
     "name": "stdout",
     "output_type": "stream",
     "text": [
      "epoch 72, train loss: 0.181136\n",
      "Evaluation: auc:0.9873591230614414, precision:0.9660811629315567, recall:0.9316860889628786, f1:0.9485719383279562\n"
     ]
    },
    {
     "name": "stderr",
     "output_type": "stream",
     "text": [
      "100%|██████████| 2752512/2752512 [01:15<00:00, 36367.26it/s]\n",
      "100%|██████████| 2752512/2752512 [01:11<00:00, 39488.95it/s]"
     ]
    },
    {
     "name": "stdout",
     "output_type": "stream",
     "text": [
      "epoch 73, train loss: 0.180296\n",
      "Evaluation: auc:0.9877465124013088, precision:0.9536644457904301, recall:0.9455604600186169, f1:0.9495951630656031\n"
     ]
    },
    {
     "name": "stderr",
     "output_type": "stream",
     "text": [
      "\n",
      "100%|██████████| 2752512/2752512 [01:16<00:00, 35792.15it/s]\n",
      "\n",
      "  5%|▍         | 131072/2752512 [00:03<01:08, 38037.39it/s]\u001b[A\n",
      " 10%|▉         | 262144/2752512 [00:06<01:06, 37414.60it/s]\u001b[A\n",
      " 14%|█▍        | 393216/2752512 [00:10<01:02, 37924.73it/s]\u001b[A\n",
      " 19%|█▉        | 524288/2752512 [00:13<00:58, 38081.22it/s]\u001b[A\n",
      " 24%|██▍       | 655360/2752512 [00:17<00:53, 39006.48it/s]\u001b[A\n",
      " 29%|██▊       | 786432/2752512 [00:20<00:49, 39621.07it/s]\u001b[A\n",
      " 33%|███▎      | 917504/2752512 [00:23<00:46, 39363.07it/s]\u001b[A\n",
      " 38%|███▊      | 1048576/2752512 [00:26<00:42, 39816.21it/s]\u001b[A\n",
      " 43%|████▎     | 1179648/2752512 [00:30<00:42, 37093.69it/s]\u001b[A\n",
      " 48%|████▊     | 1310720/2752512 [00:34<00:38, 37481.92it/s]\u001b[A\n",
      " 52%|█████▏    | 1441792/2752512 [00:37<00:34, 38402.80it/s]\u001b[A\n",
      " 57%|█████▋    | 1572864/2752512 [00:41<00:31, 37726.45it/s]\u001b[A\n",
      " 62%|██████▏   | 1703936/2752512 [00:44<00:28, 37351.94it/s]\u001b[A\n",
      " 67%|██████▋   | 1835008/2752512 [00:48<00:24, 37734.54it/s]\u001b[A\n",
      " 71%|███████▏  | 1966080/2752512 [00:51<00:20, 38621.28it/s]\u001b[A\n",
      " 76%|███████▌  | 2097152/2752512 [00:54<00:16, 39324.78it/s]\u001b[A\n",
      " 81%|████████  | 2228224/2752512 [00:57<00:13, 38997.17it/s]\u001b[A\n",
      " 86%|████████▌ | 2359296/2752512 [01:01<00:09, 39550.13it/s]\u001b[A\n",
      " 90%|█████████ | 2490368/2752512 [01:04<00:06, 38007.09it/s]\u001b[A\n",
      " 95%|█████████▌| 2621440/2752512 [01:08<00:03, 38080.55it/s]\u001b[A\n",
      "100%|██████████| 2752512/2752512 [01:11<00:00, 37624.64it/s]\u001b[A"
     ]
    },
    {
     "name": "stdout",
     "output_type": "stream",
     "text": [
      "epoch 74, train loss: 0.179380\n",
      "Evaluation: auc:0.9877017274004962, precision:0.9644155057540884, recall:0.9360670194003528, f1:0.950029832935561\n"
     ]
    },
    {
     "name": "stderr",
     "output_type": "stream",
     "text": [
      "100%|██████████| 2752512/2752512 [01:16<00:00, 36136.08it/s]\n",
      "100%|██████████| 2752512/2752512 [01:12<00:00, 38867.85it/s]"
     ]
    },
    {
     "name": "stdout",
     "output_type": "stream",
     "text": [
      "epoch 75, train loss: 0.178344\n",
      "Evaluation: auc:0.9875172793244995, precision:0.9572986069049061, recall:0.9441316587267216, f1:0.9506695438380162\n"
     ]
    },
    {
     "name": "stderr",
     "output_type": "stream",
     "text": [
      "\n",
      "100%|██████████| 2752512/2752512 [01:16<00:00, 36164.39it/s]\n",
      "\n",
      "  5%|▍         | 131072/2752512 [00:03<01:08, 38540.56it/s]\u001b[A\n",
      " 10%|▉         | 262144/2752512 [00:06<01:06, 37554.52it/s]\u001b[A\n",
      " 14%|█▍        | 393216/2752512 [00:10<01:00, 38903.89it/s]\u001b[A\n",
      " 19%|█▉        | 524288/2752512 [00:14<01:01, 36483.72it/s]\u001b[A\n",
      " 24%|██▍       | 655360/2752512 [00:17<00:55, 37915.96it/s]\u001b[A\n",
      " 29%|██▊       | 786432/2752512 [00:21<00:54, 36258.58it/s]\u001b[A\n",
      " 33%|███▎      | 917504/2752512 [00:24<00:49, 37233.00it/s]\u001b[A\n",
      " 38%|███▊      | 1048576/2752512 [00:27<00:44, 38319.01it/s]\u001b[A\n",
      " 43%|████▎     | 1179648/2752512 [00:30<00:40, 39069.66it/s]\u001b[A\n",
      " 48%|████▊     | 1310720/2752512 [00:34<00:36, 39480.94it/s]\u001b[A\n",
      " 52%|█████▏    | 1441792/2752512 [00:37<00:33, 39124.49it/s]\u001b[A\n",
      " 57%|█████▋    | 1572864/2752512 [00:41<00:30, 38467.13it/s]\u001b[A\n",
      " 62%|██████▏   | 1703936/2752512 [00:44<00:26, 39056.53it/s]\u001b[A\n",
      " 67%|██████▋   | 1835008/2752512 [00:48<00:24, 36852.90it/s]\u001b[A\n",
      " 71%|███████▏  | 1966080/2752512 [00:51<00:20, 37663.99it/s]\u001b[A\n",
      " 76%|███████▌  | 2097152/2752512 [00:55<00:18, 36403.62it/s]\u001b[A\n",
      " 81%|████████  | 2228224/2752512 [00:59<00:14, 36980.73it/s]\u001b[A\n",
      " 86%|████████▌ | 2359296/2752512 [01:02<00:10, 37970.40it/s]\u001b[A\n",
      " 90%|█████████ | 2490368/2752512 [01:05<00:06, 38757.20it/s]\u001b[A\n",
      " 95%|█████████▌| 2621440/2752512 [01:08<00:03, 38745.38it/s]\u001b[A\n",
      "100%|██████████| 2752512/2752512 [01:12<00:00, 39313.07it/s]\u001b[A"
     ]
    },
    {
     "name": "stdout",
     "output_type": "stream",
     "text": [
      "epoch 76, train loss: 0.178302\n",
      "Evaluation: auc:0.9872778545187267, precision:0.9674439733494852, recall:0.9311646480987568, f1:0.9489576912508447\n"
     ]
    },
    {
     "name": "stderr",
     "output_type": "stream",
     "text": [
      "100%|██████████| 2752512/2752512 [01:16<00:00, 36006.22it/s]\n",
      "100%|██████████| 2752512/2752512 [01:12<00:00, 35412.36it/s]"
     ]
    },
    {
     "name": "stdout",
     "output_type": "stream",
     "text": [
      "epoch 77, train loss: 0.176845\n",
      "Evaluation: auc:0.9877193084711613, precision:0.9659297395517868, recall:0.9334621069113365, f1:0.9494184272606175\n"
     ]
    },
    {
     "name": "stderr",
     "output_type": "stream",
     "text": [
      "\n",
      "100%|██████████| 2752512/2752512 [01:17<00:00, 35618.32it/s]\n",
      "\n",
      "  5%|▍         | 131072/2752512 [00:03<01:08, 38534.56it/s]\u001b[A\n",
      " 10%|▉         | 262144/2752512 [00:06<01:06, 37306.37it/s]\u001b[A\n",
      " 14%|█▍        | 393216/2752512 [00:10<01:00, 38721.57it/s]\u001b[A\n",
      " 19%|█▉        | 524288/2752512 [00:13<00:56, 39267.72it/s]\u001b[A\n",
      " 24%|██▍       | 655360/2752512 [00:16<00:53, 39384.16it/s]\u001b[A\n",
      " 29%|██▊       | 786432/2752512 [00:20<00:49, 39812.95it/s]\u001b[A\n",
      " 33%|███▎      | 917504/2752512 [00:23<00:47, 38816.90it/s]\u001b[A\n",
      " 38%|███▊      | 1048576/2752512 [00:27<00:47, 36173.60it/s]\u001b[A\n",
      " 43%|████▎     | 1179648/2752512 [00:31<00:43, 36265.52it/s]\u001b[A\n",
      " 48%|████▊     | 1310720/2752512 [00:34<00:38, 37591.82it/s]\u001b[A\n",
      " 52%|█████▏    | 1441792/2752512 [00:38<00:35, 36820.74it/s]\u001b[A\n",
      " 57%|█████▋    | 1572864/2752512 [00:41<00:31, 37884.78it/s]\u001b[A\n",
      " 62%|██████▏   | 1703936/2752512 [00:44<00:27, 38621.31it/s]\u001b[A\n",
      " 67%|██████▋   | 1835008/2752512 [00:48<00:23, 38585.26it/s]\u001b[A\n",
      " 71%|███████▏  | 1966080/2752512 [00:51<00:20, 38058.14it/s]\u001b[A\n",
      " 76%|███████▌  | 2097152/2752512 [00:54<00:16, 38875.39it/s]\u001b[A\n",
      " 81%|████████  | 2228224/2752512 [00:58<00:13, 38713.25it/s]\u001b[A\n",
      " 86%|████████▌ | 2359296/2752512 [01:02<00:10, 37101.87it/s]\u001b[A\n",
      " 90%|█████████ | 2490368/2752512 [01:05<00:07, 36804.88it/s]\u001b[A\n",
      " 95%|█████████▌| 2621440/2752512 [01:09<00:03, 37407.73it/s]\u001b[A\n",
      "100%|██████████| 2752512/2752512 [01:12<00:00, 38233.42it/s]\u001b[A"
     ]
    },
    {
     "name": "stdout",
     "output_type": "stream",
     "text": [
      "epoch 78, train loss: 0.175697\n",
      "Evaluation: auc:0.9880801810642083, precision:0.9627498485766203, recall:0.9384086313521173, f1:0.9504234152758366\n"
     ]
    },
    {
     "name": "stderr",
     "output_type": "stream",
     "text": [
      "100%|██████████| 2752512/2752512 [01:16<00:00, 35946.02it/s]\n",
      "100%|██████████| 2752512/2752512 [01:12<00:00, 39251.65it/s]"
     ]
    },
    {
     "name": "stdout",
     "output_type": "stream",
     "text": [
      "epoch 79, train loss: 0.175609\n",
      "Evaluation: auc:0.9880514388247711, precision:0.9624470018170805, recall:0.9410858911147634, f1:0.9516465911557955\n"
     ]
    },
    {
     "name": "stderr",
     "output_type": "stream",
     "text": [
      "\n",
      "100%|██████████| 2752512/2752512 [01:16<00:00, 35986.60it/s]\n",
      "\n",
      "  5%|▍         | 131072/2752512 [00:03<01:04, 40355.06it/s]\u001b[A\n",
      " 10%|▉         | 262144/2752512 [00:06<01:02, 39609.03it/s]\u001b[A\n",
      " 14%|█▍        | 393216/2752512 [00:10<01:07, 35024.89it/s]\u001b[A\n",
      " 19%|█▉        | 524288/2752512 [00:14<01:00, 37066.58it/s]\u001b[A\n",
      " 24%|██▍       | 655360/2752512 [00:17<00:55, 37479.05it/s]\u001b[A\n",
      " 29%|██▊       | 786432/2752512 [00:20<00:50, 38606.02it/s]\u001b[A\n",
      " 33%|███▎      | 917504/2752512 [00:23<00:46, 39394.78it/s]\u001b[A\n",
      " 38%|███▊      | 1048576/2752512 [00:27<00:43, 38998.73it/s]\u001b[A\n",
      " 43%|████▎     | 1179648/2752512 [00:30<00:41, 38313.28it/s]\u001b[A\n",
      " 48%|████▊     | 1310720/2752512 [00:34<00:37, 38965.52it/s]\u001b[A\n",
      " 52%|█████▏    | 1441792/2752512 [00:37<00:33, 38615.84it/s]\u001b[A\n",
      " 57%|█████▋    | 1572864/2752512 [00:40<00:30, 38764.26it/s]\u001b[A\n",
      " 62%|██████▏   | 1703936/2752512 [00:45<00:30, 34596.05it/s]\u001b[A\n",
      " 67%|██████▋   | 1835008/2752512 [00:49<00:25, 35792.30it/s]\u001b[A\n",
      " 71%|███████▏  | 1966080/2752512 [00:52<00:21, 37124.97it/s]\u001b[A\n",
      " 76%|███████▌  | 2097152/2752512 [00:55<00:17, 38148.06it/s]\u001b[A\n",
      " 81%|████████  | 2228224/2752512 [00:58<00:13, 38663.23it/s]\u001b[A\n",
      " 86%|████████▌ | 2359296/2752512 [01:01<00:09, 39337.91it/s]\u001b[A\n",
      " 90%|█████████ | 2490368/2752512 [01:05<00:06, 39852.22it/s]\u001b[A\n",
      " 95%|█████████▌| 2621440/2752512 [01:08<00:03, 40112.80it/s]\u001b[A\n",
      "100%|██████████| 2752512/2752512 [01:12<00:00, 38422.99it/s]\u001b[A"
     ]
    },
    {
     "name": "stdout",
     "output_type": "stream",
     "text": [
      "epoch 80, train loss: 0.174997\n",
      "Evaluation: auc:0.9880754478224932, precision:0.9638098122350091, recall:0.9381678826737416, f1:0.9508159988049446\n"
     ]
    },
    {
     "name": "stderr",
     "output_type": "stream",
     "text": [
      "100%|██████████| 2752512/2752512 [01:16<00:00, 35915.51it/s]\n",
      "100%|██████████| 2752512/2752512 [01:13<00:00, 36095.68it/s]"
     ]
    },
    {
     "name": "stdout",
     "output_type": "stream",
     "text": [
      "epoch 81, train loss: 0.175018\n",
      "Evaluation: auc:0.9882987214125316, precision:0.9550272562083586, recall:0.9473810704039175, f1:0.9511887974783768\n"
     ]
    },
    {
     "name": "stderr",
     "output_type": "stream",
     "text": [
      "\n",
      "100%|██████████| 2752512/2752512 [01:17<00:00, 35623.64it/s]\n",
      "\n",
      "  5%|▍         | 131072/2752512 [00:03<01:05, 40249.22it/s]\u001b[A\n",
      " 10%|▉         | 262144/2752512 [00:06<01:07, 37116.94it/s]\u001b[A\n",
      " 14%|█▍        | 393216/2752512 [00:10<01:00, 38744.29it/s]\u001b[A\n",
      " 19%|█▉        | 524288/2752512 [00:13<00:56, 39468.23it/s]\u001b[A\n",
      " 24%|██▍       | 655360/2752512 [00:17<00:55, 38128.59it/s]\u001b[A\n",
      " 29%|██▊       | 786432/2752512 [00:20<00:54, 36403.29it/s]\u001b[A\n",
      " 33%|███▎      | 917504/2752512 [00:24<00:48, 37593.31it/s]\u001b[A\n",
      " 38%|███▊      | 1048576/2752512 [00:28<00:48, 35436.01it/s]\u001b[A\n",
      " 43%|████▎     | 1179648/2752512 [00:31<00:42, 36942.47it/s]\u001b[A\n",
      " 48%|████▊     | 1310720/2752512 [00:34<00:37, 37950.22it/s]\u001b[A\n",
      " 52%|█████▏    | 1441792/2752512 [00:38<00:34, 38060.58it/s]\u001b[A\n",
      " 57%|█████▋    | 1572864/2752512 [00:41<00:31, 37638.16it/s]\u001b[A\n",
      " 62%|██████▏   | 1703936/2752512 [00:45<00:27, 38416.28it/s]\u001b[A\n",
      " 67%|██████▋   | 1835008/2752512 [00:48<00:23, 38530.23it/s]\u001b[A\n",
      " 71%|███████▏  | 1966080/2752512 [00:51<00:20, 39016.85it/s]\u001b[A\n",
      " 76%|███████▌  | 2097152/2752512 [00:55<00:17, 37579.26it/s]\u001b[A\n",
      " 81%|████████  | 2228224/2752512 [00:58<00:13, 38320.66it/s]\u001b[A\n",
      " 86%|████████▌ | 2359296/2752512 [01:02<00:10, 36854.85it/s]\u001b[A\n",
      " 90%|█████████ | 2490368/2752512 [01:05<00:06, 37945.58it/s]\u001b[A\n",
      " 95%|█████████▌| 2621440/2752512 [01:09<00:03, 38711.42it/s]\u001b[A\n",
      "100%|██████████| 2752512/2752512 [01:12<00:00, 38551.43it/s]\u001b[A"
     ]
    },
    {
     "name": "stdout",
     "output_type": "stream",
     "text": [
      "epoch 82, train loss: 0.173073\n",
      "Evaluation: auc:0.9881627210221876, precision:0.9672925499697154, recall:0.9350527687105699, f1:0.950899469324263\n"
     ]
    },
    {
     "name": "stderr",
     "output_type": "stream",
     "text": [
      "100%|██████████| 2752512/2752512 [01:16<00:00, 35804.35it/s]\n",
      "100%|██████████| 2752512/2752512 [01:12<00:00, 37752.46it/s]"
     ]
    },
    {
     "name": "stdout",
     "output_type": "stream",
     "text": [
      "epoch 83, train loss: 0.172713\n",
      "Evaluation: auc:0.9882227538345609, precision:0.9701695941853422, recall:0.928443079063297, f1:0.9488478170724484\n"
     ]
    },
    {
     "name": "stderr",
     "output_type": "stream",
     "text": [
      "\n",
      "100%|██████████| 2752512/2752512 [01:16<00:00, 35957.40it/s]\n",
      "\n",
      "  5%|▍         | 131072/2752512 [00:03<01:04, 40881.90it/s]\u001b[A\n",
      " 10%|▉         | 262144/2752512 [00:06<01:06, 37267.34it/s]\u001b[A\n",
      " 14%|█▍        | 393216/2752512 [00:10<01:05, 35753.79it/s]\u001b[A\n",
      " 19%|█▉        | 524288/2752512 [00:13<00:59, 37579.91it/s]\u001b[A\n",
      " 24%|██▍       | 655360/2752512 [00:17<00:55, 38051.14it/s]\u001b[A\n",
      " 29%|██▊       | 786432/2752512 [00:20<00:50, 38750.61it/s]\u001b[A\n",
      " 33%|███▎      | 917504/2752512 [00:24<00:48, 38130.95it/s]\u001b[A\n",
      " 38%|███▊      | 1048576/2752512 [00:27<00:44, 38145.51it/s]\u001b[A\n",
      " 43%|████▎     | 1179648/2752512 [00:31<00:41, 37879.09it/s]\u001b[A\n",
      " 48%|████▊     | 1310720/2752512 [00:34<00:37, 38645.60it/s]\u001b[A\n",
      " 52%|█████▏    | 1441792/2752512 [00:38<00:35, 37420.77it/s]\u001b[A\n",
      " 57%|█████▋    | 1572864/2752512 [00:41<00:30, 38328.58it/s]\u001b[A\n",
      " 62%|██████▏   | 1703936/2752512 [00:45<00:28, 36973.54it/s]\u001b[A\n",
      " 67%|██████▋   | 1835008/2752512 [00:48<00:24, 37536.68it/s]\u001b[A\n",
      " 71%|███████▏  | 1966080/2752512 [00:52<00:21, 36891.90it/s]\u001b[A\n",
      " 76%|███████▌  | 2097152/2752512 [00:55<00:17, 37877.61it/s]\u001b[A\n",
      " 81%|████████  | 2228224/2752512 [00:58<00:13, 38704.67it/s]\u001b[A\n",
      " 86%|████████▌ | 2359296/2752512 [01:02<00:10, 38443.14it/s]\u001b[A\n",
      " 90%|█████████ | 2490368/2752512 [01:05<00:06, 37643.39it/s]\u001b[A\n",
      " 95%|█████████▌| 2621440/2752512 [01:09<00:03, 38503.41it/s]\u001b[A\n",
      "100%|██████████| 2752512/2752512 [01:12<00:00, 38505.38it/s]\u001b[A"
     ]
    },
    {
     "name": "stdout",
     "output_type": "stream",
     "text": [
      "epoch 84, train loss: 0.172505\n",
      "Evaluation: auc:0.9884597252330599, precision:0.9642640823743186, recall:0.9371872608465297, f1:0.9505328835418096\n"
     ]
    },
    {
     "name": "stderr",
     "output_type": "stream",
     "text": [
      "100%|██████████| 2752512/2752512 [01:16<00:00, 35928.40it/s]\n",
      "100%|██████████| 2752512/2752512 [01:13<00:00, 36464.81it/s]"
     ]
    },
    {
     "name": "stdout",
     "output_type": "stream",
     "text": [
      "epoch 85, train loss: 0.173436\n",
      "Evaluation: auc:0.988705054037327, precision:0.9671411265899454, recall:0.9354678071357432, f1:0.9510408290896096\n"
     ]
    },
    {
     "name": "stderr",
     "output_type": "stream",
     "text": [
      "\n",
      "100%|██████████| 2752512/2752512 [01:17<00:00, 35450.14it/s]\n",
      "\n",
      "  5%|▍         | 131072/2752512 [00:03<01:04, 40751.67it/s]\u001b[A\n",
      " 10%|▉         | 262144/2752512 [00:06<01:03, 38945.15it/s]\u001b[A\n",
      " 14%|█▍        | 393216/2752512 [00:10<01:02, 37736.22it/s]\u001b[A\n",
      " 19%|█▉        | 524288/2752512 [00:13<00:57, 38925.18it/s]\u001b[A\n",
      " 24%|██▍       | 655360/2752512 [00:16<00:53, 38902.38it/s]\u001b[A\n",
      " 29%|██▊       | 786432/2752512 [00:20<00:49, 39504.11it/s]\u001b[A\n",
      " 33%|███▎      | 917504/2752512 [00:23<00:45, 39965.14it/s]\u001b[A\n",
      " 38%|███▊      | 1048576/2752512 [00:26<00:43, 39618.82it/s]\u001b[A\n",
      " 43%|████▎     | 1179648/2752512 [00:30<00:42, 36663.23it/s]\u001b[A\n",
      " 48%|████▊     | 1310720/2752512 [00:34<00:38, 37897.80it/s]\u001b[A\n",
      " 52%|█████▏    | 1441792/2752512 [00:37<00:34, 38210.80it/s]\u001b[A\n",
      " 57%|█████▋    | 1572864/2752512 [00:40<00:30, 38474.37it/s]\u001b[A\n",
      " 62%|██████▏   | 1703936/2752512 [00:44<00:28, 37354.10it/s]\u001b[A\n",
      " 67%|██████▋   | 1835008/2752512 [00:47<00:24, 38172.13it/s]\u001b[A\n",
      " 71%|███████▏  | 1966080/2752512 [00:51<00:20, 38388.03it/s]\u001b[A\n",
      " 76%|███████▌  | 2097152/2752512 [00:54<00:16, 39026.93it/s]\u001b[A\n",
      " 81%|████████  | 2228224/2752512 [00:57<00:13, 39469.39it/s]\u001b[A\n",
      " 86%|████████▌ | 2359296/2752512 [01:00<00:09, 39323.72it/s]\u001b[A\n",
      " 90%|█████████ | 2490368/2752512 [01:04<00:06, 37606.97it/s]\u001b[A\n",
      " 95%|█████████▌| 2621440/2752512 [01:07<00:03, 38526.14it/s]\u001b[A\n",
      "100%|██████████| 2752512/2752512 [01:11<00:00, 37457.14it/s]\u001b[A"
     ]
    },
    {
     "name": "stdout",
     "output_type": "stream",
     "text": [
      "epoch 86, train loss: 0.172251\n",
      "Evaluation: auc:0.9887413438288415, precision:0.9585099939430648, recall:0.9444378133206016, f1:0.9514218721818073\n"
     ]
    },
    {
     "name": "stderr",
     "output_type": "stream",
     "text": [
      "100%|██████████| 2752512/2752512 [01:16<00:00, 36120.38it/s]\n",
      "100%|██████████| 2752512/2752512 [01:12<00:00, 37767.80it/s]"
     ]
    },
    {
     "name": "stdout",
     "output_type": "stream",
     "text": [
      "epoch 87, train loss: 0.170509\n",
      "Evaluation: auc:0.988993439451376, precision:0.9635069654754694, recall:0.9432116333881798, f1:0.9532512865072171\n"
     ]
    },
    {
     "name": "stderr",
     "output_type": "stream",
     "text": [
      "\n",
      "100%|██████████| 2752512/2752512 [01:16<00:00, 35894.59it/s]\n",
      "\n",
      "  5%|▍         | 131072/2752512 [00:03<01:04, 40800.18it/s]\u001b[A\n",
      " 10%|▉         | 262144/2752512 [00:06<01:06, 37338.53it/s]\u001b[A\n",
      " 14%|█▍        | 393216/2752512 [00:10<01:05, 35787.92it/s]\u001b[A\n",
      " 19%|█▉        | 524288/2752512 [00:14<00:59, 37474.27it/s]\u001b[A\n",
      " 24%|██▍       | 655360/2752512 [00:17<00:55, 37721.25it/s]\u001b[A\n",
      " 29%|██▊       | 786432/2752512 [00:21<00:54, 36156.50it/s]\u001b[A\n",
      " 33%|███▎      | 917504/2752512 [00:24<00:48, 37513.49it/s]\u001b[A\n",
      " 38%|███▊      | 1048576/2752512 [00:27<00:44, 37962.50it/s]\u001b[A\n",
      " 43%|████▎     | 1179648/2752512 [00:31<00:40, 38745.81it/s]\u001b[A\n",
      " 48%|████▊     | 1310720/2752512 [00:34<00:36, 39326.14it/s]\u001b[A\n",
      " 52%|█████▏    | 1441792/2752512 [00:37<00:32, 39763.07it/s]\u001b[A\n",
      " 57%|█████▋    | 1572864/2752512 [00:41<00:30, 38428.41it/s]\u001b[A\n",
      " 62%|██████▏   | 1703936/2752512 [00:45<00:28, 36989.90it/s]\u001b[A\n",
      " 67%|██████▋   | 1835008/2752512 [00:48<00:24, 38044.06it/s]\u001b[A\n",
      " 71%|███████▏  | 1966080/2752512 [00:51<00:20, 38120.03it/s]\u001b[A\n",
      " 76%|███████▌  | 2097152/2752512 [00:55<00:17, 36499.91it/s]\u001b[A\n",
      " 81%|████████  | 2228224/2752512 [00:58<00:13, 37634.07it/s]\u001b[A\n",
      " 86%|████████▌ | 2359296/2752512 [01:02<00:10, 37841.50it/s]\u001b[A\n",
      " 90%|█████████ | 2490368/2752512 [01:05<00:06, 38607.32it/s]\u001b[A\n",
      " 95%|█████████▌| 2621440/2752512 [01:08<00:03, 39161.01it/s]\u001b[A\n",
      "100%|██████████| 2752512/2752512 [01:12<00:00, 38919.82it/s]\u001b[A"
     ]
    },
    {
     "name": "stdout",
     "output_type": "stream",
     "text": [
      "epoch 88, train loss: 0.168691\n",
      "Evaluation: auc:0.9891976775817457, precision:0.9636583888552392, recall:0.9430802744476223, f1:0.9532582889582912\n"
     ]
    },
    {
     "name": "stderr",
     "output_type": "stream",
     "text": [
      "100%|██████████| 2752512/2752512 [01:16<00:00, 35852.10it/s]\n",
      "100%|██████████| 2752512/2752512 [01:12<00:00, 35634.51it/s]"
     ]
    },
    {
     "name": "stdout",
     "output_type": "stream",
     "text": [
      "epoch 89, train loss: 0.168715\n",
      "Evaluation: auc:0.9891833354672627, precision:0.9579043004239854, recall:0.9489806633563853, f1:0.9534216019472348\n"
     ]
    },
    {
     "name": "stderr",
     "output_type": "stream",
     "text": [
      "\n",
      "100%|██████████| 2752512/2752512 [01:16<00:00, 35807.20it/s]\n",
      "\n",
      "  5%|▍         | 131072/2752512 [00:03<01:04, 40686.23it/s]\u001b[A\n",
      " 10%|▉         | 262144/2752512 [00:07<01:10, 35095.43it/s]\u001b[A\n",
      " 14%|█▍        | 393216/2752512 [00:10<01:03, 37398.34it/s]\u001b[A\n",
      " 19%|█▉        | 524288/2752512 [00:13<00:57, 38619.94it/s]\u001b[A\n",
      " 24%|██▍       | 655360/2752512 [00:17<00:54, 38635.16it/s]\u001b[A\n",
      " 29%|██▊       | 786432/2752512 [00:20<00:50, 39314.37it/s]\u001b[A\n",
      " 33%|███▎      | 917504/2752512 [00:23<00:47, 38553.92it/s]\u001b[A\n",
      " 38%|███▊      | 1048576/2752512 [00:27<00:46, 36544.13it/s]\u001b[A\n",
      " 43%|████▎     | 1179648/2752512 [00:31<00:41, 37803.17it/s]\u001b[A\n",
      " 48%|████▊     | 1310720/2752512 [00:34<00:37, 38648.55it/s]\u001b[A\n",
      " 52%|█████▏    | 1441792/2752512 [00:37<00:34, 38142.03it/s]\u001b[A\n",
      " 57%|█████▋    | 1572864/2752512 [00:41<00:31, 36911.63it/s]\u001b[A\n",
      " 62%|██████▏   | 1703936/2752512 [00:44<00:27, 38019.62it/s]\u001b[A\n",
      " 67%|██████▋   | 1835008/2752512 [00:48<00:23, 38713.02it/s]\u001b[A\n",
      " 71%|███████▏  | 1966080/2752512 [00:51<00:21, 37372.51it/s]\u001b[A\n",
      " 76%|███████▌  | 2097152/2752512 [00:55<00:17, 38222.43it/s]\u001b[A\n",
      " 81%|████████  | 2228224/2752512 [00:58<00:13, 38958.40it/s]\u001b[A\n",
      " 86%|████████▌ | 2359296/2752512 [01:02<00:10, 36084.23it/s]\u001b[A\n",
      " 90%|█████████ | 2490368/2752512 [01:05<00:07, 37337.67it/s]\u001b[A\n",
      " 95%|█████████▌| 2621440/2752512 [01:09<00:03, 38251.85it/s]\u001b[A\n",
      "100%|██████████| 2752512/2752512 [01:12<00:00, 37937.17it/s]\u001b[A"
     ]
    },
    {
     "name": "stdout",
     "output_type": "stream",
     "text": [
      "epoch 90, train loss: 0.169023\n",
      "Evaluation: auc:0.9891014719159615, precision:0.9574500302846759, recall:0.9487156403793062, f1:0.9530628240684914\n"
     ]
    },
    {
     "name": "stderr",
     "output_type": "stream",
     "text": [
      "100%|██████████| 2752512/2752512 [01:16<00:00, 35848.09it/s]\n",
      "100%|██████████| 2752512/2752512 [01:12<00:00, 38624.82it/s]"
     ]
    },
    {
     "name": "stdout",
     "output_type": "stream",
     "text": [
      "epoch 91, train loss: 0.167760\n",
      "Evaluation: auc:0.9894716658516157, precision:0.9562386432465173, recall:0.9500240702852328, f1:0.9531212267568221\n"
     ]
    },
    {
     "name": "stderr",
     "output_type": "stream",
     "text": [
      "\n",
      "100%|██████████| 2752512/2752512 [01:16<00:00, 35813.51it/s]\n",
      "\n",
      "  5%|▍         | 131072/2752512 [00:03<01:04, 40475.17it/s]\u001b[A\n",
      " 10%|▉         | 262144/2752512 [00:06<01:03, 38972.29it/s]\u001b[A\n",
      " 14%|█▍        | 393216/2752512 [00:10<01:04, 36417.53it/s]\u001b[A\n",
      " 19%|█▉        | 524288/2752512 [00:13<00:58, 38054.33it/s]\u001b[A\n",
      " 24%|██▍       | 655360/2752512 [00:17<00:54, 38589.25it/s]\u001b[A\n",
      " 29%|██▊       | 786432/2752512 [00:20<00:52, 37690.16it/s]\u001b[A\n",
      " 33%|███▎      | 917504/2752512 [00:23<00:47, 38562.28it/s]\u001b[A\n",
      " 38%|███▊      | 1048576/2752512 [00:27<00:43, 39237.05it/s]\u001b[A\n",
      " 43%|████▎     | 1179648/2752512 [00:31<00:42, 37290.96it/s]\u001b[A\n",
      " 48%|████▊     | 1310720/2752512 [00:34<00:37, 38301.57it/s]\u001b[A\n",
      " 52%|█████▏    | 1441792/2752512 [00:37<00:33, 39025.16it/s]\u001b[A\n",
      " 57%|█████▋    | 1572864/2752512 [00:40<00:30, 38824.98it/s]\u001b[A\n",
      " 62%|██████▏   | 1703936/2752512 [00:45<00:28, 36252.76it/s]\u001b[A\n",
      " 67%|██████▋   | 1835008/2752512 [00:48<00:24, 37492.28it/s]\u001b[A\n",
      " 71%|███████▏  | 1966080/2752512 [00:52<00:21, 36650.92it/s]\u001b[A\n",
      " 76%|███████▌  | 2097152/2752512 [00:55<00:17, 37679.38it/s]\u001b[A\n",
      " 81%|████████  | 2228224/2752512 [00:58<00:13, 38560.16it/s]\u001b[A\n",
      " 86%|████████▌ | 2359296/2752512 [01:01<00:10, 38427.14it/s]\u001b[A\n",
      " 90%|█████████ | 2490368/2752512 [01:05<00:06, 39058.98it/s]\u001b[A\n",
      " 95%|█████████▌| 2621440/2752512 [01:08<00:03, 39431.79it/s]\u001b[A\n",
      "100%|██████████| 2752512/2752512 [01:12<00:00, 38441.81it/s]\u001b[A"
     ]
    },
    {
     "name": "stdout",
     "output_type": "stream",
     "text": [
      "epoch 92, train loss: 0.167470\n",
      "Evaluation: auc:0.9894000057230884, precision:0.9591156874621442, recall:0.9506656460594054, f1:0.9548719726834858\n"
     ]
    },
    {
     "name": "stderr",
     "output_type": "stream",
     "text": [
      "100%|██████████| 2752512/2752512 [01:16<00:00, 36197.95it/s]\n",
      "100%|██████████| 2752512/2752512 [01:12<00:00, 37641.34it/s]"
     ]
    },
    {
     "name": "stdout",
     "output_type": "stream",
     "text": [
      "epoch 93, train loss: 0.165711\n",
      "Evaluation: auc:0.9890282388552942, precision:0.9691096305269533, recall:0.936768149882904, f1:0.9526644834772253\n"
     ]
    },
    {
     "name": "stderr",
     "output_type": "stream",
     "text": [
      "\n",
      "100%|██████████| 2752512/2752512 [01:17<00:00, 35735.57it/s]\n",
      "\n",
      "  5%|▍         | 131072/2752512 [00:03<01:04, 40614.24it/s]\u001b[A\n",
      " 10%|▉         | 262144/2752512 [00:06<01:05, 38024.69it/s]\u001b[A\n",
      " 14%|█▍        | 393216/2752512 [00:10<01:00, 39078.01it/s]\u001b[A\n",
      " 19%|█▉        | 524288/2752512 [00:13<00:56, 39399.05it/s]\u001b[A\n",
      " 24%|██▍       | 655360/2752512 [00:16<00:53, 38984.74it/s]\u001b[A\n",
      " 29%|██▊       | 786432/2752512 [00:20<00:52, 37522.67it/s]\u001b[A\n",
      " 33%|███▎      | 917504/2752512 [00:23<00:47, 38477.55it/s]\u001b[A\n",
      " 38%|███▊      | 1048576/2752512 [00:27<00:46, 36740.73it/s]\u001b[A\n",
      " 43%|████▎     | 1179648/2752512 [00:31<00:43, 36118.37it/s]\u001b[A\n",
      " 48%|████▊     | 1310720/2752512 [00:34<00:38, 37374.28it/s]\u001b[A\n",
      " 52%|█████▏    | 1441792/2752512 [00:37<00:34, 38425.08it/s]\u001b[A\n",
      " 57%|█████▋    | 1572864/2752512 [00:41<00:31, 37459.67it/s]\u001b[A\n",
      " 62%|██████▏   | 1703936/2752512 [00:44<00:27, 38385.82it/s]\u001b[A\n",
      " 67%|██████▋   | 1835008/2752512 [00:47<00:23, 39089.55it/s]\u001b[A\n",
      " 71%|███████▏  | 1966080/2752512 [00:51<00:20, 38932.81it/s]\u001b[A\n",
      " 76%|███████▌  | 2097152/2752512 [00:54<00:17, 38334.59it/s]\u001b[A\n",
      " 81%|████████  | 2228224/2752512 [00:58<00:13, 38895.00it/s]\u001b[A\n",
      " 86%|████████▌ | 2359296/2752512 [01:02<00:11, 35573.78it/s]\u001b[A\n",
      " 90%|█████████ | 2490368/2752512 [01:05<00:07, 36900.83it/s]\u001b[A\n",
      " 95%|█████████▌| 2621440/2752512 [01:09<00:03, 37915.50it/s]\u001b[A\n",
      "100%|██████████| 2752512/2752512 [01:12<00:00, 38708.08it/s]\u001b[A"
     ]
    },
    {
     "name": "stdout",
     "output_type": "stream",
     "text": [
      "epoch 94, train loss: 0.165855\n",
      "Evaluation: auc:0.9895644399572823, precision:0.9615384615384616, recall:0.9457004140231734, f1:0.9535536768128782\n"
     ]
    },
    {
     "name": "stderr",
     "output_type": "stream",
     "text": [
      "100%|██████████| 2752512/2752512 [01:16<00:00, 35777.43it/s]\n",
      "100%|██████████| 2752512/2752512 [01:11<00:00, 38619.00it/s]"
     ]
    },
    {
     "name": "stdout",
     "output_type": "stream",
     "text": [
      "epoch 95, train loss: 0.163928\n",
      "Evaluation: auc:0.9892646977897506, precision:0.9668382798304058, recall:0.9426023797573002, f1:0.9545665206536202\n"
     ]
    },
    {
     "name": "stderr",
     "output_type": "stream",
     "text": [
      "\n",
      "100%|██████████| 2752512/2752512 [01:16<00:00, 36073.68it/s]\n",
      "\n",
      "  5%|▍         | 131072/2752512 [00:03<01:04, 40565.68it/s]\u001b[A\n",
      " 10%|▉         | 262144/2752512 [00:06<01:04, 38381.14it/s]\u001b[A\n",
      " 14%|█▍        | 393216/2752512 [00:10<01:05, 35895.11it/s]\u001b[A\n",
      " 19%|█▉        | 524288/2752512 [00:14<01:03, 34909.14it/s]\u001b[A\n",
      " 24%|██▍       | 655360/2752512 [00:17<00:56, 36796.67it/s]\u001b[A\n",
      " 29%|██▊       | 786432/2752512 [00:21<00:52, 37332.86it/s]\u001b[A\n",
      " 33%|███▎      | 917504/2752512 [00:24<00:49, 37137.07it/s]\u001b[A\n",
      " 38%|███▊      | 1048576/2752512 [00:28<00:44, 38161.10it/s]\u001b[A\n",
      " 43%|████▎     | 1179648/2752512 [00:31<00:41, 38260.24it/s]\u001b[A\n",
      " 48%|████▊     | 1310720/2752512 [00:34<00:36, 38992.10it/s]\u001b[A\n",
      " 52%|█████▏    | 1441792/2752512 [00:38<00:34, 38388.13it/s]\u001b[A\n",
      " 57%|█████▋    | 1572864/2752512 [00:42<00:32, 36560.51it/s]\u001b[A\n",
      " 62%|██████▏   | 1703936/2752512 [00:45<00:27, 37752.52it/s]\u001b[A\n",
      " 67%|██████▋   | 1835008/2752512 [00:49<00:25, 36430.83it/s]\u001b[A\n",
      " 71%|███████▏  | 1966080/2752512 [00:52<00:21, 36135.86it/s]\u001b[A\n",
      " 76%|███████▌  | 2097152/2752512 [00:56<00:17, 37431.35it/s]\u001b[A\n",
      " 81%|████████  | 2228224/2752512 [00:59<00:13, 38306.87it/s]\u001b[A\n",
      " 86%|████████▌ | 2359296/2752512 [01:02<00:10, 38783.09it/s]\u001b[A\n",
      " 90%|█████████ | 2490368/2752512 [01:05<00:06, 39336.39it/s]\u001b[A\n",
      " 95%|█████████▌| 2621440/2752512 [01:09<00:03, 39761.52it/s]\u001b[A\n",
      "100%|██████████| 2752512/2752512 [01:12<00:00, 40056.07it/s]\u001b[A"
     ]
    },
    {
     "name": "stdout",
     "output_type": "stream",
     "text": [
      "epoch 96, train loss: 0.165298\n",
      "Evaluation: auc:0.9895200828123549, precision:0.9709267110841914, recall:0.9367010941814091, f1:0.9535068739637006\n"
     ]
    },
    {
     "name": "stderr",
     "output_type": "stream",
     "text": [
      "100%|██████████| 2752512/2752512 [01:16<00:00, 35788.81it/s]\n",
      "100%|██████████| 2752512/2752512 [01:12<00:00, 39381.77it/s]"
     ]
    },
    {
     "name": "stdout",
     "output_type": "stream",
     "text": [
      "epoch 97, train loss: 0.163635\n",
      "Evaluation: auc:0.9893936520861207, precision:0.9706238643246518, recall:0.9360943980372686, f1:0.9530464777424247\n"
     ]
    },
    {
     "name": "stderr",
     "output_type": "stream",
     "text": [
      "\n",
      "100%|██████████| 2752512/2752512 [01:17<00:00, 35508.24it/s]\n",
      "\n",
      "  5%|▍         | 131072/2752512 [00:03<01:04, 40735.89it/s]\u001b[A\n",
      " 10%|▉         | 262144/2752512 [00:06<01:01, 40755.23it/s]\u001b[A\n",
      " 14%|█▍        | 393216/2752512 [00:09<00:59, 39602.32it/s]\u001b[A\n",
      " 19%|█▉        | 524288/2752512 [00:13<00:55, 40042.66it/s]\u001b[A\n",
      " 24%|██▍       | 655360/2752512 [00:16<00:53, 39175.39it/s]\u001b[A\n",
      " 29%|██▊       | 786432/2752512 [00:19<00:50, 38933.29it/s]\u001b[A\n",
      " 33%|███▎      | 917504/2752512 [00:23<00:46, 39532.81it/s]\u001b[A\n",
      " 38%|███▊      | 1048576/2752512 [00:26<00:43, 39209.10it/s]\u001b[A\n",
      " 43%|████▎     | 1179648/2752512 [00:30<00:42, 37442.21it/s]\u001b[A\n",
      " 48%|████▊     | 1310720/2752512 [00:34<00:39, 36170.80it/s]\u001b[A\n",
      " 52%|█████▏    | 1441792/2752512 [00:37<00:34, 37460.08it/s]\u001b[A\n",
      " 57%|█████▋    | 1572864/2752512 [00:40<00:31, 37883.31it/s]\u001b[A\n",
      " 62%|██████▏   | 1703936/2752512 [00:44<00:27, 37651.33it/s]\u001b[A\n",
      " 67%|██████▋   | 1835008/2752512 [00:47<00:23, 38540.77it/s]\u001b[A\n",
      " 71%|███████▏  | 1966080/2752512 [00:51<00:20, 38029.76it/s]\u001b[A\n",
      " 76%|███████▌  | 2097152/2752512 [00:54<00:16, 38760.82it/s]\u001b[A\n",
      " 81%|████████  | 2228224/2752512 [00:57<00:13, 39333.74it/s]\u001b[A\n",
      " 86%|████████▌ | 2359296/2752512 [01:00<00:09, 39657.97it/s]\u001b[A\n",
      " 90%|█████████ | 2490368/2752512 [01:04<00:06, 39387.80it/s]\u001b[A\n",
      " 95%|█████████▌| 2621440/2752512 [01:08<00:03, 37337.21it/s]\u001b[A\n",
      "100%|██████████| 2752512/2752512 [01:11<00:00, 37307.14it/s]\u001b[A"
     ]
    },
    {
     "name": "stdout",
     "output_type": "stream",
     "text": [
      "epoch 98, train loss: 0.163703\n",
      "Evaluation: auc:0.9902317337179053, precision:0.9615384615384616, recall:0.9495611083695961, f1:0.9555122523756141\n"
     ]
    },
    {
     "name": "stderr",
     "output_type": "stream",
     "text": [
      "100%|██████████| 2752512/2752512 [01:16<00:00, 36185.75it/s]\n",
      "100%|██████████| 2752512/2752512 [01:12<00:00, 37932.58it/s]"
     ]
    },
    {
     "name": "stdout",
     "output_type": "stream",
     "text": [
      "epoch 99, train loss: 0.162318\n",
      "Evaluation: auc:0.9895937767467251, precision:0.970321017565112, recall:0.9389836469140144, f1:0.954395162491436\n"
     ]
    },
    {
     "name": "stderr",
     "output_type": "stream",
     "text": [
      "\n",
      "100%|██████████| 2752512/2752512 [01:16<00:00, 35903.85it/s]\n",
      "\n",
      "  5%|▍         | 131072/2752512 [00:03<01:03, 41002.31it/s]\u001b[A\n",
      " 10%|▉         | 262144/2752512 [00:06<01:04, 38613.01it/s]\u001b[A\n",
      " 14%|█▍        | 393216/2752512 [00:10<01:02, 37917.52it/s]\u001b[A\n",
      " 19%|█▉        | 524288/2752512 [00:13<00:57, 38798.18it/s]\u001b[A\n",
      " 24%|██▍       | 655360/2752512 [00:16<00:53, 39533.50it/s]\u001b[A\n",
      " 29%|██▊       | 786432/2752512 [00:21<00:55, 35248.62it/s]\u001b[A\n",
      " 33%|███▎      | 917504/2752512 [00:24<00:49, 36847.33it/s]\u001b[A\n",
      " 38%|███▊      | 1048576/2752512 [00:28<00:46, 36857.00it/s]\u001b[A\n",
      " 43%|████▎     | 1179648/2752512 [00:31<00:42, 37311.05it/s]\u001b[A\n",
      " 48%|████▊     | 1310720/2752512 [00:34<00:37, 38280.65it/s]\u001b[A\n",
      " 52%|█████▏    | 1441792/2752512 [00:37<00:33, 39114.20it/s]\u001b[A\n",
      " 57%|█████▋    | 1572864/2752512 [00:41<00:30, 38409.51it/s]\u001b[A\n",
      " 62%|██████▏   | 1703936/2752512 [00:44<00:26, 39010.24it/s]\u001b[A\n",
      " 67%|██████▋   | 1835008/2752512 [00:47<00:23, 39503.29it/s]\u001b[A\n",
      " 71%|███████▏  | 1966080/2752512 [00:51<00:19, 39948.22it/s]\u001b[A\n",
      " 76%|███████▌  | 2097152/2752512 [00:55<00:18, 35518.15it/s]\u001b[A\n",
      " 81%|████████  | 2228224/2752512 [00:58<00:14, 36863.88it/s]\u001b[A\n",
      " 86%|████████▌ | 2359296/2752512 [01:02<00:10, 36496.46it/s]\u001b[A\n",
      " 90%|█████████ | 2490368/2752512 [01:06<00:07, 36959.36it/s]\u001b[A\n",
      " 95%|█████████▌| 2621440/2752512 [01:09<00:03, 38055.49it/s]\u001b[A\n",
      "100%|██████████| 2752512/2752512 [01:12<00:00, 38718.63it/s]\u001b[A"
     ]
    },
    {
     "name": "stdout",
     "output_type": "stream",
     "text": [
      "epoch 100, train loss: 0.160706\n",
      "Evaluation: auc:0.9899328169958115, precision:0.9616898849182314, recall:0.9493841186319062, f1:0.9554973821989529\n"
     ]
    },
    {
     "name": "stderr",
     "output_type": "stream",
     "text": [
      "100%|██████████| 2752512/2752512 [01:16<00:00, 35756.49it/s]\n",
      "100%|██████████| 2752512/2752512 [01:12<00:00, 38833.22it/s]"
     ]
    },
    {
     "name": "stdout",
     "output_type": "stream",
     "text": [
      "epoch 101, train loss: 0.160588\n",
      "Evaluation: auc:0.9898682740412819, precision:0.9656268927922471, recall:0.9459319142624045, f1:0.955677943876213\n"
     ]
    },
    {
     "name": "stderr",
     "output_type": "stream",
     "text": [
      "\n",
      "100%|██████████| 2752512/2752512 [01:16<00:00, 36075.54it/s]\n",
      "\n",
      "  5%|▍         | 131072/2752512 [00:03<01:04, 40771.65it/s]\u001b[A\n",
      " 10%|▉         | 262144/2752512 [00:08<01:20, 30977.75it/s]\u001b[A\n",
      " 14%|█▍        | 393216/2752512 [00:11<01:09, 33962.82it/s]\u001b[A\n",
      " 19%|█▉        | 524288/2752512 [00:14<01:01, 36225.77it/s]\u001b[A\n",
      " 24%|██▍       | 655360/2752512 [00:18<00:55, 37775.98it/s]\u001b[A\n",
      " 29%|██▊       | 786432/2752512 [00:21<00:51, 37832.45it/s]\u001b[A\n",
      " 33%|███▎      | 917504/2752512 [00:25<00:48, 37603.47it/s]\u001b[A\n",
      " 38%|███▊      | 1048576/2752512 [00:28<00:44, 38447.85it/s]\u001b[A\n",
      " 43%|████▎     | 1179648/2752512 [00:31<00:40, 38505.20it/s]\u001b[A\n",
      " 48%|████▊     | 1310720/2752512 [00:34<00:36, 39088.76it/s]\u001b[A\n",
      " 52%|█████▏    | 1441792/2752512 [00:38<00:35, 36996.39it/s]\u001b[A\n",
      " 57%|█████▋    | 1572864/2752512 [00:43<00:33, 34928.85it/s]\u001b[A\n",
      " 62%|██████▏   | 1703936/2752512 [00:46<00:28, 36243.98it/s]\u001b[A\n",
      " 67%|██████▋   | 1835008/2752512 [00:49<00:24, 37514.41it/s]\u001b[A\n",
      " 71%|███████▏  | 1966080/2752512 [00:53<00:21, 37168.66it/s]\u001b[A\n",
      " 76%|███████▌  | 2097152/2752512 [00:56<00:17, 38164.43it/s]\u001b[A\n",
      " 81%|████████  | 2228224/2752512 [00:59<00:13, 38762.91it/s]\u001b[A\n",
      " 86%|████████▌ | 2359296/2752512 [01:02<00:10, 39244.46it/s]\u001b[A\n",
      " 90%|█████████ | 2490368/2752512 [01:06<00:06, 38986.80it/s]\u001b[A\n",
      " 95%|█████████▌| 2621440/2752512 [01:09<00:03, 39010.42it/s]\u001b[A\n",
      "100%|██████████| 2752512/2752512 [01:13<00:00, 39159.26it/s]\u001b[A"
     ]
    },
    {
     "name": "stdout",
     "output_type": "stream",
     "text": [
      "epoch 102, train loss: 0.159398\n",
      "Evaluation: auc:0.9900391777040951, precision:0.968503937007874, recall:0.9432654445706196, f1:0.955718096035025\n"
     ]
    },
    {
     "name": "stderr",
     "output_type": "stream",
     "text": [
      "100%|██████████| 2752512/2752512 [01:18<00:00, 35263.51it/s]\n",
      "100%|██████████| 2752512/2752512 [01:12<00:00, 37851.90it/s]"
     ]
    },
    {
     "name": "stdout",
     "output_type": "stream",
     "text": [
      "epoch 103, train loss: 0.159753\n",
      "Evaluation: auc:0.9900544830675461, precision:0.9733494851605088, recall:0.9368760111352407, f1:0.9547645394389941\n"
     ]
    },
    {
     "name": "stderr",
     "output_type": "stream",
     "text": [
      "\n",
      "100%|██████████| 2752512/2752512 [01:16<00:00, 35798.86it/s]\n",
      "\n",
      "  5%|▍         | 131072/2752512 [00:03<01:04, 40597.86it/s]\u001b[A\n",
      " 10%|▉         | 262144/2752512 [00:06<01:01, 40701.82it/s]\u001b[A\n",
      " 14%|█▍        | 393216/2752512 [00:09<00:59, 39783.49it/s]\u001b[A\n",
      " 19%|█▉        | 524288/2752512 [00:13<00:55, 40262.72it/s]\u001b[A\n",
      " 24%|██▍       | 655360/2752512 [00:16<00:54, 38521.03it/s]\u001b[A\n",
      " 29%|██▊       | 786432/2752512 [00:20<00:50, 38678.83it/s]\u001b[A\n",
      " 33%|███▎      | 917504/2752512 [00:23<00:46, 39222.33it/s]\u001b[A\n",
      " 38%|███▊      | 1048576/2752512 [00:27<00:46, 36998.66it/s]\u001b[A\n",
      " 43%|████▎     | 1179648/2752512 [00:31<00:43, 36044.27it/s]\u001b[A\n",
      " 48%|████▊     | 1310720/2752512 [00:34<00:38, 37024.92it/s]\u001b[A\n",
      " 52%|█████▏    | 1441792/2752512 [00:37<00:34, 38128.56it/s]\u001b[A\n",
      " 57%|█████▋    | 1572864/2752512 [00:40<00:30, 38889.38it/s]\u001b[A\n",
      " 62%|██████▏   | 1703936/2752512 [00:44<00:27, 37754.87it/s]\u001b[A\n",
      " 67%|██████▋   | 1835008/2752512 [00:48<00:24, 37384.98it/s]\u001b[A\n",
      " 71%|███████▏  | 1966080/2752512 [00:51<00:20, 38332.43it/s]\u001b[A\n",
      " 76%|███████▌  | 2097152/2752512 [00:54<00:17, 38319.16it/s]\u001b[A\n",
      " 81%|████████  | 2228224/2752512 [00:57<00:13, 39099.11it/s]\u001b[A\n",
      " 86%|████████▌ | 2359296/2752512 [01:01<00:10, 37030.13it/s]\u001b[A\n",
      " 90%|█████████ | 2490368/2752512 [01:05<00:06, 37538.47it/s]\u001b[A\n",
      " 95%|█████████▌| 2621440/2752512 [01:08<00:03, 38529.42it/s]\u001b[A\n",
      "100%|██████████| 2752512/2752512 [01:12<00:00, 38095.10it/s]\u001b[A"
     ]
    },
    {
     "name": "stdout",
     "output_type": "stream",
     "text": [
      "epoch 104, train loss: 0.159336\n",
      "Evaluation: auc:0.9903015893309893, precision:0.966686856450636, recall:0.945203654076783, f1:0.9558245558874391\n"
     ]
    },
    {
     "name": "stderr",
     "output_type": "stream",
     "text": [
      "100%|██████████| 2752512/2752512 [01:16<00:00, 36021.92it/s]\n",
      "100%|██████████| 2752512/2752512 [01:12<00:00, 38877.55it/s]"
     ]
    },
    {
     "name": "stdout",
     "output_type": "stream",
     "text": [
      "epoch 105, train loss: 0.157854\n",
      "Evaluation: auc:0.9904718856035345, precision:0.9736523319200484, recall:0.9372084888059702, f1:0.9550828827758302\n"
     ]
    },
    {
     "name": "stderr",
     "output_type": "stream",
     "text": [
      "\n",
      "100%|██████████| 2752512/2752512 [01:16<00:00, 35788.86it/s]\n",
      "\n",
      "  5%|▍         | 131072/2752512 [00:03<01:05, 40123.33it/s]\u001b[A\n",
      " 10%|▉         | 262144/2752512 [00:06<01:05, 38093.77it/s]\u001b[A\n",
      " 14%|█▍        | 393216/2752512 [00:10<01:01, 38236.58it/s]\u001b[A\n",
      " 19%|█▉        | 524288/2752512 [00:14<01:02, 35851.53it/s]\u001b[A\n",
      " 24%|██▍       | 655360/2752512 [00:17<00:55, 37512.30it/s]\u001b[A\n",
      " 29%|██▊       | 786432/2752512 [00:21<00:54, 36154.43it/s]\u001b[A\n",
      " 33%|███▎      | 917504/2752512 [00:24<00:49, 37389.34it/s]\u001b[A\n",
      " 38%|███▊      | 1048576/2752512 [00:28<00:45, 37252.88it/s]\u001b[A\n",
      " 43%|████▎     | 1179648/2752512 [00:31<00:41, 37707.65it/s]\u001b[A\n",
      " 48%|████▊     | 1310720/2752512 [00:34<00:37, 38453.91it/s]\u001b[A\n",
      " 52%|█████▏    | 1441792/2752512 [00:37<00:33, 39198.90it/s]\u001b[A\n",
      " 57%|█████▋    | 1572864/2752512 [00:41<00:30, 38485.91it/s]\u001b[A\n",
      " 62%|██████▏   | 1703936/2752512 [00:44<00:27, 38684.48it/s]\u001b[A\n",
      " 67%|██████▋   | 1835008/2752512 [00:48<00:25, 36683.86it/s]\u001b[A\n",
      " 71%|███████▏  | 1966080/2752512 [00:52<00:20, 37760.81it/s]\u001b[A\n",
      " 76%|███████▌  | 2097152/2752512 [00:55<00:17, 36984.93it/s]\u001b[A\n",
      " 81%|████████  | 2228224/2752512 [00:59<00:14, 36866.08it/s]\u001b[A\n",
      " 86%|████████▌ | 2359296/2752512 [01:02<00:10, 37916.69it/s]\u001b[A\n",
      " 90%|█████████ | 2490368/2752512 [01:06<00:06, 37895.09it/s]\u001b[A\n",
      " 95%|█████████▌| 2621440/2752512 [01:09<00:03, 38680.51it/s]\u001b[A\n",
      "100%|██████████| 2752512/2752512 [01:12<00:00, 39241.86it/s]\u001b[A"
     ]
    },
    {
     "name": "stdout",
     "output_type": "stream",
     "text": [
      "epoch 106, train loss: 0.157659\n",
      "Evaluation: auc:0.9902856857488863, precision:0.9707752877044216, recall:0.9412576529488629, f1:0.9557886262495248\n"
     ]
    },
    {
     "name": "stderr",
     "output_type": "stream",
     "text": [
      "100%|██████████| 2752512/2752512 [01:17<00:00, 35702.38it/s]\n",
      "100%|██████████| 2752512/2752512 [01:12<00:00, 36226.18it/s]"
     ]
    },
    {
     "name": "stdout",
     "output_type": "stream",
     "text": [
      "epoch 107, train loss: 0.157631\n",
      "Evaluation: auc:0.990730559567628, precision:0.9733494851605088, recall:0.940577398633324, f1:0.9566828643930317\n"
     ]
    },
    {
     "name": "stderr",
     "output_type": "stream",
     "text": [
      "\n",
      "100%|██████████| 2752512/2752512 [01:17<00:00, 35606.43it/s]\n",
      "\n",
      "  5%|▍         | 131072/2752512 [00:03<01:12, 36336.17it/s]\u001b[A\n",
      " 10%|▉         | 262144/2752512 [00:07<01:08, 36572.87it/s]\u001b[A\n",
      " 14%|█▍        | 393216/2752512 [00:10<01:02, 37506.80it/s]\u001b[A\n",
      " 19%|█▉        | 524288/2752512 [00:13<00:57, 38782.50it/s]\u001b[A\n",
      " 24%|██▍       | 655360/2752512 [00:16<00:53, 39451.38it/s]\u001b[A\n",
      " 29%|██▊       | 786432/2752512 [00:20<00:50, 39264.81it/s]\u001b[A\n",
      " 33%|███▎      | 917504/2752512 [00:23<00:47, 38475.44it/s]\u001b[A\n",
      " 38%|███▊      | 1048576/2752512 [00:27<00:46, 36457.16it/s]\u001b[A\n",
      " 43%|████▎     | 1179648/2752512 [00:31<00:42, 37064.12it/s]\u001b[A\n",
      " 48%|████▊     | 1310720/2752512 [00:34<00:38, 37398.21it/s]\u001b[A\n",
      " 52%|█████▏    | 1441792/2752512 [00:38<00:36, 36380.24it/s]\u001b[A\n",
      " 57%|█████▋    | 1572864/2752512 [00:41<00:31, 36950.77it/s]\u001b[A\n",
      " 62%|██████▏   | 1703936/2752512 [00:45<00:27, 37990.40it/s]\u001b[A\n",
      " 67%|██████▋   | 1835008/2752512 [00:48<00:23, 38707.40it/s]\u001b[A\n",
      " 71%|███████▏  | 1966080/2752512 [00:52<00:20, 38155.56it/s]\u001b[A\n",
      " 76%|███████▌  | 2097152/2752512 [00:55<00:17, 38342.91it/s]\u001b[A\n",
      " 81%|████████  | 2228224/2752512 [00:58<00:13, 38941.74it/s]\u001b[A\n",
      " 86%|████████▌ | 2359296/2752512 [01:02<00:10, 36133.86it/s]\u001b[A\n",
      " 90%|█████████ | 2490368/2752512 [01:06<00:07, 36511.10it/s]\u001b[A\n",
      " 95%|█████████▌| 2621440/2752512 [01:09<00:03, 36405.36it/s]\u001b[A\n",
      "100%|██████████| 2752512/2752512 [01:13<00:00, 37293.26it/s]\u001b[A"
     ]
    },
    {
     "name": "stdout",
     "output_type": "stream",
     "text": [
      "epoch 108, train loss: 0.155912\n",
      "Evaluation: auc:0.9907361265092353, precision:0.9700181708055724, recall:0.9438354549740688, f1:0.9567477149172591\n"
     ]
    },
    {
     "name": "stderr",
     "output_type": "stream",
     "text": [
      "100%|██████████| 2752512/2752512 [01:17<00:00, 35408.15it/s]\n",
      "100%|██████████| 2752512/2752512 [01:12<00:00, 39364.48it/s]"
     ]
    },
    {
     "name": "stdout",
     "output_type": "stream",
     "text": [
      "epoch 109, train loss: 0.154352\n",
      "Evaluation: auc:0.9905737455705681, precision:0.960175651120533, recall:0.9519305830781241, f1:0.9560353405904171\n"
     ]
    },
    {
     "name": "stderr",
     "output_type": "stream",
     "text": [
      "\n",
      "100%|██████████| 2752512/2752512 [01:17<00:00, 35602.55it/s]\n",
      "\n",
      "  5%|▍         | 131072/2752512 [00:03<01:04, 40605.65it/s]\u001b[A\n",
      " 10%|▉         | 262144/2752512 [00:06<01:01, 40648.85it/s]\u001b[A\n",
      " 14%|█▍        | 393216/2752512 [00:10<01:07, 35086.82it/s]\u001b[A\n",
      " 19%|█▉        | 524288/2752512 [00:14<01:00, 37108.16it/s]\u001b[A\n",
      " 24%|██▍       | 655360/2752512 [00:17<00:56, 36946.81it/s]\u001b[A\n",
      " 29%|██▊       | 786432/2752512 [00:21<00:52, 37428.83it/s]\u001b[A\n",
      " 33%|███▎      | 917504/2752512 [00:24<00:47, 38516.84it/s]\u001b[A\n",
      " 38%|███▊      | 1048576/2752512 [00:27<00:43, 39270.44it/s]\u001b[A\n",
      " 43%|████▎     | 1179648/2752512 [00:31<00:41, 37500.53it/s]\u001b[A\n",
      " 48%|████▊     | 1310720/2752512 [00:34<00:37, 38425.08it/s]\u001b[A\n",
      " 52%|█████▏    | 1441792/2752512 [00:37<00:33, 39224.67it/s]\u001b[A\n",
      " 57%|█████▋    | 1572864/2752512 [00:41<00:30, 39112.53it/s]\u001b[A\n",
      " 62%|██████▏   | 1703936/2752512 [00:45<00:29, 35981.50it/s]\u001b[A\n",
      " 67%|██████▋   | 1835008/2752512 [00:48<00:24, 37284.33it/s]\u001b[A\n",
      " 71%|███████▏  | 1966080/2752512 [00:51<00:20, 37632.66it/s]\u001b[A\n",
      " 76%|███████▌  | 2097152/2752512 [00:55<00:17, 37261.72it/s]\u001b[A\n",
      " 81%|████████  | 2228224/2752512 [00:58<00:13, 38251.93it/s]\u001b[A\n",
      " 86%|████████▌ | 2359296/2752512 [01:02<00:10, 38821.45it/s]\u001b[A\n",
      " 90%|█████████ | 2490368/2752512 [01:05<00:06, 38773.69it/s]\u001b[A\n",
      " 95%|█████████▌| 2621440/2752512 [01:08<00:03, 39335.14it/s]\u001b[A\n",
      "100%|██████████| 2752512/2752512 [01:12<00:00, 38568.31it/s]\u001b[A"
     ]
    },
    {
     "name": "stdout",
     "output_type": "stream",
     "text": [
      "epoch 110, train loss: 0.153909\n",
      "Evaluation: auc:0.9906500164997372, precision:0.966686856450636, recall:0.9486025052378193, f1:0.9575593037295915\n"
     ]
    },
    {
     "name": "stderr",
     "output_type": "stream",
     "text": [
      "100%|██████████| 2752512/2752512 [01:16<00:00, 36038.05it/s]\n",
      "100%|██████████| 2752512/2752512 [01:13<00:00, 36611.83it/s]"
     ]
    },
    {
     "name": "stdout",
     "output_type": "stream",
     "text": [
      "epoch 111, train loss: 0.152910\n",
      "Evaluation: auc:0.9910264679996815, precision:0.9636583888552392, recall:0.9509152035861038, f1:0.9572443876208024\n"
     ]
    },
    {
     "name": "stderr",
     "output_type": "stream",
     "text": [
      "\n",
      "100%|██████████| 2752512/2752512 [01:18<00:00, 35036.11it/s]\n",
      "\n",
      "  5%|▍         | 131072/2752512 [00:03<01:05, 40223.74it/s]\u001b[A\n",
      " 10%|▉         | 262144/2752512 [00:07<01:07, 36758.56it/s]\u001b[A\n",
      " 14%|█▍        | 393216/2752512 [00:10<01:02, 37978.67it/s]\u001b[A\n",
      " 19%|█▉        | 524288/2752512 [00:13<00:57, 38867.60it/s]\u001b[A\n",
      " 24%|██▍       | 655360/2752512 [00:16<00:53, 39224.98it/s]\u001b[A\n",
      " 29%|██▊       | 786432/2752512 [00:20<00:52, 37574.72it/s]\u001b[A\n",
      " 33%|███▎      | 917504/2752512 [00:23<00:47, 38448.47it/s]\u001b[A\n",
      " 38%|███▊      | 1048576/2752512 [00:28<00:49, 34428.92it/s]\u001b[A\n",
      " 43%|████▎     | 1179648/2752512 [00:31<00:44, 35701.66it/s]\u001b[A\n",
      " 48%|████▊     | 1310720/2752512 [00:35<00:39, 36865.33it/s]\u001b[A\n",
      " 52%|█████▏    | 1441792/2752512 [00:38<00:34, 37731.85it/s]\u001b[A\n",
      " 57%|█████▋    | 1572864/2752512 [00:42<00:31, 36882.42it/s]\u001b[A\n",
      " 62%|██████▏   | 1703936/2752512 [00:45<00:27, 37963.95it/s]\u001b[A\n",
      " 67%|██████▋   | 1835008/2752512 [00:48<00:23, 38713.03it/s]\u001b[A\n",
      " 71%|███████▏  | 1966080/2752512 [00:52<00:20, 38558.71it/s]\u001b[A\n",
      " 76%|███████▌  | 2097152/2752512 [00:55<00:17, 38054.95it/s]\u001b[A\n",
      " 81%|████████  | 2228224/2752512 [00:58<00:13, 38762.31it/s]\u001b[A\n",
      " 86%|████████▌ | 2359296/2752512 [01:03<00:11, 33960.40it/s]\u001b[A\n",
      " 90%|█████████ | 2490368/2752512 [01:07<00:07, 35656.11it/s]\u001b[A\n",
      " 95%|█████████▌| 2621440/2752512 [01:10<00:03, 36603.76it/s]\u001b[A\n",
      "100%|██████████| 2752512/2752512 [01:14<00:00, 36861.41it/s]\u001b[A"
     ]
    },
    {
     "name": "stdout",
     "output_type": "stream",
     "text": [
      "epoch 112, train loss: 0.152921\n",
      "Evaluation: auc:0.9908740288634423, precision:0.9781950333131435, recall:0.9338768901610431, f1:0.9555223571523659\n"
     ]
    },
    {
     "name": "stderr",
     "output_type": "stream",
     "text": [
      "100%|██████████| 2752512/2752512 [01:18<00:00, 35095.49it/s]\n",
      "100%|██████████| 2752512/2752512 [01:13<00:00, 36906.39it/s]"
     ]
    },
    {
     "name": "stdout",
     "output_type": "stream",
     "text": [
      "epoch 113, train loss: 0.151954\n",
      "Evaluation: auc:0.9908876184468345, precision:0.9733494851605088, recall:0.9422594878259722, f1:0.9575521938938918\n"
     ]
    },
    {
     "name": "stderr",
     "output_type": "stream",
     "text": [
      "\n",
      "100%|██████████| 2752512/2752512 [01:17<00:00, 35482.48it/s]\n",
      "\n",
      "  5%|▍         | 131072/2752512 [00:03<01:12, 35981.03it/s]\u001b[A\n",
      " 10%|▉         | 262144/2752512 [00:07<01:11, 35036.74it/s]\u001b[A\n",
      " 14%|█▍        | 393216/2752512 [00:11<01:10, 33382.42it/s]\u001b[A\n",
      " 19%|█▉        | 524288/2752512 [00:14<01:03, 35336.20it/s]\u001b[A\n",
      " 24%|██▍       | 655360/2752512 [00:18<00:57, 36189.53it/s]\u001b[A\n",
      " 29%|██▊       | 786432/2752512 [00:21<00:52, 37263.23it/s]\u001b[A\n",
      " 33%|███▎      | 917504/2752512 [00:25<00:49, 36954.22it/s]\u001b[A\n",
      " 38%|███▊      | 1048576/2752512 [00:28<00:45, 37053.60it/s]\u001b[A\n",
      " 43%|████▎     | 1179648/2752512 [00:32<00:41, 37703.56it/s]\u001b[A\n",
      " 48%|████▊     | 1310720/2752512 [00:35<00:38, 37135.20it/s]\u001b[A\n",
      " 52%|█████▏    | 1441792/2752512 [00:39<00:36, 36239.84it/s]\u001b[A\n",
      " 57%|█████▋    | 1572864/2752512 [00:43<00:31, 36967.22it/s]\u001b[A\n",
      " 62%|██████▏   | 1703936/2752512 [00:47<00:30, 34802.53it/s]\u001b[A\n",
      " 67%|██████▋   | 1835008/2752512 [00:50<00:25, 35659.25it/s]\u001b[A\n",
      " 71%|███████▏  | 1966080/2752512 [00:54<00:22, 35448.96it/s]\u001b[A\n",
      " 76%|███████▌  | 2097152/2752512 [00:57<00:18, 36266.71it/s]\u001b[A\n",
      " 81%|████████  | 2228224/2752512 [01:01<00:14, 36406.30it/s]\u001b[A\n",
      " 86%|████████▌ | 2359296/2752512 [01:05<00:10, 36518.02it/s]\u001b[A\n",
      " 90%|█████████ | 2490368/2752512 [01:08<00:07, 36477.73it/s]\u001b[A\n",
      " 95%|█████████▌| 2621440/2752512 [01:12<00:03, 36723.57it/s]\u001b[A\n",
      "100%|██████████| 2752512/2752512 [01:15<00:00, 37044.80it/s]\u001b[A"
     ]
    },
    {
     "name": "stdout",
     "output_type": "stream",
     "text": [
      "epoch 114, train loss: 0.152189\n",
      "Evaluation: auc:0.9909095367746948, precision:0.9698667474258026, recall:0.9467009577864491, f1:0.9581438487314504\n"
     ]
    },
    {
     "name": "stderr",
     "output_type": "stream",
     "text": [
      "100%|██████████| 2752512/2752512 [01:20<00:00, 34012.23it/s]\n",
      "100%|██████████| 2752512/2752512 [01:16<00:00, 36371.92it/s]"
     ]
    },
    {
     "name": "stdout",
     "output_type": "stream",
     "text": [
      "epoch 115, train loss: 0.152052\n",
      "Evaluation: auc:0.99125200927177, precision:0.9704724409448819, recall:0.9484978540772532, f1:0.9593593293915127\n"
     ]
    },
    {
     "name": "stderr",
     "output_type": "stream",
     "text": [
      "\n",
      "100%|██████████| 2752512/2752512 [01:20<00:00, 34012.48it/s]\n",
      "\n",
      "  5%|▍         | 131072/2752512 [00:03<01:14, 35255.22it/s]\u001b[A\n",
      " 10%|▉         | 262144/2752512 [00:07<01:06, 37668.38it/s]\u001b[A\n",
      " 14%|█▍        | 393216/2752512 [00:10<01:04, 36388.31it/s]\u001b[A\n",
      " 19%|█▉        | 524288/2752512 [00:14<00:59, 37692.42it/s]\u001b[A\n",
      " 24%|██▍       | 655360/2752512 [00:17<00:54, 38609.18it/s]\u001b[A\n",
      " 29%|██▊       | 786432/2752512 [00:21<00:56, 35100.41it/s]\u001b[A\n",
      " 33%|███▎      | 917504/2752512 [00:25<00:50, 36455.23it/s]\u001b[A\n",
      " 38%|███▊      | 1048576/2752512 [00:28<00:45, 37045.24it/s]\u001b[A\n",
      " 43%|████▎     | 1179648/2752512 [00:32<00:43, 36178.26it/s]\u001b[A\n",
      " 48%|████▊     | 1310720/2752512 [00:35<00:39, 36120.89it/s]\u001b[A\n",
      " 52%|█████▏    | 1441792/2752512 [00:39<00:35, 37234.68it/s]\u001b[A\n",
      " 57%|█████▋    | 1572864/2752512 [00:42<00:31, 37368.72it/s]\u001b[A\n",
      " 62%|██████▏   | 1703936/2752512 [00:46<00:28, 36644.59it/s]\u001b[A\n",
      " 67%|██████▋   | 1835008/2752512 [00:49<00:24, 37396.90it/s]\u001b[A\n",
      " 71%|███████▏  | 1966080/2752512 [00:53<00:21, 37186.03it/s]\u001b[A\n",
      " 76%|███████▌  | 2097152/2752512 [00:57<00:18, 35483.28it/s]\u001b[A\n",
      " 81%|████████  | 2228224/2752512 [01:00<00:14, 36734.70it/s]\u001b[A\n",
      " 86%|████████▌ | 2359296/2752512 [01:04<00:10, 36756.18it/s]\u001b[A\n",
      " 90%|█████████ | 2490368/2752512 [01:07<00:07, 36125.03it/s]\u001b[A\n",
      " 95%|█████████▌| 2621440/2752512 [01:11<00:03, 37264.06it/s]\u001b[A\n",
      "100%|██████████| 2752512/2752512 [01:15<00:00, 36389.81it/s]\u001b[A"
     ]
    },
    {
     "name": "stdout",
     "output_type": "stream",
     "text": [
      "epoch 116, train loss: 0.150272\n",
      "Evaluation: auc:0.9911027987736449, precision:0.9719866747425803, recall:0.9462108816462507, f1:0.9589255969943008\n"
     ]
    },
    {
     "name": "stderr",
     "output_type": "stream",
     "text": [
      "100%|██████████| 2752512/2752512 [01:19<00:00, 34801.61it/s]\n",
      "100%|██████████| 2752512/2752512 [01:14<00:00, 37965.24it/s]"
     ]
    },
    {
     "name": "stdout",
     "output_type": "stream",
     "text": [
      "epoch 117, train loss: 0.148841\n",
      "Evaluation: auc:0.9915395717625755, precision:0.9697153240460327, recall:0.9498805974576899, f1:0.9596954870034992\n"
     ]
    },
    {
     "name": "stderr",
     "output_type": "stream",
     "text": [
      "\n",
      "100%|██████████| 2752512/2752512 [01:18<00:00, 34974.10it/s]\n",
      "\n",
      "  5%|▍         | 131072/2752512 [00:04<01:25, 30487.27it/s]\u001b[A\n",
      " 10%|▉         | 262144/2752512 [00:07<01:13, 33688.14it/s]\u001b[A\n",
      " 14%|█▍        | 393216/2752512 [00:11<01:07, 34926.02it/s]\u001b[A\n",
      " 19%|█▉        | 524288/2752512 [00:14<01:01, 36198.75it/s]\u001b[A\n",
      " 24%|██▍       | 655360/2752512 [00:18<00:56, 37207.95it/s]\u001b[A\n",
      " 29%|██▊       | 786432/2752512 [00:21<00:53, 36912.10it/s]\u001b[A\n",
      " 33%|███▎      | 917504/2752512 [00:25<00:48, 37962.69it/s]\u001b[A\n",
      " 38%|███▊      | 1048576/2752512 [00:28<00:45, 37363.72it/s]\u001b[A\n",
      " 43%|████▎     | 1179648/2752512 [00:32<00:41, 38008.68it/s]\u001b[A\n",
      " 48%|████▊     | 1310720/2752512 [00:35<00:37, 38343.64it/s]\u001b[A\n",
      " 52%|█████▏    | 1441792/2752512 [00:39<00:37, 34987.97it/s]\u001b[A\n",
      " 57%|█████▋    | 1572864/2752512 [00:43<00:34, 34405.08it/s]\u001b[A\n",
      " 62%|██████▏   | 1703936/2752512 [00:47<00:29, 36107.94it/s]\u001b[A\n",
      " 67%|██████▋   | 1835008/2752512 [00:50<00:25, 36688.56it/s]\u001b[A\n",
      " 71%|███████▏  | 1966080/2752512 [00:53<00:20, 37749.13it/s]\u001b[A\n",
      " 76%|███████▌  | 2097152/2752512 [00:57<00:17, 37348.57it/s]\u001b[A\n",
      " 81%|████████  | 2228224/2752512 [01:00<00:14, 37434.31it/s]\u001b[A\n",
      " 86%|████████▌ | 2359296/2752512 [01:04<00:10, 37856.97it/s]\u001b[A\n",
      " 90%|█████████ | 2490368/2752512 [01:07<00:06, 38506.53it/s]\u001b[A\n",
      " 95%|█████████▌| 2621440/2752512 [01:10<00:03, 38462.13it/s]\u001b[A\n",
      "100%|██████████| 2752512/2752512 [01:14<00:00, 36230.49it/s]\u001b[A"
     ]
    },
    {
     "name": "stdout",
     "output_type": "stream",
     "text": [
      "epoch 118, train loss: 0.148487\n",
      "Evaluation: auc:0.9916954731838458, precision:0.9688067837674137, recall:0.9493849327061477, f1:0.9589975343061207\n"
     ]
    },
    {
     "name": "stderr",
     "output_type": "stream",
     "text": [
      "100%|██████████| 2752512/2752512 [01:19<00:00, 34422.94it/s]\n",
      "100%|██████████| 2752512/2752512 [01:13<00:00, 36714.22it/s]"
     ]
    },
    {
     "name": "stdout",
     "output_type": "stream",
     "text": [
      "epoch 119, train loss: 0.148013\n",
      "Evaluation: auc:0.9916435366154756, precision:0.9656268927922471, recall:0.9534702909601985, f1:0.9595100886234033\n"
     ]
    },
    {
     "name": "stderr",
     "output_type": "stream",
     "text": [
      "\n",
      "100%|██████████| 2752512/2752512 [01:17<00:00, 35314.09it/s]\n",
      "\n",
      "  5%|▍         | 131072/2752512 [00:03<01:05, 40146.48it/s]\u001b[A\n",
      " 10%|▉         | 262144/2752512 [00:06<01:06, 37638.83it/s]\u001b[A\n",
      " 14%|█▍        | 393216/2752512 [00:10<01:01, 38157.50it/s]\u001b[A\n",
      " 19%|█▉        | 524288/2752512 [00:13<00:58, 37949.78it/s]\u001b[A\n",
      " 24%|██▍       | 655360/2752512 [00:17<00:55, 37945.98it/s]\u001b[A\n",
      " 29%|██▊       | 786432/2752512 [00:20<00:50, 38558.61it/s]\u001b[A\n",
      " 33%|███▎      | 917504/2752512 [00:25<00:54, 33888.27it/s]\u001b[A\n",
      " 38%|███▊      | 1048576/2752512 [00:28<00:48, 35402.89it/s]\u001b[A\n",
      " 43%|████▎     | 1179648/2752512 [00:31<00:42, 36810.15it/s]\u001b[A\n",
      " 48%|████▊     | 1310720/2752512 [00:35<00:38, 37193.00it/s]\u001b[A\n",
      " 52%|█████▏    | 1441792/2752512 [00:38<00:35, 37017.61it/s]\u001b[A\n",
      " 57%|█████▋    | 1572864/2752512 [00:42<00:31, 37881.57it/s]\u001b[A\n",
      " 62%|██████▏   | 1703936/2752512 [00:45<00:27, 37548.67it/s]\u001b[A\n",
      " 67%|██████▋   | 1835008/2752512 [00:49<00:23, 38268.50it/s]\u001b[A\n",
      " 71%|███████▏  | 1966080/2752512 [00:52<00:21, 36836.79it/s]\u001b[A\n",
      " 76%|███████▌  | 2097152/2752512 [00:56<00:17, 37470.60it/s]\u001b[A\n",
      " 81%|████████  | 2228224/2752512 [01:00<00:14, 35589.45it/s]\u001b[A\n",
      " 86%|████████▌ | 2359296/2752512 [01:03<00:10, 36769.12it/s]\u001b[A\n",
      " 90%|█████████ | 2490368/2752512 [01:07<00:07, 37125.83it/s]\u001b[A\n",
      " 95%|█████████▌| 2621440/2752512 [01:10<00:03, 38045.06it/s]\u001b[A\n",
      "100%|██████████| 2752512/2752512 [01:13<00:00, 38311.83it/s]\u001b[A"
     ]
    },
    {
     "name": "stdout",
     "output_type": "stream",
     "text": [
      "epoch 120, train loss: 0.147273\n",
      "Evaluation: auc:0.9914111324524424, precision:0.9677468201090248, recall:0.949840231849595, f1:0.9587099193699606\n"
     ]
    },
    {
     "name": "stderr",
     "output_type": "stream",
     "text": [
      "100%|██████████| 2752512/2752512 [01:18<00:00, 35238.26it/s]\n",
      "100%|██████████| 2752512/2752512 [01:13<00:00, 38142.21it/s]"
     ]
    },
    {
     "name": "stdout",
     "output_type": "stream",
     "text": [
      "epoch 121, train loss: 0.146941\n",
      "Evaluation: auc:0.991734973040952, precision:0.975015142337977, recall:0.9456046053984198, f1:0.960084691427975\n"
     ]
    },
    {
     "name": "stderr",
     "output_type": "stream",
     "text": [
      "\n",
      "100%|██████████| 2752512/2752512 [01:18<00:00, 35015.55it/s]\n",
      "\n",
      "  5%|▍         | 131072/2752512 [00:03<01:06, 39145.96it/s]\u001b[A\n",
      " 10%|▉         | 262144/2752512 [00:07<01:13, 34062.07it/s]\u001b[A\n",
      " 14%|█▍        | 393216/2752512 [00:11<01:06, 35622.83it/s]\u001b[A\n",
      " 19%|█▉        | 524288/2752512 [00:14<00:59, 37254.19it/s]\u001b[A\n",
      " 24%|██▍       | 655360/2752512 [00:17<00:55, 38056.88it/s]\u001b[A\n",
      " 29%|██▊       | 786432/2752512 [00:21<00:52, 37741.26it/s]\u001b[A\n",
      " 33%|███▎      | 917504/2752512 [00:24<00:48, 37605.89it/s]\u001b[A\n",
      " 38%|███▊      | 1048576/2752512 [00:27<00:44, 38385.37it/s]\u001b[A\n",
      " 43%|████▎     | 1179648/2752512 [00:31<00:42, 37129.43it/s]\u001b[A\n",
      " 48%|████▊     | 1310720/2752512 [00:34<00:37, 38030.52it/s]\u001b[A\n",
      " 52%|█████▏    | 1441792/2752512 [00:38<00:34, 38182.05it/s]\u001b[A\n",
      " 57%|█████▋    | 1572864/2752512 [00:42<00:33, 34754.42it/s]\u001b[A\n",
      " 62%|██████▏   | 1703936/2752512 [00:46<00:29, 35233.13it/s]\u001b[A\n",
      " 67%|██████▋   | 1835008/2752512 [00:49<00:24, 36718.96it/s]\u001b[A\n",
      " 71%|███████▏  | 1966080/2752512 [00:53<00:21, 37132.24it/s]\u001b[A\n",
      " 76%|███████▌  | 2097152/2752512 [00:56<00:17, 38005.41it/s]\u001b[A\n",
      " 81%|████████  | 2228224/2752512 [01:00<00:14, 37377.50it/s]\u001b[A\n",
      " 86%|████████▌ | 2359296/2752512 [01:03<00:10, 37937.77it/s]\u001b[A\n",
      " 90%|█████████ | 2490368/2752512 [01:06<00:06, 38365.50it/s]\u001b[A\n",
      " 95%|█████████▌| 2621440/2752512 [01:10<00:03, 38645.10it/s]\u001b[A\n",
      "100%|██████████| 2752512/2752512 [01:13<00:00, 37958.14it/s]\u001b[A"
     ]
    },
    {
     "name": "stdout",
     "output_type": "stream",
     "text": [
      "epoch 122, train loss: 0.146275\n",
      "Evaluation: auc:0.9919463054162795, precision:0.9756208358570563, recall:0.943158696002225, f1:0.9591151667621862\n"
     ]
    },
    {
     "name": "stderr",
     "output_type": "stream",
     "text": [
      "100%|██████████| 2752512/2752512 [01:19<00:00, 34801.82it/s]\n",
      "100%|██████████| 2752512/2752512 [01:14<00:00, 36687.73it/s]"
     ]
    },
    {
     "name": "stdout",
     "output_type": "stream",
     "text": [
      "epoch 123, train loss: 0.145922\n",
      "Evaluation: auc:0.9914272435423569, precision:0.9769836462749849, recall:0.9403191721926693, f1:0.9583008428948053\n"
     ]
    },
    {
     "name": "stderr",
     "output_type": "stream",
     "text": [
      "\n",
      "100%|██████████| 2752512/2752512 [01:18<00:00, 35008.88it/s]\n",
      "\n",
      "  5%|▍         | 131072/2752512 [00:03<01:06, 39456.26it/s]\u001b[A\n",
      " 10%|▉         | 262144/2752512 [00:07<01:09, 35771.28it/s]\u001b[A\n",
      " 14%|█▍        | 393216/2752512 [00:10<01:02, 37612.32it/s]\u001b[A\n",
      " 19%|█▉        | 524288/2752512 [00:13<00:57, 38522.40it/s]\u001b[A\n",
      " 24%|██▍       | 655360/2752512 [00:17<00:54, 38285.88it/s]\u001b[A\n",
      " 29%|██▊       | 786432/2752512 [00:20<00:52, 37357.29it/s]\u001b[A\n",
      " 33%|███▎      | 917504/2752512 [00:25<00:52, 34802.54it/s]\u001b[A\n",
      " 38%|███▊      | 1048576/2752512 [00:28<00:47, 35690.47it/s]\u001b[A\n",
      " 43%|████▎     | 1179648/2752512 [00:31<00:42, 36988.66it/s]\u001b[A\n",
      " 48%|████▊     | 1310720/2752512 [00:35<00:38, 36976.60it/s]\u001b[A\n",
      " 52%|█████▏    | 1441792/2752512 [00:38<00:35, 37163.41it/s]\u001b[A\n",
      " 57%|█████▋    | 1572864/2752512 [00:42<00:31, 36874.28it/s]\u001b[A\n",
      " 62%|██████▏   | 1703936/2752512 [00:45<00:27, 37832.38it/s]\u001b[A\n",
      " 67%|██████▋   | 1835008/2752512 [00:49<00:24, 37885.54it/s]\u001b[A\n",
      " 71%|███████▏  | 1966080/2752512 [00:52<00:20, 38608.72it/s]\u001b[A\n",
      " 76%|███████▌  | 2097152/2752512 [00:56<00:17, 37645.46it/s]\u001b[A\n",
      " 81%|████████  | 2228224/2752512 [01:00<00:15, 34881.84it/s]\u001b[A\n",
      " 86%|████████▌ | 2359296/2752512 [01:03<00:10, 36238.74it/s]\u001b[A\n",
      " 90%|█████████ | 2490368/2752512 [01:07<00:07, 36331.24it/s]\u001b[A\n",
      " 95%|█████████▌| 2621440/2752512 [01:10<00:03, 36865.38it/s]\u001b[A\n",
      "100%|██████████| 2752512/2752512 [01:14<00:00, 37501.80it/s]\u001b[A"
     ]
    },
    {
     "name": "stdout",
     "output_type": "stream",
     "text": [
      "epoch 124, train loss: 0.144980\n",
      "Evaluation: auc:0.9919489984320206, precision:0.9678982434887947, recall:0.9527784402575722, f1:0.9602788293972718\n"
     ]
    },
    {
     "name": "stderr",
     "output_type": "stream",
     "text": [
      "100%|██████████| 2752512/2752512 [01:18<00:00, 34912.78it/s]\n",
      "100%|██████████| 2752512/2752512 [01:13<00:00, 37586.30it/s]"
     ]
    },
    {
     "name": "stdout",
     "output_type": "stream",
     "text": [
      "epoch 125, train loss: 0.143948\n",
      "Evaluation: auc:0.9919220201236261, precision:0.9698667474258026, recall:0.951850200624164, f1:0.9607740193504838\n"
     ]
    },
    {
     "name": "stderr",
     "output_type": "stream",
     "text": [
      "\n",
      "100%|██████████| 2752512/2752512 [01:17<00:00, 35291.28it/s]\n",
      "\n",
      "  5%|▍         | 131072/2752512 [00:03<01:11, 36680.22it/s]\u001b[A\n",
      " 10%|▉         | 262144/2752512 [00:07<01:08, 36545.65it/s]\u001b[A\n",
      " 14%|█▍        | 393216/2752512 [00:11<01:09, 34110.59it/s]\u001b[A\n",
      " 19%|█▉        | 524288/2752512 [00:14<01:02, 35612.47it/s]\u001b[A\n",
      " 24%|██▍       | 655360/2752512 [00:18<00:58, 35739.30it/s]\u001b[A\n",
      " 29%|██▊       | 786432/2752512 [00:21<00:53, 36919.53it/s]\u001b[A\n",
      " 33%|███▎      | 917504/2752512 [00:25<00:50, 36195.59it/s]\u001b[A\n",
      " 38%|███▊      | 1048576/2752512 [00:28<00:45, 37464.90it/s]\u001b[A\n",
      " 43%|████▎     | 1179648/2752512 [00:31<00:41, 38244.12it/s]\u001b[A\n",
      " 48%|████▊     | 1310720/2752512 [00:35<00:38, 37734.48it/s]\u001b[A\n",
      " 52%|█████▏    | 1441792/2752512 [00:39<00:35, 37204.51it/s]\u001b[A\n",
      " 57%|█████▋    | 1572864/2752512 [00:42<00:31, 38002.73it/s]\u001b[A\n",
      " 62%|██████▏   | 1703936/2752512 [00:46<00:30, 34947.69it/s]\u001b[A\n",
      " 67%|██████▋   | 1835008/2752512 [00:50<00:25, 35494.85it/s]\u001b[A\n",
      " 71%|███████▏  | 1966080/2752512 [00:54<00:22, 35687.62it/s]\u001b[A\n",
      " 76%|███████▌  | 2097152/2752512 [00:57<00:17, 36479.37it/s]\u001b[A\n",
      " 81%|████████  | 2228224/2752512 [01:00<00:14, 37318.29it/s]\u001b[A\n",
      " 86%|████████▌ | 2359296/2752512 [01:04<00:10, 38233.05it/s]\u001b[A\n",
      " 90%|█████████ | 2490368/2752512 [01:07<00:06, 38943.09it/s]\u001b[A\n",
      " 95%|█████████▌| 2621440/2752512 [01:10<00:03, 39040.84it/s]\u001b[A\n",
      "100%|██████████| 2752512/2752512 [01:13<00:00, 39397.16it/s]\u001b[A"
     ]
    },
    {
     "name": "stdout",
     "output_type": "stream",
     "text": [
      "epoch 126, train loss: 0.143232\n",
      "Evaluation: auc:0.9921682791590435, precision:0.9672925499697154, recall:0.9560727381575993, f1:0.9616499190847164\n"
     ]
    },
    {
     "name": "stderr",
     "output_type": "stream",
     "text": [
      "100%|██████████| 2752512/2752512 [01:18<00:00, 35265.21it/s]\n",
      "100%|██████████| 2752512/2752512 [01:15<00:00, 35580.85it/s]"
     ]
    },
    {
     "name": "stdout",
     "output_type": "stream",
     "text": [
      "epoch 127, train loss: 0.142473\n",
      "Evaluation: auc:0.9923827507492293, precision:0.9763779527559056, recall:0.9472323422258785, f1:0.9615843474111191\n"
     ]
    },
    {
     "name": "stderr",
     "output_type": "stream",
     "text": [
      "\n",
      "100%|██████████| 2752512/2752512 [01:20<00:00, 34313.38it/s]\n",
      "\n",
      "  5%|▍         | 131072/2752512 [00:03<01:06, 39368.34it/s]\u001b[A\n",
      " 10%|▉         | 262144/2752512 [00:06<01:03, 39132.52it/s]\u001b[A\n",
      " 14%|█▍        | 393216/2752512 [00:10<01:00, 38840.26it/s]\u001b[A\n",
      " 19%|█▉        | 524288/2752512 [00:13<00:56, 39290.70it/s]\u001b[A\n",
      " 24%|██▍       | 655360/2752512 [00:16<00:52, 39624.39it/s]\u001b[A\n",
      " 29%|██▊       | 786432/2752512 [00:20<00:51, 38256.15it/s]\u001b[A\n",
      " 33%|███▎      | 917504/2752512 [00:23<00:48, 37999.09it/s]\u001b[A\n",
      " 38%|███▊      | 1048576/2752512 [00:27<00:44, 38508.26it/s]\u001b[A\n",
      " 43%|████▎     | 1179648/2752512 [00:31<00:45, 34482.92it/s]\u001b[A\n",
      " 48%|████▊     | 1310720/2752512 [00:35<00:40, 36009.33it/s]\u001b[A\n",
      " 52%|█████▏    | 1441792/2752512 [00:38<00:35, 37311.32it/s]\u001b[A\n",
      " 57%|█████▋    | 1572864/2752512 [00:41<00:31, 37718.86it/s]\u001b[A\n",
      " 62%|██████▏   | 1703936/2752512 [00:45<00:28, 37263.73it/s]\u001b[A\n",
      " 67%|██████▋   | 1835008/2752512 [00:48<00:24, 37729.50it/s]\u001b[A\n",
      " 71%|███████▏  | 1966080/2752512 [00:51<00:20, 38262.34it/s]\u001b[A\n",
      " 76%|███████▌  | 2097152/2752512 [00:55<00:17, 36781.16it/s]\u001b[A\n",
      " 81%|████████  | 2228224/2752512 [00:59<00:13, 37706.73it/s]\u001b[A\n",
      " 86%|████████▌ | 2359296/2752512 [01:02<00:10, 38467.63it/s]\u001b[A\n",
      " 90%|█████████ | 2490368/2752512 [01:06<00:07, 34987.32it/s]\u001b[A\n",
      " 95%|█████████▌| 2621440/2752512 [01:10<00:03, 36434.25it/s]\u001b[A\n",
      "100%|██████████| 2752512/2752512 [01:13<00:00, 36233.77it/s]\u001b[A"
     ]
    },
    {
     "name": "stdout",
     "output_type": "stream",
     "text": [
      "epoch 128, train loss: 0.141407\n",
      "Evaluation: auc:0.9923064332741092, precision:0.9739551786795881, recall:0.9478058412660989, f1:0.9607026033965139\n"
     ]
    },
    {
     "name": "stderr",
     "output_type": "stream",
     "text": [
      "100%|██████████| 2752512/2752512 [01:18<00:00, 35255.49it/s]\n",
      "100%|██████████| 2752512/2752512 [01:13<00:00, 38289.22it/s]"
     ]
    },
    {
     "name": "stdout",
     "output_type": "stream",
     "text": [
      "epoch 129, train loss: 0.143260\n",
      "Evaluation: auc:0.9918838398327684, precision:0.9800121138703816, recall:0.9393050999970973, f1:0.959226927124246\n"
     ]
    },
    {
     "name": "stderr",
     "output_type": "stream",
     "text": [
      "\n",
      "100%|██████████| 2752512/2752512 [01:17<00:00, 35417.34it/s]\n",
      "\n",
      "  5%|▍         | 131072/2752512 [00:03<01:13, 35503.52it/s]\u001b[A\n",
      " 10%|▉         | 262144/2752512 [00:07<01:10, 35244.06it/s]\u001b[A\n",
      " 14%|█▍        | 393216/2752512 [00:10<01:02, 37469.00it/s]\u001b[A\n",
      " 19%|█▉        | 524288/2752512 [00:13<00:57, 38510.33it/s]\u001b[A\n",
      " 24%|██▍       | 655360/2752512 [00:18<00:59, 35051.04it/s]\u001b[A\n",
      " 29%|██▊       | 786432/2752512 [00:21<00:55, 35539.26it/s]\u001b[A\n",
      " 33%|███▎      | 917504/2752512 [00:25<00:49, 36766.11it/s]\u001b[A\n",
      " 38%|███▊      | 1048576/2752512 [00:28<00:45, 37503.29it/s]\u001b[A\n",
      " 43%|████▎     | 1179648/2752512 [00:31<00:41, 37958.73it/s]\u001b[A\n",
      " 48%|████▊     | 1310720/2752512 [00:35<00:37, 38702.47it/s]\u001b[A\n",
      " 52%|█████▏    | 1441792/2752512 [00:38<00:34, 38281.44it/s]\u001b[A\n",
      " 57%|█████▋    | 1572864/2752512 [00:42<00:31, 37104.85it/s]\u001b[A\n",
      " 62%|██████▏   | 1703936/2752512 [00:45<00:27, 37932.74it/s]\u001b[A\n",
      " 67%|██████▋   | 1835008/2752512 [00:49<00:24, 37997.83it/s]\u001b[A\n",
      " 71%|███████▏  | 1966080/2752512 [00:53<00:22, 34773.62it/s]\u001b[A\n",
      " 76%|███████▌  | 2097152/2752512 [00:57<00:18, 35449.54it/s]\u001b[A\n",
      " 81%|████████  | 2228224/2752512 [01:00<00:14, 36870.59it/s]\u001b[A\n",
      " 86%|████████▌ | 2359296/2752512 [01:03<00:10, 37261.42it/s]\u001b[A\n",
      " 90%|█████████ | 2490368/2752512 [01:07<00:06, 38159.23it/s]\u001b[A\n",
      " 95%|█████████▌| 2621440/2752512 [01:10<00:03, 37598.00it/s]\u001b[A\n",
      "100%|██████████| 2752512/2752512 [01:14<00:00, 37701.24it/s]\u001b[A"
     ]
    },
    {
     "name": "stdout",
     "output_type": "stream",
     "text": [
      "epoch 130, train loss: 0.141028\n",
      "Evaluation: auc:0.992378082167407, precision:0.968503937007874, recall:0.95454138435364, f1:0.9614719720998752\n"
     ]
    },
    {
     "name": "stderr",
     "output_type": "stream",
     "text": [
      "100%|██████████| 2752512/2752512 [01:18<00:00, 35009.27it/s]\n",
      "100%|██████████| 2752512/2752512 [01:13<00:00, 37419.07it/s]"
     ]
    },
    {
     "name": "stdout",
     "output_type": "stream",
     "text": [
      "epoch 131, train loss: 0.139600\n",
      "Evaluation: auc:0.99241507725619, precision:0.9769836462749849, recall:0.9448634399941422, f1:0.9606551274892984\n"
     ]
    },
    {
     "name": "stderr",
     "output_type": "stream",
     "text": [
      "\n",
      "100%|██████████| 2752512/2752512 [01:17<00:00, 35385.99it/s]\n",
      "\n",
      "  5%|▍         | 131072/2752512 [00:04<01:28, 29754.79it/s]\u001b[A\n",
      " 10%|▉         | 262144/2752512 [00:08<01:14, 33207.84it/s]\u001b[A\n",
      " 14%|█▍        | 393216/2752512 [00:11<01:08, 34509.14it/s]\u001b[A\n",
      " 19%|█▉        | 524288/2752512 [00:14<01:00, 36748.05it/s]\u001b[A\n",
      " 24%|██▍       | 655360/2752512 [00:18<00:55, 37509.26it/s]\u001b[A\n",
      " 29%|██▊       | 786432/2752512 [00:21<00:51, 38483.97it/s]\u001b[A\n",
      " 33%|███▎      | 917504/2752512 [00:25<00:48, 37828.74it/s]\u001b[A\n",
      " 38%|███▊      | 1048576/2752512 [00:28<00:44, 37974.36it/s]\u001b[A\n",
      " 43%|████▎     | 1179648/2752512 [00:31<00:40, 38481.21it/s]\u001b[A\n",
      " 48%|████▊     | 1310720/2752512 [00:35<00:37, 38684.49it/s]\u001b[A\n",
      " 52%|█████▏    | 1441792/2752512 [00:40<00:39, 33334.38it/s]\u001b[A\n",
      " 57%|█████▋    | 1572864/2752512 [00:43<00:33, 34740.70it/s]\u001b[A\n",
      " 62%|██████▏   | 1703936/2752512 [00:47<00:29, 35870.85it/s]\u001b[A\n",
      " 67%|██████▋   | 1835008/2752512 [00:50<00:24, 36726.40it/s]\u001b[A\n",
      " 71%|███████▏  | 1966080/2752512 [00:54<00:21, 36655.82it/s]\u001b[A\n",
      " 76%|███████▌  | 2097152/2752512 [00:57<00:17, 37311.39it/s]\u001b[A\n",
      " 81%|████████  | 2228224/2752512 [01:00<00:14, 37442.62it/s]\u001b[A\n",
      " 86%|████████▌ | 2359296/2752512 [01:04<00:10, 37915.62it/s]\u001b[A\n",
      " 90%|█████████ | 2490368/2752512 [01:07<00:06, 38680.61it/s]\u001b[A\n",
      " 95%|█████████▌| 2621440/2752512 [01:10<00:03, 38618.33it/s]\u001b[A\n",
      "100%|██████████| 2752512/2752512 [01:15<00:00, 35892.35it/s]\u001b[A"
     ]
    },
    {
     "name": "stdout",
     "output_type": "stream",
     "text": [
      "epoch 132, train loss: 0.139265\n",
      "Evaluation: auc:0.9924767983337742, precision:0.9744094488188977, recall:0.9498435378166145, f1:0.9619696833796754\n"
     ]
    },
    {
     "name": "stderr",
     "output_type": "stream",
     "text": [
      "100%|██████████| 2752512/2752512 [01:19<00:00, 34560.97it/s]\n",
      "100%|██████████| 2752512/2752512 [01:14<00:00, 36816.48it/s]"
     ]
    },
    {
     "name": "stdout",
     "output_type": "stream",
     "text": [
      "epoch 133, train loss: 0.138216\n",
      "Evaluation: auc:0.9925522610142854, precision:0.9635069654754694, recall:0.9593667546174143, f1:0.9614324028255204\n"
     ]
    },
    {
     "name": "stderr",
     "output_type": "stream",
     "text": [
      "\n",
      "100%|██████████| 2752512/2752512 [01:19<00:00, 34641.75it/s]\n",
      "\n",
      "  5%|▍         | 131072/2752512 [00:03<01:06, 39675.36it/s]\u001b[A\n",
      " 10%|▉         | 262144/2752512 [00:06<01:02, 40162.17it/s]\u001b[A\n",
      " 14%|█▍        | 393216/2752512 [00:09<00:58, 40116.14it/s]\u001b[A\n",
      " 19%|█▉        | 524288/2752512 [00:13<00:57, 39018.66it/s]\u001b[A\n",
      " 24%|██▍       | 655360/2752512 [00:16<00:55, 37765.26it/s]\u001b[A\n",
      " 29%|██▊       | 786432/2752512 [00:21<00:56, 34712.58it/s]\u001b[A\n",
      " 33%|███▎      | 917504/2752512 [00:24<00:50, 36403.69it/s]\u001b[A\n",
      " 38%|███▊      | 1048576/2752512 [00:27<00:45, 37656.87it/s]\u001b[A\n",
      " 43%|████▎     | 1179648/2752512 [00:31<00:42, 37190.01it/s]\u001b[A\n",
      " 48%|████▊     | 1310720/2752512 [00:34<00:38, 37218.29it/s]\u001b[A\n",
      " 52%|█████▏    | 1441792/2752512 [00:38<00:34, 37996.95it/s]\u001b[A\n",
      " 57%|█████▋    | 1572864/2752512 [00:41<00:30, 38697.32it/s]\u001b[A\n",
      " 62%|██████▏   | 1703936/2752512 [00:45<00:28, 36964.93it/s]\u001b[A\n",
      " 67%|██████▋   | 1835008/2752512 [00:49<00:25, 36680.92it/s]\u001b[A\n",
      " 71%|███████▏  | 1966080/2752512 [00:52<00:20, 37673.62it/s]\u001b[A\n",
      " 76%|███████▌  | 2097152/2752512 [00:56<00:19, 34415.53it/s]\u001b[A\n",
      " 81%|████████  | 2228224/2752512 [01:00<00:14, 36095.30it/s]\u001b[A\n",
      " 86%|████████▌ | 2359296/2752512 [01:03<00:10, 37306.19it/s]\u001b[A\n",
      " 90%|█████████ | 2490368/2752512 [01:06<00:06, 37490.21it/s]\u001b[A\n",
      " 95%|█████████▌| 2621440/2752512 [01:10<00:03, 38286.37it/s]\u001b[A\n",
      "100%|██████████| 2752512/2752512 [01:13<00:00, 37655.34it/s]\u001b[A"
     ]
    },
    {
     "name": "stdout",
     "output_type": "stream",
     "text": [
      "epoch 134, train loss: 0.137752\n",
      "Evaluation: auc:0.9929701370349486, precision:0.9718352513628105, recall:0.9545055696842606, f1:0.9630924601775224\n"
     ]
    },
    {
     "name": "stderr",
     "output_type": "stream",
     "text": [
      "100%|██████████| 2752512/2752512 [01:18<00:00, 35259.14it/s]\n",
      "100%|██████████| 2752512/2752512 [01:14<00:00, 38749.04it/s]"
     ]
    },
    {
     "name": "stdout",
     "output_type": "stream",
     "text": [
      "epoch 135, train loss: 0.137569\n",
      "Evaluation: auc:0.9928822527763399, precision:0.9692610539067232, recall:0.9573306612027579, f1:0.9632589181583561\n"
     ]
    },
    {
     "name": "stderr",
     "output_type": "stream",
     "text": [
      "\n",
      "100%|██████████| 2752512/2752512 [01:18<00:00, 35123.79it/s]\n",
      "\n",
      "  5%|▍         | 131072/2752512 [00:03<01:06, 39583.16it/s]\u001b[A\n",
      " 10%|▉         | 262144/2752512 [00:08<01:19, 31229.60it/s]\u001b[A\n",
      " 14%|█▍        | 393216/2752512 [00:11<01:07, 34822.77it/s]\u001b[A\n",
      " 19%|█▉        | 524288/2752512 [00:14<01:00, 36905.09it/s]\u001b[A\n",
      " 24%|██▍       | 655360/2752512 [00:17<00:54, 38144.83it/s]\u001b[A\n",
      " 29%|██▊       | 786432/2752512 [00:22<00:55, 35229.44it/s]\u001b[A\n",
      " 33%|███▎      | 917504/2752512 [00:25<00:49, 36777.91it/s]\u001b[A\n",
      " 38%|███▊      | 1048576/2752512 [00:28<00:45, 37779.42it/s]\u001b[A\n",
      " 43%|████▎     | 1179648/2752512 [00:32<00:41, 37549.67it/s]\u001b[A\n",
      " 48%|████▊     | 1310720/2752512 [00:35<00:37, 38287.71it/s]\u001b[A\n",
      " 52%|█████▏    | 1441792/2752512 [00:38<00:33, 38851.58it/s]\u001b[A\n",
      " 57%|█████▋    | 1572864/2752512 [00:43<00:34, 34277.09it/s]\u001b[A\n",
      " 62%|██████▏   | 1703936/2752512 [00:46<00:29, 35878.16it/s]\u001b[A\n",
      " 67%|██████▋   | 1835008/2752512 [00:50<00:24, 37088.54it/s]\u001b[A\n",
      " 71%|███████▏  | 1966080/2752512 [00:54<00:22, 35547.04it/s]\u001b[A\n",
      " 76%|███████▌  | 2097152/2752512 [00:57<00:18, 35591.28it/s]\u001b[A\n",
      " 81%|████████  | 2228224/2752512 [01:01<00:14, 36879.77it/s]\u001b[A\n",
      " 86%|████████▌ | 2359296/2752512 [01:04<00:10, 37378.83it/s]\u001b[A\n",
      " 90%|█████████ | 2490368/2752512 [01:07<00:06, 38278.37it/s]\u001b[A\n",
      " 95%|█████████▌| 2621440/2752512 [01:10<00:03, 38919.66it/s]\u001b[A\n",
      "100%|██████████| 2752512/2752512 [01:14<00:00, 38749.31it/s]\u001b[A"
     ]
    },
    {
     "name": "stdout",
     "output_type": "stream",
     "text": [
      "epoch 136, train loss: 0.136428\n",
      "Evaluation: auc:0.9931738918211565, precision:0.9757722592368262, recall:0.9509053078932224, f1:0.9631783090570748\n"
     ]
    },
    {
     "name": "stderr",
     "output_type": "stream",
     "text": [
      "100%|██████████| 2752512/2752512 [01:19<00:00, 34434.65it/s]\n",
      "100%|██████████| 2752512/2752512 [01:14<00:00, 35040.59it/s]"
     ]
    },
    {
     "name": "stdout",
     "output_type": "stream",
     "text": [
      "epoch 137, train loss: 0.136580\n",
      "Evaluation: auc:0.9930103233875107, precision:0.9766807995154452, recall:0.9504022632835293, f1:0.9633623586695144\n"
     ]
    },
    {
     "name": "stderr",
     "output_type": "stream",
     "text": [
      "\n",
      "100%|██████████| 2752512/2752512 [01:18<00:00, 34988.82it/s]\n",
      "\n",
      "  5%|▍         | 131072/2752512 [00:03<01:07, 38913.30it/s]\u001b[A\n",
      " 10%|▉         | 262144/2752512 [00:06<01:05, 37823.91it/s]\u001b[A\n",
      " 14%|█▍        | 393216/2752512 [00:10<01:00, 39153.16it/s]\u001b[A\n",
      " 19%|█▉        | 524288/2752512 [00:13<00:56, 39781.35it/s]\u001b[A\n",
      " 24%|██▍       | 655360/2752512 [00:16<00:53, 39180.58it/s]\u001b[A\n",
      " 29%|██▊       | 786432/2752512 [00:19<00:49, 39655.21it/s]\u001b[A\n",
      " 33%|███▎      | 917504/2752512 [00:23<00:47, 38481.25it/s]\u001b[A\n",
      " 38%|███▊      | 1048576/2752512 [00:28<00:52, 32504.86it/s]\u001b[A\n",
      " 43%|████▎     | 1179648/2752512 [00:32<00:45, 34451.84it/s]\u001b[A\n",
      " 48%|████▊     | 1310720/2752512 [00:35<00:40, 35978.11it/s]\u001b[A\n",
      " 52%|█████▏    | 1441792/2752512 [00:39<00:36, 35710.09it/s]\u001b[A\n",
      " 57%|█████▋    | 1572864/2752512 [00:42<00:31, 37048.56it/s]\u001b[A\n",
      " 62%|██████▏   | 1703936/2752512 [00:45<00:27, 37925.95it/s]\u001b[A\n",
      " 67%|██████▋   | 1835008/2752512 [00:49<00:24, 37414.88it/s]\u001b[A\n",
      " 71%|███████▏  | 1966080/2752512 [00:52<00:21, 37149.32it/s]\u001b[A\n",
      " 76%|███████▌  | 2097152/2752512 [00:56<00:17, 38092.86it/s]\u001b[A\n",
      " 81%|████████  | 2228224/2752512 [01:00<00:14, 36306.11it/s]\u001b[A\n",
      " 86%|████████▌ | 2359296/2752512 [01:04<00:11, 34183.90it/s]\u001b[A\n",
      " 90%|█████████ | 2490368/2752512 [01:07<00:07, 35816.49it/s]\u001b[A\n",
      " 95%|█████████▌| 2621440/2752512 [01:11<00:03, 36526.05it/s]\u001b[A\n",
      "100%|██████████| 2752512/2752512 [01:14<00:00, 37698.39it/s]\u001b[A"
     ]
    },
    {
     "name": "stdout",
     "output_type": "stream",
     "text": [
      "epoch 138, train loss: 0.135266\n",
      "Evaluation: auc:0.9930912165818414, precision:0.9748637189582071, recall:0.9530859080075205, f1:0.9638518141463742\n"
     ]
    },
    {
     "name": "stderr",
     "output_type": "stream",
     "text": [
      "100%|██████████| 2752512/2752512 [01:18<00:00, 35073.07it/s]\n",
      "100%|██████████| 2752512/2752512 [01:14<00:00, 38315.49it/s]"
     ]
    },
    {
     "name": "stdout",
     "output_type": "stream",
     "text": [
      "epoch 139, train loss: 0.134682\n",
      "Evaluation: auc:0.9930290720048895, precision:0.9739551786795881, recall:0.9523386487807045, f1:0.9630256252854117\n"
     ]
    },
    {
     "name": "stderr",
     "output_type": "stream",
     "text": [
      "\n",
      "100%|██████████| 2752512/2752512 [01:19<00:00, 34819.25it/s]\n",
      "\n",
      "  5%|▍         | 131072/2752512 [00:03<01:11, 36652.58it/s]\u001b[A\n",
      " 10%|▉         | 262144/2752512 [00:06<01:04, 38733.16it/s]\u001b[A\n",
      " 14%|█▍        | 393216/2752512 [00:10<01:00, 39270.76it/s]\u001b[A\n",
      " 19%|█▉        | 524288/2752512 [00:14<01:04, 34565.98it/s]\u001b[A\n",
      " 24%|██▍       | 655360/2752512 [00:17<00:57, 36324.19it/s]\u001b[A\n",
      " 29%|██▊       | 786432/2752512 [00:21<00:52, 37252.81it/s]\u001b[A\n",
      " 33%|███▎      | 917504/2752512 [00:24<00:48, 37625.59it/s]\u001b[A\n",
      " 38%|███▊      | 1048576/2752512 [00:27<00:44, 38491.64it/s]\u001b[A\n",
      " 43%|████▎     | 1179648/2752512 [00:31<00:41, 37773.75it/s]\u001b[A\n",
      " 48%|████▊     | 1310720/2752512 [00:35<00:38, 37606.57it/s]\u001b[A\n",
      " 52%|█████▏    | 1441792/2752512 [00:38<00:34, 37811.67it/s]\u001b[A\n",
      " 57%|█████▋    | 1572864/2752512 [00:41<00:30, 38459.62it/s]\u001b[A\n",
      " 62%|██████▏   | 1703936/2752512 [00:45<00:28, 36972.52it/s]\u001b[A\n",
      " 67%|██████▋   | 1835008/2752512 [00:49<00:26, 34631.70it/s]\u001b[A\n",
      " 71%|███████▏  | 1966080/2752512 [00:53<00:21, 36097.85it/s]\u001b[A\n",
      " 76%|███████▌  | 2097152/2752512 [00:56<00:17, 36646.85it/s]\u001b[A\n",
      " 81%|████████  | 2228224/2752512 [00:59<00:13, 37639.80it/s]\u001b[A\n",
      " 86%|████████▌ | 2359296/2752512 [01:03<00:10, 38253.33it/s]\u001b[A\n",
      " 90%|█████████ | 2490368/2752512 [01:06<00:06, 38142.01it/s]\u001b[A\n",
      " 95%|█████████▌| 2621440/2752512 [01:10<00:03, 37447.99it/s]\u001b[A\n",
      "100%|██████████| 2752512/2752512 [01:13<00:00, 36890.88it/s]\u001b[A"
     ]
    },
    {
     "name": "stdout",
     "output_type": "stream",
     "text": [
      "epoch 140, train loss: 0.134866\n",
      "Evaluation: auc:0.992935982166343, precision:0.9718352513628105, recall:0.954051522944508, f1:0.9628612792642768\n"
     ]
    },
    {
     "name": "stderr",
     "output_type": "stream",
     "text": [
      "100%|██████████| 2752512/2752512 [01:18<00:00, 35190.86it/s]\n",
      "100%|██████████| 2752512/2752512 [01:13<00:00, 39380.95it/s]"
     ]
    },
    {
     "name": "stdout",
     "output_type": "stream",
     "text": [
      "epoch 141, train loss: 0.133193\n",
      "Evaluation: auc:0.9931349053452545, precision:0.9804663840096911, recall:0.942380183091007, f1:0.9610460931064423\n"
     ]
    },
    {
     "name": "stderr",
     "output_type": "stream",
     "text": [
      "\n",
      "100%|██████████| 2752512/2752512 [01:19<00:00, 34836.87it/s]\n",
      "\n",
      "  5%|▍         | 131072/2752512 [00:03<01:06, 39194.95it/s]\u001b[A\n",
      " 10%|▉         | 262144/2752512 [00:06<01:06, 37572.93it/s]\u001b[A\n",
      " 14%|█▍        | 393216/2752512 [00:10<01:05, 36154.56it/s]\u001b[A\n",
      " 19%|█▉        | 524288/2752512 [00:13<00:58, 37885.00it/s]\u001b[A\n",
      " 24%|██▍       | 655360/2752512 [00:17<00:53, 38858.54it/s]\u001b[A\n",
      " 29%|██▊       | 786432/2752512 [00:20<00:52, 37369.13it/s]\u001b[A\n",
      " 33%|███▎      | 917504/2752512 [00:24<00:48, 38117.12it/s]\u001b[A\n",
      " 38%|███▊      | 1048576/2752512 [00:27<00:43, 38732.59it/s]\u001b[A\n",
      " 43%|████▎     | 1179648/2752512 [00:31<00:41, 38158.17it/s]\u001b[A\n",
      " 48%|████▊     | 1310720/2752512 [00:35<00:41, 35104.14it/s]\u001b[A\n",
      " 52%|█████▏    | 1441792/2752512 [00:38<00:35, 36600.27it/s]\u001b[A\n",
      " 57%|█████▋    | 1572864/2752512 [00:42<00:33, 34829.49it/s]\u001b[A\n",
      " 62%|██████▏   | 1703936/2752512 [00:46<00:28, 36426.20it/s]\u001b[A\n",
      " 67%|██████▋   | 1835008/2752512 [00:49<00:24, 37495.05it/s]\u001b[A\n",
      " 71%|███████▏  | 1966080/2752512 [00:52<00:20, 37517.02it/s]\u001b[A\n",
      " 76%|███████▌  | 2097152/2752512 [00:56<00:17, 37187.64it/s]\u001b[A\n",
      " 81%|████████  | 2228224/2752512 [00:59<00:13, 37912.84it/s]\u001b[A\n",
      " 86%|████████▌ | 2359296/2752512 [01:03<00:10, 37744.28it/s]\u001b[A\n",
      " 90%|█████████ | 2490368/2752512 [01:06<00:06, 38195.53it/s]\u001b[A\n",
      " 95%|█████████▌| 2621440/2752512 [01:10<00:03, 35499.51it/s]\u001b[A\n",
      "100%|██████████| 2752512/2752512 [01:14<00:00, 34744.34it/s]\u001b[A"
     ]
    },
    {
     "name": "stdout",
     "output_type": "stream",
     "text": [
      "epoch 142, train loss: 0.132655\n",
      "Evaluation: auc:0.9932285363091437, precision:0.9762265293761356, recall:0.9507166873119802, f1:0.963302752293578\n"
     ]
    },
    {
     "name": "stderr",
     "output_type": "stream",
     "text": [
      "100%|██████████| 2752512/2752512 [01:19<00:00, 34714.08it/s]\n",
      "100%|██████████| 2752512/2752512 [01:14<00:00, 35815.02it/s]"
     ]
    },
    {
     "name": "stdout",
     "output_type": "stream",
     "text": [
      "epoch 143, train loss: 0.133094\n",
      "Evaluation: auc:0.9927466389696094, precision:0.9810720775287705, recall:0.946253833795823, f1:0.9633484499293734\n"
     ]
    },
    {
     "name": "stderr",
     "output_type": "stream",
     "text": [
      "\n",
      "100%|██████████| 2752512/2752512 [01:18<00:00, 35097.28it/s]\n",
      "\n",
      "  5%|▍         | 131072/2752512 [00:03<01:04, 40423.30it/s]\u001b[A\n",
      " 10%|▉         | 262144/2752512 [00:06<01:06, 37423.36it/s]\u001b[A\n",
      " 14%|█▍        | 393216/2752512 [00:10<01:00, 38756.68it/s]\u001b[A\n",
      " 19%|█▉        | 524288/2752512 [00:13<00:58, 37798.96it/s]\u001b[A\n",
      " 24%|██▍       | 655360/2752512 [00:17<00:55, 37572.50it/s]\u001b[A\n",
      " 29%|██▊       | 786432/2752512 [00:21<00:56, 34618.44it/s]\u001b[A\n",
      " 33%|███▎      | 917504/2752512 [00:25<00:52, 35254.40it/s]\u001b[A\n",
      " 38%|███▊      | 1048576/2752512 [00:28<00:47, 35833.43it/s]\u001b[A\n",
      " 43%|████▎     | 1179648/2752512 [00:31<00:42, 37198.97it/s]\u001b[A\n",
      " 48%|████▊     | 1310720/2752512 [00:35<00:37, 38161.72it/s]\u001b[A\n",
      " 52%|█████▏    | 1441792/2752512 [00:38<00:35, 37136.66it/s]\u001b[A\n",
      " 57%|█████▋    | 1572864/2752512 [00:42<00:31, 37744.48it/s]\u001b[A\n",
      " 62%|██████▏   | 1703936/2752512 [00:46<00:28, 36973.34it/s]\u001b[A\n",
      " 67%|██████▋   | 1835008/2752512 [00:49<00:24, 37249.61it/s]\u001b[A\n",
      " 71%|███████▏  | 1966080/2752512 [00:53<00:21, 37124.32it/s]\u001b[A\n",
      " 76%|███████▌  | 2097152/2752512 [00:57<00:18, 34858.46it/s]\u001b[A\n",
      " 81%|████████  | 2228224/2752512 [01:00<00:14, 35699.62it/s]\u001b[A\n",
      " 86%|████████▌ | 2359296/2752512 [01:04<00:10, 36929.96it/s]\u001b[A\n",
      " 90%|█████████ | 2490368/2752512 [01:07<00:06, 37867.50it/s]\u001b[A\n",
      " 95%|█████████▌| 2621440/2752512 [01:10<00:03, 37883.06it/s]\u001b[A\n",
      "100%|██████████| 2752512/2752512 [01:14<00:00, 38242.98it/s]\u001b[A"
     ]
    },
    {
     "name": "stdout",
     "output_type": "stream",
     "text": [
      "epoch 144, train loss: 0.132308\n",
      "Evaluation: auc:0.9931879977665281, precision:0.9700181708055724, recall:0.9582504375402013, f1:0.964098396430157\n"
     ]
    },
    {
     "name": "stderr",
     "output_type": "stream",
     "text": [
      "100%|██████████| 2752512/2752512 [01:18<00:00, 34906.73it/s]\n",
      "100%|██████████| 2752512/2752512 [01:13<00:00, 38970.04it/s]"
     ]
    },
    {
     "name": "stdout",
     "output_type": "stream",
     "text": [
      "epoch 145, train loss: 0.131163\n",
      "Evaluation: auc:0.9932970425482271, precision:0.9806178073894609, recall:0.9471436510954456, f1:0.9635901022214948\n"
     ]
    },
    {
     "name": "stderr",
     "output_type": "stream",
     "text": [
      "\n",
      "100%|██████████| 2752512/2752512 [01:17<00:00, 35294.40it/s]\n",
      "\n",
      "  5%|▍         | 131072/2752512 [00:03<01:08, 38051.13it/s]\u001b[A\n",
      " 10%|▉         | 262144/2752512 [00:07<01:14, 33379.83it/s]\u001b[A\n",
      " 14%|█▍        | 393216/2752512 [00:10<01:05, 36277.77it/s]\u001b[A\n",
      " 19%|█▉        | 524288/2752512 [00:14<01:00, 37048.12it/s]\u001b[A\n",
      " 24%|██▍       | 655360/2752512 [00:17<00:54, 38239.16it/s]\u001b[A\n",
      " 29%|██▊       | 786432/2752512 [00:21<00:51, 38192.18it/s]\u001b[A\n",
      " 33%|███▎      | 917504/2752512 [00:24<00:47, 38297.77it/s]\u001b[A\n",
      " 38%|███▊      | 1048576/2752512 [00:27<00:43, 38999.22it/s]\u001b[A\n",
      " 43%|████▎     | 1179648/2752512 [00:31<00:40, 38412.37it/s]\u001b[A\n",
      " 48%|████▊     | 1310720/2752512 [00:34<00:37, 38386.98it/s]\u001b[A\n",
      " 52%|█████▏    | 1441792/2752512 [00:37<00:33, 38570.19it/s]\u001b[A\n",
      " 57%|█████▋    | 1572864/2752512 [00:42<00:32, 35841.86it/s]\u001b[A\n",
      " 62%|██████▏   | 1703936/2752512 [00:46<00:29, 35333.14it/s]\u001b[A\n",
      " 67%|██████▋   | 1835008/2752512 [00:49<00:25, 36449.69it/s]\u001b[A\n",
      " 71%|███████▏  | 1966080/2752512 [00:52<00:21, 36433.87it/s]\u001b[A\n",
      " 76%|███████▌  | 2097152/2752512 [00:56<00:17, 36605.40it/s]\u001b[A\n",
      " 81%|████████  | 2228224/2752512 [00:59<00:14, 37424.92it/s]\u001b[A\n",
      " 86%|████████▌ | 2359296/2752512 [01:03<00:10, 38044.25it/s]\u001b[A\n",
      " 90%|█████████ | 2490368/2752512 [01:06<00:06, 38437.47it/s]\u001b[A\n",
      " 95%|█████████▌| 2621440/2752512 [01:09<00:03, 38518.18it/s]\u001b[A\n",
      "100%|██████████| 2752512/2752512 [01:13<00:00, 37770.87it/s]\u001b[A"
     ]
    },
    {
     "name": "stdout",
     "output_type": "stream",
     "text": [
      "epoch 146, train loss: 0.130909\n",
      "Evaluation: auc:0.9935140909039214, precision:0.9704724409448819, recall:0.9584267982652909, f1:0.9644120081257993\n"
     ]
    },
    {
     "name": "stderr",
     "output_type": "stream",
     "text": [
      "100%|██████████| 2752512/2752512 [01:19<00:00, 34832.88it/s]\n",
      "100%|██████████| 2752512/2752512 [01:14<00:00, 35644.95it/s]"
     ]
    },
    {
     "name": "stdout",
     "output_type": "stream",
     "text": [
      "epoch 147, train loss: 0.130413\n",
      "Evaluation: auc:0.9933113050989416, precision:0.9775893397940641, recall:0.9510901591043017, f1:0.9641577060931898\n"
     ]
    },
    {
     "name": "stderr",
     "output_type": "stream",
     "text": [
      "\n",
      "100%|██████████| 2752512/2752512 [01:18<00:00, 35095.37it/s]\n",
      "\n",
      "  5%|▍         | 131072/2752512 [00:03<01:04, 40458.57it/s]\u001b[A\n",
      " 10%|▉         | 262144/2752512 [00:06<01:05, 38167.35it/s]\u001b[A\n",
      " 14%|█▍        | 393216/2752512 [00:10<01:01, 38401.90it/s]\u001b[A\n",
      " 19%|█▉        | 524288/2752512 [00:13<00:56, 39219.24it/s]\u001b[A\n",
      " 24%|██▍       | 655360/2752512 [00:16<00:53, 39443.64it/s]\u001b[A\n",
      " 29%|██▊       | 786432/2752512 [00:20<00:52, 37433.90it/s]\u001b[A\n",
      " 33%|███▎      | 917504/2752512 [00:24<00:49, 36905.71it/s]\u001b[A\n",
      " 38%|███▊      | 1048576/2752512 [00:28<00:49, 34398.30it/s]\u001b[A\n",
      " 43%|████▎     | 1179648/2752512 [00:32<00:44, 35386.06it/s]\u001b[A\n",
      " 48%|████▊     | 1310720/2752512 [00:35<00:39, 36660.07it/s]\u001b[A\n",
      " 52%|█████▏    | 1441792/2752512 [00:38<00:34, 37707.77it/s]\u001b[A\n",
      " 57%|█████▋    | 1572864/2752512 [00:42<00:32, 36732.03it/s]\u001b[A\n",
      " 62%|██████▏   | 1703936/2752512 [00:45<00:27, 37639.07it/s]\u001b[A\n",
      " 67%|██████▋   | 1835008/2752512 [00:48<00:23, 38375.66it/s]\u001b[A\n",
      " 71%|███████▏  | 1966080/2752512 [00:52<00:20, 38880.48it/s]\u001b[A\n",
      " 76%|███████▌  | 2097152/2752512 [00:56<00:17, 36667.03it/s]\u001b[A\n",
      " 81%|████████  | 2228224/2752512 [00:59<00:13, 37640.70it/s]\u001b[A\n",
      " 86%|████████▌ | 2359296/2752512 [01:04<00:11, 34204.14it/s]\u001b[A\n",
      " 90%|█████████ | 2490368/2752512 [01:07<00:07, 35481.99it/s]\u001b[A\n",
      " 95%|█████████▌| 2621440/2752512 [01:10<00:03, 36622.23it/s]\u001b[A\n",
      "100%|██████████| 2752512/2752512 [01:14<00:00, 37543.19it/s]\u001b[A"
     ]
    },
    {
     "name": "stdout",
     "output_type": "stream",
     "text": [
      "epoch 148, train loss: 0.130986\n",
      "Evaluation: auc:0.9934785729038914, precision:0.9789521502119928, recall:0.9502880997177798, f1:0.9644071841995346\n"
     ]
    },
    {
     "name": "stderr",
     "output_type": "stream",
     "text": [
      "100%|██████████| 2752512/2752512 [01:18<00:00, 35017.41it/s]\n",
      "100%|██████████| 2752512/2752512 [01:14<00:00, 35503.02it/s]"
     ]
    },
    {
     "name": "stdout",
     "output_type": "stream",
     "text": [
      "epoch 149, train loss: 0.129872\n",
      "Evaluation: auc:0.9934754972024737, precision:0.9777407631738341, recall:0.952922077922078, f1:0.965171898355755\n"
     ]
    },
    {
     "name": "stderr",
     "output_type": "stream",
     "text": [
      "\n",
      "100%|██████████| 2752512/2752512 [01:18<00:00, 34983.58it/s]\n",
      "\n",
      "  5%|▍         | 131072/2752512 [00:03<01:05, 40323.82it/s]\u001b[A\n",
      " 10%|▉         | 262144/2752512 [00:07<01:07, 36883.64it/s]\u001b[A\n",
      " 14%|█▍        | 393216/2752512 [00:10<01:02, 37935.36it/s]\u001b[A\n",
      " 19%|█▉        | 524288/2752512 [00:14<01:04, 34417.04it/s]\u001b[A\n",
      " 24%|██▍       | 655360/2752512 [00:18<00:58, 35731.64it/s]\u001b[A\n",
      " 29%|██▊       | 786432/2752512 [00:21<00:52, 37141.68it/s]\u001b[A\n",
      " 33%|███▎      | 917504/2752512 [00:24<00:49, 36894.38it/s]\u001b[A\n",
      " 38%|███▊      | 1048576/2752512 [00:29<00:48, 35230.03it/s]\u001b[A\n",
      " 43%|████▎     | 1179648/2752512 [00:32<00:42, 36713.25it/s]\u001b[A\n",
      " 48%|████▊     | 1310720/2752512 [00:35<00:38, 37043.96it/s]\u001b[A\n",
      " 52%|█████▏    | 1441792/2752512 [00:39<00:36, 36291.72it/s]\u001b[A\n",
      " 57%|█████▋    | 1572864/2752512 [00:42<00:31, 37224.71it/s]\u001b[A\n",
      " 62%|██████▏   | 1703936/2752512 [00:46<00:27, 37783.53it/s]\u001b[A\n",
      " 67%|██████▋   | 1835008/2752512 [00:50<00:26, 34076.45it/s]\u001b[A\n",
      " 71%|███████▏  | 1966080/2752512 [00:54<00:22, 34738.71it/s]\u001b[A\n",
      " 76%|███████▌  | 2097152/2752512 [00:57<00:18, 36200.89it/s]\u001b[A\n",
      " 81%|████████  | 2228224/2752512 [01:01<00:14, 35576.47it/s]\u001b[A\n",
      " 86%|████████▌ | 2359296/2752512 [01:04<00:10, 36629.79it/s]\u001b[A\n",
      " 90%|█████████ | 2490368/2752512 [01:08<00:06, 37563.30it/s]\u001b[A\n",
      " 95%|█████████▌| 2621440/2752512 [01:11<00:03, 37832.49it/s]\u001b[A\n",
      "100%|██████████| 2752512/2752512 [01:14<00:00, 38461.99it/s]\u001b[A"
     ]
    },
    {
     "name": "stdout",
     "output_type": "stream",
     "text": [
      "epoch 150, train loss: 0.129492\n",
      "Evaluation: auc:0.9936994322953143, precision:0.9721380981223501, recall:0.9579944788480191, f1:0.9650144677013265\n"
     ]
    },
    {
     "name": "stderr",
     "output_type": "stream",
     "text": [
      "100%|██████████| 2752512/2752512 [01:19<00:00, 34815.45it/s]\n",
      "100%|██████████| 2752512/2752512 [01:13<00:00, 38881.83it/s]"
     ]
    },
    {
     "name": "stdout",
     "output_type": "stream",
     "text": [
      "epoch 151, train loss: 0.129322\n",
      "Evaluation: auc:0.9933804113910003, precision:0.9766807995154452, recall:0.9520997859620636, f1:0.9642336584818925\n"
     ]
    },
    {
     "name": "stderr",
     "output_type": "stream",
     "text": [
      "\n",
      "100%|██████████| 2752512/2752512 [01:20<00:00, 34245.80it/s]\n",
      "\n",
      "  5%|▍         | 131072/2752512 [00:03<01:05, 39897.30it/s]\u001b[A\n",
      " 10%|▉         | 262144/2752512 [00:06<01:02, 39598.59it/s]\u001b[A\n",
      " 14%|█▍        | 393216/2752512 [00:09<00:59, 39649.62it/s]\u001b[A\n",
      " 19%|█▉        | 524288/2752512 [00:13<00:57, 38969.74it/s]\u001b[A\n",
      " 24%|██▍       | 655360/2752512 [00:16<00:53, 39485.84it/s]\u001b[A\n",
      " 29%|██▊       | 786432/2752512 [00:19<00:49, 39800.84it/s]\u001b[A\n",
      " 33%|███▎      | 917504/2752512 [00:23<00:46, 39209.42it/s]\u001b[A\n",
      " 38%|███▊      | 1048576/2752512 [00:26<00:42, 39658.97it/s]\u001b[A\n",
      " 43%|████▎     | 1179648/2752512 [00:30<00:41, 37614.86it/s]\u001b[A\n",
      " 48%|████▊     | 1310720/2752512 [00:35<00:42, 33664.32it/s]\u001b[A\n",
      " 52%|█████▏    | 1441792/2752512 [00:38<00:37, 35368.96it/s]\u001b[A\n",
      " 57%|█████▋    | 1572864/2752512 [00:41<00:32, 36842.95it/s]\u001b[A\n",
      " 62%|██████▏   | 1703936/2752512 [00:45<00:29, 35619.51it/s]\u001b[A\n",
      " 67%|██████▋   | 1835008/2752512 [00:48<00:24, 36880.49it/s]\u001b[A\n",
      " 71%|███████▏  | 1966080/2752512 [00:52<00:20, 37831.07it/s]\u001b[A\n",
      " 76%|███████▌  | 2097152/2752512 [00:55<00:17, 37835.66it/s]\u001b[A\n",
      " 81%|████████  | 2228224/2752512 [00:58<00:13, 38337.06it/s]\u001b[A\n",
      " 86%|████████▌ | 2359296/2752512 [01:02<00:10, 38227.65it/s]\u001b[A\n",
      " 90%|█████████ | 2490368/2752512 [01:05<00:06, 37837.54it/s]\u001b[A\n",
      " 95%|█████████▌| 2621440/2752512 [01:10<00:03, 35149.28it/s]\u001b[A\n",
      "100%|██████████| 2752512/2752512 [01:13<00:00, 35528.81it/s]\u001b[A"
     ]
    },
    {
     "name": "stdout",
     "output_type": "stream",
     "text": [
      "epoch 152, train loss: 0.127912\n",
      "Evaluation: auc:0.9938979175295629, precision:0.9754694124772865, recall:0.956410713225251, f1:0.965846052355393\n"
     ]
    },
    {
     "name": "stderr",
     "output_type": "stream",
     "text": [
      "100%|██████████| 2752512/2752512 [01:18<00:00, 35104.07it/s]\n",
      "100%|██████████| 2752512/2752512 [01:13<00:00, 37828.19it/s]"
     ]
    },
    {
     "name": "stdout",
     "output_type": "stream",
     "text": [
      "epoch 153, train loss: 0.127353\n",
      "Evaluation: auc:0.9937522837323781, precision:0.9780436099333737, recall:0.9539352227916525, f1:0.9658389969270799\n"
     ]
    },
    {
     "name": "stderr",
     "output_type": "stream",
     "text": [
      "\n",
      "100%|██████████| 2752512/2752512 [01:18<00:00, 35244.29it/s]\n",
      "\n",
      "  5%|▍         | 131072/2752512 [00:03<01:09, 37934.27it/s]\u001b[A\n",
      " 10%|▉         | 262144/2752512 [00:07<01:08, 36230.83it/s]\u001b[A\n",
      " 14%|█▍        | 393216/2752512 [00:10<01:04, 36731.18it/s]\u001b[A\n",
      " 19%|█▉        | 524288/2752512 [00:13<00:58, 37906.21it/s]\u001b[A\n",
      " 24%|██▍       | 655360/2752512 [00:17<00:54, 38529.00it/s]\u001b[A\n",
      " 29%|██▊       | 786432/2752512 [00:22<00:59, 33266.51it/s]\u001b[A\n",
      " 33%|███▎      | 917504/2752512 [00:25<00:52, 35019.51it/s]\u001b[A\n",
      " 38%|███▊      | 1048576/2752512 [00:28<00:47, 36164.49it/s]\u001b[A\n",
      " 43%|████▎     | 1179648/2752512 [00:32<00:42, 36717.10it/s]\u001b[A\n",
      " 48%|████▊     | 1310720/2752512 [00:35<00:38, 37658.30it/s]\u001b[A\n",
      " 52%|█████▏    | 1441792/2752512 [00:39<00:35, 36845.83it/s]\u001b[A\n",
      " 57%|█████▋    | 1572864/2752512 [00:43<00:32, 35908.59it/s]\u001b[A\n",
      " 62%|██████▏   | 1703936/2752512 [00:46<00:28, 36633.21it/s]\u001b[A\n",
      " 67%|██████▋   | 1835008/2752512 [00:49<00:24, 37653.90it/s]\u001b[A\n",
      " 71%|███████▏  | 1966080/2752512 [00:53<00:20, 37829.50it/s]\u001b[A\n",
      " 76%|███████▌  | 2097152/2752512 [00:58<00:19, 34225.71it/s]\u001b[A\n",
      " 81%|████████  | 2228224/2752512 [01:01<00:14, 35593.28it/s]\u001b[A\n",
      " 86%|████████▌ | 2359296/2752512 [01:04<00:10, 36342.76it/s]\u001b[A\n",
      " 90%|█████████ | 2490368/2752512 [01:08<00:07, 37426.47it/s]\u001b[A\n",
      " 95%|█████████▌| 2621440/2752512 [01:11<00:03, 37053.17it/s]\u001b[A\n",
      "100%|██████████| 2752512/2752512 [01:15<00:00, 36695.29it/s]\u001b[A"
     ]
    },
    {
     "name": "stdout",
     "output_type": "stream",
     "text": [
      "epoch 154, train loss: 0.126390\n",
      "Evaluation: auc:0.9938229189328202, precision:0.9809206541490006, recall:0.9527731611536822, f1:0.9666420454969373\n"
     ]
    },
    {
     "name": "stderr",
     "output_type": "stream",
     "text": [
      "100%|██████████| 2752512/2752512 [01:19<00:00, 34503.42it/s]\n",
      "100%|██████████| 2752512/2752512 [01:13<00:00, 37398.75it/s]"
     ]
    },
    {
     "name": "stdout",
     "output_type": "stream",
     "text": [
      "epoch 155, train loss: 0.133574\n",
      "Evaluation: auc:0.992063692929161, precision:0.98152634766808, recall:0.940347008646202, f1:0.9604955101798891\n"
     ]
    },
    {
     "name": "stderr",
     "output_type": "stream",
     "text": [
      "\n",
      "100%|██████████| 2752512/2752512 [01:17<00:00, 35356.85it/s]\n",
      "\n",
      "  5%|▍         | 131072/2752512 [00:03<01:05, 39864.38it/s]\u001b[A\n",
      " 10%|▉         | 262144/2752512 [00:08<01:22, 30339.57it/s]\u001b[A\n",
      " 14%|█▍        | 393216/2752512 [00:11<01:11, 32959.49it/s]\u001b[A\n",
      " 19%|█▉        | 524288/2752512 [00:15<01:03, 35209.88it/s]\u001b[A\n",
      " 24%|██▍       | 655360/2752512 [00:18<00:57, 36263.41it/s]\u001b[A\n",
      " 29%|██▊       | 786432/2752512 [00:21<00:52, 37578.65it/s]\u001b[A\n",
      " 33%|███▎      | 917504/2752512 [00:25<00:49, 37326.17it/s]\u001b[A\n",
      " 38%|███▊      | 1048576/2752512 [00:28<00:45, 37637.35it/s]\u001b[A\n",
      " 43%|████▎     | 1179648/2752512 [00:32<00:41, 38198.53it/s]\u001b[A\n",
      " 48%|████▊     | 1310720/2752512 [00:35<00:37, 38398.19it/s]\u001b[A\n",
      " 52%|█████▏    | 1441792/2752512 [00:39<00:35, 36685.36it/s]\u001b[A\n",
      " 57%|█████▋    | 1572864/2752512 [00:44<00:36, 32194.16it/s]\u001b[A\n",
      " 62%|██████▏   | 1703936/2752512 [00:48<00:30, 34134.25it/s]\u001b[A\n",
      " 67%|██████▋   | 1835008/2752512 [00:51<00:26, 35094.87it/s]\u001b[A\n",
      " 71%|███████▏  | 1966080/2752512 [00:55<00:22, 35161.97it/s]\u001b[A\n",
      " 76%|███████▌  | 2097152/2752512 [00:58<00:17, 36449.14it/s]\u001b[A\n",
      " 81%|████████  | 2228224/2752512 [01:01<00:14, 36859.48it/s]\u001b[A\n",
      " 86%|████████▌ | 2359296/2752512 [01:05<00:10, 37796.03it/s]\u001b[A\n",
      " 90%|█████████ | 2490368/2752512 [01:08<00:06, 38450.94it/s]\u001b[A\n",
      " 95%|█████████▌| 2621440/2752512 [01:12<00:03, 38085.86it/s]\u001b[A\n",
      "100%|██████████| 2752512/2752512 [01:15<00:00, 38409.67it/s]\u001b[A"
     ]
    },
    {
     "name": "stdout",
     "output_type": "stream",
     "text": [
      "epoch 156, train loss: 0.136028\n",
      "Evaluation: auc:0.9936100514582686, precision:0.9744094488188977, recall:0.9558397575865604, f1:0.9650352796502779\n"
     ]
    },
    {
     "name": "stderr",
     "output_type": "stream",
     "text": [
      "100%|██████████| 2752512/2752512 [01:21<00:00, 33835.80it/s]\n",
      "100%|██████████| 2752512/2752512 [01:14<00:00, 35946.95it/s]"
     ]
    },
    {
     "name": "stdout",
     "output_type": "stream",
     "text": [
      "epoch 157, train loss: 0.126488\n",
      "Evaluation: auc:0.9936271565220646, precision:0.975923682616596, recall:0.9564443125324628, f1:0.966085816001499\n"
     ]
    },
    {
     "name": "stderr",
     "output_type": "stream",
     "text": [
      "\n",
      "100%|██████████| 2752512/2752512 [01:19<00:00, 34819.09it/s]\n",
      "\n",
      "  5%|▍         | 131072/2752512 [00:03<01:05, 40186.93it/s]\u001b[A\n",
      " 10%|▉         | 262144/2752512 [00:06<01:01, 40237.74it/s]\u001b[A\n",
      " 14%|█▍        | 393216/2752512 [00:09<00:59, 39337.17it/s]\u001b[A\n",
      " 19%|█▉        | 524288/2752512 [00:13<00:56, 39700.06it/s]\u001b[A\n",
      " 24%|██▍       | 655360/2752512 [00:16<00:53, 38949.75it/s]\u001b[A\n",
      " 29%|██▊       | 786432/2752512 [00:20<00:51, 37992.94it/s]\u001b[A\n",
      " 33%|███▎      | 917504/2752512 [00:23<00:47, 38348.96it/s]\u001b[A\n",
      " 38%|███▊      | 1048576/2752512 [00:28<00:48, 35217.27it/s]\u001b[A\n",
      " 43%|████▎     | 1179648/2752512 [00:31<00:44, 35167.96it/s]\u001b[A\n",
      " 48%|████▊     | 1310720/2752512 [00:34<00:39, 36709.75it/s]\u001b[A\n",
      " 52%|█████▏    | 1441792/2752512 [00:38<00:34, 37794.95it/s]\u001b[A\n",
      " 57%|█████▋    | 1572864/2752512 [00:41<00:30, 38369.32it/s]\u001b[A\n",
      " 62%|██████▏   | 1703936/2752512 [00:45<00:28, 37303.50it/s]\u001b[A\n",
      " 67%|██████▋   | 1835008/2752512 [00:48<00:24, 37829.15it/s]\u001b[A\n",
      " 71%|███████▏  | 1966080/2752512 [00:52<00:21, 37300.59it/s]\u001b[A\n",
      " 76%|███████▌  | 2097152/2752512 [00:55<00:17, 36857.84it/s]\u001b[A\n",
      " 81%|████████  | 2228224/2752512 [00:59<00:13, 37713.59it/s]\u001b[A\n",
      " 86%|████████▌ | 2359296/2752512 [01:03<00:11, 34989.11it/s]\u001b[A\n",
      " 90%|█████████ | 2490368/2752512 [01:07<00:07, 35716.76it/s]\u001b[A\n",
      " 95%|█████████▌| 2621440/2752512 [01:10<00:03, 36602.92it/s]\u001b[A\n",
      "100%|██████████| 2752512/2752512 [01:14<00:00, 36329.06it/s]\u001b[A"
     ]
    },
    {
     "name": "stdout",
     "output_type": "stream",
     "text": [
      "epoch 158, train loss: 0.125289\n",
      "Evaluation: auc:0.9938352914427723, precision:0.975923682616596, recall:0.9551968935722437, f1:0.96544905739516\n"
     ]
    },
    {
     "name": "stderr",
     "output_type": "stream",
     "text": [
      "100%|██████████| 2752512/2752512 [01:18<00:00, 35171.53it/s]\n",
      "100%|██████████| 2752512/2752512 [01:14<00:00, 38090.97it/s]"
     ]
    },
    {
     "name": "stdout",
     "output_type": "stream",
     "text": [
      "epoch 159, train loss: 0.124160\n",
      "Evaluation: auc:0.9940747462855872, precision:0.9739551786795881, recall:0.9578983424427003, f1:0.9658600313844444\n"
     ]
    },
    {
     "name": "stderr",
     "output_type": "stream",
     "text": [
      "\n",
      "100%|██████████| 2752512/2752512 [01:18<00:00, 34960.58it/s]\n",
      "\n",
      "  5%|▍         | 131072/2752512 [00:03<01:05, 39926.81it/s]\u001b[A\n",
      " 10%|▉         | 262144/2752512 [00:07<01:07, 36626.03it/s]\u001b[A\n",
      " 14%|█▍        | 393216/2752512 [00:10<01:02, 37792.52it/s]\u001b[A\n",
      " 19%|█▉        | 524288/2752512 [00:14<01:05, 33982.49it/s]\u001b[A\n",
      " 24%|██▍       | 655360/2752512 [00:18<00:59, 35299.31it/s]\u001b[A\n",
      " 29%|██▊       | 786432/2752512 [00:22<00:56, 34754.09it/s]\u001b[A\n",
      " 33%|███▎      | 917504/2752512 [00:25<00:50, 36364.91it/s]\u001b[A\n",
      " 38%|███▊      | 1048576/2752512 [00:28<00:46, 36700.24it/s]\u001b[A\n",
      " 43%|████▎     | 1179648/2752512 [00:32<00:41, 37507.64it/s]\u001b[A\n",
      " 48%|████▊     | 1310720/2752512 [00:35<00:37, 38440.98it/s]\u001b[A\n",
      " 52%|█████▏    | 1441792/2752512 [00:38<00:33, 38924.02it/s]\u001b[A\n",
      " 57%|█████▋    | 1572864/2752512 [00:42<00:31, 37911.80it/s]\u001b[A\n",
      " 62%|██████▏   | 1703936/2752512 [00:45<00:27, 38403.01it/s]\u001b[A\n",
      " 67%|██████▋   | 1835008/2752512 [00:50<00:26, 34353.44it/s]\u001b[A\n",
      " 71%|███████▏  | 1966080/2752512 [00:54<00:22, 35032.94it/s]\u001b[A\n",
      " 76%|███████▌  | 2097152/2752512 [00:57<00:18, 35383.09it/s]\u001b[A\n",
      " 81%|████████  | 2228224/2752512 [01:00<00:14, 36817.55it/s]\u001b[A\n",
      " 86%|████████▌ | 2359296/2752512 [01:04<00:10, 37610.94it/s]\u001b[A\n",
      " 90%|█████████ | 2490368/2752512 [01:07<00:06, 38427.74it/s]\u001b[A\n",
      " 95%|█████████▌| 2621440/2752512 [01:10<00:03, 38927.40it/s]\u001b[A\n",
      "100%|██████████| 2752512/2752512 [01:14<00:00, 37958.47it/s]\u001b[A"
     ]
    },
    {
     "name": "stdout",
     "output_type": "stream",
     "text": [
      "epoch 160, train loss: 0.124707\n",
      "Evaluation: auc:0.993834005352922, precision:0.9772864930345245, recall:0.9551010743777193, f1:0.9660664301645038\n"
     ]
    },
    {
     "name": "stderr",
     "output_type": "stream",
     "text": [
      "100%|██████████| 2752512/2752512 [01:18<00:00, 34952.92it/s]\n",
      "100%|██████████| 2752512/2752512 [01:14<00:00, 37627.23it/s]"
     ]
    },
    {
     "name": "stdout",
     "output_type": "stream",
     "text": [
      "epoch 161, train loss: 0.124279\n",
      "Evaluation: auc:0.9937777601886565, precision:0.9804663840096911, recall:0.951003143083747, f1:0.9655100427955803\n"
     ]
    },
    {
     "name": "stderr",
     "output_type": "stream",
     "text": [
      "\n",
      "100%|██████████| 2752512/2752512 [01:20<00:00, 34337.34it/s]\n",
      "\n",
      "  5%|▍         | 131072/2752512 [00:03<01:09, 37709.96it/s]\u001b[A\n",
      " 10%|▉         | 262144/2752512 [00:07<01:07, 36688.01it/s]\u001b[A\n",
      " 14%|█▍        | 393216/2752512 [00:10<01:01, 38063.80it/s]\u001b[A\n",
      " 19%|█▉        | 524288/2752512 [00:13<00:59, 37752.12it/s]\u001b[A\n",
      " 24%|██▍       | 655360/2752512 [00:17<00:54, 38639.30it/s]\u001b[A\n",
      " 29%|██▊       | 786432/2752512 [00:20<00:50, 39303.33it/s]\u001b[A\n",
      " 33%|███▎      | 917504/2752512 [00:24<00:48, 37587.75it/s]\u001b[A\n",
      " 38%|███▊      | 1048576/2752512 [00:27<00:45, 37372.02it/s]\u001b[A\n",
      " 43%|████▎     | 1179648/2752512 [00:31<00:41, 38137.55it/s]\u001b[A\n",
      " 48%|████▊     | 1310720/2752512 [00:35<00:42, 34014.44it/s]\u001b[A\n",
      " 52%|█████▏    | 1441792/2752512 [00:39<00:37, 34618.27it/s]\u001b[A\n",
      " 57%|█████▋    | 1572864/2752512 [00:42<00:32, 35938.48it/s]\u001b[A\n",
      " 62%|██████▏   | 1703936/2752512 [00:46<00:28, 36630.18it/s]\u001b[A\n",
      " 67%|██████▋   | 1835008/2752512 [00:49<00:24, 37749.64it/s]\u001b[A\n",
      " 71%|███████▏  | 1966080/2752512 [00:52<00:21, 37423.42it/s]\u001b[A\n",
      " 76%|███████▌  | 2097152/2752512 [00:56<00:17, 37844.86it/s]\u001b[A\n",
      " 81%|████████  | 2228224/2752512 [00:59<00:13, 38341.46it/s]\u001b[A\n",
      " 86%|████████▌ | 2359296/2752512 [01:03<00:10, 37388.83it/s]\u001b[A\n",
      " 90%|█████████ | 2490368/2752512 [01:06<00:06, 38112.98it/s]\u001b[A\n",
      " 95%|█████████▌| 2621440/2752512 [01:11<00:03, 34135.63it/s]\u001b[A\n",
      "100%|██████████| 2752512/2752512 [01:14<00:00, 35690.16it/s]\u001b[A"
     ]
    },
    {
     "name": "stdout",
     "output_type": "stream",
     "text": [
      "epoch 162, train loss: 0.123554\n",
      "Evaluation: auc:0.9942419792383963, precision:0.9774379164142943, recall:0.957459432199116, f1:0.9673455319276476\n"
     ]
    },
    {
     "name": "stderr",
     "output_type": "stream",
     "text": [
      "100%|██████████| 2752512/2752512 [01:19<00:00, 34716.33it/s]\n",
      "100%|██████████| 2752512/2752512 [01:15<00:00, 37997.23it/s]"
     ]
    },
    {
     "name": "stdout",
     "output_type": "stream",
     "text": [
      "epoch 163, train loss: 0.123007\n",
      "Evaluation: auc:0.9939963358477013, precision:0.9791035735917626, recall:0.9526054480899274, f1:0.9656727674604421\n"
     ]
    },
    {
     "name": "stderr",
     "output_type": "stream",
     "text": [
      "\n",
      "100%|██████████| 2752512/2752512 [01:20<00:00, 34245.47it/s]\n",
      "\n",
      "  5%|▍         | 131072/2752512 [00:03<01:07, 38767.08it/s]\u001b[A\n",
      " 10%|▉         | 262144/2752512 [00:06<01:05, 38252.60it/s]\u001b[A\n",
      " 14%|█▍        | 393216/2752512 [00:10<01:01, 38661.47it/s]\u001b[A\n",
      " 19%|█▉        | 524288/2752512 [00:13<00:57, 39023.08it/s]\u001b[A\n",
      " 24%|██▍       | 655360/2752512 [00:16<00:53, 38990.62it/s]\u001b[A\n",
      " 29%|██▊       | 786432/2752512 [00:21<00:57, 34071.15it/s]\u001b[A\n",
      " 33%|███▎      | 917504/2752512 [00:25<00:51, 35469.73it/s]\u001b[A\n",
      " 38%|███▊      | 1048576/2752512 [00:28<00:46, 36477.59it/s]\u001b[A\n",
      " 43%|████▎     | 1179648/2752512 [00:32<00:43, 36104.50it/s]\u001b[A\n",
      " 48%|████▊     | 1310720/2752512 [00:35<00:39, 36307.62it/s]\u001b[A\n",
      " 52%|█████▏    | 1441792/2752512 [00:38<00:34, 37490.23it/s]\u001b[A\n",
      " 57%|█████▋    | 1572864/2752512 [00:42<00:31, 37578.37it/s]\u001b[A\n",
      " 62%|██████▏   | 1703936/2752512 [00:45<00:28, 37264.15it/s]\u001b[A\n",
      " 67%|██████▋   | 1835008/2752512 [00:49<00:24, 38083.87it/s]\u001b[A\n",
      " 71%|███████▏  | 1966080/2752512 [00:52<00:20, 37913.88it/s]\u001b[A\n",
      " 76%|███████▌  | 2097152/2752512 [00:57<00:18, 34743.61it/s]\u001b[A\n",
      " 81%|████████  | 2228224/2752512 [01:00<00:14, 36127.81it/s]\u001b[A\n",
      " 86%|████████▌ | 2359296/2752512 [01:03<00:10, 36640.93it/s]\u001b[A\n",
      " 90%|█████████ | 2490368/2752512 [01:07<00:07, 36596.26it/s]\u001b[A\n",
      " 95%|█████████▌| 2621440/2752512 [01:10<00:03, 37670.34it/s]\u001b[A\n",
      "100%|██████████| 2752512/2752512 [01:14<00:00, 36614.48it/s]\u001b[A"
     ]
    },
    {
     "name": "stdout",
     "output_type": "stream",
     "text": [
      "epoch 164, train loss: 0.123068\n",
      "Evaluation: auc:0.9941900571153214, precision:0.9744094488188977, recall:0.9591021551852624, f1:0.9666952093379603\n"
     ]
    },
    {
     "name": "stderr",
     "output_type": "stream",
     "text": [
      "100%|██████████| 2752512/2752512 [01:18<00:00, 34993.31it/s]\n",
      "100%|██████████| 2752512/2752512 [01:14<00:00, 38789.68it/s]"
     ]
    },
    {
     "name": "stdout",
     "output_type": "stream",
     "text": [
      "epoch 165, train loss: 0.123925\n",
      "Evaluation: auc:0.9943996347312222, precision:0.9722895215021199, recall:0.9613714627938315, f1:0.9667996687495295\n"
     ]
    },
    {
     "name": "stderr",
     "output_type": "stream",
     "text": [
      "\n",
      "100%|██████████| 2752512/2752512 [01:18<00:00, 34883.57it/s]\n",
      "\n",
      "  5%|▍         | 131072/2752512 [00:03<01:07, 38690.62it/s]\u001b[A\n",
      " 10%|▉         | 262144/2752512 [00:08<01:29, 27921.71it/s]\u001b[A\n",
      " 14%|█▍        | 393216/2752512 [00:12<01:13, 32215.64it/s]\u001b[A\n",
      " 19%|█▉        | 524288/2752512 [00:15<01:05, 34245.59it/s]\u001b[A\n",
      " 24%|██▍       | 655360/2752512 [00:19<00:58, 36127.61it/s]\u001b[A\n",
      " 29%|██▊       | 786432/2752512 [00:22<00:54, 36291.60it/s]\u001b[A\n",
      " 33%|███▎      | 917504/2752512 [00:26<00:50, 36590.62it/s]\u001b[A\n",
      " 38%|███▊      | 1048576/2752512 [00:29<00:45, 37692.60it/s]\u001b[A\n",
      " 43%|████▎     | 1179648/2752512 [00:32<00:41, 38228.05it/s]\u001b[A\n",
      " 48%|████▊     | 1310720/2752512 [00:36<00:37, 38096.17it/s]\u001b[A\n",
      " 52%|█████▏    | 1441792/2752512 [00:39<00:33, 38733.05it/s]\u001b[A\n",
      " 57%|█████▋    | 1572864/2752512 [00:44<00:35, 33547.64it/s]\u001b[A\n",
      " 62%|██████▏   | 1703936/2752512 [00:47<00:30, 34808.47it/s]\u001b[A\n",
      " 67%|██████▋   | 1835008/2752512 [00:51<00:25, 36181.60it/s]\u001b[A\n",
      " 71%|███████▏  | 1966080/2752512 [00:54<00:21, 37401.38it/s]\u001b[A\n",
      " 76%|███████▌  | 2097152/2752512 [00:58<00:17, 36772.19it/s]\u001b[A\n",
      " 81%|████████  | 2228224/2752512 [01:01<00:14, 36928.68it/s]\u001b[A\n",
      " 86%|████████▌ | 2359296/2752512 [01:05<00:10, 37684.77it/s]\u001b[A\n",
      " 90%|█████████ | 2490368/2752512 [01:08<00:06, 38359.92it/s]\u001b[A\n",
      " 95%|█████████▌| 2621440/2752512 [01:11<00:03, 38282.67it/s]\u001b[A\n",
      "100%|██████████| 2752512/2752512 [01:15<00:00, 37673.89it/s]\u001b[A"
     ]
    },
    {
     "name": "stdout",
     "output_type": "stream",
     "text": [
      "epoch 166, train loss: 0.122943\n",
      "Evaluation: auc:0.9941233031134701, precision:0.9738037552998183, recall:0.9602663839572352, f1:0.9669876927472164\n"
     ]
    },
    {
     "name": "stderr",
     "output_type": "stream",
     "text": [
      "100%|██████████| 2752512/2752512 [01:21<00:00, 33914.31it/s]\n",
      "100%|██████████| 2752512/2752512 [01:14<00:00, 35175.20it/s]"
     ]
    },
    {
     "name": "stdout",
     "output_type": "stream",
     "text": [
      "epoch 167, train loss: 0.121932\n",
      "Evaluation: auc:0.99422503467788, precision:0.973198061780739, recall:0.9598841029930103, f1:0.9664952329393366\n"
     ]
    },
    {
     "name": "stderr",
     "output_type": "stream",
     "text": [
      "\n",
      "100%|██████████| 2752512/2752512 [01:18<00:00, 35141.93it/s]\n",
      "\n",
      "  5%|▍         | 131072/2752512 [00:03<01:05, 40177.08it/s]\u001b[A\n",
      " 10%|▉         | 262144/2752512 [00:06<01:06, 37459.41it/s]\u001b[A\n",
      " 14%|█▍        | 393216/2752512 [00:10<01:02, 37483.15it/s]\u001b[A\n",
      " 19%|█▉        | 524288/2752512 [00:14<01:00, 36950.41it/s]\u001b[A\n",
      " 24%|██▍       | 655360/2752512 [00:17<00:55, 38011.95it/s]\u001b[A\n",
      " 29%|██▊       | 786432/2752512 [00:20<00:51, 37972.97it/s]\u001b[A\n",
      " 33%|███▎      | 917504/2752512 [00:24<00:48, 37520.79it/s]\u001b[A\n",
      " 38%|███▊      | 1048576/2752512 [00:28<00:49, 34466.79it/s]\u001b[A\n",
      " 43%|████▎     | 1179648/2752512 [00:32<00:44, 34991.38it/s]\u001b[A\n",
      " 48%|████▊     | 1310720/2752512 [00:35<00:39, 36287.86it/s]\u001b[A\n",
      " 52%|█████▏    | 1441792/2752512 [00:39<00:35, 36412.44it/s]\u001b[A\n",
      " 57%|█████▋    | 1572864/2752512 [00:42<00:31, 36866.00it/s]\u001b[A\n",
      " 62%|██████▏   | 1703936/2752512 [00:46<00:28, 36818.49it/s]\u001b[A\n",
      " 67%|██████▋   | 1835008/2752512 [00:49<00:24, 37901.79it/s]\u001b[A\n",
      " 71%|███████▏  | 1966080/2752512 [00:53<00:21, 37011.01it/s]\u001b[A\n",
      " 76%|███████▌  | 2097152/2752512 [00:56<00:17, 37819.42it/s]\u001b[A\n",
      " 81%|████████  | 2228224/2752512 [00:59<00:13, 38376.91it/s]\u001b[A\n",
      " 86%|████████▌ | 2359296/2752512 [01:04<00:11, 34309.37it/s]\u001b[A\n",
      " 90%|█████████ | 2490368/2752512 [01:07<00:07, 36027.66it/s]\u001b[A\n",
      " 95%|█████████▌| 2621440/2752512 [01:11<00:03, 37184.01it/s]\u001b[A\n",
      "100%|██████████| 2752512/2752512 [01:14<00:00, 38053.34it/s]\u001b[A"
     ]
    },
    {
     "name": "stdout",
     "output_type": "stream",
     "text": [
      "epoch 168, train loss: 0.121556\n",
      "Evaluation: auc:0.9941770205803725, precision:0.9775893397940641, recall:0.9566712109537076, f1:0.9670171654534017\n"
     ]
    },
    {
     "name": "stderr",
     "output_type": "stream",
     "text": [
      "100%|██████████| 2752512/2752512 [01:18<00:00, 34916.71it/s]\n",
      "100%|██████████| 2752512/2752512 [01:14<00:00, 37587.08it/s]"
     ]
    },
    {
     "name": "stdout",
     "output_type": "stream",
     "text": [
      "epoch 169, train loss: 0.121319\n",
      "Evaluation: auc:0.9940624563201789, precision:0.9754694124772865, recall:0.958844980278336, f1:0.967085757177707\n"
     ]
    },
    {
     "name": "stderr",
     "output_type": "stream",
     "text": [
      "\n",
      "100%|██████████| 2752512/2752512 [01:19<00:00, 34797.71it/s]\n",
      "\n",
      "  5%|▍         | 131072/2752512 [00:03<01:05, 40103.92it/s]\u001b[A\n",
      " 10%|▉         | 262144/2752512 [00:06<01:04, 38539.83it/s]\u001b[A\n",
      " 14%|█▍        | 393216/2752512 [00:10<01:00, 38717.59it/s]\u001b[A\n",
      " 19%|█▉        | 524288/2752512 [00:14<01:05, 34140.09it/s]\u001b[A\n",
      " 24%|██▍       | 655360/2752512 [00:18<01:01, 34300.37it/s]\u001b[A\n",
      " 29%|██▊       | 786432/2752512 [00:21<00:54, 36148.16it/s]\u001b[A\n",
      " 33%|███▎      | 917504/2752512 [00:24<00:49, 37386.56it/s]\u001b[A\n",
      " 38%|███▊      | 1048576/2752512 [00:28<00:45, 37550.25it/s]\u001b[A\n",
      " 43%|████▎     | 1179648/2752512 [00:32<00:42, 37229.69it/s]\u001b[A\n",
      " 48%|████▊     | 1310720/2752512 [00:35<00:37, 38096.40it/s]\u001b[A\n",
      " 52%|█████▏    | 1441792/2752512 [00:38<00:34, 37903.04it/s]\u001b[A\n",
      " 57%|█████▋    | 1572864/2752512 [00:42<00:30, 38429.16it/s]\u001b[A\n",
      " 62%|██████▏   | 1703936/2752512 [00:45<00:27, 37873.68it/s]\u001b[A\n",
      " 67%|██████▋   | 1835008/2752512 [00:51<00:28, 32488.39it/s]\u001b[A\n",
      " 71%|███████▏  | 1966080/2752512 [00:54<00:22, 34556.00it/s]\u001b[A\n",
      " 76%|███████▌  | 2097152/2752512 [00:57<00:18, 36139.07it/s]\u001b[A\n",
      " 81%|████████  | 2228224/2752512 [01:00<00:14, 36687.84it/s]\u001b[A\n",
      " 86%|████████▌ | 2359296/2752512 [01:04<00:10, 37747.21it/s]\u001b[A\n",
      " 90%|█████████ | 2490368/2752512 [01:07<00:06, 38390.10it/s]\u001b[A\n",
      " 95%|█████████▌| 2621440/2752512 [01:10<00:03, 38261.00it/s]\u001b[A\n",
      "100%|██████████| 2752512/2752512 [01:14<00:00, 37722.53it/s]\u001b[A"
     ]
    },
    {
     "name": "stdout",
     "output_type": "stream",
     "text": [
      "epoch 170, train loss: 0.121536\n",
      "Evaluation: auc:0.9941558577643782, precision:0.9792549969715324, recall:0.9549475052051801, f1:0.9669485126456889\n"
     ]
    },
    {
     "name": "stderr",
     "output_type": "stream",
     "text": [
      "100%|██████████| 2752512/2752512 [01:18<00:00, 35073.72it/s]\n",
      "100%|██████████| 2752512/2752512 [01:14<00:00, 38248.09it/s]"
     ]
    },
    {
     "name": "stdout",
     "output_type": "stream",
     "text": [
      "epoch 171, train loss: 0.120972\n",
      "Evaluation: auc:0.9943169817330759, precision:0.9763779527559056, recall:0.9591669765712161, f1:0.9676959441713878\n"
     ]
    },
    {
     "name": "stderr",
     "output_type": "stream",
     "text": [
      "\n",
      "100%|██████████| 2752512/2752512 [01:20<00:00, 34168.92it/s]\n",
      "\n",
      "  5%|▍         | 131072/2752512 [00:03<01:05, 40301.81it/s]\u001b[A\n",
      " 10%|▉         | 262144/2752512 [00:06<01:06, 37534.67it/s]\u001b[A\n",
      " 14%|█▍        | 393216/2752512 [00:10<01:01, 38350.45it/s]\u001b[A\n",
      " 19%|█▉        | 524288/2752512 [00:13<00:57, 38647.56it/s]\u001b[A\n",
      " 24%|██▍       | 655360/2752512 [00:16<00:53, 39311.78it/s]\u001b[A\n",
      " 29%|██▊       | 786432/2752512 [00:20<00:51, 38210.84it/s]\u001b[A\n",
      " 33%|███▎      | 917504/2752512 [00:24<00:49, 36795.32it/s]\u001b[A\n",
      " 38%|███▊      | 1048576/2752512 [00:27<00:45, 37795.78it/s]\u001b[A\n",
      " 43%|████▎     | 1179648/2752512 [00:30<00:41, 38259.30it/s]\u001b[A\n",
      " 48%|████▊     | 1310720/2752512 [00:35<00:42, 33918.09it/s]\u001b[A\n",
      " 52%|█████▏    | 1441792/2752512 [00:38<00:36, 35741.36it/s]\u001b[A\n",
      " 57%|█████▋    | 1572864/2752512 [00:42<00:32, 35981.18it/s]\u001b[A\n",
      " 62%|██████▏   | 1703936/2752512 [00:45<00:28, 36538.35it/s]\u001b[A\n",
      " 67%|██████▋   | 1835008/2752512 [00:49<00:24, 37627.98it/s]\u001b[A\n",
      " 71%|███████▏  | 1966080/2752512 [00:52<00:20, 38384.79it/s]\u001b[A\n",
      " 76%|███████▌  | 2097152/2752512 [00:57<00:18, 34943.77it/s]\u001b[A\n",
      " 81%|████████  | 2228224/2752512 [01:00<00:14, 36167.95it/s]\u001b[A\n",
      " 86%|████████▌ | 2359296/2752512 [01:03<00:10, 37277.52it/s]\u001b[A\n",
      " 90%|█████████ | 2490368/2752512 [01:07<00:06, 37684.19it/s]\u001b[A\n",
      " 95%|█████████▌| 2621440/2752512 [01:11<00:03, 34698.49it/s]\u001b[A\n",
      "100%|██████████| 2752512/2752512 [01:14<00:00, 36191.20it/s]\u001b[A"
     ]
    },
    {
     "name": "stdout",
     "output_type": "stream",
     "text": [
      "epoch 172, train loss: 0.123774\n",
      "Evaluation: auc:0.993750004585808, precision:0.975015142337977, recall:0.9585411239300335, f1:0.9667079533085613\n"
     ]
    },
    {
     "name": "stderr",
     "output_type": "stream",
     "text": [
      "100%|██████████| 2752512/2752512 [01:19<00:00, 34716.93it/s]\n",
      "100%|██████████| 2752512/2752512 [01:14<00:00, 35847.27it/s]"
     ]
    },
    {
     "name": "stdout",
     "output_type": "stream",
     "text": [
      "epoch 173, train loss: 0.123828\n",
      "Evaluation: auc:0.9941640640677731, precision:0.9747122955784373, recall:0.9611766462595192, f1:0.9678971505901812\n"
     ]
    },
    {
     "name": "stderr",
     "output_type": "stream",
     "text": [
      "\n",
      "100%|██████████| 2752512/2752512 [01:18<00:00, 35004.70it/s]\n",
      "\n",
      "  5%|▍         | 131072/2752512 [00:03<01:04, 40529.65it/s]\u001b[A\n",
      " 10%|▉         | 262144/2752512 [00:06<01:06, 37288.35it/s]\u001b[A\n",
      " 14%|█▍        | 393216/2752512 [00:10<01:01, 38188.36it/s]\u001b[A\n",
      " 19%|█▉        | 524288/2752512 [00:13<00:57, 38677.25it/s]\u001b[A\n",
      " 24%|██▍       | 655360/2752512 [00:16<00:53, 38996.31it/s]\u001b[A\n",
      " 29%|██▊       | 786432/2752512 [00:22<01:00, 32767.90it/s]\u001b[A\n",
      " 33%|███▎      | 917504/2752512 [00:26<00:55, 32937.68it/s]\u001b[A\n",
      " 38%|███▊      | 1048576/2752512 [00:29<00:49, 34438.93it/s]\u001b[A\n",
      " 43%|████▎     | 1179648/2752512 [00:32<00:43, 36045.50it/s]\u001b[A\n",
      " 48%|████▊     | 1310720/2752512 [00:36<00:38, 37111.93it/s]\u001b[A\n",
      " 52%|█████▏    | 1441792/2752512 [00:39<00:36, 36320.05it/s]\u001b[A\n",
      " 57%|█████▋    | 1572864/2752512 [00:43<00:31, 37378.40it/s]\u001b[A\n",
      " 62%|██████▏   | 1703936/2752512 [00:46<00:27, 38254.12it/s]\u001b[A\n",
      " 67%|██████▋   | 1835008/2752512 [00:49<00:23, 38892.21it/s]\u001b[A\n",
      " 71%|███████▏  | 1966080/2752512 [00:53<00:20, 37553.54it/s]\u001b[A\n",
      " 76%|███████▌  | 2097152/2752512 [00:58<00:19, 33011.79it/s]\u001b[A\n",
      " 81%|████████  | 2228224/2752512 [01:01<00:15, 34297.51it/s]\u001b[A\n",
      " 86%|████████▌ | 2359296/2752512 [01:05<00:11, 35529.38it/s]\u001b[A\n",
      " 90%|█████████ | 2490368/2752512 [01:08<00:07, 36856.75it/s]\u001b[A\n",
      " 95%|█████████▌| 2621440/2752512 [01:11<00:03, 37826.29it/s]\u001b[A\n",
      "100%|██████████| 2752512/2752512 [01:15<00:00, 37748.14it/s]\u001b[A"
     ]
    },
    {
     "name": "stdout",
     "output_type": "stream",
     "text": [
      "epoch 174, train loss: 0.120440\n",
      "Evaluation: auc:0.9943737171202153, precision:0.9804663840096911, recall:0.9546768105685303, f1:0.967399748998984\n"
     ]
    },
    {
     "name": "stderr",
     "output_type": "stream",
     "text": [
      "100%|██████████| 2752512/2752512 [01:19<00:00, 34712.46it/s]\n",
      "100%|██████████| 2752512/2752512 [01:14<00:00, 38735.86it/s]"
     ]
    },
    {
     "name": "stdout",
     "output_type": "stream",
     "text": [
      "epoch 175, train loss: 0.119278\n",
      "Evaluation: auc:0.9946015983008297, precision:0.9774379164142943, recall:0.9599940511600238, f1:0.9686374549819927\n"
     ]
    },
    {
     "name": "stderr",
     "output_type": "stream",
     "text": [
      "\n",
      "100%|██████████| 2752512/2752512 [01:19<00:00, 34709.79it/s]\n",
      "\n",
      "  5%|▍         | 131072/2752512 [00:03<01:08, 38384.66it/s]\u001b[A\n",
      " 10%|▉         | 262144/2752512 [00:07<01:17, 32182.59it/s]\u001b[A\n",
      " 14%|█▍        | 393216/2752512 [00:11<01:06, 35406.52it/s]\u001b[A\n",
      " 19%|█▉        | 524288/2752512 [00:14<01:02, 35937.68it/s]\u001b[A\n",
      " 24%|██▍       | 655360/2752512 [00:18<00:56, 37054.03it/s]\u001b[A\n",
      " 29%|██▊       | 786432/2752512 [00:21<00:51, 37952.86it/s]\u001b[A\n",
      " 33%|███▎      | 917504/2752512 [00:24<00:48, 37798.30it/s]\u001b[A\n",
      " 38%|███▊      | 1048576/2752512 [00:28<00:44, 38586.14it/s]\u001b[A\n",
      " 43%|████▎     | 1179648/2752512 [00:32<00:42, 36939.17it/s]\u001b[A\n",
      " 48%|████▊     | 1310720/2752512 [00:35<00:38, 37278.41it/s]\u001b[A\n",
      " 52%|█████▏    | 1441792/2752512 [00:38<00:34, 37977.31it/s]\u001b[A\n",
      " 57%|█████▋    | 1572864/2752512 [00:43<00:33, 34722.71it/s]\u001b[A\n",
      " 62%|██████▏   | 1703936/2752512 [00:47<00:30, 34709.79it/s]\u001b[A\n",
      " 67%|██████▋   | 1835008/2752512 [00:50<00:25, 35996.50it/s]\u001b[A\n",
      " 71%|███████▏  | 1966080/2752512 [00:53<00:21, 36931.64it/s]\u001b[A\n",
      " 76%|███████▌  | 2097152/2752512 [00:57<00:17, 37748.44it/s]\u001b[A\n",
      " 81%|████████  | 2228224/2752512 [01:00<00:13, 38562.07it/s]\u001b[A\n",
      " 86%|████████▌ | 2359296/2752512 [01:03<00:10, 37838.96it/s]\u001b[A\n",
      " 90%|█████████ | 2490368/2752512 [01:07<00:06, 38562.05it/s]\u001b[A\n",
      " 95%|█████████▌| 2621440/2752512 [01:10<00:03, 37899.08it/s]\u001b[A\n",
      "100%|██████████| 2752512/2752512 [01:14<00:00, 37519.30it/s]\u001b[A"
     ]
    },
    {
     "name": "stdout",
     "output_type": "stream",
     "text": [
      "epoch 176, train loss: 0.119272\n",
      "Evaluation: auc:0.9945220987335466, precision:0.9806178073894609, recall:0.954345839842023, f1:0.9673034698053742\n"
     ]
    },
    {
     "name": "stderr",
     "output_type": "stream",
     "text": [
      "100%|██████████| 2752512/2752512 [01:19<00:00, 34429.44it/s]\n",
      "100%|██████████| 2752512/2752512 [01:14<00:00, 36588.16it/s]"
     ]
    },
    {
     "name": "stdout",
     "output_type": "stream",
     "text": [
      "epoch 177, train loss: 0.119143\n",
      "Evaluation: auc:0.9943389988850984, precision:0.9804663840096911, recall:0.9554657065281549, f1:0.9678046155685759\n"
     ]
    },
    {
     "name": "stderr",
     "output_type": "stream",
     "text": [
      "\n",
      "100%|██████████| 2752512/2752512 [01:18<00:00, 35018.04it/s]\n",
      "\n",
      "  5%|▍         | 131072/2752512 [00:03<01:10, 37293.92it/s]\u001b[A\n",
      " 10%|▉         | 262144/2752512 [00:07<01:08, 36283.20it/s]\u001b[A\n",
      " 14%|█▍        | 393216/2752512 [00:10<01:03, 36983.96it/s]\u001b[A\n",
      " 19%|█▉        | 524288/2752512 [00:13<00:58, 38289.73it/s]\u001b[A\n",
      " 24%|██▍       | 655360/2752512 [00:17<00:53, 39139.17it/s]\u001b[A\n",
      " 29%|██▊       | 786432/2752512 [00:20<00:52, 37715.59it/s]\u001b[A\n",
      " 33%|███▎      | 917504/2752512 [00:24<00:47, 38508.78it/s]\u001b[A\n",
      " 38%|███▊      | 1048576/2752512 [00:28<00:48, 34955.82it/s]\u001b[A\n",
      " 43%|████▎     | 1179648/2752512 [00:32<00:43, 35775.24it/s]\u001b[A\n",
      " 48%|████▊     | 1310720/2752512 [00:35<00:39, 36576.30it/s]\u001b[A\n",
      " 52%|█████▏    | 1441792/2752512 [00:38<00:35, 36952.98it/s]\u001b[A\n",
      " 57%|█████▋    | 1572864/2752512 [00:42<00:32, 36063.45it/s]\u001b[A\n",
      " 62%|██████▏   | 1703936/2752512 [00:46<00:28, 37262.74it/s]\u001b[A\n",
      " 67%|██████▋   | 1835008/2752512 [00:49<00:24, 38132.34it/s]\u001b[A\n",
      " 71%|███████▏  | 1966080/2752512 [00:52<00:20, 38575.48it/s]\u001b[A\n",
      " 76%|███████▌  | 2097152/2752512 [00:56<00:17, 37897.47it/s]\u001b[A\n",
      " 81%|████████  | 2228224/2752512 [00:59<00:13, 38471.21it/s]\u001b[A\n",
      " 86%|████████▌ | 2359296/2752512 [01:04<00:11, 33748.38it/s]\u001b[A\n",
      " 90%|█████████ | 2490368/2752512 [01:07<00:07, 35204.81it/s]\u001b[A\n",
      " 95%|█████████▌| 2621440/2752512 [01:11<00:03, 35314.38it/s]\u001b[A\n",
      "100%|██████████| 2752512/2752512 [01:14<00:00, 36200.94it/s]\u001b[A"
     ]
    },
    {
     "name": "stdout",
     "output_type": "stream",
     "text": [
      "epoch 178, train loss: 0.117532\n",
      "Evaluation: auc:0.9946074383273027, precision:0.9754694124772865, recall:0.9622824706848906, f1:0.9688310711734406\n"
     ]
    },
    {
     "name": "stderr",
     "output_type": "stream",
     "text": [
      "100%|██████████| 2752512/2752512 [01:19<00:00, 34635.92it/s]\n",
      "100%|██████████| 2752512/2752512 [01:14<00:00, 37369.94it/s]"
     ]
    },
    {
     "name": "stdout",
     "output_type": "stream",
     "text": [
      "epoch 179, train loss: 0.119777\n",
      "Evaluation: auc:0.9943083679806413, precision:0.9853119321623258, recall:0.9474649815079065, f1:0.9660179040662716\n"
     ]
    },
    {
     "name": "stderr",
     "output_type": "stream",
     "text": [
      "\n",
      "100%|██████████| 2752512/2752512 [01:18<00:00, 35285.91it/s]\n",
      "\n",
      "  5%|▍         | 131072/2752512 [00:03<01:04, 40392.02it/s]\u001b[A\n",
      " 10%|▉         | 262144/2752512 [00:07<01:07, 36959.90it/s]\u001b[A\n",
      " 14%|█▍        | 393216/2752512 [00:10<01:01, 38546.57it/s]\u001b[A\n",
      " 19%|█▉        | 524288/2752512 [00:14<01:05, 34272.70it/s]\u001b[A\n",
      " 24%|██▍       | 655360/2752512 [00:18<01:01, 34155.71it/s]\u001b[A\n",
      " 29%|██▊       | 786432/2752512 [00:21<00:54, 36084.49it/s]\u001b[A\n",
      " 33%|███▎      | 917504/2752512 [00:25<00:50, 36442.85it/s]\u001b[A\n",
      " 38%|███▊      | 1048576/2752512 [00:28<00:45, 37140.51it/s]\u001b[A\n",
      " 43%|████▎     | 1179648/2752512 [00:31<00:41, 38157.45it/s]\u001b[A\n",
      " 48%|████▊     | 1310720/2752512 [00:35<00:37, 38616.77it/s]\u001b[A\n",
      " 52%|█████▏    | 1441792/2752512 [00:39<00:35, 37245.30it/s]\u001b[A\n",
      " 57%|█████▋    | 1572864/2752512 [00:42<00:31, 37907.73it/s]\u001b[A\n",
      " 62%|██████▏   | 1703936/2752512 [00:45<00:27, 38452.74it/s]\u001b[A\n",
      " 67%|██████▋   | 1835008/2752512 [00:51<00:28, 32434.10it/s]\u001b[A\n",
      " 71%|███████▏  | 1966080/2752512 [00:54<00:23, 33416.59it/s]\u001b[A\n",
      " 76%|███████▌  | 2097152/2752512 [00:58<00:18, 35012.12it/s]\u001b[A\n",
      " 81%|████████  | 2228224/2752512 [01:01<00:14, 35947.29it/s]\u001b[A\n",
      " 86%|████████▌ | 2359296/2752512 [01:04<00:10, 36999.60it/s]\u001b[A\n",
      " 90%|█████████ | 2490368/2752512 [01:08<00:06, 38080.00it/s]\u001b[A\n",
      " 95%|█████████▌| 2621440/2752512 [01:11<00:03, 38308.79it/s]\u001b[A\n",
      "100%|██████████| 2752512/2752512 [01:14<00:00, 39080.99it/s]\u001b[A"
     ]
    },
    {
     "name": "stdout",
     "output_type": "stream",
     "text": [
      "epoch 180, train loss: 0.121337\n",
      "Evaluation: auc:0.9944427319254047, precision:0.9762265293761356, recall:0.9606759153019714, f1:0.968388797512561\n"
     ]
    },
    {
     "name": "stderr",
     "output_type": "stream",
     "text": [
      "100%|██████████| 2752512/2752512 [01:18<00:00, 34967.63it/s]\n",
      "100%|██████████| 2752512/2752512 [01:14<00:00, 38000.64it/s]"
     ]
    },
    {
     "name": "stdout",
     "output_type": "stream",
     "text": [
      "epoch 181, train loss: 0.118154\n",
      "Evaluation: auc:0.9944660807960669, precision:0.976832222895215, recall:0.9586862832515975, f1:0.9676741918547964\n"
     ]
    },
    {
     "name": "stderr",
     "output_type": "stream",
     "text": [
      "\n",
      "100%|██████████| 2752512/2752512 [01:20<00:00, 34025.99it/s]\n",
      "\n",
      "  5%|▍         | 131072/2752512 [00:03<01:05, 39728.46it/s]\u001b[A\n",
      " 10%|▉         | 262144/2752512 [00:06<01:02, 40032.07it/s]\u001b[A\n",
      " 14%|█▍        | 393216/2752512 [00:09<00:59, 39939.86it/s]\u001b[A\n",
      " 19%|█▉        | 524288/2752512 [00:13<00:56, 39167.53it/s]\u001b[A\n",
      " 24%|██▍       | 655360/2752512 [00:16<00:53, 39316.19it/s]\u001b[A\n",
      " 29%|██▊       | 786432/2752512 [00:19<00:49, 39340.48it/s]\u001b[A\n",
      " 33%|███▎      | 917504/2752512 [00:23<00:49, 37168.61it/s]\u001b[A\n",
      " 38%|███▊      | 1048576/2752512 [00:27<00:44, 38033.02it/s]\u001b[A\n",
      " 43%|████▎     | 1179648/2752512 [00:30<00:41, 37574.23it/s]\u001b[A\n",
      " 48%|████▊     | 1310720/2752512 [00:35<00:43, 33522.12it/s]\u001b[A\n",
      " 52%|█████▏    | 1441792/2752512 [00:38<00:37, 35231.66it/s]\u001b[A\n",
      " 57%|█████▋    | 1572864/2752512 [00:42<00:32, 36415.30it/s]\u001b[A\n",
      " 62%|██████▏   | 1703936/2752512 [00:45<00:29, 35854.99it/s]\u001b[A\n",
      " 67%|██████▋   | 1835008/2752512 [00:49<00:24, 37029.90it/s]\u001b[A\n",
      " 71%|███████▏  | 1966080/2752512 [00:52<00:20, 37694.04it/s]\u001b[A\n",
      " 76%|███████▌  | 2097152/2752512 [00:56<00:18, 36181.47it/s]\u001b[A\n",
      " 81%|████████  | 2228224/2752512 [00:59<00:14, 37099.35it/s]\u001b[A\n",
      " 86%|████████▌ | 2359296/2752512 [01:03<00:10, 37876.33it/s]\u001b[A\n",
      " 90%|█████████ | 2490368/2752512 [01:06<00:06, 37758.78it/s]\u001b[A\n",
      " 95%|█████████▌| 2621440/2752512 [01:11<00:03, 34506.11it/s]\u001b[A\n",
      "100%|██████████| 2752512/2752512 [01:14<00:00, 35196.18it/s]\u001b[A"
     ]
    },
    {
     "name": "stdout",
     "output_type": "stream",
     "text": [
      "epoch 182, train loss: 0.117827\n",
      "Evaluation: auc:0.9945967098295143, precision:0.976832222895215, recall:0.9613292601147455, f1:0.9690187389687934\n"
     ]
    },
    {
     "name": "stderr",
     "output_type": "stream",
     "text": [
      "100%|██████████| 2752512/2752512 [01:18<00:00, 34851.85it/s]\n",
      "100%|██████████| 2752512/2752512 [01:15<00:00, 35813.41it/s]"
     ]
    },
    {
     "name": "stdout",
     "output_type": "stream",
     "text": [
      "epoch 183, train loss: 0.116572\n",
      "Evaluation: auc:0.9944677592017906, precision:0.9803149606299213, recall:0.9586424414730577, f1:0.9693575797503987\n"
     ]
    },
    {
     "name": "stderr",
     "output_type": "stream",
     "text": [
      "\n",
      "100%|██████████| 2752512/2752512 [01:19<00:00, 34609.48it/s]\n",
      "\n",
      "  5%|▍         | 131072/2752512 [00:03<01:05, 40198.98it/s]\u001b[A\n",
      " 10%|▉         | 262144/2752512 [00:07<01:07, 36675.58it/s]\u001b[A\n",
      " 14%|█▍        | 393216/2752512 [00:10<01:01, 38083.87it/s]\u001b[A\n",
      " 19%|█▉        | 524288/2752512 [00:13<00:58, 38253.73it/s]\u001b[A\n",
      " 24%|██▍       | 655360/2752512 [00:17<00:54, 38212.06it/s]\u001b[A\n",
      " 29%|██▊       | 786432/2752512 [00:22<01:00, 32281.78it/s]\u001b[A\n",
      " 33%|███▎      | 917504/2752512 [00:25<00:52, 34634.08it/s]\u001b[A\n",
      " 38%|███▊      | 1048576/2752512 [00:29<00:49, 34539.22it/s]\u001b[A\n",
      " 43%|████▎     | 1179648/2752512 [00:32<00:43, 36128.16it/s]\u001b[A\n",
      " 48%|████▊     | 1310720/2752512 [00:36<00:38, 37326.97it/s]\u001b[A\n",
      " 52%|█████▏    | 1441792/2752512 [00:39<00:34, 37499.48it/s]\u001b[A\n",
      " 57%|█████▋    | 1572864/2752512 [00:43<00:31, 37043.40it/s]\u001b[A\n",
      " 62%|██████▏   | 1703936/2752512 [00:46<00:27, 37946.91it/s]\u001b[A\n",
      " 67%|██████▋   | 1835008/2752512 [00:49<00:23, 38644.25it/s]\u001b[A\n",
      " 71%|███████▏  | 1966080/2752512 [00:52<00:20, 38849.17it/s]\u001b[A\n",
      " 76%|███████▌  | 2097152/2752512 [00:57<00:19, 33925.98it/s]\u001b[A\n",
      " 81%|████████  | 2228224/2752512 [01:01<00:15, 33837.72it/s]\u001b[A\n",
      " 86%|████████▌ | 2359296/2752512 [01:05<00:11, 35506.52it/s]\u001b[A\n",
      " 90%|█████████ | 2490368/2752512 [01:08<00:07, 36877.26it/s]\u001b[A\n",
      " 95%|█████████▌| 2621440/2752512 [01:11<00:03, 37785.28it/s]\u001b[A\n",
      "100%|██████████| 2752512/2752512 [01:15<00:00, 37903.39it/s]\u001b[A"
     ]
    },
    {
     "name": "stdout",
     "output_type": "stream",
     "text": [
      "epoch 184, train loss: 0.118095\n",
      "Evaluation: auc:0.9944292223643619, precision:0.978649303452453, recall:0.9608265814316509, f1:0.969656051911031\n"
     ]
    },
    {
     "name": "stderr",
     "output_type": "stream",
     "text": [
      "100%|██████████| 2752512/2752512 [01:19<00:00, 34648.43it/s]\n",
      "100%|██████████| 2752512/2752512 [01:15<00:00, 37843.36it/s]"
     ]
    },
    {
     "name": "stdout",
     "output_type": "stream",
     "text": [
      "epoch 185, train loss: 0.116592\n",
      "Evaluation: auc:0.9944669383421607, precision:0.9784978800726832, recall:0.9595937096271216, f1:0.9689535990883259\n"
     ]
    },
    {
     "name": "stderr",
     "output_type": "stream",
     "text": [
      "\n",
      "100%|██████████| 2752512/2752512 [01:19<00:00, 34521.34it/s]\n",
      "\n",
      "  5%|▍         | 131072/2752512 [00:03<01:12, 36133.67it/s]\u001b[A\n",
      " 10%|▉         | 262144/2752512 [00:08<01:22, 30222.37it/s]\u001b[A\n",
      " 14%|█▍        | 393216/2752512 [00:11<01:09, 33753.48it/s]\u001b[A\n",
      " 19%|█▉        | 524288/2752512 [00:15<01:01, 36228.19it/s]\u001b[A\n",
      " 24%|██▍       | 655360/2752512 [00:18<00:55, 37578.60it/s]\u001b[A\n",
      " 29%|██▊       | 786432/2752512 [00:21<00:51, 38466.59it/s]\u001b[A\n",
      " 33%|███▎      | 917504/2752512 [00:25<00:49, 37113.04it/s]\u001b[A\n",
      " 38%|███▊      | 1048576/2752512 [00:28<00:45, 37803.39it/s]\u001b[A\n",
      " 43%|████▎     | 1179648/2752512 [00:32<00:41, 37586.57it/s]\u001b[A\n",
      " 48%|████▊     | 1310720/2752512 [00:35<00:39, 36614.66it/s]\u001b[A\n",
      " 52%|█████▏    | 1441792/2752512 [00:39<00:35, 36785.23it/s]\u001b[A\n",
      " 57%|█████▋    | 1572864/2752512 [00:44<00:34, 33933.06it/s]\u001b[A\n",
      " 62%|██████▏   | 1703936/2752512 [00:47<00:29, 35085.37it/s]\u001b[A\n",
      " 67%|██████▋   | 1835008/2752512 [00:50<00:25, 36388.43it/s]\u001b[A\n",
      " 71%|███████▏  | 1966080/2752512 [00:54<00:21, 36203.65it/s]\u001b[A\n",
      " 76%|███████▌  | 2097152/2752512 [00:57<00:17, 36498.19it/s]\u001b[A\n",
      " 81%|████████  | 2228224/2752512 [01:01<00:14, 37312.32it/s]\u001b[A\n",
      " 86%|████████▌ | 2359296/2752512 [01:04<00:10, 38154.34it/s]\u001b[A\n",
      " 90%|█████████ | 2490368/2752512 [01:08<00:07, 36967.65it/s]\u001b[A\n",
      " 95%|█████████▌| 2621440/2752512 [01:11<00:03, 37743.24it/s]\u001b[A\n",
      "100%|██████████| 2752512/2752512 [01:14<00:00, 38198.26it/s]\u001b[A"
     ]
    },
    {
     "name": "stdout",
     "output_type": "stream",
     "text": [
      "epoch 186, train loss: 0.116807\n",
      "Evaluation: auc:0.9946586817507954, precision:0.9762265293761356, recall:0.9624830180792141, f1:0.9693060598543108\n"
     ]
    },
    {
     "name": "stderr",
     "output_type": "stream",
     "text": [
      "100%|██████████| 2752512/2752512 [01:20<00:00, 33995.63it/s]\n",
      "100%|██████████| 2752512/2752512 [01:14<00:00, 35546.71it/s]"
     ]
    },
    {
     "name": "stdout",
     "output_type": "stream",
     "text": [
      "epoch 187, train loss: 0.116969\n",
      "Evaluation: auc:0.9949172424454317, precision:0.9778921865536039, recall:0.962028333507128, f1:0.9698953960756632\n"
     ]
    },
    {
     "name": "stderr",
     "output_type": "stream",
     "text": [
      "\n",
      "100%|██████████| 2752512/2752512 [01:19<00:00, 34729.95it/s]\n",
      "\n",
      "  5%|▍         | 131072/2752512 [00:03<01:05, 39832.04it/s]\u001b[A\n",
      " 10%|▉         | 262144/2752512 [00:07<01:09, 35929.94it/s]\u001b[A\n",
      " 14%|█▍        | 393216/2752512 [00:10<01:02, 37599.51it/s]\u001b[A\n",
      " 19%|█▉        | 524288/2752512 [00:13<00:57, 38631.90it/s]\u001b[A\n",
      " 24%|██▍       | 655360/2752512 [00:17<00:54, 38421.77it/s]\u001b[A\n",
      " 29%|██▊       | 786432/2752512 [00:20<00:50, 38933.91it/s]\u001b[A\n",
      " 33%|███▎      | 917504/2752512 [00:23<00:46, 39251.92it/s]\u001b[A\n",
      " 38%|███▊      | 1048576/2752512 [00:28<00:50, 33883.45it/s]\u001b[A\n",
      " 43%|████▎     | 1179648/2752512 [00:32<00:45, 34674.92it/s]\u001b[A\n",
      " 48%|████▊     | 1310720/2752512 [00:35<00:39, 36223.27it/s]\u001b[A\n",
      " 52%|█████▏    | 1441792/2752512 [00:39<00:35, 36689.47it/s]\u001b[A\n",
      " 57%|█████▋    | 1572864/2752512 [00:42<00:32, 36420.00it/s]\u001b[A\n",
      " 62%|██████▏   | 1703936/2752512 [00:46<00:28, 36173.79it/s]\u001b[A\n",
      " 67%|██████▋   | 1835008/2752512 [00:49<00:24, 36782.08it/s]\u001b[A\n",
      " 71%|███████▏  | 1966080/2752512 [00:53<00:20, 37754.19it/s]\u001b[A\n",
      " 76%|███████▌  | 2097152/2752512 [00:56<00:16, 38559.78it/s]\u001b[A\n",
      " 81%|████████  | 2228224/2752512 [00:59<00:13, 39066.55it/s]\u001b[A\n",
      " 86%|████████▌ | 2359296/2752512 [01:04<00:11, 33738.67it/s]\u001b[A\n",
      " 90%|█████████ | 2490368/2752512 [01:07<00:07, 35383.07it/s]\u001b[A\n",
      " 95%|█████████▌| 2621440/2752512 [01:11<00:03, 36656.04it/s]\u001b[A\n",
      "100%|██████████| 2752512/2752512 [01:15<00:00, 35320.92it/s]\u001b[A"
     ]
    },
    {
     "name": "stdout",
     "output_type": "stream",
     "text": [
      "epoch 188, train loss: 0.116810\n",
      "Evaluation: auc:0.9946252381410088, precision:0.9831920048455481, recall:0.9553306064797105, f1:0.9690610868170081\n"
     ]
    },
    {
     "name": "stderr",
     "output_type": "stream",
     "text": [
      "100%|██████████| 2752512/2752512 [01:19<00:00, 34680.15it/s]\n",
      "100%|██████████| 2752512/2752512 [01:14<00:00, 37792.65it/s]"
     ]
    },
    {
     "name": "stdout",
     "output_type": "stream",
     "text": [
      "epoch 189, train loss: 0.117155\n",
      "Evaluation: auc:0.994523483647559, precision:0.9691096305269533, recall:0.966446196128175, f1:0.9677760808093028\n"
     ]
    },
    {
     "name": "stderr",
     "output_type": "stream",
     "text": [
      "\n",
      "100%|██████████| 2752512/2752512 [01:18<00:00, 34867.81it/s]\n",
      "\n",
      "  5%|▍         | 131072/2752512 [00:03<01:14, 35413.25it/s]\u001b[A\n",
      " 10%|▉         | 262144/2752512 [00:07<01:09, 35717.10it/s]\u001b[A\n",
      " 14%|█▍        | 393216/2752512 [00:10<01:02, 37630.18it/s]\u001b[A\n",
      " 19%|█▉        | 524288/2752512 [00:16<01:13, 30332.57it/s]\u001b[A\n",
      " 24%|██▍       | 655360/2752512 [00:19<01:03, 32989.98it/s]\u001b[A\n",
      " 29%|██▊       | 786432/2752512 [00:23<00:57, 33928.13it/s]\u001b[A\n",
      " 33%|███▎      | 917504/2752512 [00:26<00:51, 35872.39it/s]\u001b[A\n",
      " 38%|███▊      | 1048576/2752512 [00:29<00:45, 37237.38it/s]\u001b[A\n",
      " 43%|████▎     | 1179648/2752512 [00:32<00:41, 38262.91it/s]\u001b[A\n",
      " 48%|████▊     | 1310720/2752512 [00:36<00:37, 38298.57it/s]\u001b[A\n",
      " 52%|█████▏    | 1441792/2752512 [00:39<00:33, 38934.33it/s]\u001b[A\n",
      " 57%|█████▋    | 1572864/2752512 [00:43<00:31, 37850.60it/s]\u001b[A\n",
      " 62%|██████▏   | 1703936/2752512 [00:47<00:28, 36544.62it/s]\u001b[A\n",
      " 67%|██████▋   | 1835008/2752512 [00:51<00:27, 32939.32it/s]\u001b[A\n",
      " 71%|███████▏  | 1966080/2752512 [00:55<00:22, 34748.04it/s]\u001b[A\n",
      " 76%|███████▌  | 2097152/2752512 [00:59<00:18, 34805.08it/s]\u001b[A\n",
      " 81%|████████  | 2228224/2752512 [01:02<00:14, 36289.65it/s]\u001b[A\n",
      " 86%|████████▌ | 2359296/2752512 [01:05<00:10, 37367.78it/s]\u001b[A\n",
      " 90%|█████████ | 2490368/2752512 [01:08<00:06, 37585.00it/s]\u001b[A\n",
      " 95%|█████████▌| 2621440/2752512 [01:12<00:03, 38081.07it/s]\u001b[A\n",
      "100%|██████████| 2752512/2752512 [01:15<00:00, 38192.77it/s]\u001b[A"
     ]
    },
    {
     "name": "stdout",
     "output_type": "stream",
     "text": [
      "epoch 190, train loss: 0.116828\n",
      "Evaluation: auc:0.9948939096250974, precision:0.9813749242883101, recall:0.9586852654467997, f1:0.9698974132577088\n"
     ]
    },
    {
     "name": "stderr",
     "output_type": "stream",
     "text": [
      "100%|██████████| 2752512/2752512 [01:20<00:00, 34057.66it/s]\n",
      "100%|██████████| 2752512/2752512 [01:14<00:00, 36828.81it/s]"
     ]
    },
    {
     "name": "stdout",
     "output_type": "stream",
     "text": [
      "epoch 191, train loss: 0.115656\n",
      "Evaluation: auc:0.9945592506569628, precision:0.9794064203513022, recall:0.9621134365656656, f1:0.9706829147500882\n"
     ]
    },
    {
     "name": "stderr",
     "output_type": "stream",
     "text": [
      "\n",
      "100%|██████████| 2752512/2752512 [01:20<00:00, 34145.21it/s]\n",
      "\n",
      "  5%|▍         | 131072/2752512 [00:03<01:04, 40444.39it/s]\u001b[A\n",
      " 10%|▉         | 262144/2752512 [00:07<01:10, 35431.36it/s]\u001b[A\n",
      " 14%|█▍        | 393216/2752512 [00:10<01:03, 37176.03it/s]\u001b[A\n",
      " 19%|█▉        | 524288/2752512 [00:13<00:59, 37758.29it/s]\u001b[A\n",
      " 24%|██▍       | 655360/2752512 [00:17<00:55, 37508.68it/s]\u001b[A\n",
      " 29%|██▊       | 786432/2752512 [00:20<00:51, 37880.55it/s]\u001b[A\n",
      " 33%|███▎      | 917504/2752512 [00:24<00:49, 37375.59it/s]\u001b[A\n",
      " 38%|███▊      | 1048576/2752512 [00:28<00:45, 37253.40it/s]\u001b[A\n",
      " 43%|████▎     | 1179648/2752512 [00:31<00:41, 37753.06it/s]\u001b[A\n",
      " 48%|████▊     | 1310720/2752512 [00:35<00:41, 34479.39it/s]\u001b[A\n",
      " 52%|█████▏    | 1441792/2752512 [00:39<00:38, 34478.70it/s]\u001b[A\n",
      " 57%|█████▋    | 1572864/2752512 [00:43<00:32, 35821.61it/s]\u001b[A\n",
      " 62%|██████▏   | 1703936/2752512 [00:46<00:28, 36912.02it/s]\u001b[A\n",
      " 67%|██████▋   | 1835008/2752512 [00:49<00:24, 36775.23it/s]\u001b[A\n",
      " 71%|███████▏  | 1966080/2752512 [00:53<00:21, 36186.66it/s]\u001b[A\n",
      " 76%|███████▌  | 2097152/2752512 [00:56<00:17, 37360.48it/s]\u001b[A\n",
      " 81%|████████  | 2228224/2752512 [01:00<00:13, 37494.61it/s]\u001b[A\n",
      " 86%|████████▌ | 2359296/2752512 [01:03<00:10, 37931.80it/s]\u001b[A\n",
      " 90%|█████████ | 2490368/2752512 [01:07<00:06, 38422.76it/s]\u001b[A\n",
      " 95%|█████████▌| 2621440/2752512 [01:12<00:03, 33687.32it/s]\u001b[A\n",
      "100%|██████████| 2752512/2752512 [01:15<00:00, 35441.09it/s]\u001b[A"
     ]
    },
    {
     "name": "stdout",
     "output_type": "stream",
     "text": [
      "epoch 192, train loss: 0.115863\n",
      "Evaluation: auc:0.9947285169570339, precision:0.9780436099333737, recall:0.9609605141785937, f1:0.969426808951326\n"
     ]
    },
    {
     "name": "stderr",
     "output_type": "stream",
     "text": [
      "100%|██████████| 2752512/2752512 [01:19<00:00, 34651.79it/s]\n",
      "100%|██████████| 2752512/2752512 [01:15<00:00, 36653.22it/s]"
     ]
    },
    {
     "name": "stdout",
     "output_type": "stream",
     "text": [
      "epoch 193, train loss: 0.115314\n",
      "Evaluation: auc:0.9942403810843125, precision:0.9844033918837068, recall:0.9531559269848252, f1:0.9685276919065887\n"
     ]
    },
    {
     "name": "stderr",
     "output_type": "stream",
     "text": [
      "\n",
      "100%|██████████| 2752512/2752512 [01:19<00:00, 34409.16it/s]\n",
      "\n",
      "  5%|▍         | 131072/2752512 [00:03<01:06, 39711.56it/s]\u001b[A\n",
      " 10%|▉         | 262144/2752512 [00:06<01:01, 40216.16it/s]\u001b[A\n",
      " 14%|█▍        | 393216/2752512 [00:09<00:58, 40340.78it/s]\u001b[A\n",
      " 19%|█▉        | 524288/2752512 [00:13<00:56, 39642.73it/s]\u001b[A\n",
      " 24%|██▍       | 655360/2752512 [00:16<00:52, 39948.25it/s]\u001b[A\n",
      " 29%|██▊       | 786432/2752512 [00:20<00:55, 35203.90it/s]\u001b[A\n",
      " 33%|███▎      | 917504/2752512 [00:24<00:50, 36233.14it/s]\u001b[A\n",
      " 38%|███▊      | 1048576/2752512 [00:27<00:46, 36799.76it/s]\u001b[A\n",
      " 43%|████▎     | 1179648/2752512 [00:31<00:43, 36364.45it/s]\u001b[A\n",
      " 48%|████▊     | 1310720/2752512 [00:35<00:39, 36240.02it/s]\u001b[A\n",
      " 52%|█████▏    | 1441792/2752512 [00:38<00:35, 37407.12it/s]\u001b[A\n",
      " 57%|█████▋    | 1572864/2752512 [00:41<00:30, 38191.63it/s]\u001b[A\n",
      " 62%|██████▏   | 1703936/2752512 [00:45<00:28, 36785.43it/s]\u001b[A\n",
      " 67%|██████▋   | 1835008/2752512 [00:48<00:24, 37444.98it/s]\u001b[A\n",
      " 71%|███████▏  | 1966080/2752512 [00:52<00:20, 38195.18it/s]\u001b[A\n",
      " 76%|███████▌  | 2097152/2752512 [00:57<00:19, 33875.84it/s]\u001b[A\n",
      " 81%|████████  | 2228224/2752512 [01:00<00:14, 35264.06it/s]\u001b[A\n",
      " 86%|████████▌ | 2359296/2752512 [01:03<00:10, 36004.15it/s]\u001b[A\n",
      " 90%|█████████ | 2490368/2752512 [01:07<00:07, 36334.62it/s]\u001b[A\n",
      " 95%|█████████▌| 2621440/2752512 [01:10<00:03, 37398.32it/s]\u001b[A\n",
      "100%|██████████| 2752512/2752512 [01:14<00:00, 37140.56it/s]\u001b[A"
     ]
    },
    {
     "name": "stdout",
     "output_type": "stream",
     "text": [
      "epoch 194, train loss: 0.115955\n",
      "Evaluation: auc:0.9945588975497478, precision:0.9792549969715324, recall:0.9588127149804294, f1:0.9689260457868872\n"
     ]
    },
    {
     "name": "stderr",
     "output_type": "stream",
     "text": [
      "100%|██████████| 2752512/2752512 [01:18<00:00, 35075.10it/s]\n",
      "100%|██████████| 2752512/2752512 [01:15<00:00, 38686.89it/s]"
     ]
    },
    {
     "name": "stdout",
     "output_type": "stream",
     "text": [
      "epoch 195, train loss: 0.115153\n",
      "Evaluation: auc:0.994497491287882, precision:0.9825863113264688, recall:0.9563179768326112, f1:0.9692742019806712\n"
     ]
    },
    {
     "name": "stderr",
     "output_type": "stream",
     "text": [
      "\n",
      "100%|██████████| 2752512/2752512 [01:19<00:00, 34648.03it/s]\n",
      "\n",
      "  5%|▍         | 131072/2752512 [00:03<01:10, 37074.01it/s]\u001b[A\n",
      " 10%|▉         | 262144/2752512 [00:08<01:27, 28568.60it/s]\u001b[A\n",
      " 14%|█▍        | 393216/2752512 [00:12<01:13, 32314.92it/s]\u001b[A\n",
      " 19%|█▉        | 524288/2752512 [00:15<01:03, 34999.65it/s]\u001b[A\n",
      " 24%|██▍       | 655360/2752512 [00:18<00:57, 36225.61it/s]\u001b[A\n",
      " 29%|██▊       | 786432/2752512 [00:22<00:54, 36328.98it/s]\u001b[A\n",
      " 33%|███▎      | 917504/2752512 [00:25<00:49, 37043.14it/s]\u001b[A\n",
      " 38%|███▊      | 1048576/2752512 [00:29<00:45, 37104.89it/s]\u001b[A\n",
      " 43%|████▎     | 1179648/2752512 [00:32<00:41, 37695.58it/s]\u001b[A\n",
      " 48%|████▊     | 1310720/2752512 [00:36<00:38, 37282.46it/s]\u001b[A\n",
      " 52%|█████▏    | 1441792/2752512 [00:39<00:35, 37390.27it/s]\u001b[A\n",
      " 57%|█████▋    | 1572864/2752512 [00:44<00:35, 33153.11it/s]\u001b[A\n",
      " 62%|██████▏   | 1703936/2752512 [00:48<00:29, 35052.78it/s]\u001b[A\n",
      " 67%|██████▋   | 1835008/2752512 [00:51<00:25, 35818.15it/s]\u001b[A\n",
      " 71%|███████▏  | 1966080/2752512 [00:54<00:21, 36905.26it/s]\u001b[A\n",
      " 76%|███████▌  | 2097152/2752512 [00:58<00:17, 36503.65it/s]\u001b[A\n",
      " 81%|████████  | 2228224/2752512 [01:02<00:14, 36810.64it/s]\u001b[A\n",
      " 86%|████████▌ | 2359296/2752512 [01:05<00:10, 37613.91it/s]\u001b[A\n",
      " 90%|█████████ | 2490368/2752512 [01:09<00:07, 36355.79it/s]\u001b[A\n",
      " 95%|█████████▌| 2621440/2752512 [01:12<00:03, 37029.15it/s]\u001b[A\n",
      "100%|██████████| 2752512/2752512 [01:15<00:00, 37988.13it/s]\u001b[A"
     ]
    },
    {
     "name": "stdout",
     "output_type": "stream",
     "text": [
      "epoch 196, train loss: 0.115159\n",
      "Evaluation: auc:0.9946577902697226, precision:0.975015142337977, recall:0.963345302214243, f1:0.9691450933172787\n"
     ]
    },
    {
     "name": "stderr",
     "output_type": "stream",
     "text": [
      "100%|██████████| 2752512/2752512 [01:21<00:00, 33656.12it/s]\n",
      "100%|██████████| 2752512/2752512 [01:15<00:00, 34694.62it/s]"
     ]
    },
    {
     "name": "stdout",
     "output_type": "stream",
     "text": [
      "epoch 197, train loss: 0.114577\n",
      "Evaluation: auc:0.9945454657181504, precision:0.9788007268322229, recall:0.9597481848821844, f1:0.9691808292913315\n"
     ]
    },
    {
     "name": "stderr",
     "output_type": "stream",
     "text": [
      "\n",
      "100%|██████████| 2752512/2752512 [01:19<00:00, 34595.81it/s]\n",
      "\n",
      "  5%|▍         | 131072/2752512 [00:03<01:06, 39359.55it/s]\u001b[A\n",
      " 10%|▉         | 262144/2752512 [00:07<01:10, 35401.83it/s]\u001b[A\n",
      " 14%|█▍        | 393216/2752512 [00:10<01:05, 36133.67it/s]\u001b[A\n",
      " 19%|█▉        | 524288/2752512 [00:14<00:59, 37258.03it/s]\u001b[A\n",
      " 24%|██▍       | 655360/2752512 [00:17<00:54, 38280.60it/s]\u001b[A\n",
      " 29%|██▊       | 786432/2752512 [00:20<00:50, 38964.31it/s]\u001b[A\n",
      " 33%|███▎      | 917504/2752512 [00:24<00:48, 37802.12it/s]\u001b[A\n",
      " 38%|███▊      | 1048576/2752512 [00:28<00:49, 34391.83it/s]\u001b[A\n",
      " 43%|████▎     | 1179648/2752512 [00:32<00:44, 35538.64it/s]\u001b[A\n",
      " 48%|████▊     | 1310720/2752512 [00:35<00:39, 36458.89it/s]\u001b[A\n",
      " 52%|█████▏    | 1441792/2752512 [00:39<00:37, 35057.35it/s]\u001b[A\n",
      " 57%|█████▋    | 1572864/2752512 [00:43<00:32, 36183.41it/s]\u001b[A\n",
      " 62%|██████▏   | 1703936/2752512 [00:46<00:28, 37329.84it/s]\u001b[A\n",
      " 67%|██████▋   | 1835008/2752512 [00:49<00:24, 38204.67it/s]\u001b[A\n",
      " 71%|███████▏  | 1966080/2752512 [00:53<00:20, 37531.74it/s]\u001b[A\n",
      " 76%|███████▌  | 2097152/2752512 [00:56<00:17, 37575.45it/s]\u001b[A\n",
      " 81%|████████  | 2228224/2752512 [01:00<00:13, 37941.74it/s]\u001b[A\n",
      " 86%|████████▌ | 2359296/2752512 [01:04<00:11, 34123.51it/s]\u001b[A\n",
      " 90%|█████████ | 2490368/2752512 [01:08<00:07, 34413.21it/s]\u001b[A\n",
      " 95%|█████████▌| 2621440/2752512 [01:12<00:03, 35079.87it/s]\u001b[A\n",
      "100%|██████████| 2752512/2752512 [01:15<00:00, 36477.97it/s]\u001b[A"
     ]
    },
    {
     "name": "stdout",
     "output_type": "stream",
     "text": [
      "epoch 198, train loss: 0.115635\n",
      "Evaluation: auc:0.994600052424957, precision:0.9789521502119928, recall:0.9603814786755203, f1:0.9695778999227637\n"
     ]
    },
    {
     "name": "stderr",
     "output_type": "stream",
     "text": [
      "100%|██████████| 2752512/2752512 [01:19<00:00, 34541.17it/s]\n",
      "100%|██████████| 2752512/2752512 [01:15<00:00, 37676.37it/s]"
     ]
    },
    {
     "name": "stdout",
     "output_type": "stream",
     "text": [
      "epoch 199, train loss: 0.118282\n",
      "Evaluation: auc:0.9943447976392994, precision:0.9691096305269533, recall:0.967059534602599, f1:0.9680834972016337\n"
     ]
    },
    {
     "name": "stderr",
     "output_type": "stream",
     "text": [
      "\n",
      "100%|██████████| 2752512/2752512 [01:19<00:00, 34576.28it/s]\n",
      "\n",
      "  5%|▍         | 131072/2752512 [00:03<01:05, 39866.48it/s]\u001b[A\n",
      " 10%|▉         | 262144/2752512 [00:06<01:06, 37682.38it/s]\u001b[A\n",
      " 14%|█▍        | 393216/2752512 [00:10<01:03, 37200.45it/s]\u001b[A\n",
      " 19%|█▉        | 524288/2752512 [00:15<01:07, 32791.14it/s]\u001b[A\n",
      " 24%|██▍       | 655360/2752512 [00:18<01:01, 34037.92it/s]\u001b[A\n",
      " 29%|██▊       | 786432/2752512 [00:22<00:55, 35742.61it/s]\u001b[A\n",
      " 33%|███▎      | 917504/2752512 [00:25<00:49, 37073.92it/s]\u001b[A\n",
      " 38%|███▊      | 1048576/2752512 [00:28<00:45, 37149.02it/s]\u001b[A\n",
      " 43%|████▎     | 1179648/2752512 [00:32<00:42, 36741.62it/s]\u001b[A\n",
      " 48%|████▊     | 1310720/2752512 [00:35<00:38, 37525.89it/s]\u001b[A\n",
      " 52%|█████▏    | 1441792/2752512 [00:39<00:34, 37658.78it/s]\u001b[A\n",
      " 57%|█████▋    | 1572864/2752512 [00:42<00:30, 38508.51it/s]\u001b[A\n",
      " 62%|██████▏   | 1703936/2752512 [00:46<00:28, 37233.34it/s]\u001b[A\n",
      " 67%|██████▋   | 1835008/2752512 [00:51<00:27, 33154.43it/s]\u001b[A\n",
      " 71%|███████▏  | 1966080/2752512 [00:54<00:22, 35026.66it/s]\u001b[A\n",
      " 76%|███████▌  | 2097152/2752512 [00:57<00:17, 36413.45it/s]\u001b[A\n",
      " 81%|████████  | 2228224/2752512 [01:01<00:14, 36221.19it/s]\u001b[A\n",
      " 86%|████████▌ | 2359296/2752512 [01:04<00:10, 37117.06it/s]\u001b[A\n",
      " 90%|█████████ | 2490368/2752512 [01:08<00:06, 38092.21it/s]\u001b[A\n",
      " 95%|█████████▌| 2621440/2752512 [01:11<00:03, 38219.35it/s]\u001b[A\n",
      "100%|██████████| 2752512/2752512 [01:14<00:00, 37805.03it/s]\u001b[A"
     ]
    },
    {
     "name": "stdout",
     "output_type": "stream",
     "text": [
      "epoch 200, train loss: 0.115201\n",
      "Evaluation: auc:0.9948480075214589, precision:0.982434887946699, recall:0.958600514169203, f1:0.9703713674638429\n"
     ]
    },
    {
     "name": "stderr",
     "output_type": "stream",
     "text": [
      "100%|██████████| 2752512/2752512 [01:19<00:00, 34701.37it/s]\n",
      "100%|██████████| 2752512/2752512 [01:14<00:00, 38611.43it/s]"
     ]
    },
    {
     "name": "stdout",
     "output_type": "stream",
     "text": [
      "epoch 201, train loss: 0.113448\n",
      "Evaluation: auc:0.9949738214565187, precision:0.9772864930345245, recall:0.9635568295486779, f1:0.9703730989843709\n"
     ]
    },
    {
     "name": "stderr",
     "output_type": "stream",
     "text": [
      "\n",
      "100%|██████████| 2752512/2752512 [01:20<00:00, 34055.30it/s]\n",
      "\n",
      "  5%|▍         | 131072/2752512 [00:03<01:04, 40395.45it/s]\u001b[A\n",
      " 10%|▉         | 262144/2752512 [00:06<01:05, 37963.55it/s]\u001b[A\n",
      " 14%|█▍        | 393216/2752512 [00:10<01:02, 37756.39it/s]\u001b[A\n",
      " 19%|█▉        | 524288/2752512 [00:13<00:58, 38154.42it/s]\u001b[A\n",
      " 24%|██▍       | 655360/2752512 [00:17<00:55, 37635.06it/s]\u001b[A\n",
      " 29%|██▊       | 786432/2752512 [00:21<00:53, 36773.07it/s]\u001b[A\n",
      " 33%|███▎      | 917504/2752512 [00:24<00:48, 37830.01it/s]\u001b[A\n",
      " 38%|███▊      | 1048576/2752512 [00:27<00:44, 38659.05it/s]\u001b[A\n",
      " 43%|████▎     | 1179648/2752512 [00:30<00:40, 39101.55it/s]\u001b[A\n",
      " 48%|████▊     | 1310720/2752512 [00:35<00:42, 34147.24it/s]\u001b[A\n",
      " 52%|█████▏    | 1441792/2752512 [00:39<00:36, 35592.33it/s]\u001b[A\n",
      " 57%|█████▋    | 1572864/2752512 [00:42<00:33, 35649.28it/s]\u001b[A\n",
      " 62%|██████▏   | 1703936/2752512 [00:46<00:28, 36365.16it/s]\u001b[A\n",
      " 67%|██████▋   | 1835008/2752512 [00:49<00:24, 37214.02it/s]\u001b[A\n",
      " 71%|███████▏  | 1966080/2752512 [00:52<00:20, 37663.10it/s]\u001b[A\n",
      " 76%|███████▌  | 2097152/2752512 [00:56<00:18, 36296.40it/s]\u001b[A\n",
      " 81%|████████  | 2228224/2752512 [01:00<00:14, 37357.54it/s]\u001b[A\n",
      " 86%|████████▌ | 2359296/2752512 [01:03<00:10, 38084.65it/s]\u001b[A\n",
      " 90%|█████████ | 2490368/2752512 [01:06<00:06, 37748.93it/s]\u001b[A\n",
      " 95%|█████████▌| 2621440/2752512 [01:11<00:03, 34301.91it/s]\u001b[A\n",
      "100%|██████████| 2752512/2752512 [01:14<00:00, 35834.17it/s]\u001b[A"
     ]
    },
    {
     "name": "stdout",
     "output_type": "stream",
     "text": [
      "epoch 202, train loss: 0.113138\n",
      "Evaluation: auc:0.9950572831619036, precision:0.9830405814657783, recall:0.9572256380767019, f1:0.9699613778471697\n"
     ]
    },
    {
     "name": "stderr",
     "output_type": "stream",
     "text": [
      "100%|██████████| 2752512/2752512 [01:19<00:00, 34672.77it/s]\n",
      "100%|██████████| 2752512/2752512 [01:15<00:00, 34710.73it/s]"
     ]
    },
    {
     "name": "stdout",
     "output_type": "stream",
     "text": [
      "epoch 203, train loss: 0.113419\n",
      "Evaluation: auc:0.9948746143794063, precision:0.982434887946699, recall:0.9580343167656006, f1:0.9700811889774376\n"
     ]
    },
    {
     "name": "stderr",
     "output_type": "stream",
     "text": [
      "\n",
      "100%|██████████| 2752512/2752512 [01:19<00:00, 34713.51it/s]\n",
      "\n",
      "  5%|▍         | 131072/2752512 [00:03<01:05, 39752.85it/s]\u001b[A\n",
      " 10%|▉         | 262144/2752512 [00:07<01:07, 36945.24it/s]\u001b[A\n",
      " 14%|█▍        | 393216/2752512 [00:10<01:01, 38258.17it/s]\u001b[A\n",
      " 19%|█▉        | 524288/2752512 [00:13<00:57, 39077.26it/s]\u001b[A\n",
      " 24%|██▍       | 655360/2752512 [00:16<00:54, 38757.23it/s]\u001b[A\n",
      " 29%|██▊       | 786432/2752512 [00:21<00:56, 34594.27it/s]\u001b[A\n",
      " 33%|███▎      | 917504/2752512 [00:25<00:52, 34812.76it/s]\u001b[A\n",
      " 38%|███▊      | 1048576/2752512 [00:29<00:49, 34102.62it/s]\u001b[A\n",
      " 43%|████▎     | 1179648/2752512 [00:32<00:43, 35798.03it/s]\u001b[A\n",
      " 48%|████▊     | 1310720/2752512 [00:35<00:38, 37091.83it/s]\u001b[A\n",
      " 52%|█████▏    | 1441792/2752512 [00:39<00:36, 35979.04it/s]\u001b[A\n",
      " 57%|█████▋    | 1572864/2752512 [00:42<00:31, 37058.16it/s]\u001b[A\n",
      " 62%|██████▏   | 1703936/2752512 [00:46<00:27, 37998.15it/s]\u001b[A\n",
      " 67%|██████▋   | 1835008/2752512 [00:49<00:24, 37727.85it/s]\u001b[A\n",
      " 71%|███████▏  | 1966080/2752512 [00:53<00:21, 37054.99it/s]\u001b[A\n",
      " 76%|███████▌  | 2097152/2752512 [00:58<00:19, 34028.30it/s]\u001b[A\n",
      " 81%|████████  | 2228224/2752512 [01:02<00:15, 33676.06it/s]\u001b[A\n",
      " 86%|████████▌ | 2359296/2752512 [01:05<00:11, 35204.08it/s]\u001b[A\n",
      " 90%|█████████ | 2490368/2752512 [01:08<00:07, 36542.70it/s]\u001b[A\n",
      " 95%|█████████▌| 2621440/2752512 [01:12<00:03, 36765.17it/s]\u001b[A\n",
      "100%|██████████| 2752512/2752512 [01:15<00:00, 37541.69it/s]\u001b[A"
     ]
    },
    {
     "name": "stdout",
     "output_type": "stream",
     "text": [
      "epoch 204, train loss: 0.114023\n",
      "Evaluation: auc:0.994760142752534, precision:0.9806178073894609, recall:0.9609449192782527, f1:0.9706816955452965\n"
     ]
    },
    {
     "name": "stderr",
     "output_type": "stream",
     "text": [
      "100%|██████████| 2752512/2752512 [01:19<00:00, 34636.94it/s]\n",
      "100%|██████████| 2752512/2752512 [01:15<00:00, 38507.17it/s]"
     ]
    },
    {
     "name": "stdout",
     "output_type": "stream",
     "text": [
      "epoch 205, train loss: 0.113236\n",
      "Evaluation: auc:0.9944818032387545, precision:0.98152634766808, recall:0.9601398290648931, f1:0.9707153072608966\n"
     ]
    },
    {
     "name": "stderr",
     "output_type": "stream",
     "text": [
      "\n",
      "100%|██████████| 2752512/2752512 [01:20<00:00, 34400.11it/s]\n",
      "\n",
      "  5%|▍         | 131072/2752512 [00:03<01:05, 39926.42it/s]\u001b[A\n",
      " 10%|▉         | 262144/2752512 [00:08<01:24, 29583.61it/s]\u001b[A\n",
      " 14%|█▍        | 393216/2752512 [00:12<01:12, 32514.92it/s]\u001b[A\n",
      " 19%|█▉        | 524288/2752512 [00:15<01:03, 35039.51it/s]\u001b[A\n",
      " 24%|██▍       | 655360/2752512 [00:18<00:57, 36706.05it/s]\u001b[A\n",
      " 29%|██▊       | 786432/2752512 [00:22<00:52, 37272.88it/s]\u001b[A\n",
      " 33%|███▎      | 917504/2752512 [00:25<00:48, 38111.40it/s]\u001b[A\n",
      " 38%|███▊      | 1048576/2752512 [00:28<00:43, 38744.07it/s]\u001b[A\n",
      " 43%|████▎     | 1179648/2752512 [00:32<00:41, 38051.68it/s]\u001b[A\n",
      " 48%|████▊     | 1310720/2752512 [00:35<00:37, 38290.34it/s]\u001b[A\n",
      " 52%|█████▏    | 1441792/2752512 [00:39<00:35, 37284.42it/s]\u001b[A\n",
      " 57%|█████▋    | 1572864/2752512 [00:44<00:36, 32734.18it/s]\u001b[A\n",
      " 62%|██████▏   | 1703936/2752512 [00:48<00:31, 33314.27it/s]\u001b[A\n",
      " 67%|██████▋   | 1835008/2752512 [00:51<00:26, 35017.59it/s]\u001b[A\n",
      " 71%|███████▏  | 1966080/2752512 [00:54<00:21, 36060.68it/s]\u001b[A\n",
      " 76%|███████▌  | 2097152/2752512 [00:58<00:17, 37197.35it/s]\u001b[A\n",
      " 81%|████████  | 2228224/2752512 [01:01<00:13, 37779.65it/s]\u001b[A\n",
      " 86%|████████▌ | 2359296/2752512 [01:04<00:10, 38127.10it/s]\u001b[A\n",
      " 90%|█████████ | 2490368/2752512 [01:08<00:06, 38029.00it/s]\u001b[A\n",
      " 95%|█████████▌| 2621440/2752512 [01:11<00:03, 37539.81it/s]\u001b[A\n",
      "100%|██████████| 2752512/2752512 [01:15<00:00, 37224.18it/s]\u001b[A"
     ]
    },
    {
     "name": "stdout",
     "output_type": "stream",
     "text": [
      "epoch 206, train loss: 0.113825\n",
      "Evaluation: auc:0.9947451904962982, precision:0.9830405814657783, recall:0.9566755083996463, f1:0.969678864824496\n"
     ]
    },
    {
     "name": "stderr",
     "output_type": "stream",
     "text": [
      "100%|██████████| 2752512/2752512 [01:21<00:00, 33749.57it/s]\n",
      "100%|██████████| 2752512/2752512 [01:15<00:00, 34542.99it/s]"
     ]
    },
    {
     "name": "stdout",
     "output_type": "stream",
     "text": [
      "epoch 207, train loss: 0.112899\n",
      "Evaluation: auc:0.9947258739266, precision:0.9848576620230164, recall:0.9531765223125962, f1:0.9687581455967231\n"
     ]
    },
    {
     "name": "stderr",
     "output_type": "stream",
     "text": [
      "\n",
      "100%|██████████| 2752512/2752512 [01:19<00:00, 34543.52it/s]\n",
      "\n",
      "  5%|▍         | 131072/2752512 [00:03<01:08, 38296.77it/s]\u001b[A\n",
      " 10%|▉         | 262144/2752512 [00:07<01:11, 34984.83it/s]\u001b[A\n",
      " 14%|█▍        | 393216/2752512 [00:10<01:03, 36952.54it/s]\u001b[A\n",
      " 19%|█▉        | 524288/2752512 [00:14<00:59, 37624.99it/s]\u001b[A\n",
      " 24%|██▍       | 655360/2752512 [00:17<00:55, 38084.30it/s]\u001b[A\n",
      " 29%|██▊       | 786432/2752512 [00:21<00:52, 37457.05it/s]\u001b[A\n",
      " 33%|███▎      | 917504/2752512 [00:24<00:47, 38314.75it/s]\u001b[A\n",
      " 38%|███▊      | 1048576/2752512 [00:29<00:50, 33495.47it/s]\u001b[A\n",
      " 43%|████▎     | 1179648/2752512 [00:32<00:44, 35186.78it/s]\u001b[A\n",
      " 48%|████▊     | 1310720/2752512 [00:35<00:39, 36495.57it/s]\u001b[A\n",
      " 52%|█████▏    | 1441792/2752512 [00:39<00:36, 36342.72it/s]\u001b[A\n",
      " 57%|█████▋    | 1572864/2752512 [00:43<00:32, 36062.28it/s]\u001b[A\n",
      " 62%|██████▏   | 1703936/2752512 [00:46<00:28, 36864.25it/s]\u001b[A\n",
      " 67%|██████▋   | 1835008/2752512 [00:50<00:24, 36828.67it/s]\u001b[A\n",
      " 71%|███████▏  | 1966080/2752512 [00:53<00:20, 37612.53it/s]\u001b[A\n",
      " 76%|███████▌  | 2097152/2752512 [00:57<00:17, 37179.45it/s]\u001b[A\n",
      " 81%|████████  | 2228224/2752512 [01:00<00:14, 37211.24it/s]\u001b[A\n",
      " 86%|████████▌ | 2359296/2752512 [01:05<00:11, 33690.57it/s]\u001b[A\n",
      " 90%|█████████ | 2490368/2752512 [01:08<00:07, 34692.87it/s]\u001b[A\n",
      " 95%|█████████▌| 2621440/2752512 [01:12<00:03, 34748.09it/s]\u001b[A\n",
      "100%|██████████| 2752512/2752512 [01:15<00:00, 36073.41it/s]\u001b[A"
     ]
    },
    {
     "name": "stdout",
     "output_type": "stream",
     "text": [
      "epoch 208, train loss: 0.114168\n",
      "Evaluation: auc:0.995079076985077, precision:0.9827377347062386, recall:0.959491425192194, f1:0.9709754637941354\n"
     ]
    },
    {
     "name": "stderr",
     "output_type": "stream",
     "text": [
      "100%|██████████| 2752512/2752512 [01:20<00:00, 34089.65it/s]\n",
      "100%|██████████| 2752512/2752512 [01:15<00:00, 36967.07it/s]"
     ]
    },
    {
     "name": "stdout",
     "output_type": "stream",
     "text": [
      "epoch 209, train loss: 0.112555\n",
      "Evaluation: auc:0.9948288326532274, precision:0.9819806178073894, recall:0.9595040466361874, f1:0.9706122265709773\n"
     ]
    },
    {
     "name": "stderr",
     "output_type": "stream",
     "text": [
      "\n",
      "100%|██████████| 2752512/2752512 [01:19<00:00, 34545.38it/s]\n",
      "\n",
      "  5%|▍         | 131072/2752512 [00:03<01:05, 39861.66it/s]\u001b[A\n",
      " 10%|▉         | 262144/2752512 [00:06<01:05, 37769.06it/s]\u001b[A\n",
      " 14%|█▍        | 393216/2752512 [00:10<01:02, 37666.22it/s]\u001b[A\n",
      " 19%|█▉        | 524288/2752512 [00:15<01:11, 31259.96it/s]\u001b[A\n",
      " 24%|██▍       | 655360/2752512 [00:19<01:03, 33225.32it/s]\u001b[A\n",
      " 29%|██▊       | 786432/2752512 [00:22<00:55, 35255.25it/s]\u001b[A\n",
      " 33%|███▎      | 917504/2752512 [00:26<00:51, 35509.44it/s]\u001b[A\n",
      " 38%|███▊      | 1048576/2752512 [00:29<00:46, 36718.22it/s]\u001b[A\n",
      " 43%|████▎     | 1179648/2752512 [00:32<00:42, 37236.55it/s]\u001b[A\n",
      " 48%|████▊     | 1310720/2752512 [00:36<00:37, 38137.32it/s]\u001b[A\n",
      " 52%|█████▏    | 1441792/2752512 [00:39<00:35, 37357.51it/s]\u001b[A\n",
      " 57%|█████▋    | 1572864/2752512 [00:43<00:31, 37059.06it/s]\u001b[A\n",
      " 62%|██████▏   | 1703936/2752512 [00:46<00:28, 36874.44it/s]\u001b[A\n",
      " 67%|██████▋   | 1835008/2752512 [00:51<00:27, 33860.03it/s]\u001b[A\n",
      " 71%|███████▏  | 1966080/2752512 [00:55<00:23, 33142.97it/s]\u001b[A\n",
      " 76%|███████▌  | 2097152/2752512 [00:58<00:18, 34832.80it/s]\u001b[A\n",
      " 81%|████████  | 2228224/2752512 [01:02<00:14, 36141.05it/s]\u001b[A\n",
      " 86%|████████▌ | 2359296/2752512 [01:05<00:10, 36637.81it/s]\u001b[A\n",
      " 90%|█████████ | 2490368/2752512 [01:09<00:07, 37256.07it/s]\u001b[A\n",
      " 95%|█████████▌| 2621440/2752512 [01:12<00:03, 37645.97it/s]\u001b[A\n",
      "100%|██████████| 2752512/2752512 [01:16<00:00, 37637.72it/s]\u001b[A"
     ]
    },
    {
     "name": "stdout",
     "output_type": "stream",
     "text": [
      "epoch 210, train loss: 0.112594\n",
      "Evaluation: auc:0.9947174534659721, precision:0.9792549969715324, recall:0.9612068965517241, f1:0.9701470147014701\n"
     ]
    },
    {
     "name": "stderr",
     "output_type": "stream",
     "text": [
      "100%|██████████| 2752512/2752512 [01:20<00:00, 34295.52it/s]\n",
      "100%|██████████| 2752512/2752512 [01:15<00:00, 37784.49it/s]"
     ]
    },
    {
     "name": "stdout",
     "output_type": "stream",
     "text": [
      "epoch 211, train loss: 0.113118\n",
      "Evaluation: auc:0.9947891732100033, precision:0.9854633555420957, recall:0.9527016146740642, f1:0.968805591324218\n"
     ]
    },
    {
     "name": "stderr",
     "output_type": "stream",
     "text": [
      "\n",
      "100%|██████████| 2752512/2752512 [01:21<00:00, 33618.08it/s]\n",
      "\n",
      "  5%|▍         | 131072/2752512 [00:03<01:05, 40231.15it/s]\u001b[A\n",
      " 10%|▉         | 262144/2752512 [00:06<01:01, 40278.38it/s]\u001b[A\n",
      " 14%|█▍        | 393216/2752512 [00:09<00:58, 40273.02it/s]\u001b[A\n",
      " 19%|█▉        | 524288/2752512 [00:13<00:58, 38209.12it/s]\u001b[A\n",
      " 24%|██▍       | 655360/2752512 [00:16<00:54, 38539.64it/s]\u001b[A\n",
      " 29%|██▊       | 786432/2752512 [00:20<00:51, 38494.37it/s]\u001b[A\n",
      " 33%|███▎      | 917504/2752512 [00:23<00:47, 38444.22it/s]\u001b[A\n",
      " 38%|███▊      | 1048576/2752512 [00:26<00:43, 39072.35it/s]\u001b[A\n",
      " 43%|████▎     | 1179648/2752512 [00:30<00:41, 38213.70it/s]\u001b[A\n",
      " 48%|████▊     | 1310720/2752512 [00:35<00:43, 33074.08it/s]\u001b[A\n",
      " 52%|█████▏    | 1441792/2752512 [00:39<00:38, 34143.89it/s]\u001b[A\n",
      " 57%|█████▋    | 1572864/2752512 [00:42<00:33, 35420.82it/s]\u001b[A\n",
      " 62%|██████▏   | 1703936/2752512 [00:46<00:30, 34520.14it/s]\u001b[A\n",
      " 67%|██████▋   | 1835008/2752512 [00:49<00:25, 35957.25it/s]\u001b[A\n",
      " 71%|███████▏  | 1966080/2752512 [00:53<00:21, 37062.45it/s]\u001b[A\n",
      " 76%|███████▌  | 2097152/2752512 [00:56<00:17, 37228.36it/s]\u001b[A\n",
      " 81%|████████  | 2228224/2752512 [00:59<00:13, 38018.63it/s]\u001b[A\n",
      " 86%|████████▌ | 2359296/2752512 [01:03<00:10, 38467.53it/s]\u001b[A\n",
      " 90%|█████████ | 2490368/2752512 [01:06<00:06, 37918.06it/s]\u001b[A\n",
      " 95%|█████████▌| 2621440/2752512 [01:11<00:03, 34326.19it/s]\u001b[A\n",
      "100%|██████████| 2752512/2752512 [01:15<00:00, 34900.40it/s]\u001b[A"
     ]
    },
    {
     "name": "stdout",
     "output_type": "stream",
     "text": [
      "epoch 212, train loss: 0.113309\n",
      "Evaluation: auc:0.9947416947348687, precision:0.9771350696547547, recall:0.965569870269785, f1:0.9713180453221546\n"
     ]
    },
    {
     "name": "stderr",
     "output_type": "stream",
     "text": [
      "100%|██████████| 2752512/2752512 [01:19<00:00, 34465.38it/s]\n",
      "100%|██████████| 2752512/2752512 [01:15<00:00, 35600.61it/s]"
     ]
    },
    {
     "name": "stdout",
     "output_type": "stream",
     "text": [
      "epoch 213, train loss: 0.112508\n",
      "Evaluation: auc:0.9949924758355434, precision:0.9862204724409449, recall:0.9519702993451824, f1:0.9687927649193788\n"
     ]
    },
    {
     "name": "stderr",
     "output_type": "stream",
     "text": [
      "\n",
      "100%|██████████| 2752512/2752512 [01:19<00:00, 34472.29it/s]\n",
      "\n",
      "  5%|▍         | 131072/2752512 [00:03<01:06, 39219.71it/s]\u001b[A\n",
      " 10%|▉         | 262144/2752512 [00:07<01:09, 35963.72it/s]\u001b[A\n",
      " 14%|█▍        | 393216/2752512 [00:10<01:02, 37484.09it/s]\u001b[A\n",
      " 19%|█▉        | 524288/2752512 [00:13<00:58, 38187.23it/s]\u001b[A\n",
      " 24%|██▍       | 655360/2752512 [00:17<00:55, 37729.43it/s]\u001b[A\n",
      " 29%|██▊       | 786432/2752512 [00:23<01:03, 31125.76it/s]\u001b[A\n",
      " 33%|███▎      | 917504/2752512 [00:26<00:54, 33686.33it/s]\u001b[A\n",
      " 38%|███▊      | 1048576/2752512 [00:29<00:48, 34969.41it/s]\u001b[A\n",
      " 43%|████▎     | 1179648/2752512 [00:32<00:42, 36606.22it/s]\u001b[A\n",
      " 48%|████▊     | 1310720/2752512 [00:36<00:38, 37859.65it/s]\u001b[A\n",
      " 52%|█████▏    | 1441792/2752512 [00:39<00:34, 38019.97it/s]\u001b[A\n",
      " 57%|█████▋    | 1572864/2752512 [00:43<00:31, 37701.55it/s]\u001b[A\n",
      " 62%|██████▏   | 1703936/2752512 [00:46<00:27, 38414.01it/s]\u001b[A\n",
      " 67%|██████▋   | 1835008/2752512 [00:49<00:23, 38377.28it/s]\u001b[A\n",
      " 71%|███████▏  | 1966080/2752512 [00:53<00:20, 37868.14it/s]\u001b[A\n",
      " 76%|███████▌  | 2097152/2752512 [00:58<00:19, 33318.23it/s]\u001b[A\n",
      " 81%|████████  | 2228224/2752512 [01:01<00:15, 34247.54it/s]\u001b[A\n",
      " 86%|████████▌ | 2359296/2752512 [01:05<00:10, 35759.27it/s]\u001b[A\n",
      " 90%|█████████ | 2490368/2752512 [01:08<00:07, 36916.65it/s]\u001b[A\n",
      " 95%|█████████▌| 2621440/2752512 [01:11<00:03, 37208.57it/s]\u001b[A\n",
      "100%|██████████| 2752512/2752512 [01:15<00:00, 38096.83it/s]\u001b[A"
     ]
    },
    {
     "name": "stdout",
     "output_type": "stream",
     "text": [
      "epoch 214, train loss: 0.111844\n",
      "Evaluation: auc:0.9949766784148953, precision:0.9812235009085403, recall:0.9619952494061758, f1:0.9715142428785607\n"
     ]
    },
    {
     "name": "stderr",
     "output_type": "stream",
     "text": [
      "100%|██████████| 2752512/2752512 [01:19<00:00, 34573.82it/s]\n",
      "100%|██████████| 2752512/2752512 [01:16<00:00, 36573.71it/s]"
     ]
    },
    {
     "name": "stdout",
     "output_type": "stream",
     "text": [
      "epoch 215, train loss: 0.112150\n",
      "Evaluation: auc:0.9950027657007977, precision:0.9834948516050879, recall:0.9572022283137325, f1:0.9701704333278564\n"
     ]
    },
    {
     "name": "stderr",
     "output_type": "stream",
     "text": [
      "\n",
      "100%|██████████| 2752512/2752512 [01:20<00:00, 34018.95it/s]\n",
      "\n",
      "  5%|▍         | 131072/2752512 [00:03<01:07, 39098.22it/s]\u001b[A\n",
      " 10%|▉         | 262144/2752512 [00:08<01:23, 29850.35it/s]\u001b[A\n",
      " 14%|█▍        | 393216/2752512 [00:12<01:13, 31911.15it/s]\u001b[A\n",
      " 19%|█▉        | 524288/2752512 [00:15<01:04, 34479.52it/s]\u001b[A\n",
      " 24%|██▍       | 655360/2752512 [00:18<00:58, 35938.67it/s]\u001b[A\n",
      " 29%|██▊       | 786432/2752512 [00:22<00:54, 36254.89it/s]\u001b[A\n",
      " 33%|███▎      | 917504/2752512 [00:26<00:52, 35027.60it/s]\u001b[A\n",
      " 38%|███▊      | 1048576/2752512 [00:29<00:47, 36136.46it/s]\u001b[A\n",
      " 43%|████▎     | 1179648/2752512 [00:33<00:43, 36505.06it/s]\u001b[A\n",
      " 48%|████▊     | 1310720/2752512 [00:36<00:38, 37236.21it/s]\u001b[A\n",
      " 52%|█████▏    | 1441792/2752512 [00:40<00:35, 36668.13it/s]\u001b[A\n",
      " 57%|█████▋    | 1572864/2752512 [00:45<00:36, 32715.51it/s]\u001b[A\n",
      " 62%|██████▏   | 1703936/2752512 [00:48<00:30, 34161.03it/s]\u001b[A\n",
      " 67%|██████▋   | 1835008/2752512 [00:52<00:25, 35566.57it/s]\u001b[A\n",
      " 71%|███████▏  | 1966080/2752512 [00:56<00:22, 35025.97it/s]\u001b[A\n",
      " 76%|███████▌  | 2097152/2752512 [00:59<00:18, 35310.05it/s]\u001b[A\n",
      " 81%|████████  | 2228224/2752512 [01:03<00:14, 36318.51it/s]\u001b[A\n",
      " 86%|████████▌ | 2359296/2752512 [01:06<00:10, 36414.50it/s]\u001b[A\n",
      " 90%|█████████ | 2490368/2752512 [01:10<00:07, 37133.64it/s]\u001b[A\n",
      " 95%|█████████▌| 2621440/2752512 [01:13<00:03, 37660.96it/s]\u001b[A\n",
      "100%|██████████| 2752512/2752512 [01:16<00:00, 37387.41it/s]\u001b[A"
     ]
    },
    {
     "name": "stdout",
     "output_type": "stream",
     "text": [
      "epoch 216, train loss: 0.111875\n",
      "Evaluation: auc:0.9948429218603999, precision:0.982434887946699, recall:0.9572568865544359, f1:0.9696824768153522\n"
     ]
    },
    {
     "name": "stderr",
     "output_type": "stream",
     "text": [
      "100%|██████████| 2752512/2752512 [01:23<00:00, 33152.92it/s]\n",
      "100%|██████████| 2752512/2752512 [01:16<00:00, 34731.17it/s]"
     ]
    },
    {
     "name": "stdout",
     "output_type": "stream",
     "text": [
      "epoch 217, train loss: 0.113076\n",
      "Evaluation: auc:0.9948901992478542, precision:0.9733494851605088, recall:0.9668637095197269, f1:0.9700957569629424\n"
     ]
    },
    {
     "name": "stderr",
     "output_type": "stream",
     "text": [
      "\n",
      "100%|██████████| 2752512/2752512 [01:21<00:00, 33622.16it/s]\n",
      "\n",
      "  5%|▍         | 131072/2752512 [00:03<01:07, 38865.53it/s]\u001b[A\n",
      " 10%|▉         | 262144/2752512 [00:06<01:03, 39105.94it/s]\u001b[A\n",
      " 14%|█▍        | 393216/2752512 [00:10<01:01, 38330.67it/s]\u001b[A\n",
      " 19%|█▉        | 524288/2752512 [00:13<00:58, 38309.05it/s]\u001b[A\n",
      " 24%|██▍       | 655360/2752512 [00:16<00:54, 38552.98it/s]\u001b[A\n",
      " 29%|██▊       | 786432/2752512 [00:20<00:50, 38906.12it/s]\u001b[A\n",
      " 33%|███▎      | 917504/2752512 [00:23<00:47, 38784.16it/s]\u001b[A\n",
      " 38%|███▊      | 1048576/2752512 [00:28<00:49, 34631.03it/s]\u001b[A\n",
      " 43%|████▎     | 1179648/2752512 [00:32<00:46, 33890.79it/s]\u001b[A\n",
      " 48%|████▊     | 1310720/2752512 [00:36<00:41, 34451.41it/s]\u001b[A\n",
      " 52%|█████▏    | 1441792/2752512 [00:39<00:36, 35830.66it/s]\u001b[A\n",
      " 57%|█████▋    | 1572864/2752512 [00:42<00:32, 36483.27it/s]\u001b[A\n",
      " 62%|██████▏   | 1703936/2752512 [00:46<00:29, 35575.34it/s]\u001b[A\n",
      " 67%|██████▋   | 1835008/2752512 [00:50<00:25, 36334.60it/s]\u001b[A\n",
      " 71%|███████▏  | 1966080/2752512 [00:53<00:21, 37033.15it/s]\u001b[A\n",
      " 76%|███████▌  | 2097152/2752512 [00:56<00:17, 37554.06it/s]\u001b[A\n",
      " 81%|████████  | 2228224/2752512 [01:00<00:13, 38068.38it/s]\u001b[A\n",
      " 86%|████████▌ | 2359296/2752512 [01:05<00:11, 33504.39it/s]\u001b[A\n",
      " 90%|█████████ | 2490368/2752512 [01:09<00:07, 33325.03it/s]\u001b[A\n",
      " 95%|█████████▌| 2621440/2752512 [01:12<00:03, 35036.56it/s]\u001b[A\n",
      "100%|██████████| 2752512/2752512 [01:16<00:00, 34892.48it/s]\u001b[A"
     ]
    },
    {
     "name": "stdout",
     "output_type": "stream",
     "text": [
      "epoch 218, train loss: 0.112112\n",
      "Evaluation: auc:0.9949327527944997, precision:0.9831920048455481, recall:0.9566114180478822, f1:0.9697195982526229\n"
     ]
    },
    {
     "name": "stderr",
     "output_type": "stream",
     "text": [
      "100%|██████████| 2752512/2752512 [01:20<00:00, 34227.45it/s]\n",
      "100%|██████████| 2752512/2752512 [01:16<00:00, 37233.10it/s]"
     ]
    },
    {
     "name": "stdout",
     "output_type": "stream",
     "text": [
      "epoch 219, train loss: 0.110766\n",
      "Evaluation: auc:0.994777341366813, precision:0.9806178073894609, recall:0.9597486513723398, f1:0.9700710027262651\n"
     ]
    },
    {
     "name": "stderr",
     "output_type": "stream",
     "text": [
      "\n",
      "100%|██████████| 2752512/2752512 [01:20<00:00, 34030.16it/s]\n",
      "\n",
      "  5%|▍         | 131072/2752512 [00:03<01:10, 37135.19it/s]\u001b[A\n",
      " 10%|▉         | 262144/2752512 [00:07<01:08, 36324.09it/s]\u001b[A\n",
      " 14%|█▍        | 393216/2752512 [00:10<01:05, 35929.35it/s]\u001b[A\n",
      " 19%|█▉        | 524288/2752512 [00:16<01:12, 30810.46it/s]\u001b[A\n",
      " 24%|██▍       | 655360/2752512 [00:19<01:03, 33267.41it/s]\u001b[A\n",
      " 29%|██▊       | 786432/2752512 [00:23<00:57, 34138.24it/s]\u001b[A\n",
      " 33%|███▎      | 917504/2752512 [00:26<00:52, 35040.02it/s]\u001b[A\n",
      " 38%|███▊      | 1048576/2752512 [00:30<00:47, 36140.24it/s]\u001b[A\n",
      " 43%|████▎     | 1179648/2752512 [00:33<00:42, 36657.65it/s]\u001b[A\n",
      " 48%|████▊     | 1310720/2752512 [00:36<00:39, 36883.72it/s]\u001b[A\n",
      " 52%|█████▏    | 1441792/2752512 [00:40<00:34, 37529.77it/s]\u001b[A\n",
      " 57%|█████▋    | 1572864/2752512 [00:44<00:32, 36646.16it/s]\u001b[A\n",
      " 62%|██████▏   | 1703936/2752512 [00:47<00:28, 36657.90it/s]\u001b[A\n",
      " 67%|██████▋   | 1835008/2752512 [00:52<00:27, 33248.68it/s]\u001b[A\n",
      " 71%|███████▏  | 1966080/2752512 [00:55<00:22, 34536.45it/s]\u001b[A\n",
      " 76%|███████▌  | 2097152/2752512 [00:59<00:19, 34400.37it/s]\u001b[A\n",
      " 81%|████████  | 2228224/2752512 [01:03<00:14, 35784.69it/s]\u001b[A\n",
      " 86%|████████▌ | 2359296/2752512 [01:06<00:10, 36833.64it/s]\u001b[A\n",
      " 90%|█████████ | 2490368/2752512 [01:09<00:07, 37072.09it/s]\u001b[A\n",
      " 95%|█████████▌| 2621440/2752512 [01:13<00:03, 37734.33it/s]\u001b[A\n",
      "100%|██████████| 2752512/2752512 [01:16<00:00, 36956.95it/s]\u001b[A"
     ]
    },
    {
     "name": "stdout",
     "output_type": "stream",
     "text": [
      "epoch 220, train loss: 0.112072\n",
      "Evaluation: auc:0.9948024429332882, precision:0.9781950333131435, recall:0.9628713240225961, f1:0.9704726923105813\n"
     ]
    },
    {
     "name": "stderr",
     "output_type": "stream",
     "text": [
      "100%|██████████| 2752512/2752512 [01:21<00:00, 33719.21it/s]\n",
      "100%|██████████| 2752512/2752512 [01:16<00:00, 36415.04it/s]"
     ]
    },
    {
     "name": "stdout",
     "output_type": "stream",
     "text": [
      "epoch 221, train loss: 0.110778\n",
      "Evaluation: auc:0.9948435049458856, precision:0.9818291944276196, recall:0.9592283567074975, f1:0.9703971983597234\n"
     ]
    },
    {
     "name": "stderr",
     "output_type": "stream",
     "text": [
      "\n",
      "100%|██████████| 2752512/2752512 [01:22<00:00, 33277.54it/s]\n",
      "\n",
      "  5%|▍         | 131072/2752512 [00:03<01:11, 36913.41it/s]\u001b[A\n",
      " 10%|▉         | 262144/2752512 [00:07<01:09, 35636.31it/s]\u001b[A\n",
      " 14%|█▍        | 393216/2752512 [00:11<01:06, 35374.71it/s]\u001b[A\n",
      " 19%|█▉        | 524288/2752512 [00:14<01:01, 36044.76it/s]\u001b[A\n",
      " 24%|██▍       | 655360/2752512 [00:17<00:56, 37116.11it/s]\u001b[A\n",
      " 29%|██▊       | 786432/2752512 [00:21<00:51, 37857.15it/s]\u001b[A\n",
      " 33%|███▎      | 917504/2752512 [00:25<00:49, 36790.76it/s]\u001b[A\n",
      " 38%|███▊      | 1048576/2752512 [00:28<00:45, 37598.70it/s]\u001b[A\n",
      " 43%|████▎     | 1179648/2752512 [00:31<00:41, 37718.63it/s]\u001b[A\n",
      " 48%|████▊     | 1310720/2752512 [00:36<00:43, 32787.40it/s]\u001b[A\n",
      " 52%|█████▏    | 1441792/2752512 [00:40<00:39, 33373.20it/s]\u001b[A\n",
      " 57%|█████▋    | 1572864/2752512 [00:44<00:34, 34048.55it/s]\u001b[A\n",
      " 62%|██████▏   | 1703936/2752512 [00:47<00:30, 34931.40it/s]\u001b[A\n",
      " 67%|██████▋   | 1835008/2752512 [00:51<00:25, 35975.68it/s]\u001b[A\n",
      " 71%|███████▏  | 1966080/2752512 [00:55<00:22, 35734.37it/s]\u001b[A\n",
      " 76%|███████▌  | 2097152/2752512 [00:58<00:18, 35947.22it/s]\u001b[A\n",
      " 81%|████████  | 2228224/2752512 [01:02<00:14, 36466.00it/s]\u001b[A\n",
      " 86%|████████▌ | 2359296/2752512 [01:05<00:10, 37249.19it/s]\u001b[A\n",
      " 90%|█████████ | 2490368/2752512 [01:08<00:07, 37274.54it/s]\u001b[A\n",
      " 95%|█████████▌| 2621440/2752512 [01:13<00:03, 33416.42it/s]\u001b[A\n",
      "100%|██████████| 2752512/2752512 [01:17<00:00, 33046.92it/s]\u001b[A"
     ]
    },
    {
     "name": "stdout",
     "output_type": "stream",
     "text": [
      "epoch 222, train loss: 0.112699\n",
      "Evaluation: auc:0.9947687005581112, precision:0.9772864930345245, recall:0.9641469973110248, f1:0.9706722815460971\n"
     ]
    },
    {
     "name": "stderr",
     "output_type": "stream",
     "text": [
      "100%|██████████| 2752512/2752512 [01:22<00:00, 33473.13it/s]\n",
      "100%|██████████| 2752512/2752512 [01:17<00:00, 35704.24it/s]"
     ]
    },
    {
     "name": "stdout",
     "output_type": "stream",
     "text": [
      "epoch 223, train loss: 0.111769\n",
      "Evaluation: auc:0.994783122924234, precision:0.9766807995154452, recall:0.9648322388595534, f1:0.970720364810258\n"
     ]
    },
    {
     "name": "stderr",
     "output_type": "stream",
     "text": [
      "\n",
      "100%|██████████| 2752512/2752512 [01:22<00:00, 33487.54it/s]\n",
      "\n",
      "  5%|▍         | 131072/2752512 [00:03<01:09, 37545.89it/s]\u001b[A\n",
      " 10%|▉         | 262144/2752512 [00:07<01:08, 36458.46it/s]\u001b[A\n",
      " 14%|█▍        | 393216/2752512 [00:10<01:05, 35831.65it/s]\u001b[A\n",
      " 19%|█▉        | 524288/2752512 [00:14<01:00, 36992.95it/s]\u001b[A\n",
      " 24%|██▍       | 655360/2752512 [00:17<00:55, 37557.35it/s]\u001b[A\n",
      " 29%|██▊       | 786432/2752512 [00:22<00:58, 33443.13it/s]\u001b[A\n",
      " 33%|███▎      | 917504/2752512 [00:26<00:54, 33725.52it/s]\u001b[A\n",
      " 38%|███▊      | 1048576/2752512 [00:29<00:48, 35154.93it/s]\u001b[A\n",
      " 43%|████▎     | 1179648/2752512 [00:33<00:44, 35143.94it/s]\u001b[A\n",
      " 48%|████▊     | 1310720/2752512 [00:36<00:40, 35513.58it/s]\u001b[A\n",
      " 52%|█████▏    | 1441792/2752512 [00:40<00:36, 36171.68it/s]\u001b[A\n",
      " 57%|█████▋    | 1572864/2752512 [00:43<00:31, 36890.46it/s]\u001b[A\n",
      " 62%|██████▏   | 1703936/2752512 [00:48<00:30, 34672.32it/s]\u001b[A\n",
      " 67%|██████▋   | 1835008/2752512 [00:51<00:25, 35912.88it/s]\u001b[A\n",
      " 71%|███████▏  | 1966080/2752512 [00:54<00:21, 36757.05it/s]\u001b[A\n",
      " 76%|███████▌  | 2097152/2752512 [00:59<00:20, 32562.95it/s]\u001b[A\n",
      " 81%|████████  | 2228224/2752512 [01:03<00:15, 33709.60it/s]\u001b[A\n",
      " 86%|████████▌ | 2359296/2752512 [01:06<00:11, 35045.16it/s]\u001b[A\n",
      " 90%|█████████ | 2490368/2752512 [01:10<00:07, 35596.95it/s]\u001b[A\n",
      " 95%|█████████▌| 2621440/2752512 [01:13<00:03, 36553.33it/s]\u001b[A\n",
      "100%|██████████| 2752512/2752512 [01:17<00:00, 36119.65it/s]\u001b[A"
     ]
    },
    {
     "name": "stdout",
     "output_type": "stream",
     "text": [
      "epoch 224, train loss: 0.110998\n",
      "Evaluation: auc:0.9947824212956118, precision:0.9798606904906118, recall:0.9621017261630413, f1:0.9709000067517385\n"
     ]
    },
    {
     "name": "stderr",
     "output_type": "stream",
     "text": [
      "100%|██████████| 2752512/2752512 [01:22<00:00, 33371.12it/s]\n",
      "100%|██████████| 2752512/2752512 [01:17<00:00, 36997.77it/s]"
     ]
    },
    {
     "name": "stdout",
     "output_type": "stream",
     "text": [
      "epoch 225, train loss: 0.109947\n",
      "Evaluation: auc:0.9950820334554871, precision:0.9766807995154452, recall:0.9649910233393177, f1:0.9708007224563515\n"
     ]
    },
    {
     "name": "stderr",
     "output_type": "stream",
     "text": [
      "\n",
      "100%|██████████| 2752512/2752512 [01:21<00:00, 33689.86it/s]\n",
      "\n",
      "  5%|▍         | 131072/2752512 [00:03<01:08, 38089.04it/s]\u001b[A\n",
      " 10%|▉         | 262144/2752512 [00:08<01:26, 28667.61it/s]\u001b[A\n",
      " 14%|█▍        | 393216/2752512 [00:12<01:12, 32414.21it/s]\u001b[A\n",
      " 19%|█▉        | 524288/2752512 [00:16<01:08, 32464.97it/s]\u001b[A\n",
      " 24%|██▍       | 655360/2752512 [00:19<01:00, 34533.33it/s]\u001b[A\n",
      " 29%|██▊       | 786432/2752512 [00:23<00:56, 34921.63it/s]\u001b[A\n",
      " 33%|███▎      | 917504/2752512 [00:26<00:51, 35725.71it/s]\u001b[A\n",
      " 38%|███▊      | 1048576/2752512 [00:30<00:46, 36713.60it/s]\u001b[A\n",
      " 43%|████▎     | 1179648/2752512 [00:33<00:42, 37178.60it/s]\u001b[A\n",
      " 48%|████▊     | 1310720/2752512 [00:36<00:38, 37545.76it/s]\u001b[A\n",
      " 52%|█████▏    | 1441792/2752512 [00:40<00:34, 37640.66it/s]\u001b[A\n",
      " 57%|█████▋    | 1572864/2752512 [00:45<00:35, 32858.67it/s]\u001b[A\n",
      " 62%|██████▏   | 1703936/2752512 [00:49<00:32, 32321.62it/s]\u001b[A\n",
      " 67%|██████▋   | 1835008/2752512 [00:53<00:27, 33809.65it/s]\u001b[A\n",
      " 71%|███████▏  | 1966080/2752512 [00:56<00:22, 35168.97it/s]\u001b[A\n",
      " 76%|███████▌  | 2097152/2752512 [01:00<00:18, 34826.66it/s]\u001b[A\n",
      " 81%|████████  | 2228224/2752512 [01:03<00:14, 36050.75it/s]\u001b[A\n",
      " 86%|████████▌ | 2359296/2752512 [01:07<00:10, 36982.11it/s]\u001b[A\n",
      " 90%|█████████ | 2490368/2752512 [01:10<00:07, 37235.93it/s]\u001b[A\n",
      " 95%|█████████▌| 2621440/2752512 [01:13<00:03, 37884.81it/s]\u001b[A\n",
      "100%|██████████| 2752512/2752512 [01:17<00:00, 38347.76it/s]\u001b[A"
     ]
    },
    {
     "name": "stdout",
     "output_type": "stream",
     "text": [
      "epoch 226, train loss: 0.111342\n",
      "Evaluation: auc:0.9950699514564709, precision:0.9847062386432465, recall:0.9525832393396516, f1:0.9683784166126859\n"
     ]
    },
    {
     "name": "stderr",
     "output_type": "stream",
     "text": [
      "100%|██████████| 2752512/2752512 [01:24<00:00, 32507.24it/s]\n",
      "100%|██████████| 2752512/2752512 [01:16<00:00, 33000.95it/s]"
     ]
    },
    {
     "name": "stdout",
     "output_type": "stream",
     "text": [
      "epoch 227, train loss: 0.110676\n",
      "Evaluation: auc:0.9950066384156437, precision:0.9772864930345245, recall:0.9660664301645037, f1:0.9716440717517143\n"
     ]
    },
    {
     "name": "stderr",
     "output_type": "stream",
     "text": [
      "\n",
      "100%|██████████| 2752512/2752512 [01:21<00:00, 33913.24it/s]\n",
      "\n",
      "  5%|▍         | 131072/2752512 [00:03<01:07, 39084.37it/s]\u001b[A\n",
      " 10%|▉         | 262144/2752512 [00:07<01:07, 37077.65it/s]\u001b[A\n",
      " 14%|█▍        | 393216/2752512 [00:10<01:02, 37866.22it/s]\u001b[A\n",
      " 19%|█▉        | 524288/2752512 [00:13<00:58, 38384.18it/s]\u001b[A\n",
      " 24%|██▍       | 655360/2752512 [00:17<00:57, 36665.67it/s]\u001b[A\n",
      " 29%|██▊       | 786432/2752512 [00:20<00:52, 37464.73it/s]\u001b[A\n",
      " 33%|███▎      | 917504/2752512 [00:24<00:49, 36781.87it/s]\u001b[A\n",
      " 38%|███▊      | 1048576/2752512 [00:30<00:53, 31563.11it/s]\u001b[A\n",
      " 43%|████▎     | 1179648/2752512 [00:33<00:48, 32668.46it/s]\u001b[A\n",
      " 48%|████▊     | 1310720/2752512 [00:37<00:42, 33927.20it/s]\u001b[A\n",
      " 52%|█████▏    | 1441792/2752512 [00:40<00:38, 34428.88it/s]\u001b[A\n",
      " 57%|█████▋    | 1572864/2752512 [00:44<00:33, 35525.73it/s]\u001b[A\n",
      " 62%|██████▏   | 1703936/2752512 [00:47<00:29, 35804.99it/s]\u001b[A\n",
      " 67%|██████▋   | 1835008/2752512 [00:51<00:25, 35712.08it/s]\u001b[A\n",
      " 71%|███████▏  | 1966080/2752512 [00:55<00:22, 35626.43it/s]\u001b[A\n",
      " 76%|███████▌  | 2097152/2752512 [00:58<00:18, 36052.51it/s]\u001b[A\n",
      " 81%|████████  | 2228224/2752512 [01:02<00:14, 36815.42it/s]\u001b[A\n",
      " 86%|████████▌ | 2359296/2752512 [01:07<00:11, 33244.72it/s]\u001b[A\n",
      " 90%|█████████ | 2490368/2752512 [01:10<00:07, 33762.84it/s]\u001b[A\n",
      " 95%|█████████▌| 2621440/2752512 [01:14<00:03, 35258.25it/s]\u001b[A\n",
      "100%|██████████| 2752512/2752512 [01:17<00:00, 36425.02it/s]\u001b[A"
     ]
    },
    {
     "name": "stdout",
     "output_type": "stream",
     "text": [
      "epoch 228, train loss: 0.110438\n",
      "Evaluation: auc:0.9949421908459202, precision:0.9847062386432465, recall:0.9565767409020035, f1:0.9704376893345869\n"
     ]
    },
    {
     "name": "stderr",
     "output_type": "stream",
     "text": [
      "100%|██████████| 2752512/2752512 [01:22<00:00, 33536.11it/s]\n",
      "100%|██████████| 2752512/2752512 [01:17<00:00, 36311.53it/s]"
     ]
    },
    {
     "name": "stdout",
     "output_type": "stream",
     "text": [
      "epoch 229, train loss: 0.110499\n",
      "Evaluation: auc:0.9949986192132148, precision:0.9862204724409449, recall:0.9528198376124644, f1:0.9692324863276164\n"
     ]
    },
    {
     "name": "stderr",
     "output_type": "stream",
     "text": [
      "\n",
      "100%|██████████| 2752512/2752512 [01:22<00:00, 33534.66it/s]\n",
      "\n",
      "  5%|▍         | 131072/2752512 [00:03<01:08, 38524.86it/s]\u001b[A\n",
      " 10%|▉         | 262144/2752512 [00:06<01:06, 37503.60it/s]\u001b[A\n",
      " 14%|█▍        | 393216/2752512 [00:10<01:02, 37793.54it/s]\u001b[A\n",
      " 19%|█▉        | 524288/2752512 [00:15<01:09, 32218.87it/s]\u001b[A\n",
      " 24%|██▍       | 655360/2752512 [00:19<01:06, 31754.96it/s]\u001b[A\n",
      " 29%|██▊       | 786432/2752512 [00:22<00:57, 33916.44it/s]\u001b[A\n",
      " 33%|███▎      | 917504/2752512 [00:26<00:52, 35161.32it/s]\u001b[A\n",
      " 38%|███▊      | 1048576/2752512 [00:29<00:46, 36296.87it/s]\u001b[A\n",
      " 43%|████▎     | 1179648/2752512 [00:33<00:43, 36137.36it/s]\u001b[A\n",
      " 48%|████▊     | 1310720/2752512 [00:36<00:39, 36764.92it/s]\u001b[A\n",
      " 52%|█████▏    | 1441792/2752512 [00:40<00:35, 36977.09it/s]\u001b[A\n",
      " 57%|█████▋    | 1572864/2752512 [00:43<00:31, 37723.27it/s]\u001b[A\n",
      " 62%|██████▏   | 1703936/2752512 [00:47<00:28, 36998.40it/s]\u001b[A\n",
      " 67%|██████▋   | 1835008/2752512 [00:52<00:29, 31535.74it/s]\u001b[A\n",
      " 71%|███████▏  | 1966080/2752512 [00:56<00:24, 32147.53it/s]\u001b[A\n",
      " 76%|███████▌  | 2097152/2752512 [01:00<00:19, 33456.85it/s]\u001b[A\n",
      " 81%|████████  | 2228224/2752512 [01:03<00:15, 34927.58it/s]\u001b[A\n",
      " 86%|████████▌ | 2359296/2752512 [01:07<00:10, 35840.50it/s]\u001b[A\n",
      " 90%|█████████ | 2490368/2752512 [01:10<00:07, 35991.27it/s]\u001b[A\n",
      " 95%|█████████▌| 2621440/2752512 [01:14<00:03, 36852.56it/s]\u001b[A\n",
      "100%|██████████| 2752512/2752512 [01:17<00:00, 36416.32it/s]\u001b[A"
     ]
    },
    {
     "name": "stdout",
     "output_type": "stream",
     "text": [
      "epoch 230, train loss: 0.111141\n",
      "Evaluation: auc:0.9950475451986407, precision:0.9857662023016354, recall:0.9540418547394337, f1:0.9696446125889958\n"
     ]
    },
    {
     "name": "stderr",
     "output_type": "stream",
     "text": [
      "100%|██████████| 2752512/2752512 [01:22<00:00, 33484.37it/s]\n",
      "100%|██████████| 2752512/2752512 [01:17<00:00, 36382.40it/s]"
     ]
    },
    {
     "name": "stdout",
     "output_type": "stream",
     "text": [
      "epoch 231, train loss: 0.110203\n",
      "Evaluation: auc:0.9952387827926543, precision:0.9821320411871592, recall:0.9616582154612578, f1:0.9717873035374496\n"
     ]
    },
    {
     "name": "stderr",
     "output_type": "stream",
     "text": [
      "\n",
      "100%|██████████| 2752512/2752512 [01:24<00:00, 32633.65it/s]\n",
      "\n",
      "  5%|▍         | 131072/2752512 [00:03<01:10, 36950.90it/s]\u001b[A\n",
      " 10%|▉         | 262144/2752512 [00:07<01:08, 36102.24it/s]\u001b[A\n",
      " 14%|█▍        | 393216/2752512 [00:10<01:03, 37304.91it/s]\u001b[A\n",
      " 19%|█▉        | 524288/2752512 [00:14<00:59, 37259.04it/s]\u001b[A\n",
      " 24%|██▍       | 655360/2752512 [00:17<00:55, 37903.76it/s]\u001b[A\n",
      " 29%|██▊       | 786432/2752512 [00:21<00:54, 36401.96it/s]\u001b[A\n",
      " 33%|███▎      | 917504/2752512 [00:24<00:49, 37044.05it/s]\u001b[A\n",
      " 38%|███▊      | 1048576/2752512 [00:28<00:45, 37506.37it/s]\u001b[A\n",
      " 43%|████▎     | 1179648/2752512 [00:31<00:41, 38029.01it/s]\u001b[A\n",
      " 48%|████▊     | 1310720/2752512 [00:36<00:42, 33689.56it/s]\u001b[A\n",
      " 52%|█████▏    | 1441792/2752512 [00:39<00:37, 34636.90it/s]\u001b[A\n",
      " 57%|█████▋    | 1572864/2752512 [00:43<00:33, 34970.38it/s]\u001b[A\n",
      " 62%|██████▏   | 1703936/2752512 [00:47<00:29, 35942.77it/s]\u001b[A\n",
      " 67%|██████▋   | 1835008/2752512 [00:50<00:25, 36434.71it/s]\u001b[A\n",
      " 71%|███████▏  | 1966080/2752512 [00:53<00:21, 36910.39it/s]\u001b[A\n",
      " 76%|███████▌  | 2097152/2752512 [00:57<00:17, 36751.68it/s]\u001b[A\n",
      " 81%|████████  | 2228224/2752512 [01:00<00:14, 37346.71it/s]\u001b[A\n",
      " 86%|████████▌ | 2359296/2752512 [01:04<00:10, 37924.56it/s]\u001b[A\n",
      " 90%|█████████ | 2490368/2752512 [01:07<00:06, 38364.44it/s]\u001b[A\n",
      " 95%|█████████▌| 2621440/2752512 [01:12<00:03, 33810.91it/s]\u001b[A\n",
      "100%|██████████| 2752512/2752512 [01:16<00:00, 34886.07it/s]\u001b[A"
     ]
    },
    {
     "name": "stdout",
     "output_type": "stream",
     "text": [
      "epoch 232, train loss: 0.111410\n",
      "Evaluation: auc:0.994661660920955, precision:0.9810720775287705, recall:0.9575254197209743, f1:0.9691557470232754\n"
     ]
    },
    {
     "name": "stderr",
     "output_type": "stream",
     "text": [
      "100%|██████████| 2752512/2752512 [01:20<00:00, 34157.23it/s]\n",
      "100%|██████████| 2752512/2752512 [01:15<00:00, 35268.04it/s]"
     ]
    },
    {
     "name": "stdout",
     "output_type": "stream",
     "text": [
      "epoch 233, train loss: 0.110474\n",
      "Evaluation: auc:0.9949978556761847, precision:0.9866747425802543, recall:0.953872729135864, f1:0.9699965017007689\n"
     ]
    },
    {
     "name": "stderr",
     "output_type": "stream",
     "text": [
      "\n",
      "100%|██████████| 2752512/2752512 [01:19<00:00, 34519.84it/s]\n",
      "\n",
      "  5%|▍         | 131072/2752512 [00:03<01:05, 40139.27it/s]\u001b[A\n",
      " 10%|▉         | 262144/2752512 [00:06<01:06, 37440.86it/s]\u001b[A\n",
      " 14%|█▍        | 393216/2752512 [00:10<01:03, 37430.81it/s]\u001b[A\n",
      " 19%|█▉        | 524288/2752512 [00:13<00:57, 38541.94it/s]\u001b[A\n",
      " 24%|██▍       | 655360/2752512 [00:16<00:53, 39221.86it/s]\u001b[A\n",
      " 29%|██▊       | 786432/2752512 [00:21<00:58, 33849.11it/s]\u001b[A\n",
      " 33%|███▎      | 917504/2752512 [00:26<00:57, 32026.10it/s]\u001b[A\n",
      " 38%|███▊      | 1048576/2752512 [00:29<00:50, 33850.48it/s]\u001b[A\n",
      " 43%|████▎     | 1179648/2752512 [00:33<00:44, 35616.74it/s]\u001b[A\n",
      " 48%|████▊     | 1310720/2752512 [00:36<00:39, 36833.69it/s]\u001b[A\n",
      " 52%|█████▏    | 1441792/2752512 [00:40<00:35, 36414.66it/s]\u001b[A\n",
      " 57%|█████▋    | 1572864/2752512 [00:43<00:32, 36422.45it/s]\u001b[A\n",
      " 62%|██████▏   | 1703936/2752512 [00:46<00:27, 37462.15it/s]\u001b[A\n",
      " 67%|██████▋   | 1835008/2752512 [00:50<00:24, 38214.97it/s]\u001b[A\n",
      " 71%|███████▏  | 1966080/2752512 [00:53<00:21, 36889.24it/s]\u001b[A\n",
      " 76%|███████▌  | 2097152/2752512 [00:59<00:20, 32187.30it/s]\u001b[A\n",
      " 81%|████████  | 2228224/2752512 [01:03<00:15, 32849.79it/s]\u001b[A\n",
      " 86%|████████▌ | 2359296/2752512 [01:06<00:11, 34744.89it/s]\u001b[A\n",
      " 90%|█████████ | 2490368/2752512 [01:09<00:07, 36157.80it/s]\u001b[A\n",
      " 95%|█████████▌| 2621440/2752512 [01:12<00:03, 37218.42it/s]\u001b[A\n",
      "100%|██████████| 2752512/2752512 [01:16<00:00, 37341.19it/s]\u001b[A"
     ]
    },
    {
     "name": "stdout",
     "output_type": "stream",
     "text": [
      "epoch 234, train loss: 0.110093\n",
      "Evaluation: auc:0.9950484394311984, precision:0.9792549969715324, recall:0.9627380048531404, f1:0.9709262609505077\n"
     ]
    },
    {
     "name": "stderr",
     "output_type": "stream",
     "text": [
      "100%|██████████| 2752512/2752512 [01:20<00:00, 34230.03it/s]\n",
      "100%|██████████| 2752512/2752512 [01:17<00:00, 37299.15it/s]"
     ]
    },
    {
     "name": "stdout",
     "output_type": "stream",
     "text": [
      "epoch 235, train loss: 0.109977\n",
      "Evaluation: auc:0.9949155220795649, precision:0.9821320411871592, recall:0.9584466248965599, f1:0.9701447887998085\n"
     ]
    },
    {
     "name": "stderr",
     "output_type": "stream",
     "text": [
      "\n",
      "100%|██████████| 2752512/2752512 [01:21<00:00, 33653.23it/s]\n",
      "\n",
      "  5%|▍         | 131072/2752512 [00:03<01:05, 39986.12it/s]\u001b[A\n",
      " 10%|▉         | 262144/2752512 [00:07<01:17, 32023.90it/s]\u001b[A\n",
      " 14%|█▍        | 393216/2752512 [00:11<01:11, 33003.42it/s]\u001b[A\n",
      " 19%|█▉        | 524288/2752512 [00:15<01:03, 35361.89it/s]\u001b[A\n",
      " 24%|██▍       | 655360/2752512 [00:18<00:56, 36846.54it/s]\u001b[A\n",
      " 29%|██▊       | 786432/2752512 [00:21<00:52, 37238.45it/s]\u001b[A\n",
      " 33%|███▎      | 917504/2752512 [00:25<00:48, 38021.68it/s]\u001b[A\n",
      " 38%|███▊      | 1048576/2752512 [00:28<00:45, 37601.65it/s]\u001b[A\n",
      " 43%|████▎     | 1179648/2752512 [00:32<00:42, 36913.44it/s]\u001b[A\n",
      " 48%|████▊     | 1310720/2752512 [00:35<00:38, 37536.40it/s]\u001b[A\n",
      " 52%|█████▏    | 1441792/2752512 [00:38<00:34, 38309.07it/s]\u001b[A\n",
      " 57%|█████▋    | 1572864/2752512 [00:43<00:34, 33744.83it/s]\u001b[A\n",
      " 62%|██████▏   | 1703936/2752512 [00:47<00:31, 33785.66it/s]\u001b[A\n",
      " 67%|██████▋   | 1835008/2752512 [00:51<00:25, 35441.22it/s]\u001b[A\n",
      " 71%|███████▏  | 1966080/2752512 [00:54<00:21, 36213.66it/s]\u001b[A\n",
      " 76%|███████▌  | 2097152/2752512 [00:57<00:17, 37150.88it/s]\u001b[A\n",
      " 81%|████████  | 2228224/2752512 [01:01<00:14, 36769.64it/s]\u001b[A\n",
      " 86%|████████▌ | 2359296/2752512 [01:04<00:10, 37507.03it/s]\u001b[A\n",
      " 90%|█████████ | 2490368/2752512 [01:08<00:07, 37164.59it/s]\u001b[A\n",
      " 95%|█████████▌| 2621440/2752512 [01:11<00:03, 37928.52it/s]\u001b[A\n",
      "100%|██████████| 2752512/2752512 [01:15<00:00, 37469.62it/s]\u001b[A"
     ]
    },
    {
     "name": "stdout",
     "output_type": "stream",
     "text": [
      "epoch 236, train loss: 0.109268\n",
      "Evaluation: auc:0.9951145736611, precision:0.98152634766808, recall:0.9592588755864029, f1:0.9702648694363574\n"
     ]
    },
    {
     "name": "stderr",
     "output_type": "stream",
     "text": [
      "100%|██████████| 2752512/2752512 [01:21<00:00, 33655.53it/s]\n",
      "100%|██████████| 2752512/2752512 [01:16<00:00, 34402.33it/s]"
     ]
    },
    {
     "name": "stdout",
     "output_type": "stream",
     "text": [
      "epoch 237, train loss: 0.109294\n",
      "Evaluation: auc:0.9950744570128194, precision:0.9804663840096911, recall:0.9628109619187819, f1:0.9715584698141659\n"
     ]
    },
    {
     "name": "stderr",
     "output_type": "stream",
     "text": [
      "\n",
      "100%|██████████| 2752512/2752512 [01:21<00:00, 33962.80it/s]\n",
      "\n",
      "  5%|▍         | 131072/2752512 [00:03<01:12, 36126.35it/s]\u001b[A\n",
      " 10%|▉         | 262144/2752512 [00:07<01:09, 36000.79it/s]\u001b[A\n",
      " 14%|█▍        | 393216/2752512 [00:10<01:02, 37797.18it/s]\u001b[A\n",
      " 19%|█▉        | 524288/2752512 [00:13<00:58, 37905.21it/s]\u001b[A\n",
      " 24%|██▍       | 655360/2752512 [00:17<00:54, 38647.84it/s]\u001b[A\n",
      " 29%|██▊       | 786432/2752512 [00:20<00:51, 37907.91it/s]\u001b[A\n",
      " 33%|███▎      | 917504/2752512 [00:24<00:48, 37874.10it/s]\u001b[A\n",
      " 38%|███▊      | 1048576/2752512 [00:29<00:50, 33892.56it/s]\u001b[A\n",
      " 43%|████▎     | 1179648/2752512 [00:32<00:45, 34680.90it/s]\u001b[A\n",
      " 48%|████▊     | 1310720/2752512 [00:36<00:41, 34909.48it/s]\u001b[A\n",
      " 52%|█████▏    | 1441792/2752512 [00:39<00:36, 35894.30it/s]\u001b[A\n",
      " 57%|█████▋    | 1572864/2752512 [00:43<00:32, 36145.54it/s]\u001b[A\n",
      " 62%|██████▏   | 1703936/2752512 [00:46<00:28, 36536.37it/s]\u001b[A\n",
      " 67%|██████▋   | 1835008/2752512 [00:50<00:24, 37423.71it/s]\u001b[A\n",
      " 71%|███████▏  | 1966080/2752512 [00:53<00:20, 38223.90it/s]\u001b[A\n",
      " 76%|███████▌  | 2097152/2752512 [00:57<00:17, 36964.30it/s]\u001b[A\n",
      " 81%|████████  | 2228224/2752512 [01:00<00:14, 37270.98it/s]\u001b[A\n",
      " 86%|████████▌ | 2359296/2752512 [01:05<00:11, 34117.36it/s]\u001b[A\n",
      " 90%|█████████ | 2490368/2752512 [01:09<00:07, 34291.59it/s]\u001b[A\n",
      " 95%|█████████▌| 2621440/2752512 [01:12<00:03, 35312.39it/s]\u001b[A\n",
      "100%|██████████| 2752512/2752512 [01:15<00:00, 36745.15it/s]\u001b[A"
     ]
    },
    {
     "name": "stdout",
     "output_type": "stream",
     "text": [
      "epoch 238, train loss: 0.109679\n",
      "Evaluation: auc:0.994765263495024, precision:0.9872804360993337, recall:0.9498142617816301, f1:0.9681850243159965\n"
     ]
    },
    {
     "name": "stderr",
     "output_type": "stream",
     "text": [
      "100%|██████████| 2752512/2752512 [01:20<00:00, 34287.86it/s]\n",
      "100%|██████████| 2752512/2752512 [01:16<00:00, 36482.26it/s]"
     ]
    },
    {
     "name": "stdout",
     "output_type": "stream",
     "text": [
      "epoch 239, train loss: 0.110588\n",
      "Evaluation: auc:0.9951911520686947, precision:0.98152634766808, recall:0.9620350856362611, f1:0.9716829813068701\n"
     ]
    },
    {
     "name": "stderr",
     "output_type": "stream",
     "text": [
      "\n",
      "100%|██████████| 2752512/2752512 [01:20<00:00, 34254.31it/s]\n",
      "\n",
      "  5%|▍         | 131072/2752512 [00:03<01:05, 39968.19it/s]\u001b[A\n",
      " 10%|▉         | 262144/2752512 [00:07<01:13, 33945.00it/s]\u001b[A\n",
      " 14%|█▍        | 393216/2752512 [00:10<01:05, 36283.47it/s]\u001b[A\n",
      " 19%|█▉        | 524288/2752512 [00:15<01:09, 32194.09it/s]\u001b[A\n",
      " 24%|██▍       | 655360/2752512 [00:19<01:04, 32718.86it/s]\u001b[A\n",
      " 29%|██▊       | 786432/2752512 [00:22<00:56, 34958.66it/s]\u001b[A\n",
      " 33%|███▎      | 917504/2752512 [00:26<00:51, 35411.99it/s]\u001b[A\n",
      " 38%|███▊      | 1048576/2752512 [00:29<00:47, 36144.04it/s]\u001b[A\n",
      " 43%|████▎     | 1179648/2752512 [00:33<00:42, 37192.92it/s]\u001b[A\n",
      " 48%|████▊     | 1310720/2752512 [00:36<00:38, 37893.74it/s]\u001b[A\n",
      " 52%|█████▏    | 1441792/2752512 [00:40<00:35, 36490.61it/s]\u001b[A\n",
      " 57%|█████▋    | 1572864/2752512 [00:43<00:31, 37457.49it/s]\u001b[A\n",
      " 62%|██████▏   | 1703936/2752512 [00:46<00:27, 38232.08it/s]\u001b[A\n",
      " 67%|██████▋   | 1835008/2752512 [00:52<00:28, 31644.75it/s]\u001b[A\n",
      " 71%|███████▏  | 1966080/2752512 [00:56<00:24, 32251.58it/s]\u001b[A\n",
      " 76%|███████▌  | 2097152/2752512 [00:59<00:19, 34112.15it/s]\u001b[A\n",
      " 81%|████████  | 2228224/2752512 [01:03<00:15, 34709.30it/s]\u001b[A\n",
      " 86%|████████▌ | 2359296/2752512 [01:06<00:10, 36053.63it/s]\u001b[A\n",
      " 90%|█████████ | 2490368/2752512 [01:10<00:07, 37194.45it/s]\u001b[A\n",
      " 95%|█████████▌| 2621440/2752512 [01:13<00:03, 37482.69it/s]\u001b[A\n",
      "100%|██████████| 2752512/2752512 [01:16<00:00, 38251.65it/s]\u001b[A"
     ]
    },
    {
     "name": "stdout",
     "output_type": "stream",
     "text": [
      "epoch 240, train loss: 0.109520\n",
      "Evaluation: auc:0.9950379404530998, precision:0.9765293761356754, recall:0.9659252602411443, f1:0.9711983735552125\n"
     ]
    },
    {
     "name": "stderr",
     "output_type": "stream",
     "text": [
      "100%|██████████| 2752512/2752512 [01:20<00:00, 34039.02it/s]\n",
      "100%|██████████| 2752512/2752512 [01:16<00:00, 37308.81it/s]"
     ]
    },
    {
     "name": "stdout",
     "output_type": "stream",
     "text": [
      "epoch 241, train loss: 0.109939\n",
      "Evaluation: auc:0.9952657723362784, precision:0.9775893397940641, recall:0.9645466361884273, f1:0.9710241928812616\n"
     ]
    },
    {
     "name": "stderr",
     "output_type": "stream",
     "text": [
      "\n",
      "100%|██████████| 2752512/2752512 [01:23<00:00, 32864.72it/s]\n",
      "\n",
      "  5%|▍         | 131072/2752512 [00:03<01:07, 38857.20it/s]\u001b[A\n",
      " 10%|▉         | 262144/2752512 [00:06<01:05, 37909.20it/s]\u001b[A\n",
      " 14%|█▍        | 393216/2752512 [00:10<01:00, 38777.33it/s]\u001b[A\n",
      " 19%|█▉        | 524288/2752512 [00:13<00:56, 39380.58it/s]\u001b[A\n",
      " 24%|██▍       | 655360/2752512 [00:16<00:53, 39565.38it/s]\u001b[A\n",
      " 29%|██▊       | 786432/2752512 [00:20<00:50, 39048.35it/s]\u001b[A\n",
      " 33%|███▎      | 917504/2752512 [00:23<00:48, 38020.47it/s]\u001b[A\n",
      " 38%|███▊      | 1048576/2752512 [00:27<00:44, 38469.27it/s]\u001b[A\n",
      " 43%|████▎     | 1179648/2752512 [00:31<00:43, 36364.12it/s]\u001b[A\n",
      " 48%|████▊     | 1310720/2752512 [00:35<00:43, 33351.69it/s]\u001b[A\n",
      " 52%|█████▏    | 1441792/2752512 [00:39<00:38, 33870.91it/s]\u001b[A\n",
      " 57%|█████▋    | 1572864/2752512 [00:42<00:33, 35515.47it/s]\u001b[A\n",
      " 62%|██████▏   | 1703936/2752512 [00:46<00:29, 35726.65it/s]\u001b[A\n",
      " 67%|██████▋   | 1835008/2752512 [00:49<00:25, 36624.55it/s]\u001b[A\n",
      " 71%|███████▏  | 1966080/2752512 [00:53<00:21, 36806.44it/s]\u001b[A\n",
      " 76%|███████▌  | 2097152/2752512 [00:56<00:17, 36501.40it/s]\u001b[A\n",
      " 81%|████████  | 2228224/2752512 [01:00<00:13, 37641.63it/s]\u001b[A\n",
      " 86%|████████▌ | 2359296/2752512 [01:03<00:10, 37705.18it/s]\u001b[A\n",
      " 90%|█████████ | 2490368/2752512 [01:06<00:06, 38291.24it/s]\u001b[A\n",
      " 95%|█████████▌| 2621440/2752512 [01:11<00:03, 34749.69it/s]\u001b[A\n",
      "100%|██████████| 2752512/2752512 [01:16<00:00, 32991.13it/s]\u001b[A"
     ]
    },
    {
     "name": "stdout",
     "output_type": "stream",
     "text": [
      "epoch 242, train loss: 0.111042\n",
      "Evaluation: auc:0.9952214527949766, precision:0.9757722592368262, recall:0.9669867947178872, f1:0.971359662345493\n"
     ]
    },
    {
     "name": "stderr",
     "output_type": "stream",
     "text": [
      "100%|██████████| 2752512/2752512 [01:20<00:00, 34355.42it/s]\n",
      "100%|██████████| 2752512/2752512 [01:16<00:00, 35492.44it/s]"
     ]
    },
    {
     "name": "stdout",
     "output_type": "stream",
     "text": [
      "epoch 243, train loss: 0.110322\n",
      "Evaluation: auc:0.9952581880977371, precision:0.9747122955784373, recall:0.9696321513572139, f1:0.9721655868182985\n"
     ]
    },
    {
     "name": "stderr",
     "output_type": "stream",
     "text": [
      "\n",
      "100%|██████████| 2752512/2752512 [01:20<00:00, 34188.64it/s]\n",
      "\n",
      "  5%|▍         | 131072/2752512 [00:03<01:05, 40089.15it/s]\u001b[A\n",
      " 10%|▉         | 262144/2752512 [00:06<01:05, 37868.37it/s]\u001b[A\n",
      " 14%|█▍        | 393216/2752512 [00:10<01:02, 38007.74it/s]\u001b[A\n",
      " 19%|█▉        | 524288/2752512 [00:13<00:58, 38286.81it/s]\u001b[A\n",
      " 24%|██▍       | 655360/2752512 [00:16<00:54, 38758.28it/s]\u001b[A\n",
      " 29%|██▊       | 786432/2752512 [00:22<01:00, 32391.35it/s]\u001b[A\n",
      " 33%|███▎      | 917504/2752512 [00:25<00:53, 34026.51it/s]\u001b[A\n",
      " 38%|███▊      | 1048576/2752512 [00:29<00:49, 34225.27it/s]\u001b[A\n",
      " 43%|████▎     | 1179648/2752512 [00:33<00:44, 35355.29it/s]\u001b[A\n",
      " 48%|████▊     | 1310720/2752512 [00:36<00:39, 36221.84it/s]\u001b[A\n",
      " 52%|█████▏    | 1441792/2752512 [00:39<00:35, 37190.66it/s]\u001b[A\n",
      " 57%|█████▋    | 1572864/2752512 [00:43<00:32, 36552.03it/s]\u001b[A\n",
      " 62%|██████▏   | 1703936/2752512 [00:46<00:27, 37505.61it/s]\u001b[A\n",
      " 67%|██████▋   | 1835008/2752512 [00:50<00:24, 38204.57it/s]\u001b[A\n",
      " 71%|███████▏  | 1966080/2752512 [00:53<00:20, 38816.47it/s]\u001b[A\n",
      " 76%|███████▌  | 2097152/2752512 [00:58<00:19, 32841.25it/s]\u001b[A\n",
      " 81%|████████  | 2228224/2752512 [01:02<00:15, 33132.95it/s]\u001b[A\n",
      " 86%|████████▌ | 2359296/2752512 [01:06<00:11, 34376.45it/s]\u001b[A\n",
      " 90%|█████████ | 2490368/2752512 [01:09<00:07, 35636.21it/s]\u001b[A\n",
      " 95%|█████████▌| 2621440/2752512 [01:12<00:03, 36619.93it/s]\u001b[A\n",
      "100%|██████████| 2752512/2752512 [01:16<00:00, 37308.49it/s]\u001b[A"
     ]
    },
    {
     "name": "stdout",
     "output_type": "stream",
     "text": [
      "epoch 244, train loss: 0.110429\n",
      "Evaluation: auc:0.9952566504763187, precision:0.9736523319200484, recall:0.9687528249013168, f1:0.971196399172293\n"
     ]
    },
    {
     "name": "stderr",
     "output_type": "stream",
     "text": [
      "100%|██████████| 2752512/2752512 [01:20<00:00, 34123.27it/s]\n",
      "100%|██████████| 2752512/2752512 [01:15<00:00, 37445.97it/s]"
     ]
    },
    {
     "name": "stdout",
     "output_type": "stream",
     "text": [
      "epoch 245, train loss: 0.110976\n",
      "Evaluation: auc:0.9949108170405689, precision:0.9853119321623258, recall:0.9568132692222859, f1:0.970853506605892\n"
     ]
    },
    {
     "name": "stderr",
     "output_type": "stream",
     "text": [
      "\n",
      "100%|██████████| 2752512/2752512 [01:20<00:00, 34330.26it/s]\n",
      "\n",
      "  5%|▍         | 131072/2752512 [00:03<01:04, 40353.76it/s]\u001b[A\n",
      " 10%|▉         | 262144/2752512 [00:08<01:23, 29714.52it/s]\u001b[A\n",
      " 14%|█▍        | 393216/2752512 [00:11<01:11, 32880.49it/s]\u001b[A\n",
      " 19%|█▉        | 524288/2752512 [00:15<01:03, 34824.63it/s]\u001b[A\n",
      " 24%|██▍       | 655360/2752512 [00:18<00:57, 36740.95it/s]\u001b[A\n",
      " 29%|██▊       | 786432/2752512 [00:21<00:51, 37974.81it/s]\u001b[A\n",
      " 33%|███▎      | 917504/2752512 [00:25<00:48, 37646.77it/s]\u001b[A\n",
      " 38%|███▊      | 1048576/2752512 [00:28<00:44, 38228.98it/s]\u001b[A\n",
      " 43%|████▎     | 1179648/2752512 [00:32<00:41, 37894.16it/s]\u001b[A\n",
      " 48%|████▊     | 1310720/2752512 [00:35<00:37, 38546.21it/s]\u001b[A\n",
      " 52%|█████▏    | 1441792/2752512 [00:39<00:35, 37387.87it/s]\u001b[A\n",
      " 57%|█████▋    | 1572864/2752512 [00:43<00:34, 34193.36it/s]\u001b[A\n",
      " 62%|██████▏   | 1703936/2752512 [00:47<00:30, 34820.64it/s]\u001b[A\n",
      " 67%|██████▋   | 1835008/2752512 [00:50<00:25, 36117.88it/s]\u001b[A\n",
      " 71%|███████▏  | 1966080/2752512 [00:54<00:21, 36331.49it/s]\u001b[A\n",
      " 76%|███████▌  | 2097152/2752512 [00:57<00:17, 37566.53it/s]\u001b[A\n",
      " 81%|████████  | 2228224/2752512 [01:00<00:13, 37840.06it/s]\u001b[A\n",
      " 86%|████████▌ | 2359296/2752512 [01:04<00:10, 38216.38it/s]\u001b[A\n",
      " 90%|█████████ | 2490368/2752512 [01:07<00:06, 38423.21it/s]\u001b[A\n",
      " 95%|█████████▌| 2621440/2752512 [01:11<00:03, 38371.43it/s]\u001b[A\n",
      "100%|██████████| 2752512/2752512 [01:14<00:00, 38850.68it/s]\u001b[A"
     ]
    },
    {
     "name": "stdout",
     "output_type": "stream",
     "text": [
      "epoch 246, train loss: 0.108593\n",
      "Evaluation: auc:0.9952295653185981, precision:0.9816777710478498, recall:0.9625263532975028, f1:0.9720077364799017\n"
     ]
    },
    {
     "name": "stderr",
     "output_type": "stream",
     "text": [
      "100%|██████████| 2752512/2752512 [01:18<00:00, 35157.38it/s]\n",
      "100%|██████████| 2752512/2752512 [01:14<00:00, 39171.25it/s]"
     ]
    },
    {
     "name": "stdout",
     "output_type": "stream",
     "text": [
      "epoch 247, train loss: 0.108736\n",
      "Evaluation: auc:0.995136686427219, precision:0.9812235009085403, recall:0.9621952306001841, f1:0.9716162115964194\n"
     ]
    },
    {
     "name": "stderr",
     "output_type": "stream",
     "text": [
      "\n",
      "100%|██████████| 2752512/2752512 [01:21<00:00, 33883.71it/s]\n",
      "\n",
      "  5%|▍         | 131072/2752512 [00:03<01:04, 40537.46it/s]\u001b[A\n",
      " 10%|▉         | 262144/2752512 [00:06<01:05, 37791.35it/s]\u001b[A\n",
      " 14%|█▍        | 393216/2752512 [00:10<01:02, 37732.74it/s]\u001b[A\n",
      " 19%|█▉        | 524288/2752512 [00:13<00:57, 38655.94it/s]\u001b[A\n",
      " 24%|██▍       | 655360/2752512 [00:16<00:53, 38998.54it/s]\u001b[A\n",
      " 29%|██▊       | 786432/2752512 [00:20<00:50, 39181.71it/s]\u001b[A\n",
      " 33%|███▎      | 917504/2752512 [00:23<00:46, 39612.20it/s]\u001b[A\n",
      " 38%|███▊      | 1048576/2752512 [00:26<00:42, 40024.94it/s]\u001b[A\n",
      " 43%|████▎     | 1179648/2752512 [00:30<00:40, 38962.61it/s]\u001b[A\n",
      " 48%|████▊     | 1310720/2752512 [00:35<00:42, 34100.53it/s]\u001b[A\n",
      " 52%|█████▏    | 1441792/2752512 [00:39<00:39, 33387.56it/s]\u001b[A\n",
      " 57%|█████▋    | 1572864/2752512 [00:42<00:33, 34735.24it/s]\u001b[A\n",
      " 62%|██████▏   | 1703936/2752512 [00:46<00:29, 35121.74it/s]\u001b[A\n",
      " 67%|██████▋   | 1835008/2752512 [00:49<00:25, 36635.07it/s]\u001b[A\n",
      " 71%|███████▏  | 1966080/2752512 [00:52<00:20, 37739.39it/s]\u001b[A\n",
      " 76%|███████▌  | 2097152/2752512 [00:56<00:17, 37923.87it/s]\u001b[A\n",
      " 81%|████████  | 2228224/2752512 [00:59<00:13, 38669.45it/s]\u001b[A\n",
      " 86%|████████▌ | 2359296/2752512 [01:02<00:10, 39178.81it/s]\u001b[A\n",
      " 90%|█████████ | 2490368/2752512 [01:06<00:06, 38892.45it/s]\u001b[A\n",
      " 95%|█████████▌| 2621440/2752512 [01:09<00:03, 39453.04it/s]\u001b[A\n",
      "100%|██████████| 2752512/2752512 [01:14<00:00, 33305.03it/s]\u001b[A"
     ]
    },
    {
     "name": "stdout",
     "output_type": "stream",
     "text": [
      "epoch 248, train loss: 0.108739\n",
      "Evaluation: auc:0.9949168359135535, precision:0.9827377347062386, recall:0.961196682464455, f1:0.9718478586403114\n"
     ]
    },
    {
     "name": "stderr",
     "output_type": "stream",
     "text": [
      "100%|██████████| 2752512/2752512 [01:19<00:00, 34730.47it/s]\n",
      "100%|██████████| 2752512/2752512 [01:14<00:00, 34946.02it/s]"
     ]
    },
    {
     "name": "stdout",
     "output_type": "stream",
     "text": [
      "epoch 249, train loss: 0.108581\n",
      "Evaluation: auc:0.9952250008346171, precision:0.9801635372501514, recall:0.9626710291493159, f1:0.9713385354141657\n"
     ]
    },
    {
     "name": "stderr",
     "output_type": "stream",
     "text": [
      "\n",
      "100%|██████████| 2752512/2752512 [01:18<00:00, 35162.04it/s]\n",
      "\n",
      "  5%|▍         | 131072/2752512 [00:03<01:04, 40686.63it/s]\u001b[A\n",
      " 10%|▉         | 262144/2752512 [00:07<01:07, 36816.78it/s]\u001b[A\n",
      " 14%|█▍        | 393216/2752512 [00:10<01:01, 38528.19it/s]\u001b[A\n",
      " 19%|█▉        | 524288/2752512 [00:13<00:59, 37708.98it/s]\u001b[A\n",
      " 24%|██▍       | 655360/2752512 [00:17<00:55, 38075.75it/s]\u001b[A\n",
      " 29%|██▊       | 786432/2752512 [00:20<00:52, 37723.10it/s]\u001b[A\n",
      " 33%|███▎      | 917504/2752512 [00:23<00:47, 38582.42it/s]\u001b[A\n",
      " 38%|███▊      | 1048576/2752512 [00:28<00:50, 33764.64it/s]\u001b[A\n",
      " 43%|████▎     | 1179648/2752512 [00:32<00:46, 33895.30it/s]\u001b[A\n",
      " 48%|████▊     | 1310720/2752512 [00:35<00:40, 35711.74it/s]\u001b[A\n",
      " 52%|█████▏    | 1441792/2752512 [00:39<00:35, 36497.95it/s]\u001b[A\n",
      " 57%|█████▋    | 1572864/2752512 [00:42<00:32, 36650.60it/s]\u001b[A\n",
      " 62%|██████▏   | 1703936/2752512 [00:46<00:28, 36610.46it/s]\u001b[A\n",
      " 67%|██████▋   | 1835008/2752512 [00:49<00:24, 37328.13it/s]\u001b[A\n",
      " 71%|███████▏  | 1966080/2752512 [00:53<00:20, 38266.69it/s]\u001b[A\n",
      " 76%|███████▌  | 2097152/2752512 [00:56<00:17, 37789.48it/s]\u001b[A\n",
      " 81%|████████  | 2228224/2752512 [00:59<00:13, 38606.78it/s]\u001b[A\n",
      " 86%|████████▌ | 2359296/2752512 [01:03<00:10, 38559.04it/s]\u001b[A\n",
      " 90%|█████████ | 2490368/2752512 [01:07<00:07, 34960.98it/s]\u001b[A\n",
      " 95%|█████████▌| 2621440/2752512 [01:11<00:03, 35076.93it/s]\u001b[A\n",
      "100%|██████████| 2752512/2752512 [01:14<00:00, 36525.63it/s]\u001b[A"
     ]
    },
    {
     "name": "stdout",
     "output_type": "stream",
     "text": [
      "epoch 250, train loss: 0.109029\n",
      "Evaluation: auc:0.9950520599266051, precision:0.9839491217443973, recall:0.9578843404042042, f1:0.9707418003092391\n"
     ]
    },
    {
     "name": "stderr",
     "output_type": "stream",
     "text": [
      "100%|██████████| 2752512/2752512 [01:19<00:00, 34636.92it/s]\n",
      "100%|██████████| 2752512/2752512 [01:14<00:00, 34571.50it/s]"
     ]
    },
    {
     "name": "stdout",
     "output_type": "stream",
     "text": [
      "epoch 251, train loss: 0.107640\n",
      "Evaluation: auc:0.995231877024405, precision:0.9798606904906118, recall:0.9628461320993349, f1:0.9712789030897506\n"
     ]
    },
    {
     "name": "stderr",
     "output_type": "stream",
     "text": [
      "\n",
      "100%|██████████| 2752512/2752512 [01:18<00:00, 34918.51it/s]\n",
      "\n",
      "  5%|▍         | 131072/2752512 [00:03<01:10, 36951.16it/s]\u001b[A\n",
      " 10%|▉         | 262144/2752512 [00:07<01:07, 36951.17it/s]\u001b[A\n",
      " 14%|█▍        | 393216/2752512 [00:10<01:01, 38625.75it/s]\u001b[A\n",
      " 19%|█▉        | 524288/2752512 [00:13<00:57, 38459.41it/s]\u001b[A\n",
      " 24%|██▍       | 655360/2752512 [00:16<00:53, 39231.60it/s]\u001b[A\n",
      " 29%|██▊       | 786432/2752512 [00:20<00:49, 39734.24it/s]\u001b[A\n",
      " 33%|███▎      | 917504/2752512 [00:26<00:58, 31409.60it/s]\u001b[A\n",
      " 38%|███▊      | 1048576/2752512 [00:29<00:51, 32970.66it/s]\u001b[A\n",
      " 43%|████▎     | 1179648/2752512 [00:32<00:44, 35151.38it/s]\u001b[A\n",
      " 48%|████▊     | 1310720/2752512 [00:36<00:39, 36051.72it/s]\u001b[A\n",
      " 52%|█████▏    | 1441792/2752512 [00:39<00:36, 36378.30it/s]\u001b[A\n",
      " 57%|█████▋    | 1572864/2752512 [00:43<00:31, 37616.25it/s]\u001b[A\n",
      " 62%|██████▏   | 1703936/2752512 [00:46<00:27, 37627.24it/s]\u001b[A\n",
      " 67%|██████▋   | 1835008/2752512 [00:49<00:24, 38154.55it/s]\u001b[A\n",
      " 71%|███████▏  | 1966080/2752512 [00:53<00:20, 37757.44it/s]\u001b[A\n",
      " 76%|███████▌  | 2097152/2752512 [00:57<00:17, 36988.96it/s]\u001b[A\n",
      " 81%|████████  | 2228224/2752512 [01:01<00:15, 34195.74it/s]\u001b[A\n",
      " 86%|████████▌ | 2359296/2752512 [01:05<00:11, 34669.49it/s]\u001b[A\n",
      " 90%|█████████ | 2490368/2752512 [01:08<00:07, 35730.88it/s]\u001b[A\n",
      " 95%|█████████▌| 2621440/2752512 [01:11<00:03, 37098.68it/s]\u001b[A\n",
      "100%|██████████| 2752512/2752512 [01:15<00:00, 38085.06it/s]\u001b[A"
     ]
    },
    {
     "name": "stdout",
     "output_type": "stream",
     "text": [
      "epoch 252, train loss: 0.108776\n",
      "Evaluation: auc:0.9952030657685575, precision:0.9837976983646275, recall:0.9593349477290177, f1:0.9714123381477827\n"
     ]
    },
    {
     "name": "stderr",
     "output_type": "stream",
     "text": [
      "100%|██████████| 2752512/2752512 [01:19<00:00, 34661.73it/s]\n",
      "100%|██████████| 2752512/2752512 [01:14<00:00, 36535.20it/s]"
     ]
    },
    {
     "name": "stdout",
     "output_type": "stream",
     "text": [
      "epoch 253, train loss: 0.108637\n",
      "Evaluation: auc:0.995196065761954, precision:0.985160508782556, recall:0.9587244514522333, f1:0.971762720218669\n"
     ]
    },
    {
     "name": "stderr",
     "output_type": "stream",
     "text": [
      "\n",
      "100%|██████████| 2752512/2752512 [01:19<00:00, 34596.19it/s]\n",
      "\n",
      "  5%|▍         | 131072/2752512 [00:03<01:07, 38903.81it/s]\u001b[A\n",
      " 10%|▉         | 262144/2752512 [00:06<01:03, 39103.12it/s]\u001b[A\n",
      " 14%|█▍        | 393216/2752512 [00:10<01:01, 38251.05it/s]\u001b[A\n",
      " 19%|█▉        | 524288/2752512 [00:14<01:06, 33529.41it/s]\u001b[A\n",
      " 24%|██▍       | 655360/2752512 [00:18<01:02, 33595.31it/s]\u001b[A\n",
      " 29%|██▊       | 786432/2752512 [00:22<00:55, 35392.51it/s]\u001b[A\n",
      " 33%|███▎      | 917504/2752512 [00:25<00:50, 36629.72it/s]\u001b[A\n",
      " 38%|███▊      | 1048576/2752512 [00:28<00:46, 36581.75it/s]\u001b[A\n",
      " 43%|████▎     | 1179648/2752512 [00:32<00:43, 36054.62it/s]\u001b[A\n",
      " 48%|████▊     | 1310720/2752512 [00:36<00:38, 37022.06it/s]\u001b[A\n",
      " 52%|█████▏    | 1441792/2752512 [00:39<00:35, 37253.77it/s]\u001b[A\n",
      " 57%|█████▋    | 1572864/2752512 [00:43<00:31, 37332.31it/s]\u001b[A\n",
      " 62%|██████▏   | 1703936/2752512 [00:46<00:28, 36937.03it/s]\u001b[A\n",
      " 67%|██████▋   | 1835008/2752512 [00:51<00:27, 33314.67it/s]\u001b[A\n",
      " 71%|███████▏  | 1966080/2752512 [00:55<00:23, 33737.96it/s]\u001b[A\n",
      " 76%|███████▌  | 2097152/2752512 [00:58<00:18, 34769.38it/s]\u001b[A\n",
      " 81%|████████  | 2228224/2752512 [01:02<00:14, 35816.23it/s]\u001b[A\n",
      " 86%|████████▌ | 2359296/2752512 [01:05<00:10, 36616.01it/s]\u001b[A\n",
      " 90%|█████████ | 2490368/2752512 [01:08<00:06, 37476.03it/s]\u001b[A\n",
      " 95%|█████████▌| 2621440/2752512 [01:12<00:03, 38095.22it/s]\u001b[A\n",
      "100%|██████████| 2752512/2752512 [01:15<00:00, 36926.68it/s]\u001b[A"
     ]
    },
    {
     "name": "stdout",
     "output_type": "stream",
     "text": [
      "epoch 254, train loss: 0.108484\n",
      "Evaluation: auc:0.9950594705923139, precision:0.9853119321623258, recall:0.9582504970178927, f1:0.971592817947665\n"
     ]
    },
    {
     "name": "stderr",
     "output_type": "stream",
     "text": [
      "100%|██████████| 2752512/2752512 [01:20<00:00, 34403.19it/s]\n",
      "100%|██████████| 2752512/2752512 [01:17<00:00, 37690.00it/s]"
     ]
    },
    {
     "name": "stdout",
     "output_type": "stream",
     "text": [
      "epoch 255, train loss: 0.108480\n",
      "Evaluation: auc:0.9950314889091316, precision:0.9881889763779528, recall:0.9522141971255563, f1:0.9698681032881292\n"
     ]
    },
    {
     "name": "stderr",
     "output_type": "stream",
     "text": [
      "\n",
      "100%|██████████| 2752512/2752512 [01:23<00:00, 32791.35it/s]\n",
      "\n",
      "  5%|▍         | 131072/2752512 [00:03<01:06, 39683.69it/s]\u001b[A\n",
      " 10%|▉         | 262144/2752512 [00:06<01:06, 37391.96it/s]\u001b[A\n",
      " 14%|█▍        | 393216/2752512 [00:10<01:02, 37570.01it/s]\u001b[A\n",
      " 19%|█▉        | 524288/2752512 [00:13<00:58, 38341.91it/s]\u001b[A\n",
      " 24%|██▍       | 655360/2752512 [00:17<00:53, 38865.66it/s]\u001b[A\n",
      " 29%|██▊       | 786432/2752512 [00:20<00:52, 37175.45it/s]\u001b[A\n",
      " 33%|███▎      | 917504/2752512 [00:24<00:48, 37839.08it/s]\u001b[A\n",
      " 38%|███▊      | 1048576/2752512 [00:27<00:45, 37265.59it/s]\u001b[A\n",
      " 43%|████▎     | 1179648/2752512 [00:31<00:42, 37394.90it/s]\u001b[A\n",
      " 48%|████▊     | 1310720/2752512 [00:35<00:42, 34058.52it/s]\u001b[A\n",
      " 52%|█████▏    | 1441792/2752512 [00:39<00:37, 34636.84it/s]\u001b[A\n",
      " 57%|█████▋    | 1572864/2752512 [00:43<00:34, 34548.52it/s]\u001b[A\n",
      " 62%|██████▏   | 1703936/2752512 [00:46<00:29, 35962.22it/s]\u001b[A\n",
      " 67%|██████▋   | 1835008/2752512 [00:49<00:24, 36963.93it/s]\u001b[A\n",
      " 71%|███████▏  | 1966080/2752512 [00:53<00:21, 36926.75it/s]\u001b[A\n",
      " 76%|███████▌  | 2097152/2752512 [00:57<00:17, 36617.32it/s]\u001b[A\n",
      " 81%|████████  | 2228224/2752512 [01:00<00:13, 37498.50it/s]\u001b[A\n",
      " 86%|████████▌ | 2359296/2752512 [01:03<00:10, 37577.14it/s]\u001b[A\n",
      " 90%|█████████ | 2490368/2752512 [01:07<00:06, 38217.84it/s]\u001b[A\n",
      " 95%|█████████▌| 2621440/2752512 [01:12<00:04, 32625.77it/s]\u001b[A\n",
      "100%|██████████| 2752512/2752512 [01:16<00:00, 33171.24it/s]\u001b[A"
     ]
    },
    {
     "name": "stdout",
     "output_type": "stream",
     "text": [
      "epoch 256, train loss: 0.108710\n",
      "Evaluation: auc:0.995225958351325, precision:0.9844033918837068, recall:0.9597696907064295, f1:0.9719304802840592\n"
     ]
    },
    {
     "name": "stderr",
     "output_type": "stream",
     "text": [
      "100%|██████████| 2752512/2752512 [01:20<00:00, 34069.92it/s]\n",
      "100%|██████████| 2752512/2752512 [01:14<00:00, 37590.12it/s]"
     ]
    },
    {
     "name": "stdout",
     "output_type": "stream",
     "text": [
      "epoch 257, train loss: 0.107853\n",
      "Evaluation: auc:0.9950479407245797, precision:0.9827377347062386, recall:0.958570268074736, f1:0.9705035702269244\n"
     ]
    },
    {
     "name": "stderr",
     "output_type": "stream",
     "text": [
      "\n",
      "100%|██████████| 2752512/2752512 [01:18<00:00, 35010.19it/s]\n",
      "\n",
      "  5%|▍         | 131072/2752512 [00:03<01:08, 38283.53it/s]\u001b[A\n",
      " 10%|▉         | 262144/2752512 [00:07<01:07, 37007.14it/s]\u001b[A\n",
      " 14%|█▍        | 393216/2752512 [00:10<01:01, 38344.15it/s]\u001b[A\n",
      " 19%|█▉        | 524288/2752512 [00:13<00:57, 38911.10it/s]\u001b[A\n",
      " 24%|██▍       | 655360/2752512 [00:19<01:05, 31894.73it/s]\u001b[A\n",
      " 29%|██▊       | 786432/2752512 [00:22<00:59, 33112.83it/s]\u001b[A\n",
      " 33%|███▎      | 917504/2752512 [00:26<00:54, 33556.46it/s]\u001b[A\n",
      " 38%|███▊      | 1048576/2752512 [00:29<00:48, 35289.23it/s]\u001b[A\n",
      " 43%|████▎     | 1179648/2752512 [00:33<00:42, 36652.21it/s]\u001b[A\n",
      " 48%|████▊     | 1310720/2752512 [00:36<00:38, 37120.67it/s]\u001b[A\n",
      " 52%|█████▏    | 1441792/2752512 [00:40<00:35, 36812.60it/s]\u001b[A\n",
      " 57%|█████▋    | 1572864/2752512 [00:43<00:31, 37571.22it/s]\u001b[A\n",
      " 62%|██████▏   | 1703936/2752512 [00:46<00:27, 38085.46it/s]\u001b[A\n",
      " 67%|██████▋   | 1835008/2752512 [00:50<00:24, 37357.55it/s]\u001b[A\n",
      " 71%|███████▏  | 1966080/2752512 [00:54<00:21, 36818.59it/s]\u001b[A\n",
      " 76%|███████▌  | 2097152/2752512 [00:57<00:17, 37472.78it/s]\u001b[A\n",
      " 81%|████████  | 2228224/2752512 [01:00<00:13, 37481.32it/s]\u001b[A\n",
      " 86%|████████▌ | 2359296/2752512 [01:04<00:10, 37999.51it/s]\u001b[A\n",
      " 90%|█████████ | 2490368/2752512 [01:07<00:06, 38326.76it/s]\u001b[A\n",
      " 95%|█████████▌| 2621440/2752512 [01:11<00:03, 38022.61it/s]\u001b[A\n",
      "100%|██████████| 2752512/2752512 [01:14<00:00, 38357.30it/s]\u001b[A"
     ]
    },
    {
     "name": "stdout",
     "output_type": "stream",
     "text": [
      "epoch 258, train loss: 0.107691\n",
      "Evaluation: auc:0.995133970482438, precision:0.9887946698970321, recall:0.9536327126688573, f1:0.9708954391703527\n"
     ]
    },
    {
     "name": "stderr",
     "output_type": "stream",
     "text": [
      "100%|██████████| 2752512/2752512 [01:18<00:00, 35031.08it/s]\n",
      "100%|██████████| 2752512/2752512 [01:16<00:00, 33822.37it/s]"
     ]
    },
    {
     "name": "stdout",
     "output_type": "stream",
     "text": [
      "epoch 259, train loss: 0.107830\n",
      "Evaluation: auc:0.9952251283200791, precision:0.9771350696547547, recall:0.9667705399412716, f1:0.9719251739615026\n"
     ]
    },
    {
     "name": "stderr",
     "output_type": "stream",
     "text": [
      "\n",
      "100%|██████████| 2752512/2752512 [01:21<00:00, 33625.10it/s]\n",
      "\n",
      "  5%|▍         | 131072/2752512 [00:03<01:07, 39077.52it/s]\u001b[A\n",
      " 10%|▉         | 262144/2752512 [00:06<01:03, 39198.33it/s]\u001b[A\n",
      " 14%|█▍        | 393216/2752512 [00:10<01:01, 38245.21it/s]\u001b[A\n",
      " 19%|█▉        | 524288/2752512 [00:13<00:57, 38493.64it/s]\u001b[A\n",
      " 24%|██▍       | 655360/2752512 [00:16<00:53, 38871.42it/s]\u001b[A\n",
      " 29%|██▊       | 786432/2752512 [00:20<00:51, 38048.16it/s]\u001b[A\n",
      " 33%|███▎      | 917504/2752512 [00:24<00:48, 37773.66it/s]\u001b[A\n",
      " 38%|███▊      | 1048576/2752512 [00:27<00:44, 38316.10it/s]\u001b[A\n",
      " 43%|████▎     | 1179648/2752512 [00:31<00:42, 36862.36it/s]\u001b[A\n",
      " 48%|████▊     | 1310720/2752512 [00:34<00:38, 37512.39it/s]\u001b[A\n",
      " 52%|█████▏    | 1441792/2752512 [00:37<00:34, 38030.13it/s]\u001b[A\n",
      " 57%|█████▋    | 1572864/2752512 [00:41<00:31, 37622.42it/s]\u001b[A\n",
      " 62%|██████▏   | 1703936/2752512 [00:45<00:28, 36554.98it/s]\u001b[A\n",
      " 67%|██████▋   | 1835008/2752512 [00:48<00:24, 37298.50it/s]\u001b[A\n",
      " 71%|███████▏  | 1966080/2752512 [00:52<00:21, 37321.55it/s]\u001b[A\n",
      " 76%|███████▌  | 2097152/2752512 [00:55<00:17, 36702.51it/s]\u001b[A\n",
      " 81%|████████  | 2228224/2752512 [00:59<00:13, 37494.66it/s]\u001b[A\n",
      " 86%|████████▌ | 2359296/2752512 [01:04<00:11, 33246.49it/s]\u001b[A\n",
      " 90%|█████████ | 2490368/2752512 [01:07<00:07, 33700.79it/s]\u001b[A\n",
      " 95%|█████████▌| 2621440/2752512 [01:11<00:03, 35243.77it/s]\u001b[A\n",
      "100%|██████████| 2752512/2752512 [01:15<00:00, 34851.66it/s]\u001b[A"
     ]
    },
    {
     "name": "stdout",
     "output_type": "stream",
     "text": [
      "epoch 260, train loss: 0.109266\n",
      "Evaluation: auc:0.9952712523768242, precision:0.9827377347062386, recall:0.958541952826148, f1:0.9704890576984905\n"
     ]
    },
    {
     "name": "stderr",
     "output_type": "stream",
     "text": [
      "100%|██████████| 2752512/2752512 [01:19<00:00, 34709.99it/s]\n",
      "100%|██████████| 2752512/2752512 [01:15<00:00, 36602.88it/s]"
     ]
    },
    {
     "name": "stdout",
     "output_type": "stream",
     "text": [
      "epoch 261, train loss: 0.108010\n",
      "Evaluation: auc:0.9953213087639193, precision:0.9868261659600243, recall:0.9559643255295429, f1:0.971150120704557\n"
     ]
    },
    {
     "name": "stderr",
     "output_type": "stream",
     "text": [
      "\n",
      "100%|██████████| 2752512/2752512 [01:19<00:00, 34446.55it/s]\n",
      "\n",
      "  5%|▍         | 131072/2752512 [00:03<01:13, 35810.61it/s]\u001b[A\n",
      " 10%|▉         | 262144/2752512 [00:07<01:09, 35635.68it/s]\u001b[A\n",
      " 14%|█▍        | 393216/2752512 [00:10<01:03, 37202.82it/s]\u001b[A\n",
      " 19%|█▉        | 524288/2752512 [00:14<00:59, 37233.53it/s]\u001b[A\n",
      " 24%|██▍       | 655360/2752512 [00:17<00:55, 37998.74it/s]\u001b[A\n",
      " 29%|██▊       | 786432/2752512 [00:21<00:52, 37231.90it/s]\u001b[A\n",
      " 33%|███▎      | 917504/2752512 [00:24<00:49, 37388.34it/s]\u001b[A\n",
      " 38%|███▊      | 1048576/2752512 [00:28<00:46, 36824.63it/s]\u001b[A\n",
      " 43%|████▎     | 1179648/2752512 [00:31<00:41, 37662.32it/s]\u001b[A\n",
      " 48%|████▊     | 1310720/2752512 [00:34<00:37, 38188.76it/s]\u001b[A\n",
      " 52%|█████▏    | 1441792/2752512 [00:38<00:34, 38040.66it/s]\u001b[A\n",
      " 57%|█████▋    | 1572864/2752512 [00:43<00:35, 33202.13it/s]\u001b[A\n",
      " 62%|██████▏   | 1703936/2752512 [00:47<00:31, 33616.89it/s]\u001b[A\n",
      " 67%|██████▋   | 1835008/2752512 [00:50<00:26, 35004.30it/s]\u001b[A\n",
      " 71%|███████▏  | 1966080/2752512 [00:54<00:21, 36313.20it/s]\u001b[A\n",
      " 76%|███████▌  | 2097152/2752512 [00:57<00:18, 35676.46it/s]\u001b[A\n",
      " 81%|████████  | 2228224/2752512 [01:01<00:14, 35560.63it/s]\u001b[A\n",
      " 86%|████████▌ | 2359296/2752512 [01:04<00:10, 36596.22it/s]\u001b[A\n",
      " 90%|█████████ | 2490368/2752512 [01:08<00:07, 37401.72it/s]\u001b[A\n",
      " 95%|█████████▌| 2621440/2752512 [01:11<00:03, 37895.09it/s]\u001b[A\n",
      "100%|██████████| 2752512/2752512 [01:14<00:00, 38400.26it/s]\u001b[A"
     ]
    },
    {
     "name": "stdout",
     "output_type": "stream",
     "text": [
      "epoch 262, train loss: 0.107930\n",
      "Evaluation: auc:0.9954767369298052, precision:0.9830405814657783, recall:0.960852512395471, f1:0.9718199169192769\n"
     ]
    },
    {
     "name": "stderr",
     "output_type": "stream",
     "text": [
      "100%|██████████| 2752512/2752512 [01:19<00:00, 34555.80it/s]\n",
      "100%|██████████| 2752512/2752512 [01:14<00:00, 37080.23it/s]"
     ]
    },
    {
     "name": "stdout",
     "output_type": "stream",
     "text": [
      "epoch 263, train loss: 0.107681\n",
      "Evaluation: auc:0.9952349112242603, precision:0.9807692307692307, recall:0.9631799660946376, f1:0.9718950227330704\n"
     ]
    },
    {
     "name": "stderr",
     "output_type": "stream",
     "text": [
      "\n",
      "100%|██████████| 2752512/2752512 [01:19<00:00, 34654.42it/s]\n",
      "\n",
      "  5%|▍         | 131072/2752512 [00:03<01:06, 39149.63it/s]\u001b[A\n",
      " 10%|▉         | 262144/2752512 [00:07<01:07, 36757.32it/s]\u001b[A\n",
      " 14%|█▍        | 393216/2752512 [00:10<01:03, 37033.10it/s]\u001b[A\n",
      " 19%|█▉        | 524288/2752512 [00:13<00:58, 37935.77it/s]\u001b[A\n",
      " 24%|██▍       | 655360/2752512 [00:17<00:54, 38342.96it/s]\u001b[A\n",
      " 29%|██▊       | 786432/2752512 [00:22<00:59, 33268.63it/s]\u001b[A\n",
      " 33%|███▎      | 917504/2752512 [00:26<00:55, 32815.97it/s]\u001b[A\n",
      " 38%|███▊      | 1048576/2752512 [00:29<00:49, 34623.93it/s]\u001b[A\n",
      " 43%|████▎     | 1179648/2752512 [00:33<00:46, 33939.92it/s]\u001b[A\n",
      " 48%|████▊     | 1310720/2752512 [00:37<00:40, 35330.05it/s]\u001b[A\n",
      " 52%|█████▏    | 1441792/2752512 [00:40<00:36, 35430.46it/s]\u001b[A\n",
      " 57%|█████▋    | 1572864/2752512 [00:44<00:32, 35950.40it/s]\u001b[A\n",
      " 62%|██████▏   | 1703936/2752512 [00:47<00:28, 36822.60it/s]\u001b[A\n",
      " 67%|██████▋   | 1835008/2752512 [00:50<00:24, 37564.76it/s]\u001b[A\n",
      " 71%|███████▏  | 1966080/2752512 [00:54<00:21, 36403.82it/s]\u001b[A\n",
      " 76%|███████▌  | 2097152/2752512 [00:58<00:17, 37215.71it/s]\u001b[A\n",
      " 81%|████████  | 2228224/2752512 [01:01<00:13, 37815.68it/s]\u001b[A\n",
      " 86%|████████▌ | 2359296/2752512 [01:05<00:10, 36612.79it/s]\u001b[A\n",
      " 90%|█████████ | 2490368/2752512 [01:08<00:07, 37432.94it/s]\u001b[A\n",
      " 95%|█████████▌| 2621440/2752512 [01:11<00:03, 38037.11it/s]\u001b[A\n",
      "100%|██████████| 2752512/2752512 [01:15<00:00, 37685.65it/s]\u001b[A"
     ]
    },
    {
     "name": "stdout",
     "output_type": "stream",
     "text": [
      "epoch 264, train loss: 0.106960\n",
      "Evaluation: auc:0.9954206969804472, precision:0.9783464566929134, recall:0.9662319794221451, f1:0.9722514822283083\n"
     ]
    },
    {
     "name": "stderr",
     "output_type": "stream",
     "text": [
      "100%|██████████| 2752512/2752512 [01:19<00:00, 34583.46it/s]\n",
      "100%|██████████| 2752512/2752512 [01:15<00:00, 38418.19it/s]"
     ]
    },
    {
     "name": "stdout",
     "output_type": "stream",
     "text": [
      "epoch 265, train loss: 0.107526\n",
      "Evaluation: auc:0.9955140800814146, precision:0.9818291944276196, recall:0.9619179017016037, f1:0.9717715647410582\n"
     ]
    },
    {
     "name": "stderr",
     "output_type": "stream",
     "text": [
      "\n",
      "100%|██████████| 2752512/2752512 [01:22<00:00, 33498.76it/s]\n",
      "\n",
      "  5%|▍         | 131072/2752512 [00:04<01:21, 32182.66it/s]\u001b[A\n",
      " 10%|▉         | 262144/2752512 [00:07<01:09, 36007.99it/s]\u001b[A\n",
      " 14%|█▍        | 393216/2752512 [00:10<01:02, 37526.50it/s]\u001b[A\n",
      " 19%|█▉        | 524288/2752512 [00:14<00:59, 37375.30it/s]\u001b[A\n",
      " 24%|██▍       | 655360/2752512 [00:17<00:55, 37985.73it/s]\u001b[A\n",
      " 29%|██▊       | 786432/2752512 [00:20<00:51, 38513.37it/s]\u001b[A\n",
      " 33%|███▎      | 917504/2752512 [00:24<00:48, 37960.07it/s]\u001b[A\n",
      " 38%|███▊      | 1048576/2752512 [00:27<00:44, 38274.73it/s]\u001b[A\n",
      " 43%|████▎     | 1179648/2752512 [00:31<00:41, 37508.47it/s]\u001b[A\n",
      " 48%|████▊     | 1310720/2752512 [00:35<00:38, 37341.62it/s]\u001b[A\n",
      " 52%|█████▏    | 1441792/2752512 [00:38<00:34, 38055.15it/s]\u001b[A\n",
      " 57%|█████▋    | 1572864/2752512 [00:42<00:31, 37123.59it/s]\u001b[A\n",
      " 62%|██████▏   | 1703936/2752512 [00:46<00:29, 35744.26it/s]\u001b[A\n",
      " 67%|██████▋   | 1835008/2752512 [00:49<00:25, 36541.24it/s]\u001b[A\n",
      " 71%|███████▏  | 1966080/2752512 [00:52<00:21, 37317.69it/s]\u001b[A\n",
      " 76%|███████▌  | 2097152/2752512 [00:56<00:17, 37248.43it/s]\u001b[A\n",
      " 81%|████████  | 2228224/2752512 [00:59<00:13, 37779.71it/s]\u001b[A\n",
      " 86%|████████▌ | 2359296/2752512 [01:04<00:11, 34128.67it/s]\u001b[A\n",
      " 90%|█████████ | 2490368/2752512 [01:08<00:07, 33715.99it/s]\u001b[A\n",
      " 95%|█████████▌| 2621440/2752512 [01:11<00:03, 35274.17it/s]\u001b[A\n",
      "100%|██████████| 2752512/2752512 [01:15<00:00, 35385.11it/s]\u001b[A"
     ]
    },
    {
     "name": "stdout",
     "output_type": "stream",
     "text": [
      "epoch 266, train loss: 0.108977\n",
      "Evaluation: auc:0.9954969864821387, precision:0.9859176256814052, recall:0.9582327662330017, f1:0.9718780786339075\n"
     ]
    },
    {
     "name": "stderr",
     "output_type": "stream",
     "text": [
      "100%|██████████| 2752512/2752512 [01:20<00:00, 34405.76it/s]\n",
      "100%|██████████| 2752512/2752512 [01:15<00:00, 36814.46it/s]"
     ]
    },
    {
     "name": "stdout",
     "output_type": "stream",
     "text": [
      "epoch 267, train loss: 0.107636\n",
      "Evaluation: auc:0.9952352292500443, precision:0.9853119321623258, recall:0.9581940538073009, f1:0.9715638041344092\n"
     ]
    },
    {
     "name": "stderr",
     "output_type": "stream",
     "text": [
      "\n",
      "100%|██████████| 2752512/2752512 [01:19<00:00, 34489.32it/s]\n",
      "\n",
      "  5%|▍         | 131072/2752512 [00:03<01:06, 39607.40it/s]\u001b[A\n",
      " 10%|▉         | 262144/2752512 [00:07<01:10, 35370.63it/s]\u001b[A\n",
      " 14%|█▍        | 393216/2752512 [00:10<01:03, 36918.42it/s]\u001b[A\n",
      " 19%|█▉        | 524288/2752512 [00:13<00:58, 37834.96it/s]\u001b[A\n",
      " 24%|██▍       | 655360/2752512 [00:17<00:58, 36026.02it/s]\u001b[A\n",
      " 29%|██▊       | 786432/2752512 [00:21<00:54, 35975.34it/s]\u001b[A\n",
      " 33%|███▎      | 917504/2752512 [00:24<00:49, 36930.82it/s]\u001b[A\n",
      " 38%|███▊      | 1048576/2752512 [00:28<00:45, 37130.12it/s]\u001b[A\n",
      " 43%|████▎     | 1179648/2752512 [00:31<00:41, 37838.10it/s]\u001b[A\n",
      " 48%|████▊     | 1310720/2752512 [00:35<00:37, 38210.88it/s]\u001b[A\n",
      " 52%|█████▏    | 1441792/2752512 [00:38<00:34, 38481.03it/s]\u001b[A\n",
      " 57%|█████▋    | 1572864/2752512 [00:43<00:35, 32996.89it/s]\u001b[A\n",
      " 62%|██████▏   | 1703936/2752512 [00:47<00:31, 33697.44it/s]\u001b[A\n",
      " 67%|██████▋   | 1835008/2752512 [00:51<00:27, 33665.19it/s]\u001b[A\n",
      " 71%|███████▏  | 1966080/2752512 [00:54<00:22, 35109.59it/s]\u001b[A\n",
      " 76%|███████▌  | 2097152/2752512 [00:58<00:18, 35316.88it/s]\u001b[A\n",
      " 81%|████████  | 2228224/2752512 [01:01<00:14, 35781.95it/s]\u001b[A\n",
      " 86%|████████▌ | 2359296/2752512 [01:05<00:10, 36733.21it/s]\u001b[A\n",
      " 90%|█████████ | 2490368/2752512 [01:08<00:06, 37497.26it/s]\u001b[A\n",
      " 95%|█████████▌| 2621440/2752512 [01:12<00:03, 37458.83it/s]\u001b[A\n",
      "100%|██████████| 2752512/2752512 [01:15<00:00, 37977.16it/s]\u001b[A"
     ]
    },
    {
     "name": "stdout",
     "output_type": "stream",
     "text": [
      "epoch 268, train loss: 0.107040\n",
      "Evaluation: auc:0.995179795315212, precision:0.9781950333131435, recall:0.9653894434813797, f1:0.9717500526489967\n"
     ]
    },
    {
     "name": "stderr",
     "output_type": "stream",
     "text": [
      "100%|██████████| 2752512/2752512 [01:19<00:00, 34462.37it/s]\n",
      "100%|██████████| 2752512/2752512 [01:14<00:00, 37497.91it/s]"
     ]
    },
    {
     "name": "stdout",
     "output_type": "stream",
     "text": [
      "epoch 269, train loss: 0.109048\n",
      "Evaluation: auc:0.9950864190929565, precision:0.9853119321623258, recall:0.9576158940397351, f1:0.9712665124263005\n"
     ]
    },
    {
     "name": "stderr",
     "output_type": "stream",
     "text": [
      "\n",
      "100%|██████████| 2752512/2752512 [01:18<00:00, 34875.40it/s]\n",
      "\n",
      "  5%|▍         | 131072/2752512 [00:03<01:17, 33705.90it/s]\u001b[A\n",
      " 10%|▉         | 262144/2752512 [00:07<01:11, 34904.42it/s]\u001b[A\n",
      " 14%|█▍        | 393216/2752512 [00:10<01:04, 36766.47it/s]\u001b[A\n",
      " 19%|█▉        | 524288/2752512 [00:14<01:00, 36920.63it/s]\u001b[A\n",
      " 24%|██▍       | 655360/2752512 [00:17<00:55, 37626.19it/s]\u001b[A\n",
      " 29%|██▊       | 786432/2752512 [00:22<00:58, 33729.07it/s]\u001b[A\n",
      " 33%|███▎      | 917504/2752512 [00:26<00:56, 32448.96it/s]\u001b[A\n",
      " 38%|███▊      | 1048576/2752512 [00:30<00:49, 34404.22it/s]\u001b[A\n",
      " 43%|████▎     | 1179648/2752512 [00:33<00:43, 35850.13it/s]\u001b[A\n",
      " 48%|████▊     | 1310720/2752512 [00:37<00:41, 34724.50it/s]\u001b[A\n",
      " 52%|█████▏    | 1441792/2752512 [00:41<00:37, 35082.45it/s]\u001b[A\n",
      " 57%|█████▋    | 1572864/2752512 [00:44<00:32, 36306.39it/s]\u001b[A\n",
      " 62%|██████▏   | 1703936/2752512 [00:47<00:28, 36671.95it/s]\u001b[A\n",
      " 67%|██████▋   | 1835008/2752512 [00:51<00:24, 37389.99it/s]\u001b[A\n",
      " 71%|███████▏  | 1966080/2752512 [00:54<00:21, 36889.26it/s]\u001b[A\n",
      " 76%|███████▌  | 2097152/2752512 [00:58<00:17, 36756.86it/s]\u001b[A\n",
      " 81%|████████  | 2228224/2752512 [01:01<00:13, 37465.09it/s]\u001b[A\n",
      " 86%|████████▌ | 2359296/2752512 [01:05<00:10, 37964.80it/s]\u001b[A\n",
      " 90%|█████████ | 2490368/2752512 [01:09<00:07, 36358.97it/s]\u001b[A\n",
      " 95%|█████████▌| 2621440/2752512 [01:12<00:03, 37209.77it/s]\u001b[A\n",
      "100%|██████████| 2752512/2752512 [01:15<00:00, 37797.14it/s]\u001b[A"
     ]
    },
    {
     "name": "stdout",
     "output_type": "stream",
     "text": [
      "epoch 270, train loss: 0.106923\n",
      "Evaluation: auc:0.9953397849843036, precision:0.9795578437310721, recall:0.9641696723999166, f1:0.9718028452536543\n"
     ]
    },
    {
     "name": "stderr",
     "output_type": "stream",
     "text": [
      "100%|██████████| 2752512/2752512 [01:20<00:00, 34334.87it/s]\n",
      "100%|██████████| 2752512/2752512 [01:14<00:00, 39604.71it/s]"
     ]
    },
    {
     "name": "stdout",
     "output_type": "stream",
     "text": [
      "epoch 271, train loss: 0.107105\n",
      "Evaluation: auc:0.9950691443542651, precision:0.9827377347062386, recall:0.9614102659062291, f1:0.9719570182335542\n"
     ]
    },
    {
     "name": "stderr",
     "output_type": "stream",
     "text": [
      "\n",
      "100%|██████████| 2752512/2752512 [01:20<00:00, 33983.46it/s]\n",
      "\n",
      "  5%|▍         | 131072/2752512 [00:03<01:10, 36963.36it/s]\u001b[A\n",
      " 10%|▉         | 262144/2752512 [00:06<01:05, 37770.02it/s]\u001b[A\n",
      " 14%|█▍        | 393216/2752512 [00:10<01:00, 39131.04it/s]\u001b[A\n",
      " 19%|█▉        | 524288/2752512 [00:13<00:56, 39728.77it/s]\u001b[A\n",
      " 24%|██▍       | 655360/2752512 [00:16<00:53, 39195.28it/s]\u001b[A\n",
      " 29%|██▊       | 786432/2752512 [00:20<00:49, 39744.66it/s]\u001b[A\n",
      " 33%|███▎      | 917504/2752512 [00:23<00:45, 40186.28it/s]\u001b[A\n",
      " 38%|███▊      | 1048576/2752512 [00:26<00:42, 40427.30it/s]\u001b[A\n",
      " 43%|████▎     | 1179648/2752512 [00:30<00:40, 39072.66it/s]\u001b[A\n",
      " 48%|████▊     | 1310720/2752512 [00:33<00:36, 39628.85it/s]\u001b[A\n",
      " 52%|█████▏    | 1441792/2752512 [00:36<00:33, 38719.85it/s]\u001b[A\n",
      " 57%|█████▋    | 1572864/2752512 [00:40<00:30, 38810.34it/s]\u001b[A\n",
      " 62%|██████▏   | 1703936/2752512 [00:43<00:27, 38212.66it/s]\u001b[A\n",
      " 67%|██████▋   | 1835008/2752512 [00:46<00:23, 38935.67it/s]\u001b[A\n",
      " 71%|███████▏  | 1966080/2752512 [00:50<00:20, 38967.50it/s]\u001b[A\n",
      " 76%|███████▌  | 2097152/2752512 [00:53<00:16, 39524.99it/s]\u001b[A\n",
      " 81%|████████  | 2228224/2752512 [00:56<00:13, 39906.35it/s]\u001b[A\n",
      " 86%|████████▌ | 2359296/2752512 [01:00<00:09, 39464.13it/s]\u001b[A\n",
      " 90%|█████████ | 2490368/2752512 [01:04<00:07, 35465.14it/s]\u001b[A\n",
      " 95%|█████████▌| 2621440/2752512 [01:08<00:03, 34177.52it/s]\u001b[A\n",
      "100%|██████████| 2752512/2752512 [01:12<00:00, 34490.39it/s]\u001b[A"
     ]
    },
    {
     "name": "stdout",
     "output_type": "stream",
     "text": [
      "epoch 272, train loss: 0.106488\n",
      "Evaluation: auc:0.9952345361051669, precision:0.9854633555420957, recall:0.957988636029087, f1:0.97153178975025\n"
     ]
    },
    {
     "name": "stderr",
     "output_type": "stream",
     "text": [
      "100%|██████████| 2752512/2752512 [01:16<00:00, 35954.05it/s]\n",
      "100%|██████████| 2752512/2752512 [01:13<00:00, 37178.02it/s]"
     ]
    },
    {
     "name": "stdout",
     "output_type": "stream",
     "text": [
      "epoch 273, train loss: 0.106710\n",
      "Evaluation: auc:0.9951784333302395, precision:0.9827377347062386, recall:0.9612251547735419, f1:0.9718624118360562\n"
     ]
    },
    {
     "name": "stderr",
     "output_type": "stream",
     "text": [
      "\n",
      "100%|██████████| 2752512/2752512 [01:17<00:00, 35714.98it/s]\n",
      "\n",
      "  5%|▍         | 131072/2752512 [00:03<01:05, 40327.49it/s]\u001b[A\n",
      " 10%|▉         | 262144/2752512 [00:06<01:07, 37115.84it/s]\u001b[A\n",
      " 14%|█▍        | 393216/2752512 [00:10<01:01, 38662.91it/s]\u001b[A\n",
      " 19%|█▉        | 524288/2752512 [00:13<00:58, 37787.70it/s]\u001b[A\n",
      " 24%|██▍       | 655360/2752512 [00:17<00:55, 38020.55it/s]\u001b[A\n",
      " 29%|██▊       | 786432/2752512 [00:20<00:52, 37680.56it/s]\u001b[A\n",
      " 33%|███▎      | 917504/2752512 [00:23<00:47, 38525.71it/s]\u001b[A\n",
      " 38%|███▊      | 1048576/2752512 [00:27<00:43, 38846.65it/s]\u001b[A\n",
      " 43%|████▎     | 1179648/2752512 [00:30<00:40, 39302.38it/s]\u001b[A\n",
      " 48%|████▊     | 1310720/2752512 [00:33<00:36, 39658.55it/s]\u001b[A\n",
      " 52%|█████▏    | 1441792/2752512 [00:36<00:32, 40087.40it/s]\u001b[A\n",
      " 57%|█████▋    | 1572864/2752512 [00:40<00:30, 38456.48it/s]\u001b[A\n",
      " 62%|██████▏   | 1703936/2752512 [00:46<00:32, 32661.95it/s]\u001b[A\n",
      " 67%|██████▋   | 1835008/2752512 [00:50<00:28, 32388.01it/s]\u001b[A\n",
      " 71%|███████▏  | 1966080/2752512 [00:53<00:22, 34449.51it/s]\u001b[A\n",
      " 76%|███████▌  | 2097152/2752512 [00:57<00:18, 35158.88it/s]\u001b[A\n",
      " 81%|████████  | 2228224/2752512 [01:00<00:14, 36206.43it/s]\u001b[A\n",
      " 86%|████████▌ | 2359296/2752512 [01:03<00:10, 37435.04it/s]\u001b[A\n",
      " 90%|█████████ | 2490368/2752512 [01:06<00:06, 38414.61it/s]\u001b[A\n",
      " 95%|█████████▌| 2621440/2752512 [01:10<00:03, 39075.17it/s]\u001b[A\n",
      "100%|██████████| 2752512/2752512 [01:13<00:00, 38766.17it/s]\u001b[A"
     ]
    },
    {
     "name": "stdout",
     "output_type": "stream",
     "text": [
      "epoch 274, train loss: 0.108115\n",
      "Evaluation: auc:0.9951018640942607, precision:0.9862204724409449, recall:0.956963810811208, f1:0.9713718968821542\n"
     ]
    },
    {
     "name": "stderr",
     "output_type": "stream",
     "text": [
      "100%|██████████| 2752512/2752512 [01:18<00:00, 35133.22it/s]\n",
      "100%|██████████| 2752512/2752512 [01:13<00:00, 38116.32it/s]"
     ]
    },
    {
     "name": "stdout",
     "output_type": "stream",
     "text": [
      "epoch 275, train loss: 0.107212\n",
      "Evaluation: auc:0.9952676800324015, precision:0.9857662023016354, recall:0.957817764503362, f1:0.9715910362891492\n"
     ]
    },
    {
     "name": "stderr",
     "output_type": "stream",
     "text": [
      "\n",
      "100%|██████████| 2752512/2752512 [01:17<00:00, 35620.80it/s]\n",
      "\n",
      "  5%|▍         | 131072/2752512 [00:03<01:04, 40677.84it/s]\u001b[A\n",
      " 10%|▉         | 262144/2752512 [00:06<01:05, 37817.78it/s]\u001b[A\n",
      " 14%|█▍        | 393216/2752512 [00:10<01:00, 39257.31it/s]\u001b[A\n",
      " 19%|█▉        | 524288/2752512 [00:13<00:56, 39742.06it/s]\u001b[A\n",
      " 24%|██▍       | 655360/2752512 [00:16<00:53, 39360.88it/s]\u001b[A\n",
      " 29%|██▊       | 786432/2752512 [00:20<00:51, 38349.34it/s]\u001b[A\n",
      " 33%|███▎      | 917504/2752512 [00:25<00:55, 33004.27it/s]\u001b[A\n",
      " 38%|███▊      | 1048576/2752512 [00:29<00:52, 32552.54it/s]\u001b[A\n",
      " 43%|████▎     | 1179648/2752512 [00:32<00:45, 34687.34it/s]\u001b[A\n",
      " 48%|████▊     | 1310720/2752512 [00:35<00:39, 36374.12it/s]\u001b[A\n",
      " 52%|█████▏    | 1441792/2752512 [00:39<00:36, 36014.42it/s]\u001b[A\n",
      " 57%|█████▋    | 1572864/2752512 [00:42<00:31, 37288.45it/s]\u001b[A\n",
      " 62%|██████▏   | 1703936/2752512 [00:46<00:27, 38172.95it/s]\u001b[A\n",
      " 67%|██████▋   | 1835008/2752512 [00:49<00:24, 38161.69it/s]\u001b[A\n",
      " 71%|███████▏  | 1966080/2752512 [00:53<00:21, 36691.71it/s]\u001b[A\n",
      " 76%|███████▌  | 2097152/2752512 [00:56<00:17, 37679.62it/s]\u001b[A\n",
      " 81%|████████  | 2228224/2752512 [01:00<00:13, 37812.01it/s]\u001b[A\n",
      " 86%|████████▌ | 2359296/2752512 [01:03<00:10, 38504.81it/s]\u001b[A\n",
      " 90%|█████████ | 2490368/2752512 [01:06<00:06, 38962.10it/s]\u001b[A\n",
      " 95%|█████████▌| 2621440/2752512 [01:10<00:03, 38772.11it/s]\u001b[A\n",
      "100%|██████████| 2752512/2752512 [01:13<00:00, 39363.74it/s]\u001b[A"
     ]
    },
    {
     "name": "stdout",
     "output_type": "stream",
     "text": [
      "epoch 276, train loss: 0.107538\n",
      "Evaluation: auc:0.9953293268198963, precision:0.9827377347062386, recall:0.9617807021443708, f1:0.9721462862963324\n"
     ]
    },
    {
     "name": "stderr",
     "output_type": "stream",
     "text": [
      "100%|██████████| 2752512/2752512 [01:17<00:00, 35532.81it/s]\n",
      "100%|██████████| 2752512/2752512 [01:13<00:00, 38239.25it/s]"
     ]
    },
    {
     "name": "stdout",
     "output_type": "stream",
     "text": [
      "epoch 277, train loss: 0.106460\n",
      "Evaluation: auc:0.9952214713674989, precision:0.9862204724409449, recall:0.9559525032657674, f1:0.9708506309112998\n"
     ]
    },
    {
     "name": "stderr",
     "output_type": "stream",
     "text": [
      "\n",
      "100%|██████████| 2752512/2752512 [01:17<00:00, 35415.19it/s]\n",
      "\n",
      "  5%|▍         | 131072/2752512 [00:04<01:38, 26530.77it/s]\u001b[A\n",
      " 10%|▉         | 262144/2752512 [00:08<01:21, 30521.99it/s]\u001b[A\n",
      " 14%|█▍        | 393216/2752512 [00:12<01:08, 34334.23it/s]\u001b[A\n",
      " 19%|█▉        | 524288/2752512 [00:15<01:02, 35720.10it/s]\u001b[A\n",
      " 24%|██▍       | 655360/2752512 [00:18<00:56, 37284.35it/s]\u001b[A\n",
      " 29%|██▊       | 786432/2752512 [00:21<00:51, 38262.09it/s]\u001b[A\n",
      " 33%|███▎      | 917504/2752512 [00:25<00:47, 38419.86it/s]\u001b[A\n",
      " 38%|███▊      | 1048576/2752512 [00:28<00:44, 38173.23it/s]\u001b[A\n",
      " 43%|████▎     | 1179648/2752512 [00:32<00:41, 37749.94it/s]\u001b[A\n",
      " 48%|████▊     | 1310720/2752512 [00:35<00:38, 37926.28it/s]\u001b[A\n",
      " 52%|█████▏    | 1441792/2752512 [00:39<00:34, 38141.45it/s]\u001b[A\n",
      " 57%|█████▋    | 1572864/2752512 [00:42<00:30, 38860.57it/s]\u001b[A\n",
      " 62%|██████▏   | 1703936/2752512 [00:45<00:27, 38253.98it/s]\u001b[A\n",
      " 67%|██████▋   | 1835008/2752512 [00:49<00:23, 38510.73it/s]\u001b[A\n",
      " 71%|███████▏  | 1966080/2752512 [00:52<00:20, 39092.15it/s]\u001b[A\n",
      " 76%|███████▌  | 2097152/2752512 [00:55<00:16, 39629.44it/s]\u001b[A\n",
      " 81%|████████  | 2228224/2752512 [00:59<00:13, 38526.85it/s]\u001b[A\n",
      " 86%|████████▌ | 2359296/2752512 [01:02<00:10, 39117.93it/s]\u001b[A\n",
      " 90%|█████████ | 2490368/2752512 [01:05<00:06, 39630.69it/s]\u001b[A\n",
      " 95%|█████████▌| 2621440/2752512 [01:09<00:03, 39249.53it/s]\u001b[A\n",
      "100%|██████████| 2752512/2752512 [01:14<00:00, 34189.08it/s]\u001b[A"
     ]
    },
    {
     "name": "stdout",
     "output_type": "stream",
     "text": [
      "epoch 278, train loss: 0.107233\n",
      "Evaluation: auc:0.9954594557709825, precision:0.9762265293761356, recall:0.9678726917880198, f1:0.9720316622691293\n"
     ]
    },
    {
     "name": "stderr",
     "output_type": "stream",
     "text": [
      "100%|██████████| 2752512/2752512 [01:18<00:00, 34987.10it/s]\n",
      "100%|██████████| 2752512/2752512 [01:13<00:00, 36868.74it/s]"
     ]
    },
    {
     "name": "stdout",
     "output_type": "stream",
     "text": [
      "epoch 279, train loss: 0.107176\n",
      "Evaluation: auc:0.9954226927240837, precision:0.9809206541490006, recall:0.9629420421268562, f1:0.9718482068515449\n"
     ]
    },
    {
     "name": "stderr",
     "output_type": "stream",
     "text": [
      "\n",
      "100%|██████████| 2752512/2752512 [01:18<00:00, 35195.80it/s]\n",
      "\n",
      "  5%|▍         | 131072/2752512 [00:03<01:07, 38903.35it/s]\u001b[A\n",
      " 10%|▉         | 262144/2752512 [00:06<01:06, 37426.64it/s]\u001b[A\n",
      " 14%|█▍        | 393216/2752512 [00:10<01:01, 38661.18it/s]\u001b[A\n",
      " 19%|█▉        | 524288/2752512 [00:13<00:57, 38854.07it/s]\u001b[A\n",
      " 24%|██▍       | 655360/2752512 [00:16<00:53, 39407.21it/s]\u001b[A\n",
      " 29%|██▊       | 786432/2752512 [00:20<00:51, 38444.16it/s]\u001b[A\n",
      " 33%|███▎      | 917504/2752512 [00:23<00:47, 38305.94it/s]\u001b[A\n",
      " 38%|███▊      | 1048576/2752512 [00:27<00:43, 39129.90it/s]\u001b[A\n",
      " 43%|████▎     | 1179648/2752512 [00:30<00:39, 39684.46it/s]\u001b[A\n",
      " 48%|████▊     | 1310720/2752512 [00:34<00:38, 37614.80it/s]\u001b[A\n",
      " 52%|█████▏    | 1441792/2752512 [00:37<00:34, 38519.42it/s]\u001b[A\n",
      " 57%|█████▋    | 1572864/2752512 [00:40<00:31, 37949.48it/s]\u001b[A\n",
      " 62%|██████▏   | 1703936/2752512 [00:44<00:27, 38036.11it/s]\u001b[A\n",
      " 67%|██████▋   | 1835008/2752512 [00:47<00:23, 38753.08it/s]\u001b[A\n",
      " 71%|███████▏  | 1966080/2752512 [00:52<00:22, 35168.62it/s]\u001b[A\n",
      " 76%|███████▌  | 2097152/2752512 [00:56<00:19, 33254.63it/s]\u001b[A\n",
      " 81%|████████  | 2228224/2752512 [00:59<00:14, 35228.36it/s]\u001b[A\n",
      " 86%|████████▌ | 2359296/2752512 [01:02<00:10, 36761.95it/s]\u001b[A\n",
      " 90%|█████████ | 2490368/2752512 [01:06<00:07, 35764.56it/s]\u001b[A\n",
      " 95%|█████████▌| 2621440/2752512 [01:10<00:03, 37179.43it/s]\u001b[A\n",
      "100%|██████████| 2752512/2752512 [01:13<00:00, 38072.41it/s]\u001b[A"
     ]
    },
    {
     "name": "stdout",
     "output_type": "stream",
     "text": [
      "epoch 280, train loss: 0.106511\n",
      "Evaluation: auc:0.9953140700660099, precision:0.9804663840096911, recall:0.964517666686528, f1:0.9724266362298382\n"
     ]
    },
    {
     "name": "stderr",
     "output_type": "stream",
     "text": [
      "100%|██████████| 2752512/2752512 [01:17<00:00, 35391.44it/s]\n",
      "100%|██████████| 2752512/2752512 [01:12<00:00, 38244.03it/s]"
     ]
    },
    {
     "name": "stdout",
     "output_type": "stream",
     "text": [
      "epoch 281, train loss: 0.107406\n",
      "Evaluation: auc:0.9952238420009384, precision:0.983343428225318, recall:0.9604377726835761, f1:0.9717556395196588\n"
     ]
    },
    {
     "name": "stderr",
     "output_type": "stream",
     "text": [
      "\n",
      "100%|██████████| 2752512/2752512 [01:17<00:00, 35693.11it/s]\n",
      "\n",
      "  5%|▍         | 131072/2752512 [00:03<01:04, 40768.76it/s]\u001b[A\n",
      " 10%|▉         | 262144/2752512 [00:06<01:05, 38121.07it/s]\u001b[A\n",
      " 14%|█▍        | 393216/2752512 [00:10<01:01, 38190.64it/s]\u001b[A\n",
      " 19%|█▉        | 524288/2752512 [00:13<00:57, 38721.82it/s]\u001b[A\n",
      " 24%|██▍       | 655360/2752512 [00:16<00:54, 38582.48it/s]\u001b[A\n",
      " 29%|██▊       | 786432/2752512 [00:20<00:50, 39088.22it/s]\u001b[A\n",
      " 33%|███▎      | 917504/2752512 [00:23<00:48, 38082.55it/s]\u001b[A\n",
      " 38%|███▊      | 1048576/2752512 [00:27<00:43, 38931.85it/s]\u001b[A\n",
      " 43%|████▎     | 1179648/2752512 [00:31<00:45, 34944.00it/s]\u001b[A\n",
      " 48%|████▊     | 1310720/2752512 [00:35<00:41, 34426.55it/s]\u001b[A\n",
      " 52%|█████▏    | 1441792/2752512 [00:39<00:37, 35116.93it/s]\u001b[A\n",
      " 57%|█████▋    | 1572864/2752512 [00:42<00:32, 36545.09it/s]\u001b[A\n",
      " 62%|██████▏   | 1703936/2752512 [00:45<00:27, 37535.77it/s]\u001b[A\n",
      " 67%|██████▋   | 1835008/2752512 [00:49<00:25, 36421.15it/s]\u001b[A\n",
      " 71%|███████▏  | 1966080/2752512 [00:53<00:21, 36328.75it/s]\u001b[A\n",
      " 76%|███████▌  | 2097152/2752512 [00:56<00:17, 37128.08it/s]\u001b[A\n",
      " 81%|████████  | 2228224/2752512 [00:59<00:13, 38083.39it/s]\u001b[A\n",
      " 86%|████████▌ | 2359296/2752512 [01:03<00:10, 38603.59it/s]\u001b[A\n",
      " 90%|█████████ | 2490368/2752512 [01:06<00:06, 38553.42it/s]\u001b[A\n",
      " 95%|█████████▌| 2621440/2752512 [01:09<00:03, 39135.44it/s]\u001b[A\n",
      "100%|██████████| 2752512/2752512 [01:12<00:00, 39636.12it/s]\u001b[A"
     ]
    },
    {
     "name": "stdout",
     "output_type": "stream",
     "text": [
      "epoch 282, train loss: 0.106633\n",
      "Evaluation: auc:0.9952290909167617, precision:0.9803149606299213, recall:0.9622473246135553, f1:0.9711971197119713\n"
     ]
    },
    {
     "name": "stderr",
     "output_type": "stream",
     "text": [
      "100%|██████████| 2752512/2752512 [01:17<00:00, 35726.73it/s]\n",
      "100%|██████████| 2752512/2752512 [01:14<00:00, 38196.18it/s]"
     ]
    },
    {
     "name": "stdout",
     "output_type": "stream",
     "text": [
      "epoch 283, train loss: 0.107050\n",
      "Evaluation: auc:0.9949509733560887, precision:0.9772864930345245, recall:0.9665149155385169, f1:0.9718708589326588\n"
     ]
    },
    {
     "name": "stderr",
     "output_type": "stream",
     "text": [
      "\n",
      "100%|██████████| 2752512/2752512 [01:18<00:00, 34877.51it/s]\n",
      "\n",
      "  5%|▍         | 131072/2752512 [00:03<01:07, 38956.55it/s]\u001b[A\n",
      " 10%|▉         | 262144/2752512 [00:06<01:03, 39235.97it/s]\u001b[A\n",
      " 14%|█▍        | 393216/2752512 [00:11<01:13, 32028.76it/s]\u001b[A\n",
      " 19%|█▉        | 524288/2752512 [00:15<01:08, 32294.64it/s]\u001b[A\n",
      " 24%|██▍       | 655360/2752512 [00:19<01:01, 33957.03it/s]\u001b[A\n",
      " 29%|██▊       | 786432/2752512 [00:22<00:57, 34475.51it/s]\u001b[A\n",
      " 33%|███▎      | 917504/2752512 [00:26<00:51, 35929.62it/s]\u001b[A\n",
      " 38%|███▊      | 1048576/2752512 [00:29<00:46, 36765.46it/s]\u001b[A\n",
      " 43%|████▎     | 1179648/2752512 [00:33<00:43, 36249.49it/s]\u001b[A\n",
      " 48%|████▊     | 1310720/2752512 [00:36<00:39, 36536.76it/s]\u001b[A\n",
      " 52%|█████▏    | 1441792/2752512 [00:40<00:35, 37343.07it/s]\u001b[A\n",
      " 57%|█████▋    | 1572864/2752512 [00:43<00:31, 37482.39it/s]\u001b[A\n",
      " 62%|██████▏   | 1703936/2752512 [00:47<00:28, 37044.91it/s]\u001b[A\n",
      " 67%|██████▋   | 1835008/2752512 [00:50<00:24, 37727.22it/s]\u001b[A\n",
      " 71%|███████▏  | 1966080/2752512 [00:54<00:21, 36743.49it/s]\u001b[A\n",
      " 76%|███████▌  | 2097152/2752512 [00:57<00:17, 37540.28it/s]\u001b[A\n",
      " 81%|████████  | 2228224/2752512 [01:01<00:13, 38105.09it/s]\u001b[A\n",
      " 86%|████████▌ | 2359296/2752512 [01:04<00:10, 37957.22it/s]\u001b[A\n",
      " 90%|█████████ | 2490368/2752512 [01:07<00:06, 38546.38it/s]\u001b[A\n",
      " 95%|█████████▌| 2621440/2752512 [01:11<00:03, 38824.81it/s]\u001b[A\n",
      "100%|██████████| 2752512/2752512 [01:14<00:00, 37363.29it/s]\u001b[A"
     ]
    },
    {
     "name": "stdout",
     "output_type": "stream",
     "text": [
      "epoch 284, train loss: 0.106200\n",
      "Evaluation: auc:0.9953311659581899, precision:0.98152634766808, recall:0.9631071423264936, f1:0.9722295133602814\n"
     ]
    },
    {
     "name": "stderr",
     "output_type": "stream",
     "text": [
      "100%|██████████| 2752512/2752512 [01:21<00:00, 33862.07it/s]\n",
      "100%|██████████| 2752512/2752512 [01:15<00:00, 34297.54it/s]"
     ]
    },
    {
     "name": "stdout",
     "output_type": "stream",
     "text": [
      "epoch 285, train loss: 0.107209\n",
      "Evaluation: auc:0.995285323928636, precision:0.9884918231374924, recall:0.9538281706604325, f1:0.9708506841165974\n"
     ]
    },
    {
     "name": "stderr",
     "output_type": "stream",
     "text": [
      "\n",
      "100%|██████████| 2752512/2752512 [01:19<00:00, 34756.55it/s]\n",
      "\n",
      "  5%|▍         | 131072/2752512 [00:03<01:11, 36906.26it/s]\u001b[A\n",
      " 10%|▉         | 262144/2752512 [00:07<01:08, 36338.46it/s]\u001b[A\n",
      " 14%|█▍        | 393216/2752512 [00:10<01:02, 37864.40it/s]\u001b[A\n",
      " 19%|█▉        | 524288/2752512 [00:13<00:58, 37791.73it/s]\u001b[A\n",
      " 24%|██▍       | 655360/2752512 [00:17<00:54, 38480.81it/s]\u001b[A\n",
      " 29%|██▊       | 786432/2752512 [00:20<00:52, 37647.97it/s]\u001b[A\n",
      " 33%|███▎      | 917504/2752512 [00:24<00:48, 37543.34it/s]\u001b[A\n",
      " 38%|███▊      | 1048576/2752512 [00:28<00:45, 37158.11it/s]\u001b[A\n",
      " 43%|████▎     | 1179648/2752512 [00:31<00:41, 37935.98it/s]\u001b[A\n",
      " 48%|████▊     | 1310720/2752512 [00:34<00:38, 37732.67it/s]\u001b[A\n",
      " 52%|█████▏    | 1441792/2752512 [00:38<00:34, 38437.28it/s]\u001b[A\n",
      " 57%|█████▋    | 1572864/2752512 [00:41<00:31, 37782.96it/s]\u001b[A\n",
      " 62%|██████▏   | 1703936/2752512 [00:45<00:27, 38253.39it/s]\u001b[A\n",
      " 67%|██████▋   | 1835008/2752512 [00:48<00:23, 38679.06it/s]\u001b[A\n",
      " 71%|███████▏  | 1966080/2752512 [00:51<00:20, 38992.23it/s]\u001b[A\n",
      " 76%|███████▌  | 2097152/2752512 [00:57<00:19, 32855.86it/s]\u001b[A\n",
      " 81%|████████  | 2228224/2752512 [01:01<00:16, 30949.68it/s]\u001b[A\n",
      " 86%|████████▌ | 2359296/2752512 [01:05<00:11, 33166.83it/s]\u001b[A\n",
      " 90%|█████████ | 2490368/2752512 [01:08<00:07, 34425.62it/s]\u001b[A\n",
      " 95%|█████████▌| 2621440/2752512 [01:11<00:03, 35941.06it/s]\u001b[A\n",
      "100%|██████████| 2752512/2752512 [01:15<00:00, 37094.49it/s]\u001b[A"
     ]
    },
    {
     "name": "stdout",
     "output_type": "stream",
     "text": [
      "epoch 286, train loss: 0.106548\n",
      "Evaluation: auc:0.9952394864848901, precision:0.9866747425802543, recall:0.9584467161873943, f1:0.9723559037493005\n"
     ]
    },
    {
     "name": "stderr",
     "output_type": "stream",
     "text": [
      "100%|██████████| 2752512/2752512 [01:19<00:00, 34522.42it/s]\n",
      "100%|██████████| 2752512/2752512 [01:14<00:00, 37803.72it/s]"
     ]
    },
    {
     "name": "stdout",
     "output_type": "stream",
     "text": [
      "epoch 287, train loss: 0.106539\n",
      "Evaluation: auc:0.9952475964863172, precision:0.983343428225318, recall:0.9615327667387249, f1:0.9723158005060712\n"
     ]
    },
    {
     "name": "stderr",
     "output_type": "stream",
     "text": [
      "\n",
      "100%|██████████| 2752512/2752512 [01:19<00:00, 34808.56it/s]\n",
      "\n",
      "  5%|▍         | 131072/2752512 [00:03<01:06, 39426.29it/s]\u001b[A\n",
      " 10%|▉         | 262144/2752512 [00:06<01:06, 37428.91it/s]\u001b[A\n",
      " 14%|█▍        | 393216/2752512 [00:10<01:01, 38055.42it/s]\u001b[A\n",
      " 19%|█▉        | 524288/2752512 [00:13<00:57, 38576.08it/s]\u001b[A\n",
      " 24%|██▍       | 655360/2752512 [00:16<00:53, 38871.87it/s]\u001b[A\n",
      " 29%|██▊       | 786432/2752512 [00:20<00:51, 38525.55it/s]\u001b[A\n",
      " 33%|███▎      | 917504/2752512 [00:24<00:48, 37755.01it/s]\u001b[A\n",
      " 38%|███▊      | 1048576/2752512 [00:27<00:44, 38483.84it/s]\u001b[A\n",
      " 43%|████▎     | 1179648/2752512 [00:30<00:41, 38166.72it/s]\u001b[A\n",
      " 48%|████▊     | 1310720/2752512 [00:35<00:43, 33224.56it/s]\u001b[A\n",
      " 52%|█████▏    | 1441792/2752512 [00:40<00:40, 32406.26it/s]\u001b[A\n",
      " 57%|█████▋    | 1572864/2752512 [00:43<00:34, 34295.01it/s]\u001b[A\n",
      " 62%|██████▏   | 1703936/2752512 [00:46<00:29, 35840.23it/s]\u001b[A\n",
      " 67%|██████▋   | 1835008/2752512 [00:50<00:24, 36926.52it/s]\u001b[A\n",
      " 71%|███████▏  | 1966080/2752512 [00:53<00:21, 35929.20it/s]\u001b[A\n",
      " 76%|███████▌  | 2097152/2752512 [00:57<00:17, 36933.80it/s]\u001b[A\n",
      " 81%|████████  | 2228224/2752512 [01:00<00:13, 37780.84it/s]\u001b[A\n",
      " 86%|████████▌ | 2359296/2752512 [01:04<00:10, 37480.22it/s]\u001b[A\n",
      " 90%|█████████ | 2490368/2752512 [01:07<00:07, 37236.12it/s]\u001b[A\n",
      " 95%|█████████▌| 2621440/2752512 [01:10<00:03, 37990.64it/s]\u001b[A\n",
      "100%|██████████| 2752512/2752512 [01:14<00:00, 37842.44it/s]\u001b[A"
     ]
    },
    {
     "name": "stdout",
     "output_type": "stream",
     "text": [
      "epoch 288, train loss: 0.107201\n",
      "Evaluation: auc:0.9953904466980532, precision:0.9836462749848577, recall:0.9600236459026085, f1:0.9716914101940841\n"
     ]
    },
    {
     "name": "stderr",
     "output_type": "stream",
     "text": [
      "100%|██████████| 2752512/2752512 [01:18<00:00, 35064.52it/s]\n",
      "100%|██████████| 2752512/2752512 [01:14<00:00, 38594.80it/s]"
     ]
    },
    {
     "name": "stdout",
     "output_type": "stream",
     "text": [
      "epoch 289, train loss: 0.110562\n",
      "Evaluation: auc:0.994940070139016, precision:0.9859176256814052, recall:0.9562063091112025, f1:0.9708347001461246\n"
     ]
    },
    {
     "name": "stderr",
     "output_type": "stream",
     "text": [
      "\n",
      "100%|██████████| 2752512/2752512 [01:19<00:00, 34700.50it/s]\n",
      "\n",
      "  5%|▍         | 131072/2752512 [00:03<01:06, 39628.14it/s]\u001b[A\n",
      " 10%|▉         | 262144/2752512 [00:07<01:07, 37039.22it/s]\u001b[A\n",
      " 14%|█▍        | 393216/2752512 [00:10<01:01, 38409.81it/s]\u001b[A\n",
      " 19%|█▉        | 524288/2752512 [00:15<01:07, 33173.36it/s]\u001b[A\n",
      " 24%|██▍       | 655360/2752512 [00:19<01:03, 33043.49it/s]\u001b[A\n",
      " 29%|██▊       | 786432/2752512 [00:22<00:55, 35184.82it/s]\u001b[A\n",
      " 33%|███▎      | 917504/2752512 [00:25<00:50, 36229.37it/s]\u001b[A\n",
      " 38%|███▊      | 1048576/2752512 [00:29<00:46, 36947.52it/s]\u001b[A\n",
      " 43%|████▎     | 1179648/2752512 [00:32<00:42, 36773.22it/s]\u001b[A\n",
      " 48%|████▊     | 1310720/2752512 [00:35<00:38, 37617.47it/s]\u001b[A\n",
      " 52%|█████▏    | 1441792/2752512 [00:39<00:35, 36770.83it/s]\u001b[A\n",
      " 57%|█████▋    | 1572864/2752512 [00:42<00:31, 37821.47it/s]\u001b[A\n",
      " 62%|██████▏   | 1703936/2752512 [00:46<00:28, 37413.07it/s]\u001b[A\n",
      " 67%|██████▋   | 1835008/2752512 [00:50<00:24, 37565.99it/s]\u001b[A\n",
      " 71%|███████▏  | 1966080/2752512 [00:53<00:20, 38382.41it/s]\u001b[A\n",
      " 76%|███████▌  | 2097152/2752512 [00:56<00:16, 38902.23it/s]\u001b[A\n",
      " 81%|████████  | 2228224/2752512 [00:59<00:13, 38650.06it/s]\u001b[A\n",
      " 86%|████████▌ | 2359296/2752512 [01:03<00:10, 39010.41it/s]\u001b[A\n",
      " 90%|█████████ | 2490368/2752512 [01:06<00:06, 39365.98it/s]\u001b[A\n",
      " 95%|█████████▌| 2621440/2752512 [01:09<00:03, 39230.53it/s]\u001b[A\n",
      "100%|██████████| 2752512/2752512 [01:13<00:00, 37298.37it/s]\u001b[A"
     ]
    },
    {
     "name": "stdout",
     "output_type": "stream",
     "text": [
      "epoch 290, train loss: 0.106610\n",
      "Evaluation: auc:0.9955015722901268, precision:0.9834948516050879, recall:0.9610404983501768, f1:0.9721380301295436\n"
     ]
    },
    {
     "name": "stderr",
     "output_type": "stream",
     "text": [
      "100%|██████████| 2752512/2752512 [01:17<00:00, 35371.98it/s]\n",
      "100%|██████████| 2752512/2752512 [01:15<00:00, 34868.56it/s]"
     ]
    },
    {
     "name": "stdout",
     "output_type": "stream",
     "text": [
      "epoch 291, train loss: 0.105544\n",
      "Evaluation: auc:0.9953399989122463, precision:0.9818291944276196, recall:0.9629464617212445, f1:0.9722961574507968\n"
     ]
    },
    {
     "name": "stderr",
     "output_type": "stream",
     "text": [
      "\n",
      "100%|██████████| 2752512/2752512 [01:20<00:00, 34286.85it/s]\n",
      "\n",
      "  5%|▍         | 131072/2752512 [00:03<01:04, 40594.23it/s]\u001b[A\n",
      " 10%|▉         | 262144/2752512 [00:06<01:05, 38092.29it/s]\u001b[A\n",
      " 14%|█▍        | 393216/2752512 [00:10<01:00, 39073.39it/s]\u001b[A\n",
      " 19%|█▉        | 524288/2752512 [00:13<01:00, 36980.42it/s]\u001b[A\n",
      " 24%|██▍       | 655360/2752512 [00:17<00:54, 38157.78it/s]\u001b[A\n",
      " 29%|██▊       | 786432/2752512 [00:20<00:52, 37642.07it/s]\u001b[A\n",
      " 33%|███▎      | 917504/2752512 [00:24<00:48, 37757.04it/s]\u001b[A\n",
      " 38%|███▊      | 1048576/2752512 [00:27<00:44, 38222.92it/s]\u001b[A\n",
      " 43%|████▎     | 1179648/2752512 [00:30<00:40, 38823.26it/s]\u001b[A\n",
      " 48%|████▊     | 1310720/2752512 [00:34<00:37, 38460.94it/s]\u001b[A\n",
      " 52%|█████▏    | 1441792/2752512 [00:37<00:33, 38946.98it/s]\u001b[A\n",
      " 57%|█████▋    | 1572864/2752512 [00:41<00:30, 38167.52it/s]\u001b[A\n",
      " 62%|██████▏   | 1703936/2752512 [00:44<00:27, 38123.22it/s]\u001b[A\n",
      " 67%|██████▋   | 1835008/2752512 [00:47<00:23, 38740.40it/s]\u001b[A\n",
      " 71%|███████▏  | 1966080/2752512 [00:51<00:20, 39157.13it/s]\u001b[A\n",
      " 76%|███████▌  | 2097152/2752512 [00:55<00:17, 36634.14it/s]\u001b[A\n",
      " 81%|████████  | 2228224/2752512 [00:58<00:13, 37504.78it/s]\u001b[A\n",
      " 86%|████████▌ | 2359296/2752512 [01:03<00:11, 34309.80it/s]\u001b[A\n",
      " 90%|█████████ | 2490368/2752512 [01:07<00:07, 33059.40it/s]\u001b[A\n",
      " 95%|█████████▌| 2621440/2752512 [01:10<00:03, 34951.25it/s]\u001b[A\n",
      "100%|██████████| 2752512/2752512 [01:13<00:00, 36435.59it/s]\u001b[A"
     ]
    },
    {
     "name": "stdout",
     "output_type": "stream",
     "text": [
      "epoch 292, train loss: 0.105917\n",
      "Evaluation: auc:0.9952649668391053, precision:0.9831920048455481, recall:0.9616694807310643, f1:0.9723116548615583\n"
     ]
    },
    {
     "name": "stderr",
     "output_type": "stream",
     "text": [
      "100%|██████████| 2752512/2752512 [01:18<00:00, 35108.34it/s]\n",
      "100%|██████████| 2752512/2752512 [01:14<00:00, 34989.17it/s]"
     ]
    },
    {
     "name": "stdout",
     "output_type": "stream",
     "text": [
      "epoch 293, train loss: 0.105206\n",
      "Evaluation: auc:0.9951829343007799, precision:0.982434887946699, recall:0.9621259305394905, f1:0.9721743560543625\n"
     ]
    },
    {
     "name": "stderr",
     "output_type": "stream",
     "text": [
      "\n",
      "100%|██████████| 2752512/2752512 [01:18<00:00, 35090.40it/s]\n",
      "\n",
      "  5%|▍         | 131072/2752512 [00:03<01:05, 39837.22it/s]\u001b[A\n",
      " 10%|▉         | 262144/2752512 [00:06<01:06, 37581.62it/s]\u001b[A\n",
      " 14%|█▍        | 393216/2752512 [00:10<01:02, 37640.37it/s]\u001b[A\n",
      " 19%|█▉        | 524288/2752512 [00:13<00:57, 38499.59it/s]\u001b[A\n",
      " 24%|██▍       | 655360/2752512 [00:17<00:54, 38782.19it/s]\u001b[A\n",
      " 29%|██▊       | 786432/2752512 [00:20<00:51, 38283.42it/s]\u001b[A\n",
      " 33%|███▎      | 917504/2752512 [00:24<00:48, 37456.82it/s]\u001b[A\n",
      " 38%|███▊      | 1048576/2752512 [00:27<00:45, 37836.77it/s]\u001b[A\n",
      " 43%|████▎     | 1179648/2752512 [00:31<00:43, 36533.34it/s]\u001b[A\n",
      " 48%|████▊     | 1310720/2752512 [00:34<00:38, 37381.44it/s]\u001b[A\n",
      " 52%|█████▏    | 1441792/2752512 [00:38<00:35, 37044.70it/s]\u001b[A\n",
      " 57%|█████▋    | 1572864/2752512 [00:43<00:35, 32955.92it/s]\u001b[A\n",
      " 62%|██████▏   | 1703936/2752512 [00:47<00:31, 32997.41it/s]\u001b[A\n",
      " 67%|██████▋   | 1835008/2752512 [00:50<00:26, 34830.77it/s]\u001b[A\n",
      " 71%|███████▏  | 1966080/2752512 [00:54<00:22, 34880.35it/s]\u001b[A\n",
      " 76%|███████▌  | 2097152/2752512 [00:57<00:18, 36343.23it/s]\u001b[A\n",
      " 81%|████████  | 2228224/2752512 [01:01<00:14, 36329.91it/s]\u001b[A\n",
      " 86%|████████▌ | 2359296/2752512 [01:04<00:10, 36756.92it/s]\u001b[A\n",
      " 90%|█████████ | 2490368/2752512 [01:07<00:06, 37744.11it/s]\u001b[A\n",
      " 95%|█████████▌| 2621440/2752512 [01:11<00:03, 38417.04it/s]\u001b[A\n",
      "100%|██████████| 2752512/2752512 [01:14<00:00, 38067.26it/s]\u001b[A"
     ]
    },
    {
     "name": "stdout",
     "output_type": "stream",
     "text": [
      "epoch 294, train loss: 0.105323\n",
      "Evaluation: auc:0.9952349373633659, precision:0.9792549969715324, recall:0.9661900706676826, f1:0.9726786640897024\n"
     ]
    },
    {
     "name": "stderr",
     "output_type": "stream",
     "text": [
      "100%|██████████| 2752512/2752512 [01:18<00:00, 34937.76it/s]\n",
      "100%|██████████| 2752512/2752512 [01:13<00:00, 38692.70it/s]"
     ]
    },
    {
     "name": "stdout",
     "output_type": "stream",
     "text": [
      "epoch 295, train loss: 0.106629\n",
      "Evaluation: auc:0.9953698612352846, precision:0.9831920048455481, recall:0.9603893030410602, f1:0.971656889740213\n"
     ]
    },
    {
     "name": "stderr",
     "output_type": "stream",
     "text": [
      "\n",
      "100%|██████████| 2752512/2752512 [01:17<00:00, 35350.71it/s]\n",
      "\n",
      "  5%|▍         | 131072/2752512 [00:03<01:05, 40301.43it/s]\u001b[A\n",
      " 10%|▉         | 262144/2752512 [00:06<01:04, 38694.99it/s]\u001b[A\n",
      " 14%|█▍        | 393216/2752512 [00:10<01:02, 37550.09it/s]\u001b[A\n",
      " 19%|█▉        | 524288/2752512 [00:13<00:57, 38524.00it/s]\u001b[A\n",
      " 24%|██▍       | 655360/2752512 [00:17<00:55, 37868.02it/s]\u001b[A\n",
      " 29%|██▊       | 786432/2752512 [00:21<00:58, 33786.78it/s]\u001b[A\n",
      " 33%|███▎      | 917504/2752512 [00:25<00:54, 33538.36it/s]\u001b[A\n",
      " 38%|███▊      | 1048576/2752512 [00:29<00:48, 34974.87it/s]\u001b[A\n",
      " 43%|████▎     | 1179648/2752512 [00:32<00:44, 35487.54it/s]\u001b[A\n",
      " 48%|████▊     | 1310720/2752512 [00:36<00:39, 36810.14it/s]\u001b[A\n",
      " 52%|█████▏    | 1441792/2752512 [00:39<00:35, 37100.32it/s]\u001b[A\n",
      " 57%|█████▋    | 1572864/2752512 [00:43<00:32, 36811.12it/s]\u001b[A\n",
      " 62%|██████▏   | 1703936/2752512 [00:46<00:28, 36668.94it/s]\u001b[A\n",
      " 67%|██████▋   | 1835008/2752512 [00:50<00:24, 37081.55it/s]\u001b[A\n",
      " 71%|███████▏  | 1966080/2752512 [00:53<00:20, 37964.53it/s]\u001b[A\n",
      " 76%|███████▌  | 2097152/2752512 [00:56<00:16, 38571.75it/s]\u001b[A\n",
      " 81%|████████  | 2228224/2752512 [01:00<00:13, 38807.23it/s]\u001b[A\n",
      " 86%|████████▌ | 2359296/2752512 [01:03<00:10, 39261.27it/s]\u001b[A\n",
      " 90%|█████████ | 2490368/2752512 [01:06<00:06, 39666.52it/s]\u001b[A\n",
      " 95%|█████████▌| 2621440/2752512 [01:09<00:03, 39881.90it/s]\u001b[A\n",
      "100%|██████████| 2752512/2752512 [01:13<00:00, 37561.72it/s]\u001b[A"
     ]
    },
    {
     "name": "stdout",
     "output_type": "stream",
     "text": [
      "epoch 296, train loss: 0.105911\n",
      "Evaluation: auc:0.9951975630282621, precision:0.9836462749848577, recall:0.9590881575644831, f1:0.9712119966210913\n"
     ]
    },
    {
     "name": "stderr",
     "output_type": "stream",
     "text": [
      "100%|██████████| 2752512/2752512 [01:17<00:00, 35342.77it/s]\n",
      "100%|██████████| 2752512/2752512 [01:13<00:00, 38869.72it/s]"
     ]
    },
    {
     "name": "stdout",
     "output_type": "stream",
     "text": [
      "epoch 297, train loss: 0.105883\n",
      "Evaluation: auc:0.9954238267943991, precision:0.9874318594791036, recall:0.9549401789506056, f1:0.9709142614664216\n"
     ]
    },
    {
     "name": "stderr",
     "output_type": "stream",
     "text": [
      "\n",
      "100%|██████████| 2752512/2752512 [01:19<00:00, 34493.01it/s]\n",
      "\n",
      "  5%|▍         | 131072/2752512 [00:03<01:16, 34429.46it/s]\u001b[A\n",
      " 10%|▉         | 262144/2752512 [00:07<01:10, 35513.40it/s]\u001b[A\n",
      " 14%|█▍        | 393216/2752512 [00:10<01:02, 37459.78it/s]\u001b[A\n",
      " 19%|█▉        | 524288/2752512 [00:14<01:01, 35985.01it/s]\u001b[A\n",
      " 24%|██▍       | 655360/2752512 [00:17<00:56, 36803.39it/s]\u001b[A\n",
      " 29%|██▊       | 786432/2752512 [00:21<00:53, 36650.87it/s]\u001b[A\n",
      " 33%|███▎      | 917504/2752512 [00:25<00:49, 36986.95it/s]\u001b[A\n",
      " 38%|███▊      | 1048576/2752512 [00:28<00:44, 37995.88it/s]\u001b[A\n",
      " 43%|████▎     | 1179648/2752512 [00:31<00:40, 38587.81it/s]\u001b[A\n",
      " 48%|████▊     | 1310720/2752512 [00:35<00:37, 38449.16it/s]\u001b[A\n",
      " 52%|█████▏    | 1441792/2752512 [00:38<00:33, 39010.28it/s]\u001b[A\n",
      " 57%|█████▋    | 1572864/2752512 [00:41<00:30, 38173.12it/s]\u001b[A\n",
      " 62%|██████▏   | 1703936/2752512 [00:45<00:27, 38598.54it/s]\u001b[A\n",
      " 67%|██████▋   | 1835008/2752512 [00:48<00:24, 37750.61it/s]\u001b[A\n",
      " 71%|███████▏  | 1966080/2752512 [00:52<00:20, 38394.84it/s]\u001b[A\n",
      " 76%|███████▌  | 2097152/2752512 [00:55<00:17, 37730.91it/s]\u001b[A\n",
      " 81%|████████  | 2228224/2752512 [00:59<00:13, 37768.80it/s]\u001b[A\n",
      " 86%|████████▌ | 2359296/2752512 [01:02<00:10, 38476.17it/s]\u001b[A\n",
      " 90%|█████████ | 2490368/2752512 [01:07<00:07, 34660.63it/s]\u001b[A\n",
      " 95%|█████████▌| 2621440/2752512 [01:11<00:03, 32892.00it/s]\u001b[A\n",
      "100%|██████████| 2752512/2752512 [01:14<00:00, 34844.95it/s]\u001b[A"
     ]
    },
    {
     "name": "stdout",
     "output_type": "stream",
     "text": [
      "epoch 298, train loss: 0.105822\n",
      "Evaluation: auc:0.9952801098649534, precision:0.9853119321623258, recall:0.9587587853069884, f1:0.9718540202674951\n"
     ]
    },
    {
     "name": "stderr",
     "output_type": "stream",
     "text": [
      "100%|██████████| 2752512/2752512 [01:19<00:00, 34488.45it/s]\n",
      "100%|██████████| 2752512/2752512 [01:13<00:00, 36575.61it/s]"
     ]
    },
    {
     "name": "stdout",
     "output_type": "stream",
     "text": [
      "epoch 299, train loss: 0.106002\n",
      "Evaluation: auc:0.9952877796288137, precision:0.9828891580860085, recall:0.9628563799804195, f1:0.9727696434726574\n"
     ]
    },
    {
     "name": "stderr",
     "output_type": "stream",
     "text": [
      "\n",
      "100%|██████████| 2752512/2752512 [01:17<00:00, 35324.93it/s]\n",
      "\n",
      "  5%|▍         | 131072/2752512 [00:03<01:05, 40176.39it/s]\u001b[A\n",
      " 10%|▉         | 262144/2752512 [00:06<01:05, 37866.41it/s]\u001b[A\n",
      " 14%|█▍        | 393216/2752512 [00:10<01:01, 38168.51it/s]\u001b[A\n",
      " 19%|█▉        | 524288/2752512 [00:13<00:57, 38935.96it/s]\u001b[A\n",
      " 24%|██▍       | 655360/2752512 [00:16<00:53, 39380.66it/s]\u001b[A\n",
      " 29%|██▊       | 786432/2752512 [00:20<00:50, 38962.58it/s]\u001b[A\n",
      " 33%|███▎      | 917504/2752512 [00:24<00:49, 37411.25it/s]\u001b[A\n",
      " 38%|███▊      | 1048576/2752512 [00:27<00:44, 38286.64it/s]\u001b[A\n",
      " 43%|████▎     | 1179648/2752512 [00:30<00:40, 38608.76it/s]\u001b[A\n",
      " 48%|████▊     | 1310720/2752512 [00:33<00:36, 39094.99it/s]\u001b[A\n",
      " 52%|█████▏    | 1441792/2752512 [00:37<00:34, 38267.45it/s]\u001b[A\n",
      " 57%|█████▋    | 1572864/2752512 [00:40<00:30, 38909.08it/s]\u001b[A\n",
      " 62%|██████▏   | 1703936/2752512 [00:45<00:30, 33961.11it/s]\u001b[A\n",
      " 67%|██████▋   | 1835008/2752512 [00:49<00:27, 33772.87it/s]\u001b[A\n",
      " 71%|███████▏  | 1966080/2752512 [00:53<00:23, 34081.23it/s]\u001b[A\n",
      " 76%|███████▌  | 2097152/2752512 [00:56<00:18, 34980.14it/s]\u001b[A\n",
      " 81%|████████  | 2228224/2752512 [01:00<00:14, 36337.23it/s]\u001b[A\n",
      " 86%|████████▌ | 2359296/2752512 [01:03<00:10, 37397.22it/s]\u001b[A\n",
      " 90%|█████████ | 2490368/2752512 [01:06<00:06, 38048.64it/s]\u001b[A\n",
      " 95%|█████████▌| 2621440/2752512 [01:09<00:03, 38707.62it/s]\u001b[A\n",
      "100%|██████████| 2752512/2752512 [01:13<00:00, 39157.26it/s]\u001b[A"
     ]
    },
    {
     "name": "stdout",
     "output_type": "stream",
     "text": [
      "epoch 300, train loss: 0.107802\n",
      "Evaluation: auc:0.9950845068110254, precision:0.9712295578437311, recall:0.9688382701690256, f1:0.9700324402803929\n"
     ]
    },
    {
     "name": "stderr",
     "output_type": "stream",
     "text": [
      "100%|██████████| 2752512/2752512 [01:17<00:00, 35510.13it/s]\n",
      "100%|██████████| 2752512/2752512 [01:14<00:00, 38945.08it/s]"
     ]
    },
    {
     "name": "stdout",
     "output_type": "stream",
     "text": [
      "epoch 301, train loss: 0.106492\n",
      "Evaluation: auc:0.9953742587958548, precision:0.9821320411871592, recall:0.963071851752862, f1:0.9725085653024658\n"
     ]
    },
    {
     "name": "stderr",
     "output_type": "stream",
     "text": [
      "\n",
      "100%|██████████| 2752512/2752512 [01:18<00:00, 34924.90it/s]\n",
      "\n",
      "  5%|▍         | 131072/2752512 [00:03<01:05, 39927.66it/s]\u001b[A\n",
      " 10%|▉         | 262144/2752512 [00:06<01:04, 38392.36it/s]\u001b[A\n",
      " 14%|█▍        | 393216/2752512 [00:10<01:01, 38574.43it/s]\u001b[A\n",
      " 19%|█▉        | 524288/2752512 [00:13<00:56, 39214.56it/s]\u001b[A\n",
      " 24%|██▍       | 655360/2752512 [00:16<00:53, 39413.12it/s]\u001b[A\n",
      " 29%|██▊       | 786432/2752512 [00:20<00:50, 39047.41it/s]\u001b[A\n",
      " 33%|███▎      | 917504/2752512 [00:24<00:52, 34796.21it/s]\u001b[A\n",
      " 38%|███▊      | 1048576/2752512 [00:28<00:50, 33572.11it/s]\u001b[A\n",
      " 43%|████▎     | 1179648/2752512 [00:32<00:46, 33895.27it/s]\u001b[A\n",
      " 48%|████▊     | 1310720/2752512 [00:36<00:40, 35589.42it/s]\u001b[A\n",
      " 52%|█████▏    | 1441792/2752512 [00:39<00:35, 36631.78it/s]\u001b[A\n",
      " 57%|█████▋    | 1572864/2752512 [00:42<00:31, 37671.11it/s]\u001b[A\n",
      " 62%|██████▏   | 1703936/2752512 [00:46<00:28, 37326.97it/s]\u001b[A\n",
      " 67%|██████▋   | 1835008/2752512 [00:49<00:24, 38015.92it/s]\u001b[A\n",
      " 71%|███████▏  | 1966080/2752512 [00:52<00:20, 37869.48it/s]\u001b[A\n",
      " 76%|███████▌  | 2097152/2752512 [00:56<00:17, 38516.83it/s]\u001b[A\n",
      " 81%|████████  | 2228224/2752512 [00:59<00:13, 38913.05it/s]\u001b[A\n",
      " 86%|████████▌ | 2359296/2752512 [01:03<00:10, 37516.12it/s]\u001b[A\n",
      " 90%|█████████ | 2490368/2752512 [01:06<00:06, 38193.96it/s]\u001b[A\n",
      " 95%|█████████▌| 2621440/2752512 [01:09<00:03, 38861.51it/s]\u001b[A\n",
      "100%|██████████| 2752512/2752512 [01:13<00:00, 37453.02it/s]\u001b[A"
     ]
    },
    {
     "name": "stdout",
     "output_type": "stream",
     "text": [
      "epoch 302, train loss: 0.106073\n",
      "Evaluation: auc:0.9953786673623644, precision:0.9830405814657783, recall:0.9618347753940975, f1:0.9723220704529116\n"
     ]
    },
    {
     "name": "stderr",
     "output_type": "stream",
     "text": [
      "100%|██████████| 2752512/2752512 [01:17<00:00, 35455.27it/s]\n",
      "100%|██████████| 2752512/2752512 [01:14<00:00, 38903.65it/s]"
     ]
    },
    {
     "name": "stdout",
     "output_type": "stream",
     "text": [
      "epoch 303, train loss: 0.105635\n",
      "Evaluation: auc:0.9953444352228941, precision:0.9830405814657783, recall:0.9624479267045202, f1:0.9726352692650552\n"
     ]
    },
    {
     "name": "stderr",
     "output_type": "stream",
     "text": [
      "\n",
      "100%|██████████| 2752512/2752512 [01:18<00:00, 35262.47it/s]\n",
      "\n",
      "  5%|▍         | 131072/2752512 [00:04<01:36, 27216.61it/s]\u001b[A\n",
      " 10%|▉         | 262144/2752512 [00:09<01:33, 26642.65it/s]\u001b[A\n",
      " 14%|█▍        | 393216/2752512 [00:13<01:14, 31473.37it/s]\u001b[A\n",
      " 19%|█▉        | 524288/2752512 [00:16<01:06, 33613.62it/s]\u001b[A\n",
      " 24%|██▍       | 655360/2752512 [00:19<00:58, 35744.87it/s]\u001b[A\n",
      " 29%|██▊       | 786432/2752512 [00:23<00:54, 35927.45it/s]\u001b[A\n",
      " 33%|███▎      | 917504/2752512 [00:26<00:50, 36684.45it/s]\u001b[A\n",
      " 38%|███▊      | 1048576/2752512 [00:30<00:45, 37753.23it/s]\u001b[A\n",
      " 43%|████▎     | 1179648/2752512 [00:33<00:40, 38537.98it/s]\u001b[A\n",
      " 48%|████▊     | 1310720/2752512 [00:36<00:37, 38909.25it/s]\u001b[A\n",
      " 52%|█████▏    | 1441792/2752512 [00:40<00:35, 37414.53it/s]\u001b[A\n",
      " 57%|█████▋    | 1572864/2752512 [00:44<00:31, 37144.09it/s]\u001b[A\n",
      " 62%|██████▏   | 1703936/2752512 [00:47<00:27, 37943.75it/s]\u001b[A\n",
      " 67%|██████▋   | 1835008/2752512 [00:50<00:24, 38025.80it/s]\u001b[A\n",
      " 71%|███████▏  | 1966080/2752512 [00:54<00:20, 38665.33it/s]\u001b[A\n",
      " 76%|███████▌  | 2097152/2752512 [00:57<00:17, 37934.28it/s]\u001b[A\n",
      " 81%|████████  | 2228224/2752512 [01:01<00:13, 37978.68it/s]\u001b[A\n",
      " 86%|████████▌ | 2359296/2752512 [01:04<00:10, 38633.27it/s]\u001b[A\n",
      " 90%|█████████ | 2490368/2752512 [01:07<00:06, 39045.90it/s]\u001b[A\n",
      " 95%|█████████▌| 2621440/2752512 [01:11<00:03, 38695.99it/s]\u001b[A\n",
      "100%|██████████| 2752512/2752512 [01:16<00:00, 32656.99it/s]\u001b[A"
     ]
    },
    {
     "name": "stdout",
     "output_type": "stream",
     "text": [
      "epoch 304, train loss: 0.104646\n",
      "Evaluation: auc:0.9953388586510901, precision:0.9827377347062386, recall:0.9642528154993611, f1:0.9734075262850029\n"
     ]
    },
    {
     "name": "stderr",
     "output_type": "stream",
     "text": [
      "100%|██████████| 2752512/2752512 [01:22<00:00, 33549.37it/s]\n",
      "100%|██████████| 2752512/2752512 [01:13<00:00, 35621.33it/s]"
     ]
    },
    {
     "name": "stdout",
     "output_type": "stream",
     "text": [
      "epoch 305, train loss: 0.104448\n",
      "Evaluation: auc:0.9954943290064094, precision:0.9807692307692307, recall:0.9652325529410012, f1:0.9729388702372637\n"
     ]
    },
    {
     "name": "stderr",
     "output_type": "stream",
     "text": [
      "\n",
      "100%|██████████| 2752512/2752512 [01:17<00:00, 35409.90it/s]\n",
      "\n",
      "  5%|▍         | 131072/2752512 [00:03<01:05, 39847.94it/s]\u001b[A\n",
      " 10%|▉         | 262144/2752512 [00:06<01:06, 37533.91it/s]\u001b[A\n",
      " 14%|█▍        | 393216/2752512 [00:10<01:02, 37837.13it/s]\u001b[A\n",
      " 19%|█▉        | 524288/2752512 [00:14<01:00, 37011.39it/s]\u001b[A\n",
      " 24%|██▍       | 655360/2752512 [00:17<00:55, 37985.26it/s]\u001b[A\n",
      " 29%|██▊       | 786432/2752512 [00:20<00:50, 38781.68it/s]\u001b[A\n",
      " 33%|███▎      | 917504/2752512 [00:24<00:48, 37885.28it/s]\u001b[A\n",
      " 38%|███▊      | 1048576/2752512 [00:27<00:44, 38495.50it/s]\u001b[A\n",
      " 43%|████▎     | 1179648/2752512 [00:30<00:40, 39018.14it/s]\u001b[A\n",
      " 48%|████▊     | 1310720/2752512 [00:34<00:37, 38839.77it/s]\u001b[A\n",
      " 52%|█████▏    | 1441792/2752512 [00:37<00:34, 38046.08it/s]\u001b[A\n",
      " 57%|█████▋    | 1572864/2752512 [00:40<00:30, 38653.44it/s]\u001b[A\n",
      " 62%|██████▏   | 1703936/2752512 [00:44<00:27, 37493.72it/s]\u001b[A\n",
      " 67%|██████▋   | 1835008/2752512 [00:48<00:24, 38170.36it/s]\u001b[A\n",
      " 71%|███████▏  | 1966080/2752512 [00:53<00:23, 33524.51it/s]\u001b[A\n",
      " 76%|███████▌  | 2097152/2752512 [00:57<00:20, 32561.93it/s]\u001b[A\n",
      " 81%|████████  | 2228224/2752512 [01:00<00:15, 34559.73it/s]\u001b[A\n",
      " 86%|████████▌ | 2359296/2752512 [01:03<00:10, 36051.06it/s]\u001b[A\n",
      " 90%|█████████ | 2490368/2752512 [01:07<00:07, 36013.80it/s]\u001b[A\n",
      " 95%|█████████▌| 2621440/2752512 [01:10<00:03, 37169.69it/s]\u001b[A\n",
      "100%|██████████| 2752512/2752512 [01:14<00:00, 37986.86it/s]\u001b[A"
     ]
    },
    {
     "name": "stdout",
     "output_type": "stream",
     "text": [
      "epoch 306, train loss: 0.107354\n",
      "Evaluation: auc:0.9954090238062133, precision:0.9845548152634767, recall:0.9585729028453487, f1:0.9713901546276238\n"
     ]
    },
    {
     "name": "stderr",
     "output_type": "stream",
     "text": [
      "100%|██████████| 2752512/2752512 [01:18<00:00, 34948.12it/s]\n",
      "100%|██████████| 2752512/2752512 [01:13<00:00, 38709.12it/s]"
     ]
    },
    {
     "name": "stdout",
     "output_type": "stream",
     "text": [
      "epoch 307, train loss: 0.105521\n",
      "Evaluation: auc:0.9953197633466273, precision:0.9769836462749849, recall:0.9670988533313348, f1:0.9720161199201537\n"
     ]
    },
    {
     "name": "stderr",
     "output_type": "stream",
     "text": [
      "\n",
      "100%|██████████| 2752512/2752512 [01:18<00:00, 35232.19it/s]\n",
      "\n",
      "  5%|▍         | 131072/2752512 [00:03<01:05, 39847.64it/s]\u001b[A\n",
      " 10%|▉         | 262144/2752512 [00:06<01:02, 40003.23it/s]\u001b[A\n",
      " 14%|█▍        | 393216/2752512 [00:10<01:01, 38664.79it/s]\u001b[A\n",
      " 19%|█▉        | 524288/2752512 [00:13<00:56, 39327.88it/s]\u001b[A\n",
      " 24%|██▍       | 655360/2752512 [00:16<00:52, 39700.06it/s]\u001b[A\n",
      " 29%|██▊       | 786432/2752512 [00:20<00:52, 37682.79it/s]\u001b[A\n",
      " 33%|███▎      | 917504/2752512 [00:23<00:47, 38566.33it/s]\u001b[A\n",
      " 38%|███▊      | 1048576/2752512 [00:26<00:43, 39083.07it/s]\u001b[A\n",
      " 43%|████▎     | 1179648/2752512 [00:32<00:47, 32787.60it/s]\u001b[A\n",
      " 48%|████▊     | 1310720/2752512 [00:36<00:43, 33192.09it/s]\u001b[A\n",
      " 52%|█████▏    | 1441792/2752512 [00:39<00:37, 35029.64it/s]\u001b[A\n",
      " 57%|█████▋    | 1572864/2752512 [00:42<00:32, 36100.50it/s]\u001b[A\n",
      " 62%|██████▏   | 1703936/2752512 [00:46<00:28, 36227.73it/s]\u001b[A\n",
      " 67%|██████▋   | 1835008/2752512 [00:49<00:24, 37354.01it/s]\u001b[A\n",
      " 71%|███████▏  | 1966080/2752512 [00:53<00:21, 36438.97it/s]\u001b[A\n",
      " 76%|███████▌  | 2097152/2752512 [00:56<00:17, 37488.84it/s]\u001b[A\n",
      " 81%|████████  | 2228224/2752512 [00:59<00:13, 38247.98it/s]\u001b[A\n",
      " 86%|████████▌ | 2359296/2752512 [01:03<00:10, 38160.41it/s]\u001b[A\n",
      " 90%|█████████ | 2490368/2752512 [01:06<00:06, 38781.42it/s]\u001b[A\n",
      " 95%|█████████▌| 2621440/2752512 [01:09<00:03, 39156.14it/s]\u001b[A\n",
      "100%|██████████| 2752512/2752512 [01:13<00:00, 37636.17it/s]\u001b[A"
     ]
    },
    {
     "name": "stdout",
     "output_type": "stream",
     "text": [
      "epoch 308, train loss: 0.105603\n",
      "Evaluation: auc:0.9955336637744281, precision:0.9806178073894609, recall:0.9644367665455412, f1:0.972459981379704\n"
     ]
    },
    {
     "name": "stderr",
     "output_type": "stream",
     "text": [
      "100%|██████████| 2752512/2752512 [01:17<00:00, 35343.05it/s]\n",
      "100%|██████████| 2752512/2752512 [01:14<00:00, 37252.43it/s]"
     ]
    },
    {
     "name": "stdout",
     "output_type": "stream",
     "text": [
      "epoch 309, train loss: 0.105252\n",
      "Evaluation: auc:0.995413635753307, precision:0.9830405814657783, recall:0.9629475807647809, f1:0.9728903475250641\n"
     ]
    },
    {
     "name": "stderr",
     "output_type": "stream",
     "text": [
      "\n",
      "100%|██████████| 2752512/2752512 [01:18<00:00, 35077.78it/s]\n",
      "\n",
      "  5%|▍         | 131072/2752512 [00:03<01:05, 40084.81it/s]\u001b[A\n",
      " 10%|▉         | 262144/2752512 [00:07<01:07, 36766.93it/s]\u001b[A\n",
      " 14%|█▍        | 393216/2752512 [00:11<01:12, 32550.95it/s]\u001b[A\n",
      " 19%|█▉        | 524288/2752512 [00:15<01:09, 32003.31it/s]\u001b[A\n",
      " 24%|██▍       | 655360/2752512 [00:19<01:00, 34593.98it/s]\u001b[A\n",
      " 29%|██▊       | 786432/2752512 [00:22<00:55, 35211.40it/s]\u001b[A\n",
      " 33%|███▎      | 917504/2752512 [00:25<00:50, 36681.05it/s]\u001b[A\n",
      " 38%|███▊      | 1048576/2752512 [00:29<00:47, 36041.02it/s]\u001b[A\n",
      " 43%|████▎     | 1179648/2752512 [00:32<00:42, 37220.84it/s]\u001b[A\n",
      " 48%|████▊     | 1310720/2752512 [00:36<00:37, 37959.85it/s]\u001b[A\n",
      " 52%|█████▏    | 1441792/2752512 [00:39<00:34, 37483.46it/s]\u001b[A\n",
      " 57%|█████▋    | 1572864/2752512 [00:43<00:31, 37265.18it/s]\u001b[A\n",
      " 62%|██████▏   | 1703936/2752512 [00:46<00:27, 38082.30it/s]\u001b[A\n",
      " 67%|██████▋   | 1835008/2752512 [00:50<00:24, 38079.22it/s]\u001b[A\n",
      " 71%|███████▏  | 1966080/2752512 [00:53<00:20, 38648.44it/s]\u001b[A\n",
      " 76%|███████▌  | 2097152/2752512 [00:56<00:17, 38066.59it/s]\u001b[A\n",
      " 81%|████████  | 2228224/2752512 [01:00<00:13, 37817.96it/s]\u001b[A\n",
      " 86%|████████▌ | 2359296/2752512 [01:03<00:10, 38002.49it/s]\u001b[A\n",
      " 90%|█████████ | 2490368/2752512 [01:07<00:06, 38690.41it/s]\u001b[A\n",
      " 95%|█████████▌| 2621440/2752512 [01:10<00:03, 38943.53it/s]\u001b[A\n",
      "100%|██████████| 2752512/2752512 [01:13<00:00, 39265.27it/s]\u001b[A"
     ]
    },
    {
     "name": "stdout",
     "output_type": "stream",
     "text": [
      "epoch 310, train loss: 0.104911\n",
      "Evaluation: auc:0.9955526696556352, precision:0.9845548152634767, recall:0.9605696641995006, f1:0.9724143603855558\n"
     ]
    },
    {
     "name": "stderr",
     "output_type": "stream",
     "text": [
      "100%|██████████| 2752512/2752512 [01:18<00:00, 35163.02it/s]\n",
      "100%|██████████| 2752512/2752512 [01:14<00:00, 33745.97it/s]"
     ]
    },
    {
     "name": "stdout",
     "output_type": "stream",
     "text": [
      "epoch 311, train loss: 0.104795\n",
      "Evaluation: auc:0.9951944584362542, precision:0.9866747425802543, recall:0.9558456799178524, f1:0.9710155726100886\n"
     ]
    },
    {
     "name": "stderr",
     "output_type": "stream",
     "text": [
      "\n",
      "100%|██████████| 2752512/2752512 [01:19<00:00, 34539.70it/s]\n",
      "\n",
      "  5%|▍         | 131072/2752512 [00:03<01:08, 38506.37it/s]\u001b[A\n",
      " 10%|▉         | 262144/2752512 [00:07<01:07, 36864.60it/s]\u001b[A\n",
      " 14%|█▍        | 393216/2752512 [00:10<01:03, 37249.17it/s]\u001b[A\n",
      " 19%|█▉        | 524288/2752512 [00:14<01:00, 36659.30it/s]\u001b[A\n",
      " 24%|██▍       | 655360/2752512 [00:17<00:55, 37585.90it/s]\u001b[A\n",
      " 29%|██▊       | 786432/2752512 [00:20<00:51, 38197.43it/s]\u001b[A\n",
      " 33%|███▎      | 917504/2752512 [00:24<00:50, 36695.34it/s]\u001b[A\n",
      " 38%|███▊      | 1048576/2752512 [00:28<00:45, 37429.25it/s]\u001b[A\n",
      " 43%|████▎     | 1179648/2752512 [00:31<00:41, 38061.82it/s]\u001b[A\n",
      " 48%|████▊     | 1310720/2752512 [00:34<00:38, 37784.61it/s]\u001b[A\n",
      " 52%|█████▏    | 1441792/2752512 [00:38<00:35, 37066.06it/s]\u001b[A\n",
      " 57%|█████▋    | 1572864/2752512 [00:41<00:31, 37699.26it/s]\u001b[A\n",
      " 62%|██████▏   | 1703936/2752512 [00:45<00:28, 36498.82it/s]\u001b[A\n",
      " 67%|██████▋   | 1835008/2752512 [00:49<00:24, 37358.47it/s]\u001b[A\n",
      " 71%|███████▏  | 1966080/2752512 [00:52<00:21, 36905.76it/s]\u001b[A\n",
      " 76%|███████▌  | 2097152/2752512 [00:56<00:17, 36941.10it/s]\u001b[A\n",
      " 81%|████████  | 2228224/2752512 [00:59<00:13, 37548.30it/s]\u001b[A\n",
      " 86%|████████▌ | 2359296/2752512 [01:04<00:11, 34053.65it/s]\u001b[A\n",
      " 90%|█████████ | 2490368/2752512 [01:08<00:08, 32486.85it/s]\u001b[A\n",
      " 95%|█████████▌| 2621440/2752512 [01:12<00:03, 34251.93it/s]\u001b[A\n",
      "100%|██████████| 2752512/2752512 [01:15<00:00, 35561.34it/s]\u001b[A"
     ]
    },
    {
     "name": "stdout",
     "output_type": "stream",
     "text": [
      "epoch 312, train loss: 0.105099\n",
      "Evaluation: auc:0.99527601473842, precision:0.9845548152634767, recall:0.9607683782785371, f1:0.9725161724563438\n"
     ]
    },
    {
     "name": "stderr",
     "output_type": "stream",
     "text": [
      "100%|██████████| 2752512/2752512 [01:20<00:00, 34220.87it/s]\n",
      "100%|██████████| 2752512/2752512 [01:15<00:00, 36848.43it/s]"
     ]
    },
    {
     "name": "stdout",
     "output_type": "stream",
     "text": [
      "epoch 313, train loss: 0.105173\n",
      "Evaluation: auc:0.9955229054688879, precision:0.9760751059963658, recall:0.9700380731666942, f1:0.973047225849303\n"
     ]
    },
    {
     "name": "stderr",
     "output_type": "stream",
     "text": [
      "\n",
      "100%|██████████| 2752512/2752512 [01:20<00:00, 34402.67it/s]\n",
      "\n",
      "  5%|▍         | 131072/2752512 [00:03<01:06, 39521.51it/s]\u001b[A\n",
      " 10%|▉         | 262144/2752512 [00:06<01:05, 37991.19it/s]\u001b[A\n",
      " 14%|█▍        | 393216/2752512 [00:10<01:00, 38724.31it/s]\u001b[A\n",
      " 19%|█▉        | 524288/2752512 [00:13<00:57, 39078.82it/s]\u001b[A\n",
      " 24%|██▍       | 655360/2752512 [00:17<00:57, 36665.01it/s]\u001b[A\n",
      " 29%|██▊       | 786432/2752512 [00:20<00:52, 37668.15it/s]\u001b[A\n",
      " 33%|███▎      | 917504/2752512 [00:24<00:47, 38357.90it/s]\u001b[A\n",
      " 38%|███▊      | 1048576/2752512 [00:27<00:44, 38252.02it/s]\u001b[A\n",
      " 43%|████▎     | 1179648/2752512 [00:31<00:41, 37518.93it/s]\u001b[A\n",
      " 48%|████▊     | 1310720/2752512 [00:34<00:37, 38044.26it/s]\u001b[A\n",
      " 52%|█████▏    | 1441792/2752512 [00:37<00:34, 38535.43it/s]\u001b[A\n",
      " 57%|█████▋    | 1572864/2752512 [00:42<00:34, 34126.89it/s]\u001b[A\n",
      " 62%|██████▏   | 1703936/2752512 [00:47<00:32, 32582.19it/s]\u001b[A\n",
      " 67%|██████▋   | 1835008/2752512 [00:50<00:26, 34028.28it/s]\u001b[A\n",
      " 71%|███████▏  | 1966080/2752512 [00:54<00:22, 34401.31it/s]\u001b[A\n",
      " 76%|███████▌  | 2097152/2752512 [00:57<00:18, 35816.71it/s]\u001b[A\n",
      " 81%|████████  | 2228224/2752512 [01:01<00:14, 36175.42it/s]\u001b[A\n",
      " 86%|████████▌ | 2359296/2752512 [01:04<00:10, 36759.03it/s]\u001b[A\n",
      " 90%|█████████ | 2490368/2752512 [01:07<00:06, 37589.10it/s]\u001b[A\n",
      " 95%|█████████▌| 2621440/2752512 [01:11<00:03, 37881.03it/s]\u001b[A\n",
      "100%|██████████| 2752512/2752512 [01:14<00:00, 37335.79it/s]\u001b[A"
     ]
    },
    {
     "name": "stdout",
     "output_type": "stream",
     "text": [
      "epoch 314, train loss: 0.105178\n",
      "Evaluation: auc:0.9953972657945316, precision:0.9834948516050879, recall:0.9619229573021727, f1:0.9725893037638232\n"
     ]
    },
    {
     "name": "stderr",
     "output_type": "stream",
     "text": [
      "100%|██████████| 2752512/2752512 [01:18<00:00, 34903.50it/s]\n",
      "100%|██████████| 2752512/2752512 [01:15<00:00, 37479.50it/s]"
     ]
    },
    {
     "name": "stdout",
     "output_type": "stream",
     "text": [
      "epoch 315, train loss: 0.105573\n",
      "Evaluation: auc:0.9953878997402965, precision:0.9828891580860085, recall:0.9616581232036505, f1:0.9721577378723659\n"
     ]
    },
    {
     "name": "stderr",
     "output_type": "stream",
     "text": [
      "\n",
      "100%|██████████| 2752512/2752512 [01:19<00:00, 34587.83it/s]\n",
      "\n",
      "  5%|▍         | 131072/2752512 [00:03<01:10, 37030.62it/s]\u001b[A\n",
      " 10%|▉         | 262144/2752512 [00:07<01:08, 36191.79it/s]\u001b[A\n",
      " 14%|█▍        | 393216/2752512 [00:10<01:02, 37583.52it/s]\u001b[A\n",
      " 19%|█▉        | 524288/2752512 [00:14<00:59, 37336.60it/s]\u001b[A\n",
      " 24%|██▍       | 655360/2752512 [00:17<00:55, 38042.41it/s]\u001b[A\n",
      " 29%|██▊       | 786432/2752512 [00:22<01:00, 32465.04it/s]\u001b[A\n",
      " 33%|███▎      | 917504/2752512 [00:27<00:58, 31191.95it/s]\u001b[A\n",
      " 38%|███▊      | 1048576/2752512 [00:30<00:51, 33376.13it/s]\u001b[A\n",
      " 43%|████▎     | 1179648/2752512 [00:33<00:45, 34584.77it/s]\u001b[A\n",
      " 48%|████▊     | 1310720/2752512 [00:37<00:40, 35542.97it/s]\u001b[A\n",
      " 52%|█████▏    | 1441792/2752512 [00:40<00:35, 36533.65it/s]\u001b[A\n",
      " 57%|█████▋    | 1572864/2752512 [00:44<00:32, 36406.24it/s]\u001b[A\n",
      " 62%|██████▏   | 1703936/2752512 [00:47<00:28, 37019.06it/s]\u001b[A\n",
      " 67%|██████▋   | 1835008/2752512 [00:51<00:24, 37735.87it/s]\u001b[A\n",
      " 71%|███████▏  | 1966080/2752512 [00:54<00:20, 38324.82it/s]\u001b[A\n",
      " 76%|███████▌  | 2097152/2752512 [00:58<00:18, 36213.37it/s]\u001b[A\n",
      " 81%|████████  | 2228224/2752512 [01:01<00:14, 37053.98it/s]\u001b[A\n",
      " 86%|████████▌ | 2359296/2752512 [01:05<00:10, 37728.31it/s]\u001b[A\n",
      " 90%|█████████ | 2490368/2752512 [01:08<00:07, 36970.79it/s]\u001b[A\n",
      " 95%|█████████▌| 2621440/2752512 [01:12<00:03, 37612.17it/s]\u001b[A\n",
      "100%|██████████| 2752512/2752512 [01:15<00:00, 38102.30it/s]\u001b[A"
     ]
    },
    {
     "name": "stdout",
     "output_type": "stream",
     "text": [
      "epoch 316, train loss: 0.104846\n",
      "Evaluation: auc:0.9952733453395901, precision:0.9877347062386432, recall:0.9553449816195316, f1:0.9712698873577081\n"
     ]
    },
    {
     "name": "stderr",
     "output_type": "stream",
     "text": [
      "100%|██████████| 2752512/2752512 [01:20<00:00, 34305.94it/s]\n",
      "100%|██████████| 2752512/2752512 [01:15<00:00, 36857.24it/s]"
     ]
    },
    {
     "name": "stdout",
     "output_type": "stream",
     "text": [
      "epoch 317, train loss: 0.104990\n",
      "Evaluation: auc:0.995495289733183, precision:0.985160508782556, recall:0.9583290371046856, f1:0.9715595576760822\n"
     ]
    },
    {
     "name": "stderr",
     "output_type": "stream",
     "text": [
      "\n",
      "100%|██████████| 2752512/2752512 [01:22<00:00, 33268.62it/s]\n",
      "\n",
      "  5%|▍         | 131072/2752512 [00:03<01:17, 33775.74it/s]\u001b[A\n",
      " 10%|▉         | 262144/2752512 [00:07<01:11, 34957.15it/s]\u001b[A\n",
      " 14%|█▍        | 393216/2752512 [00:10<01:04, 36790.79it/s]\u001b[A\n",
      " 19%|█▉        | 524288/2752512 [00:14<01:00, 36945.41it/s]\u001b[A\n",
      " 24%|██▍       | 655360/2752512 [00:17<00:55, 37767.75it/s]\u001b[A\n",
      " 29%|██▊       | 786432/2752512 [00:21<00:51, 38287.71it/s]\u001b[A\n",
      " 33%|███▎      | 917504/2752512 [00:24<00:49, 36986.07it/s]\u001b[A\n",
      " 38%|███▊      | 1048576/2752512 [00:28<00:46, 36444.96it/s]\u001b[A\n",
      " 43%|████▎     | 1179648/2752512 [00:31<00:42, 37312.61it/s]\u001b[A\n",
      " 48%|████▊     | 1310720/2752512 [00:35<00:37, 37942.96it/s]\u001b[A\n",
      " 52%|█████▏    | 1441792/2752512 [00:39<00:35, 36834.73it/s]\u001b[A\n",
      " 57%|█████▋    | 1572864/2752512 [00:42<00:31, 37421.13it/s]\u001b[A\n",
      " 62%|██████▏   | 1703936/2752512 [00:45<00:27, 37873.63it/s]\u001b[A\n",
      " 67%|██████▋   | 1835008/2752512 [00:49<00:24, 37552.93it/s]\u001b[A\n",
      " 71%|███████▏  | 1966080/2752512 [00:53<00:21, 36843.39it/s]\u001b[A\n",
      " 76%|███████▌  | 2097152/2752512 [00:56<00:17, 37557.13it/s]\u001b[A\n",
      " 81%|████████  | 2228224/2752512 [01:00<00:14, 36151.30it/s]\u001b[A\n",
      " 86%|████████▌ | 2359296/2752512 [01:03<00:10, 36910.63it/s]\u001b[A\n",
      " 90%|█████████ | 2490368/2752512 [01:08<00:07, 33594.22it/s]\u001b[A\n",
      " 95%|█████████▌| 2621440/2752512 [01:12<00:04, 32439.22it/s]\u001b[A\n",
      "100%|██████████| 2752512/2752512 [01:16<00:00, 34258.09it/s]\u001b[A"
     ]
    },
    {
     "name": "stdout",
     "output_type": "stream",
     "text": [
      "epoch 318, train loss: 0.105312\n",
      "Evaluation: auc:0.9954973006099859, precision:0.9804663840096911, recall:0.9667642140468228, f1:0.9735670896734228\n"
     ]
    },
    {
     "name": "stderr",
     "output_type": "stream",
     "text": [
      "100%|██████████| 2752512/2752512 [01:20<00:00, 34189.03it/s]\n",
      "100%|██████████| 2752512/2752512 [01:15<00:00, 37022.10it/s]"
     ]
    },
    {
     "name": "stdout",
     "output_type": "stream",
     "text": [
      "epoch 319, train loss: 0.104833\n",
      "Evaluation: auc:0.9952922553774102, precision:0.9810720775287705, recall:0.9626470937834304, f1:0.9717722582193424\n"
     ]
    },
    {
     "name": "stderr",
     "output_type": "stream",
     "text": [
      "\n",
      "100%|██████████| 2752512/2752512 [01:20<00:00, 34084.80it/s]\n",
      "\n",
      "  5%|▍         | 131072/2752512 [00:03<01:07, 39036.57it/s]\u001b[A\n",
      " 10%|▉         | 262144/2752512 [00:06<01:04, 38516.01it/s]\u001b[A\n",
      " 14%|█▍        | 393216/2752512 [00:10<01:00, 39203.61it/s]\u001b[A\n",
      " 19%|█▉        | 524288/2752512 [00:13<00:56, 39462.42it/s]\u001b[A\n",
      " 24%|██▍       | 655360/2752512 [00:16<00:53, 39428.54it/s]\u001b[A\n",
      " 29%|██▊       | 786432/2752512 [00:20<00:50, 38948.58it/s]\u001b[A\n",
      " 33%|███▎      | 917504/2752512 [00:23<00:46, 39510.04it/s]\u001b[A\n",
      " 38%|███▊      | 1048576/2752512 [00:26<00:42, 39935.32it/s]\u001b[A\n",
      " 43%|████▎     | 1179648/2752512 [00:30<00:42, 37236.87it/s]\u001b[A\n",
      " 48%|████▊     | 1310720/2752512 [00:33<00:37, 38085.52it/s]\u001b[A\n",
      " 52%|█████▏    | 1441792/2752512 [00:37<00:33, 38852.80it/s]\u001b[A\n",
      " 57%|█████▋    | 1572864/2752512 [00:40<00:30, 38325.50it/s]\u001b[A\n",
      " 62%|██████▏   | 1703936/2752512 [00:45<00:31, 33429.67it/s]\u001b[A\n",
      " 67%|██████▋   | 1835008/2752512 [00:49<00:27, 33102.12it/s]\u001b[A\n",
      " 71%|███████▏  | 1966080/2752512 [00:53<00:22, 34473.05it/s]\u001b[A\n",
      " 76%|███████▌  | 2097152/2752512 [00:56<00:18, 35964.54it/s]\u001b[A\n",
      " 81%|████████  | 2228224/2752512 [00:59<00:14, 37240.03it/s]\u001b[A\n",
      " 86%|████████▌ | 2359296/2752512 [01:03<00:10, 36124.13it/s]\u001b[A\n",
      " 90%|█████████ | 2490368/2752512 [01:06<00:07, 37328.98it/s]\u001b[A\n",
      " 95%|█████████▌| 2621440/2752512 [01:10<00:03, 38329.88it/s]\u001b[A\n",
      "100%|██████████| 2752512/2752512 [01:13<00:00, 37250.41it/s]\u001b[A"
     ]
    },
    {
     "name": "stdout",
     "output_type": "stream",
     "text": [
      "epoch 320, train loss: 0.105814\n",
      "Evaluation: auc:0.9956951254878841, precision:0.9777407631738341, recall:0.968138541120024, f1:0.9729159603721701\n"
     ]
    },
    {
     "name": "stderr",
     "output_type": "stream",
     "text": [
      "100%|██████████| 2752512/2752512 [01:17<00:00, 35335.94it/s]\n",
      "100%|██████████| 2752512/2752512 [01:13<00:00, 38770.37it/s]"
     ]
    },
    {
     "name": "stdout",
     "output_type": "stream",
     "text": [
      "epoch 321, train loss: 0.105102\n",
      "Evaluation: auc:0.9952521726641086, precision:0.9872804360993337, recall:0.9549755397369423, f1:0.9708593296305671\n"
     ]
    },
    {
     "name": "stderr",
     "output_type": "stream",
     "text": [
      "\n",
      "100%|██████████| 2752512/2752512 [01:17<00:00, 35620.48it/s]\n",
      "\n",
      "  5%|▍         | 131072/2752512 [00:03<01:04, 40475.75it/s]\u001b[A\n",
      " 10%|▉         | 262144/2752512 [00:07<01:12, 34241.93it/s]\u001b[A\n",
      " 14%|█▍        | 393216/2752512 [00:10<01:04, 36805.61it/s]\u001b[A\n",
      " 19%|█▉        | 524288/2752512 [00:13<00:58, 38184.08it/s]\u001b[A\n",
      " 24%|██▍       | 655360/2752512 [00:17<00:55, 38105.71it/s]\u001b[A\n",
      " 29%|██▊       | 786432/2752512 [00:20<00:52, 37654.96it/s]\u001b[A\n",
      " 33%|███▎      | 917504/2752512 [00:25<00:53, 34274.10it/s]\u001b[A\n",
      " 38%|███▊      | 1048576/2752512 [00:29<00:52, 32577.30it/s]\u001b[A\n",
      " 43%|████▎     | 1179648/2752512 [00:33<00:45, 34715.13it/s]\u001b[A\n",
      " 48%|████▊     | 1310720/2752512 [00:36<00:39, 36341.28it/s]\u001b[A\n",
      " 52%|█████▏    | 1441792/2752512 [00:40<00:37, 35319.18it/s]\u001b[A\n",
      " 57%|█████▋    | 1572864/2752512 [00:43<00:33, 35742.75it/s]\u001b[A\n",
      " 62%|██████▏   | 1703936/2752512 [00:47<00:28, 37017.91it/s]\u001b[A\n",
      " 67%|██████▋   | 1835008/2752512 [00:50<00:24, 37418.89it/s]\u001b[A\n",
      " 71%|███████▏  | 1966080/2752512 [00:53<00:20, 38365.38it/s]\u001b[A\n",
      " 76%|███████▌  | 2097152/2752512 [00:57<00:17, 37898.05it/s]\u001b[A\n",
      " 81%|████████  | 2228224/2752512 [01:00<00:13, 37899.59it/s]\u001b[A\n",
      " 86%|████████▌ | 2359296/2752512 [01:04<00:10, 38278.44it/s]\u001b[A\n",
      " 90%|█████████ | 2490368/2752512 [01:07<00:06, 38806.59it/s]\u001b[A\n",
      " 95%|█████████▌| 2621440/2752512 [01:10<00:03, 39296.93it/s]\u001b[A\n",
      "100%|██████████| 2752512/2752512 [01:14<00:00, 37648.41it/s]\u001b[A"
     ]
    },
    {
     "name": "stdout",
     "output_type": "stream",
     "text": [
      "epoch 322, train loss: 0.106470\n",
      "Evaluation: auc:0.9954643676299187, precision:0.9860690490611751, recall:0.9586197759491248, f1:0.9721506893282875\n"
     ]
    },
    {
     "name": "stderr",
     "output_type": "stream",
     "text": [
      "100%|██████████| 2752512/2752512 [01:18<00:00, 34916.56it/s]\n",
      "100%|██████████| 2752512/2752512 [01:12<00:00, 38332.50it/s]"
     ]
    },
    {
     "name": "stdout",
     "output_type": "stream",
     "text": [
      "epoch 323, train loss: 0.105276\n",
      "Evaluation: auc:0.9954110972792951, precision:0.9822834645669292, recall:0.9627200142471283, f1:0.9724033517710722\n"
     ]
    },
    {
     "name": "stderr",
     "output_type": "stream",
     "text": [
      "\n",
      "100%|██████████| 2752512/2752512 [01:16<00:00, 35907.07it/s]\n",
      "\n",
      "  5%|▍         | 131072/2752512 [00:03<01:06, 39518.59it/s]\u001b[A\n",
      " 10%|▉         | 262144/2752512 [00:08<01:23, 29773.66it/s]\u001b[A\n",
      " 14%|█▍        | 393216/2752512 [00:12<01:16, 30968.34it/s]\u001b[A\n",
      " 19%|█▉        | 524288/2752512 [00:16<01:08, 32341.22it/s]\u001b[A\n",
      " 24%|██▍       | 655360/2752512 [00:19<01:00, 34910.82it/s]\u001b[A\n",
      " 29%|██▊       | 786432/2752512 [00:22<00:53, 36509.90it/s]\u001b[A\n",
      " 33%|███▎      | 917504/2752512 [00:26<00:50, 36082.72it/s]\u001b[A\n",
      " 38%|███▊      | 1048576/2752512 [00:29<00:45, 37484.99it/s]\u001b[A\n",
      " 43%|████▎     | 1179648/2752512 [00:32<00:40, 38473.73it/s]\u001b[A\n",
      " 48%|████▊     | 1310720/2752512 [00:36<00:36, 39086.79it/s]\u001b[A\n",
      " 52%|█████▏    | 1441792/2752512 [00:39<00:34, 37735.67it/s]\u001b[A\n",
      " 57%|█████▋    | 1572864/2752512 [00:43<00:30, 38441.44it/s]\u001b[A\n",
      " 62%|██████▏   | 1703936/2752512 [00:46<00:28, 37417.27it/s]\u001b[A\n",
      " 67%|██████▋   | 1835008/2752512 [00:50<00:24, 37110.70it/s]\u001b[A\n",
      " 71%|███████▏  | 1966080/2752512 [00:54<00:21, 36875.17it/s]\u001b[A\n",
      " 76%|███████▌  | 2097152/2752512 [00:57<00:17, 37903.35it/s]\u001b[A\n",
      " 81%|████████  | 2228224/2752512 [01:00<00:13, 37906.89it/s]\u001b[A\n",
      " 86%|████████▌ | 2359296/2752512 [01:04<00:10, 38656.02it/s]\u001b[A\n",
      " 90%|█████████ | 2490368/2752512 [01:07<00:06, 39256.79it/s]\u001b[A\n",
      " 95%|█████████▌| 2621440/2752512 [01:10<00:03, 39025.72it/s]\u001b[A\n",
      "100%|██████████| 2752512/2752512 [01:13<00:00, 39439.08it/s]\u001b[A"
     ]
    },
    {
     "name": "stdout",
     "output_type": "stream",
     "text": [
      "epoch 324, train loss: 0.104448\n",
      "Evaluation: auc:0.9953359145623617, precision:0.982434887946699, recall:0.9629398756252133, f1:0.972589699963273\n"
     ]
    },
    {
     "name": "stderr",
     "output_type": "stream",
     "text": [
      "100%|██████████| 2752512/2752512 [01:21<00:00, 33919.49it/s]\n",
      "100%|██████████| 2752512/2752512 [01:13<00:00, 32840.97it/s]"
     ]
    },
    {
     "name": "stdout",
     "output_type": "stream",
     "text": [
      "epoch 325, train loss: 0.104297\n",
      "Evaluation: auc:0.995294646876276, precision:0.9839491217443973, recall:0.962239004886717, f1:0.9729729729729729\n"
     ]
    },
    {
     "name": "stderr",
     "output_type": "stream",
     "text": [
      "\n",
      "100%|██████████| 2752512/2752512 [01:18<00:00, 35227.04it/s]\n",
      "\n",
      "  5%|▍         | 131072/2752512 [00:03<01:04, 40387.54it/s]\u001b[A\n",
      " 10%|▉         | 262144/2752512 [00:06<01:02, 40072.71it/s]\u001b[A\n",
      " 14%|█▍        | 393216/2752512 [00:09<01:00, 39300.60it/s]\u001b[A\n",
      " 19%|█▉        | 524288/2752512 [00:13<00:56, 39737.82it/s]\u001b[A\n",
      " 24%|██▍       | 655360/2752512 [00:16<00:52, 39785.40it/s]\u001b[A\n",
      " 29%|██▊       | 786432/2752512 [00:20<00:50, 38615.61it/s]\u001b[A\n",
      " 33%|███▎      | 917504/2752512 [00:23<00:47, 38459.38it/s]\u001b[A\n",
      " 38%|███▊      | 1048576/2752512 [00:26<00:43, 39077.28it/s]\u001b[A\n",
      " 43%|████▎     | 1179648/2752512 [00:30<00:40, 38391.81it/s]\u001b[A\n",
      " 48%|████▊     | 1310720/2752512 [00:33<00:37, 38286.73it/s]\u001b[A\n",
      " 52%|█████▏    | 1441792/2752512 [00:36<00:33, 38923.84it/s]\u001b[A\n",
      " 57%|█████▋    | 1572864/2752512 [00:40<00:29, 39386.47it/s]\u001b[A\n",
      " 62%|██████▏   | 1703936/2752512 [00:44<00:28, 37425.99it/s]\u001b[A\n",
      " 67%|██████▋   | 1835008/2752512 [00:47<00:23, 38306.80it/s]\u001b[A\n",
      " 71%|███████▏  | 1966080/2752512 [00:50<00:20, 38923.06it/s]\u001b[A\n",
      " 76%|███████▌  | 2097152/2752512 [00:54<00:16, 38728.32it/s]\u001b[A\n",
      " 81%|████████  | 2228224/2752512 [00:57<00:13, 37893.70it/s]\u001b[A\n",
      " 86%|████████▌ | 2359296/2752512 [01:02<00:11, 34536.67it/s]\u001b[A\n",
      " 90%|█████████ | 2490368/2752512 [01:06<00:08, 32633.27it/s]\u001b[A\n",
      " 95%|█████████▌| 2621440/2752512 [01:10<00:03, 34590.86it/s]\u001b[A\n",
      "100%|██████████| 2752512/2752512 [01:13<00:00, 34950.89it/s]\u001b[A"
     ]
    },
    {
     "name": "stdout",
     "output_type": "stream",
     "text": [
      "epoch 326, train loss: 0.106247\n",
      "Evaluation: auc:0.9954050479106875, precision:0.9804663840096911, recall:0.966735345934486, f1:0.9735524515479108\n"
     ]
    },
    {
     "name": "stderr",
     "output_type": "stream",
     "text": [
      "100%|██████████| 2752512/2752512 [01:17<00:00, 35326.80it/s]\n",
      "100%|██████████| 2752512/2752512 [01:16<00:00, 36723.53it/s]"
     ]
    },
    {
     "name": "stdout",
     "output_type": "stream",
     "text": [
      "epoch 327, train loss: 0.104445\n",
      "Evaluation: auc:0.9956933576589047, precision:0.9810720775287705, recall:0.9669860601176085, f1:0.9739781422407962\n"
     ]
    },
    {
     "name": "stderr",
     "output_type": "stream",
     "text": [
      "\n",
      "100%|██████████| 2752512/2752512 [01:20<00:00, 34276.45it/s]\n",
      "\n",
      "  5%|▍         | 131072/2752512 [00:03<01:14, 35140.78it/s]\u001b[A\n",
      " 10%|▉         | 262144/2752512 [00:07<01:12, 34587.70it/s]\u001b[A\n",
      " 14%|█▍        | 393216/2752512 [00:10<01:04, 36751.48it/s]\u001b[A\n",
      " 19%|█▉        | 524288/2752512 [00:14<00:58, 37772.30it/s]\u001b[A\n",
      " 24%|██▍       | 655360/2752512 [00:17<00:55, 37540.39it/s]\u001b[A\n",
      " 29%|██▊       | 786432/2752512 [00:21<00:53, 36867.12it/s]\u001b[A\n",
      " 33%|███▎      | 917504/2752512 [00:24<00:48, 37629.44it/s]\u001b[A\n",
      " 38%|███▊      | 1048576/2752512 [00:28<00:45, 37450.82it/s]\u001b[A\n",
      " 43%|████▎     | 1179648/2752512 [00:31<00:41, 38073.35it/s]\u001b[A\n",
      " 48%|████▊     | 1310720/2752512 [00:35<00:38, 37327.14it/s]\u001b[A\n",
      " 52%|█████▏    | 1441792/2752512 [00:38<00:35, 37336.15it/s]\u001b[A\n",
      " 57%|█████▋    | 1572864/2752512 [00:43<00:35, 32817.64it/s]\u001b[A\n",
      " 62%|██████▏   | 1703936/2752512 [00:47<00:32, 32534.98it/s]\u001b[A\n",
      " 67%|██████▋   | 1835008/2752512 [00:51<00:27, 33792.79it/s]\u001b[A\n",
      " 71%|███████▏  | 1966080/2752512 [00:54<00:22, 35305.76it/s]\u001b[A\n",
      " 76%|███████▌  | 2097152/2752512 [00:58<00:18, 35468.01it/s]\u001b[A\n",
      " 81%|████████  | 2228224/2752512 [01:02<00:14, 35974.99it/s]\u001b[A\n",
      " 86%|████████▌ | 2359296/2752512 [01:05<00:10, 36869.61it/s]\u001b[A\n",
      " 90%|█████████ | 2490368/2752512 [01:08<00:06, 37691.42it/s]\u001b[A\n",
      " 95%|█████████▌| 2621440/2752512 [01:12<00:03, 37788.94it/s]\u001b[A\n",
      "100%|██████████| 2752512/2752512 [01:15<00:00, 36928.58it/s]\u001b[A"
     ]
    },
    {
     "name": "stdout",
     "output_type": "stream",
     "text": [
      "epoch 328, train loss: 0.104733\n",
      "Evaluation: auc:0.9955081529245898, precision:0.9841005451241672, recall:0.9623300855865193, f1:0.9730935661131657\n"
     ]
    },
    {
     "name": "stderr",
     "output_type": "stream",
     "text": [
      "100%|██████████| 2752512/2752512 [01:20<00:00, 34319.77it/s]\n",
      "100%|██████████| 2752512/2752512 [01:15<00:00, 37308.71it/s]"
     ]
    },
    {
     "name": "stdout",
     "output_type": "stream",
     "text": [
      "epoch 329, train loss: 0.105205\n",
      "Evaluation: auc:0.9956837710273053, precision:0.9859176256814052, recall:0.961402161715197, f1:0.9735055769863341\n"
     ]
    },
    {
     "name": "stderr",
     "output_type": "stream",
     "text": [
      "\n",
      "100%|██████████| 2752512/2752512 [01:19<00:00, 34549.11it/s]\n",
      "\n",
      "  5%|▍         | 131072/2752512 [00:03<01:06, 39576.29it/s]\u001b[A\n",
      " 10%|▉         | 262144/2752512 [00:06<01:06, 37543.14it/s]\u001b[A\n",
      " 14%|█▍        | 393216/2752512 [00:10<01:01, 38580.49it/s]\u001b[A\n",
      " 19%|█▉        | 524288/2752512 [00:13<00:57, 38834.82it/s]\u001b[A\n",
      " 24%|██▍       | 655360/2752512 [00:16<00:53, 39190.20it/s]\u001b[A\n",
      " 29%|██▊       | 786432/2752512 [00:22<01:01, 31775.89it/s]\u001b[A\n",
      " 33%|███▎      | 917504/2752512 [00:27<00:59, 30656.32it/s]\u001b[A\n",
      " 38%|███▊      | 1048576/2752512 [00:30<00:51, 33134.62it/s]\u001b[A\n",
      " 43%|████▎     | 1179648/2752512 [00:33<00:45, 34382.32it/s]\u001b[A\n",
      " 48%|████▊     | 1310720/2752512 [00:37<00:40, 35925.16it/s]\u001b[A\n",
      " 52%|█████▏    | 1441792/2752512 [00:40<00:36, 36109.77it/s]\u001b[A\n",
      " 57%|█████▋    | 1572864/2752512 [00:44<00:32, 36621.77it/s]\u001b[A\n",
      " 62%|██████▏   | 1703936/2752512 [00:47<00:27, 37570.23it/s]\u001b[A\n",
      " 67%|██████▋   | 1835008/2752512 [00:50<00:23, 38258.41it/s]\u001b[A\n",
      " 71%|███████▏  | 1966080/2752512 [00:54<00:21, 35784.28it/s]\u001b[A\n",
      " 76%|███████▌  | 2097152/2752512 [00:58<00:17, 36864.06it/s]\u001b[A\n",
      " 81%|████████  | 2228224/2752512 [01:01<00:13, 37711.34it/s]\u001b[A\n",
      " 86%|████████▌ | 2359296/2752512 [01:04<00:10, 38229.08it/s]\u001b[A\n",
      " 90%|█████████ | 2490368/2752512 [01:08<00:06, 38137.49it/s]\u001b[A\n",
      " 95%|█████████▌| 2621440/2752512 [01:11<00:03, 38619.66it/s]\u001b[A\n",
      "100%|██████████| 2752512/2752512 [01:14<00:00, 38875.52it/s]\u001b[A"
     ]
    },
    {
     "name": "stdout",
     "output_type": "stream",
     "text": [
      "epoch 330, train loss: 0.104611\n",
      "Evaluation: auc:0.9956376423847523, precision:0.9853119321623258, recall:0.9638857616875037, f1:0.9744810854524217\n"
     ]
    },
    {
     "name": "stderr",
     "output_type": "stream",
     "text": [
      "100%|██████████| 2752512/2752512 [01:19<00:00, 34707.31it/s]\n",
      "100%|██████████| 2752512/2752512 [01:15<00:00, 37890.07it/s]"
     ]
    },
    {
     "name": "stdout",
     "output_type": "stream",
     "text": [
      "epoch 331, train loss: 0.103982\n",
      "Evaluation: auc:0.9954773477594292, precision:0.9781950333131435, recall:0.969009690096901, f1:0.973580697180233\n"
     ]
    },
    {
     "name": "stderr",
     "output_type": "stream",
     "text": [
      "\n",
      "100%|██████████| 2752512/2752512 [01:21<00:00, 33619.54it/s]\n",
      "\n",
      "  5%|▍         | 131072/2752512 [00:03<01:15, 34576.99it/s]\u001b[A\n",
      " 10%|▉         | 262144/2752512 [00:07<01:06, 37418.14it/s]\u001b[A\n",
      " 14%|█▍        | 393216/2752512 [00:10<01:01, 38332.61it/s]\u001b[A\n",
      " 19%|█▉        | 524288/2752512 [00:13<00:57, 38715.73it/s]\u001b[A\n",
      " 24%|██▍       | 655360/2752512 [00:17<00:54, 38432.85it/s]\u001b[A\n",
      " 29%|██▊       | 786432/2752512 [00:20<00:50, 38911.61it/s]\u001b[A\n",
      " 33%|███▎      | 917504/2752512 [00:24<00:48, 37925.34it/s]\u001b[A\n",
      " 38%|███▊      | 1048576/2752512 [00:27<00:44, 38022.20it/s]\u001b[A\n",
      " 43%|████▎     | 1179648/2752512 [00:31<00:41, 37537.73it/s]\u001b[A\n",
      " 48%|████▊     | 1310720/2752512 [00:34<00:37, 38236.42it/s]\u001b[A\n",
      " 52%|█████▏    | 1441792/2752512 [00:37<00:34, 38091.82it/s]\u001b[A\n",
      " 57%|█████▋    | 1572864/2752512 [00:41<00:30, 38734.32it/s]\u001b[A\n",
      " 62%|██████▏   | 1703936/2752512 [00:44<00:27, 37912.77it/s]\u001b[A\n",
      " 67%|██████▋   | 1835008/2752512 [00:48<00:24, 37824.00it/s]\u001b[A\n",
      " 71%|███████▏  | 1966080/2752512 [00:51<00:20, 38406.14it/s]\u001b[A\n",
      " 76%|███████▌  | 2097152/2752512 [00:54<00:16, 38827.50it/s]\u001b[A\n",
      " 81%|████████  | 2228224/2752512 [00:58<00:14, 37338.81it/s]\u001b[A\n",
      " 86%|████████▌ | 2359296/2752512 [01:01<00:10, 38044.42it/s]\u001b[A\n",
      " 90%|█████████ | 2490368/2752512 [01:06<00:07, 34599.52it/s]\u001b[A\n",
      " 95%|█████████▌| 2621440/2752512 [01:11<00:03, 32780.24it/s]\u001b[A\n",
      "100%|██████████| 2752512/2752512 [01:14<00:00, 33793.21it/s]\u001b[A"
     ]
    },
    {
     "name": "stdout",
     "output_type": "stream",
     "text": [
      "epoch 332, train loss: 0.104676\n",
      "Evaluation: auc:0.9954195736867805, precision:0.9847062386432465, recall:0.9631363023741465, f1:0.9738018403851482\n"
     ]
    },
    {
     "name": "stderr",
     "output_type": "stream",
     "text": [
      "100%|██████████| 2752512/2752512 [01:18<00:00, 34991.43it/s]\n",
      "100%|██████████| 2752512/2752512 [01:14<00:00, 37159.96it/s]"
     ]
    },
    {
     "name": "stdout",
     "output_type": "stream",
     "text": [
      "epoch 333, train loss: 0.105071\n",
      "Evaluation: auc:0.9953753135316922, precision:0.984251968503937, recall:0.9625209163199123, f1:0.9732651548614594\n"
     ]
    },
    {
     "name": "stderr",
     "output_type": "stream",
     "text": [
      "\n",
      "100%|██████████| 2752512/2752512 [01:19<00:00, 34621.79it/s]\n",
      "\n",
      "  5%|▍         | 131072/2752512 [00:03<01:06, 39446.51it/s]\u001b[A\n",
      " 10%|▉         | 262144/2752512 [00:07<01:07, 37049.76it/s]\u001b[A\n",
      " 14%|█▍        | 393216/2752512 [00:10<01:03, 37221.26it/s]\u001b[A\n",
      " 19%|█▉        | 524288/2752512 [00:13<00:58, 38029.58it/s]\u001b[A\n",
      " 24%|██▍       | 655360/2752512 [00:17<00:54, 38546.84it/s]\u001b[A\n",
      " 29%|██▊       | 786432/2752512 [00:20<00:52, 37539.01it/s]\u001b[A\n",
      " 33%|███▎      | 917504/2752512 [00:24<00:48, 37838.61it/s]\u001b[A\n",
      " 38%|███▊      | 1048576/2752512 [00:27<00:44, 38265.72it/s]\u001b[A\n",
      " 43%|████▎     | 1179648/2752512 [00:31<00:41, 37462.72it/s]\u001b[A\n",
      " 48%|████▊     | 1310720/2752512 [00:34<00:38, 37404.17it/s]\u001b[A\n",
      " 52%|█████▏    | 1441792/2752512 [00:38<00:34, 38111.01it/s]\u001b[A\n",
      " 57%|█████▋    | 1572864/2752512 [00:41<00:31, 37441.88it/s]\u001b[A\n",
      " 62%|██████▏   | 1703936/2752512 [00:46<00:31, 33352.13it/s]\u001b[A\n",
      " 67%|██████▋   | 1835008/2752512 [00:50<00:28, 32466.27it/s]\u001b[A\n",
      " 71%|███████▏  | 1966080/2752512 [00:54<00:23, 33996.29it/s]\u001b[A\n",
      " 76%|███████▌  | 2097152/2752512 [00:57<00:18, 34517.93it/s]\u001b[A\n",
      " 81%|████████  | 2228224/2752512 [01:01<00:14, 35900.44it/s]\u001b[A\n",
      " 86%|████████▌ | 2359296/2752512 [01:04<00:10, 36861.47it/s]\u001b[A\n",
      " 90%|█████████ | 2490368/2752512 [01:08<00:07, 36033.83it/s]\u001b[A\n",
      " 95%|█████████▌| 2621440/2752512 [01:11<00:03, 37098.30it/s]\u001b[A\n",
      "100%|██████████| 2752512/2752512 [01:15<00:00, 37709.14it/s]\u001b[A"
     ]
    },
    {
     "name": "stdout",
     "output_type": "stream",
     "text": [
      "epoch 334, train loss: 0.103779\n",
      "Evaluation: auc:0.9956090636293699, precision:0.9860690490611751, recall:0.9603020114434023, f1:0.9730149717598542\n"
     ]
    },
    {
     "name": "stderr",
     "output_type": "stream",
     "text": [
      "100%|██████████| 2752512/2752512 [01:19<00:00, 34483.65it/s]\n",
      "100%|██████████| 2752512/2752512 [01:14<00:00, 37301.73it/s]"
     ]
    },
    {
     "name": "stdout",
     "output_type": "stream",
     "text": [
      "epoch 335, train loss: 0.104659\n",
      "Evaluation: auc:0.9952307482277687, precision:0.9798606904906118, recall:0.9651150651016421, f1:0.9724319816062935\n"
     ]
    },
    {
     "name": "stderr",
     "output_type": "stream",
     "text": [
      "\n",
      "100%|██████████| 2752512/2752512 [01:18<00:00, 34846.25it/s]\n",
      "\n",
      "  5%|▍         | 131072/2752512 [00:03<01:06, 39715.61it/s]\u001b[A\n",
      " 10%|▉         | 262144/2752512 [00:07<01:08, 36244.48it/s]\u001b[A\n",
      " 14%|█▍        | 393216/2752512 [00:10<01:05, 36124.25it/s]\u001b[A\n",
      " 19%|█▉        | 524288/2752512 [00:14<00:59, 37438.98it/s]\u001b[A\n",
      " 24%|██▍       | 655360/2752512 [00:17<00:56, 37307.04it/s]\u001b[A\n",
      " 29%|██▊       | 786432/2752512 [00:20<00:51, 38140.06it/s]\u001b[A\n",
      " 33%|███▎      | 917504/2752512 [00:26<00:55, 32872.24it/s]\u001b[A\n",
      " 38%|███▊      | 1048576/2752512 [00:30<00:53, 31702.35it/s]\u001b[A\n",
      " 43%|████▎     | 1179648/2752512 [00:33<00:46, 33868.65it/s]\u001b[A\n",
      " 48%|████▊     | 1310720/2752512 [00:37<00:40, 35483.41it/s]\u001b[A\n",
      " 52%|█████▏    | 1441792/2752512 [00:40<00:37, 34924.05it/s]\u001b[A\n",
      " 57%|█████▋    | 1572864/2752512 [00:44<00:33, 35727.71it/s]\u001b[A\n",
      " 62%|██████▏   | 1703936/2752512 [00:47<00:28, 36915.03it/s]\u001b[A\n",
      " 67%|██████▋   | 1835008/2752512 [00:51<00:24, 36827.93it/s]\u001b[A\n",
      " 71%|███████▏  | 1966080/2752512 [00:54<00:21, 36552.75it/s]\u001b[A\n",
      " 76%|███████▌  | 2097152/2752512 [00:58<00:17, 37444.44it/s]\u001b[A\n",
      " 81%|████████  | 2228224/2752512 [01:01<00:13, 37524.70it/s]\u001b[A\n",
      " 86%|████████▌ | 2359296/2752512 [01:05<00:10, 38144.07it/s]\u001b[A\n",
      " 90%|█████████ | 2490368/2752512 [01:08<00:06, 38496.31it/s]\u001b[A\n",
      " 95%|█████████▌| 2621440/2752512 [01:11<00:03, 38354.25it/s]\u001b[A\n",
      "100%|██████████| 2752512/2752512 [01:15<00:00, 37498.95it/s]\u001b[A"
     ]
    },
    {
     "name": "stdout",
     "output_type": "stream",
     "text": [
      "epoch 336, train loss: 0.104254\n",
      "Evaluation: auc:0.9953975237462309, precision:0.9781950333131435, recall:0.9678482605699218, f1:0.9729941409485939\n"
     ]
    },
    {
     "name": "stderr",
     "output_type": "stream",
     "text": [
      "100%|██████████| 2752512/2752512 [01:19<00:00, 34629.28it/s]\n",
      "100%|██████████| 2752512/2752512 [01:15<00:00, 38260.91it/s]"
     ]
    },
    {
     "name": "stdout",
     "output_type": "stream",
     "text": [
      "epoch 337, train loss: 0.106552\n",
      "Evaluation: auc:0.9954788892787845, precision:0.9801635372501514, recall:0.9656149772506899, f1:0.9728348675558894\n"
     ]
    },
    {
     "name": "stderr",
     "output_type": "stream",
     "text": [
      "\n",
      "100%|██████████| 2752512/2752512 [01:19<00:00, 34616.12it/s]\n",
      "\n",
      "  5%|▍         | 131072/2752512 [00:04<01:33, 28036.08it/s]\u001b[A\n",
      " 10%|▉         | 262144/2752512 [00:08<01:24, 29599.42it/s]\u001b[A\n",
      " 14%|█▍        | 393216/2752512 [00:12<01:12, 32707.48it/s]\u001b[A\n",
      " 19%|█▉        | 524288/2752512 [00:16<01:05, 33863.07it/s]\u001b[A\n",
      " 24%|██▍       | 655360/2752512 [00:19<00:58, 35776.19it/s]\u001b[A\n",
      " 29%|██▊       | 786432/2752512 [00:22<00:54, 36355.65it/s]\u001b[A\n",
      " 33%|███▎      | 917504/2752512 [00:26<00:49, 37434.98it/s]\u001b[A\n",
      " 38%|███▊      | 1048576/2752512 [00:29<00:44, 38211.72it/s]\u001b[A\n",
      " 43%|████▎     | 1179648/2752512 [00:33<00:41, 37610.48it/s]\u001b[A\n",
      " 48%|████▊     | 1310720/2752512 [00:36<00:37, 38092.50it/s]\u001b[A\n",
      " 52%|█████▏    | 1441792/2752512 [00:39<00:33, 38704.38it/s]\u001b[A\n",
      " 57%|█████▋    | 1572864/2752512 [00:42<00:30, 39107.12it/s]\u001b[A\n",
      " 62%|██████▏   | 1703936/2752512 [00:46<00:28, 37244.08it/s]\u001b[A\n",
      " 67%|██████▋   | 1835008/2752512 [00:50<00:24, 37194.77it/s]\u001b[A\n",
      " 71%|███████▏  | 1966080/2752512 [00:53<00:20, 37981.92it/s]\u001b[A\n",
      " 76%|███████▌  | 2097152/2752512 [00:57<00:17, 37848.37it/s]\u001b[A\n",
      " 81%|████████  | 2228224/2752512 [01:00<00:13, 38480.15it/s]\u001b[A\n",
      " 86%|████████▌ | 2359296/2752512 [01:03<00:10, 39007.40it/s]\u001b[A\n",
      " 90%|█████████ | 2490368/2752512 [01:07<00:06, 38632.88it/s]\u001b[A\n",
      " 95%|█████████▌| 2621440/2752512 [01:10<00:03, 38981.88it/s]\u001b[A\n",
      "100%|██████████| 2752512/2752512 [01:15<00:00, 33841.61it/s]\u001b[A"
     ]
    },
    {
     "name": "stdout",
     "output_type": "stream",
     "text": [
      "epoch 338, train loss: 0.107727\n",
      "Evaluation: auc:0.9951929309036133, precision:0.9871290127195639, recall:0.9536139026637995, f1:0.9700820678417571\n"
     ]
    },
    {
     "name": "stderr",
     "output_type": "stream",
     "text": [
      "100%|██████████| 2752512/2752512 [01:21<00:00, 33741.54it/s]\n",
      "100%|██████████| 2752512/2752512 [01:15<00:00, 34663.68it/s]"
     ]
    },
    {
     "name": "stdout",
     "output_type": "stream",
     "text": [
      "epoch 339, train loss: 0.105433\n",
      "Evaluation: auc:0.9955325104437192, precision:0.9788007268322229, recall:0.9673750374139479, f1:0.9730543429173566\n"
     ]
    },
    {
     "name": "stderr",
     "output_type": "stream",
     "text": [
      "\n",
      "100%|██████████| 2752512/2752512 [01:19<00:00, 34824.47it/s]\n",
      "\n",
      "  5%|▍         | 131072/2752512 [00:03<01:05, 39842.48it/s]\u001b[A\n",
      " 10%|▉         | 262144/2752512 [00:07<01:08, 36253.74it/s]\u001b[A\n",
      " 14%|█▍        | 393216/2752512 [00:10<01:03, 37043.19it/s]\u001b[A\n",
      " 19%|█▉        | 524288/2752512 [00:13<00:58, 38093.30it/s]\u001b[A\n",
      " 24%|██▍       | 655360/2752512 [00:17<00:55, 37668.50it/s]\u001b[A\n",
      " 29%|██▊       | 786432/2752512 [00:21<00:54, 36142.44it/s]\u001b[A\n",
      " 33%|███▎      | 917504/2752512 [00:24<00:49, 37150.91it/s]\u001b[A\n",
      " 38%|███▊      | 1048576/2752512 [00:28<00:45, 37194.20it/s]\u001b[A\n",
      " 43%|████▎     | 1179648/2752512 [00:31<00:41, 37814.91it/s]\u001b[A\n",
      " 48%|████▊     | 1310720/2752512 [00:34<00:37, 38382.89it/s]\u001b[A\n",
      " 52%|█████▏    | 1441792/2752512 [00:38<00:34, 38145.08it/s]\u001b[A\n",
      " 57%|█████▋    | 1572864/2752512 [00:41<00:31, 37382.25it/s]\u001b[A\n",
      " 62%|██████▏   | 1703936/2752512 [00:45<00:27, 37936.07it/s]\u001b[A\n",
      " 67%|██████▋   | 1835008/2752512 [00:48<00:24, 38090.30it/s]\u001b[A\n",
      " 71%|███████▏  | 1966080/2752512 [00:53<00:23, 32940.74it/s]\u001b[A\n",
      " 76%|███████▌  | 2097152/2752512 [00:58<00:20, 31288.91it/s]\u001b[A\n",
      " 81%|████████  | 2228224/2752512 [01:02<00:15, 32875.68it/s]\u001b[A\n",
      " 86%|████████▌ | 2359296/2752512 [01:05<00:11, 34646.30it/s]\u001b[A\n",
      " 90%|█████████ | 2490368/2752512 [01:08<00:07, 35995.26it/s]\u001b[A\n",
      " 95%|█████████▌| 2621440/2752512 [01:12<00:03, 36051.17it/s]\u001b[A\n",
      "100%|██████████| 2752512/2752512 [01:15<00:00, 36745.76it/s]\u001b[A"
     ]
    },
    {
     "name": "stdout",
     "output_type": "stream",
     "text": [
      "epoch 340, train loss: 0.104004\n",
      "Evaluation: auc:0.995881075415997, precision:0.9825863113264688, recall:0.9656537396946338, f1:0.9740464432068928\n"
     ]
    },
    {
     "name": "stderr",
     "output_type": "stream",
     "text": [
      "100%|██████████| 2752512/2752512 [01:20<00:00, 34263.26it/s]\n",
      "100%|██████████| 2752512/2752512 [01:15<00:00, 36783.73it/s]"
     ]
    },
    {
     "name": "stdout",
     "output_type": "stream",
     "text": [
      "epoch 341, train loss: 0.103188\n",
      "Evaluation: auc:0.9956803617083565, precision:0.9822834645669292, recall:0.9639789580051713, f1:0.9730451347743262\n"
     ]
    },
    {
     "name": "stderr",
     "output_type": "stream",
     "text": [
      "\n",
      "100%|██████████| 2752512/2752512 [01:19<00:00, 34464.95it/s]\n",
      "\n",
      "  5%|▍         | 131072/2752512 [00:03<01:06, 39289.22it/s]\u001b[A\n",
      " 10%|▉         | 262144/2752512 [00:07<01:07, 36826.80it/s]\u001b[A\n",
      " 14%|█▍        | 393216/2752512 [00:10<01:04, 36748.90it/s]\u001b[A\n",
      " 19%|█▉        | 524288/2752512 [00:13<00:59, 37654.21it/s]\u001b[A\n",
      " 24%|██▍       | 655360/2752512 [00:17<00:54, 38344.17it/s]\u001b[A\n",
      " 29%|██▊       | 786432/2752512 [00:20<00:51, 38060.99it/s]\u001b[A\n",
      " 33%|███▎      | 917504/2752512 [00:24<00:50, 36388.41it/s]\u001b[A\n",
      " 38%|███▊      | 1048576/2752512 [00:28<00:45, 37224.06it/s]\u001b[A\n",
      " 43%|████▎     | 1179648/2752512 [00:33<00:47, 32934.57it/s]\u001b[A\n",
      " 48%|████▊     | 1310720/2752512 [00:37<00:45, 31968.70it/s]\u001b[A\n",
      " 52%|█████▏    | 1441792/2752512 [00:41<00:39, 33091.95it/s]\u001b[A\n",
      " 57%|█████▋    | 1572864/2752512 [00:44<00:34, 34365.24it/s]\u001b[A\n",
      " 62%|██████▏   | 1703936/2752512 [00:47<00:29, 35748.11it/s]\u001b[A\n",
      " 67%|██████▋   | 1835008/2752512 [00:51<00:24, 36823.05it/s]\u001b[A\n",
      " 71%|███████▏  | 1966080/2752512 [00:55<00:22, 34804.76it/s]\u001b[A\n",
      " 76%|███████▌  | 2097152/2752512 [00:58<00:18, 36047.17it/s]\u001b[A\n",
      " 81%|████████  | 2228224/2752512 [01:02<00:14, 36886.36it/s]\u001b[A\n",
      " 86%|████████▌ | 2359296/2752512 [01:05<00:10, 36998.99it/s]\u001b[A\n",
      " 90%|█████████ | 2490368/2752512 [01:09<00:07, 37359.98it/s]\u001b[A\n",
      " 95%|█████████▌| 2621440/2752512 [01:12<00:03, 37959.81it/s]\u001b[A\n",
      "100%|██████████| 2752512/2752512 [01:15<00:00, 37794.14it/s]\u001b[A"
     ]
    },
    {
     "name": "stdout",
     "output_type": "stream",
     "text": [
      "epoch 342, train loss: 0.103217\n",
      "Evaluation: auc:0.995435921862968, precision:0.9821320411871592, recall:0.9634437991117185, f1:0.9726981651307353\n"
     ]
    },
    {
     "name": "stderr",
     "output_type": "stream",
     "text": [
      "100%|██████████| 2752512/2752512 [01:19<00:00, 34432.51it/s]\n",
      "100%|██████████| 2752512/2752512 [01:15<00:00, 36886.05it/s]"
     ]
    },
    {
     "name": "stdout",
     "output_type": "stream",
     "text": [
      "epoch 343, train loss: 0.103300\n",
      "Evaluation: auc:0.9954350734884901, precision:0.99076317383404, recall:0.9514461457924356, f1:0.9707067035583679\n"
     ]
    },
    {
     "name": "stderr",
     "output_type": "stream",
     "text": [
      "\n",
      "100%|██████████| 2752512/2752512 [01:20<00:00, 34304.28it/s]\n",
      "\n",
      "  5%|▍         | 131072/2752512 [00:03<01:09, 37668.66it/s]\u001b[A\n",
      " 10%|▉         | 262144/2752512 [00:06<01:04, 38545.93it/s]\u001b[A\n",
      " 14%|█▍        | 393216/2752512 [00:11<01:11, 32809.26it/s]\u001b[A\n",
      " 19%|█▉        | 524288/2752512 [00:16<01:12, 30790.67it/s]\u001b[A\n",
      " 24%|██▍       | 655360/2752512 [00:19<01:02, 33386.43it/s]\u001b[A\n",
      " 29%|██▊       | 786432/2752512 [00:22<00:55, 35203.44it/s]\u001b[A\n",
      " 33%|███▎      | 917504/2752512 [00:26<00:51, 35779.60it/s]\u001b[A\n",
      " 38%|███▊      | 1048576/2752512 [00:30<00:47, 35524.94it/s]\u001b[A\n",
      " 43%|████▎     | 1179648/2752512 [00:33<00:44, 35627.36it/s]\u001b[A\n",
      " 48%|████▊     | 1310720/2752512 [00:37<00:39, 36081.60it/s]\u001b[A\n",
      " 52%|█████▏    | 1441792/2752512 [00:40<00:35, 37157.58it/s]\u001b[A\n",
      " 57%|█████▋    | 1572864/2752512 [00:43<00:31, 37789.68it/s]\u001b[A\n",
      " 62%|██████▏   | 1703936/2752512 [00:47<00:28, 36368.60it/s]\u001b[A\n",
      " 67%|██████▋   | 1835008/2752512 [00:51<00:24, 36759.63it/s]\u001b[A\n",
      " 71%|███████▏  | 1966080/2752512 [00:54<00:20, 37549.58it/s]\u001b[A\n",
      " 76%|███████▌  | 2097152/2752512 [00:57<00:17, 38097.14it/s]\u001b[A\n",
      " 81%|████████  | 2228224/2752512 [01:01<00:14, 37213.00it/s]\u001b[A\n",
      " 86%|████████▌ | 2359296/2752512 [01:05<00:10, 37797.91it/s]\u001b[A\n",
      " 90%|█████████ | 2490368/2752512 [01:08<00:06, 38262.15it/s]\u001b[A\n",
      " 95%|█████████▌| 2621440/2752512 [01:11<00:03, 38001.05it/s]\u001b[A\n",
      "100%|██████████| 2752512/2752512 [01:15<00:00, 37323.89it/s]\u001b[A"
     ]
    },
    {
     "name": "stdout",
     "output_type": "stream",
     "text": [
      "epoch 344, train loss: 0.104984\n",
      "Evaluation: auc:0.9957430517671686, precision:0.983343428225318, recall:0.9653204108631992, f1:0.9742485729073683\n"
     ]
    },
    {
     "name": "stderr",
     "output_type": "stream",
     "text": [
      "100%|██████████| 2752512/2752512 [01:22<00:00, 33509.91it/s]\n",
      "100%|██████████| 2752512/2752512 [01:16<00:00, 33855.78it/s]"
     ]
    },
    {
     "name": "stdout",
     "output_type": "stream",
     "text": [
      "epoch 345, train loss: 0.104335\n",
      "Evaluation: auc:0.9953617519217287, precision:0.9803149606299213, recall:0.9660379610839203, f1:0.9731240981240982\n"
     ]
    },
    {
     "name": "stderr",
     "output_type": "stream",
     "text": [
      "\n",
      "100%|██████████| 2752512/2752512 [01:20<00:00, 34247.28it/s]\n",
      "\n",
      "  5%|▍         | 131072/2752512 [00:03<01:07, 39122.66it/s]\u001b[A\n",
      " 10%|▉         | 262144/2752512 [00:07<01:10, 35129.34it/s]\u001b[A\n",
      " 14%|█▍        | 393216/2752512 [00:10<01:04, 36862.12it/s]\u001b[A\n",
      " 19%|█▉        | 524288/2752512 [00:14<00:58, 37800.66it/s]\u001b[A\n",
      " 24%|██▍       | 655360/2752512 [00:17<00:55, 37748.10it/s]\u001b[A\n",
      " 29%|██▊       | 786432/2752512 [00:21<00:53, 37058.25it/s]\u001b[A\n",
      " 33%|███▎      | 917504/2752512 [00:24<00:48, 37676.45it/s]\u001b[A\n",
      " 38%|███▊      | 1048576/2752512 [00:27<00:45, 37787.89it/s]\u001b[A\n",
      " 43%|████▎     | 1179648/2752512 [00:31<00:42, 37165.07it/s]\u001b[A\n",
      " 48%|████▊     | 1310720/2752512 [00:34<00:38, 37779.87it/s]\u001b[A\n",
      " 52%|█████▏    | 1441792/2752512 [00:38<00:34, 38226.41it/s]\u001b[A\n",
      " 57%|█████▋    | 1572864/2752512 [00:42<00:31, 37163.35it/s]\u001b[A\n",
      " 62%|██████▏   | 1703936/2752512 [00:45<00:27, 37738.74it/s]\u001b[A\n",
      " 67%|██████▋   | 1835008/2752512 [00:48<00:23, 38235.17it/s]\u001b[A\n",
      " 71%|███████▏  | 1966080/2752512 [00:52<00:20, 37992.55it/s]\u001b[A\n",
      " 76%|███████▌  | 2097152/2752512 [00:57<00:19, 33154.91it/s]\u001b[A\n",
      " 81%|████████  | 2228224/2752512 [01:01<00:16, 31916.75it/s]\u001b[A\n",
      " 86%|████████▌ | 2359296/2752512 [01:05<00:11, 32999.27it/s]\u001b[A\n",
      " 90%|█████████ | 2490368/2752512 [01:08<00:07, 34719.04it/s]\u001b[A\n",
      " 95%|█████████▌| 2621440/2752512 [01:12<00:03, 35443.85it/s]\u001b[A\n",
      "100%|██████████| 2752512/2752512 [01:15<00:00, 36582.37it/s]\u001b[A"
     ]
    },
    {
     "name": "stdout",
     "output_type": "stream",
     "text": [
      "epoch 346, train loss: 0.104473\n",
      "Evaluation: auc:0.9955463953531457, precision:0.9810720775287705, recall:0.9662217582581463, f1:0.9735902926481085\n"
     ]
    },
    {
     "name": "stderr",
     "output_type": "stream",
     "text": [
      "100%|██████████| 2752512/2752512 [01:20<00:00, 34399.53it/s]\n",
      "100%|██████████| 2752512/2752512 [01:15<00:00, 36899.45it/s]"
     ]
    },
    {
     "name": "stdout",
     "output_type": "stream",
     "text": [
      "epoch 347, train loss: 0.103880\n",
      "Evaluation: auc:0.9951182560649144, precision:0.9868261659600243, recall:0.955151692803752, f1:0.970730617412676\n"
     ]
    },
    {
     "name": "stderr",
     "output_type": "stream",
     "text": [
      "\n",
      "100%|██████████| 2752512/2752512 [01:19<00:00, 34517.12it/s]\n",
      "\n",
      "  5%|▍         | 131072/2752512 [00:03<01:14, 34969.12it/s]\u001b[A\n",
      " 10%|▉         | 262144/2752512 [00:07<01:10, 35458.28it/s]\u001b[A\n",
      " 14%|█▍        | 393216/2752512 [00:10<01:03, 37229.11it/s]\u001b[A\n",
      " 19%|█▉        | 524288/2752512 [00:14<00:59, 37666.95it/s]\u001b[A\n",
      " 24%|██▍       | 655360/2752512 [00:17<00:54, 38351.34it/s]\u001b[A\n",
      " 29%|██▊       | 786432/2752512 [00:20<00:50, 38724.98it/s]\u001b[A\n",
      " 33%|███▎      | 917504/2752512 [00:24<00:50, 36326.86it/s]\u001b[A\n",
      " 38%|███▊      | 1048576/2752512 [00:28<00:45, 37154.37it/s]\u001b[A\n",
      " 43%|████▎     | 1179648/2752512 [00:31<00:41, 37857.30it/s]\u001b[A\n",
      " 48%|████▊     | 1310720/2752512 [00:37<00:45, 31802.10it/s]\u001b[A\n",
      " 52%|█████▏    | 1441792/2752512 [00:41<00:42, 30491.38it/s]\u001b[A\n",
      " 57%|█████▋    | 1572864/2752512 [00:45<00:36, 32213.47it/s]\u001b[A\n",
      " 62%|██████▏   | 1703936/2752512 [00:48<00:30, 34061.03it/s]\u001b[A\n",
      " 67%|██████▋   | 1835008/2752512 [00:52<00:25, 35534.41it/s]\u001b[A\n",
      " 71%|███████▏  | 1966080/2752512 [00:55<00:22, 35157.83it/s]\u001b[A\n",
      " 76%|███████▌  | 2097152/2752512 [00:59<00:18, 36219.91it/s]\u001b[A\n",
      " 81%|████████  | 2228224/2752512 [01:02<00:14, 37103.67it/s]\u001b[A\n",
      " 86%|████████▌ | 2359296/2752512 [01:05<00:10, 37726.87it/s]\u001b[A\n",
      " 90%|█████████ | 2490368/2752512 [01:09<00:07, 36221.58it/s]\u001b[A\n",
      " 95%|█████████▌| 2621440/2752512 [01:13<00:03, 37042.72it/s]\u001b[A\n",
      "100%|██████████| 2752512/2752512 [01:16<00:00, 37631.09it/s]\u001b[A"
     ]
    },
    {
     "name": "stdout",
     "output_type": "stream",
     "text": [
      "epoch 348, train loss: 0.104487\n",
      "Evaluation: auc:0.9952276729849318, precision:0.975923682616596, recall:0.9674126776842137, f1:0.9716495428196682\n"
     ]
    },
    {
     "name": "stderr",
     "output_type": "stream",
     "text": [
      "100%|██████████| 2752512/2752512 [01:20<00:00, 34078.00it/s]\n",
      "100%|██████████| 2752512/2752512 [01:13<00:00, 39329.16it/s]"
     ]
    },
    {
     "name": "stdout",
     "output_type": "stream",
     "text": [
      "epoch 349, train loss: 0.103872\n",
      "Evaluation: auc:0.9953741120499993, precision:0.983343428225318, recall:0.9622451398767188, f1:0.9726798873644478\n"
     ]
    },
    {
     "name": "stderr",
     "output_type": "stream",
     "text": [
      "\n",
      "100%|██████████| 2752512/2752512 [01:17<00:00, 35328.23it/s]\n",
      "\n",
      "  5%|▍         | 131072/2752512 [00:03<01:04, 40709.67it/s]\u001b[A\n",
      " 10%|▉         | 262144/2752512 [00:06<01:05, 38137.33it/s]\u001b[A\n",
      " 14%|█▍        | 393216/2752512 [00:10<01:01, 38146.06it/s]\u001b[A\n",
      " 19%|█▉        | 524288/2752512 [00:13<00:56, 39092.45it/s]\u001b[A\n",
      " 24%|██▍       | 655360/2752512 [00:18<01:03, 33278.43it/s]\u001b[A\n",
      " 29%|██▊       | 786432/2752512 [00:22<01:01, 32112.68it/s]\u001b[A\n",
      " 33%|███▎      | 917504/2752512 [00:26<00:53, 34377.13it/s]\u001b[A\n",
      " 38%|███▊      | 1048576/2752512 [00:29<00:48, 35340.57it/s]\u001b[A\n",
      " 43%|████▎     | 1179648/2752512 [00:33<00:43, 35814.42it/s]\u001b[A\n",
      " 48%|████▊     | 1310720/2752512 [00:36<00:38, 37161.35it/s]\u001b[A\n",
      " 52%|█████▏    | 1441792/2752512 [00:39<00:35, 37218.18it/s]\u001b[A\n",
      " 57%|█████▋    | 1572864/2752512 [00:43<00:31, 37819.85it/s]\u001b[A\n",
      " 62%|██████▏   | 1703936/2752512 [00:46<00:27, 37551.95it/s]\u001b[A\n",
      " 67%|██████▋   | 1835008/2752512 [00:49<00:23, 38402.44it/s]\u001b[A\n",
      " 71%|███████▏  | 1966080/2752512 [00:53<00:20, 38752.47it/s]\u001b[A\n",
      " 76%|███████▌  | 2097152/2752512 [00:56<00:16, 39253.15it/s]\u001b[A\n",
      " 81%|████████  | 2228224/2752512 [00:59<00:13, 39718.60it/s]\u001b[A\n",
      " 86%|████████▌ | 2359296/2752512 [01:03<00:09, 39441.67it/s]\u001b[A\n",
      " 90%|█████████ | 2490368/2752512 [01:06<00:06, 39664.11it/s]\u001b[A\n",
      " 95%|█████████▌| 2621440/2752512 [01:09<00:03, 39843.30it/s]\u001b[A\n",
      "100%|██████████| 2752512/2752512 [01:13<00:00, 36295.51it/s]\u001b[A"
     ]
    },
    {
     "name": "stdout",
     "output_type": "stream",
     "text": [
      "epoch 350, train loss: 0.103729\n",
      "Evaluation: auc:0.9953813860586301, precision:0.988037552998183, recall:0.9547290179093995, f1:0.971097749732111\n"
     ]
    }
   ],
   "source": [
    "########################### START TRAINING & TESTING & EVALUATION#####################################\n",
    "all_loss = []\n",
    "performance = []\n",
    "best_auc = 0\n",
    "best_precision = 0\n",
    "model_save_path = './model'\n",
    "for epoch in range(1, num_epoches+1):\n",
    "    model.train()\n",
    "    train_loss = 0\n",
    "    n_batches = train_interacts // batch_size + 1\n",
    "    pbar = tqdm(total=n_batches*batch_size*2)\n",
    "    for i in range(n_batches):\n",
    "        uij = generate_train_batch(user_ratings_train, n_items, batch_size, train_users, test_ratings)\n",
    "        users, items, labels = uij[:, 0], uij[:, 1], uij[:, 2]\n",
    "        users, items, labels = torch.tensor(users).to(device), torch.tensor(items).to(device), torch.tensor(labels).to(device)\n",
    "        loss = model.cal_loss(users, items, labels)\n",
    "        train_loss += loss.item()\n",
    "        opt.zero_grad()\n",
    "        loss.backward()\n",
    "        opt.step()\n",
    "        pbar.update(batch_size*2)\n",
    "    train_loss /= n_batches\n",
    "    all_loss.append(train_loss)\n",
    "    print(\"epoch {}, train loss: {:4f}\".format(epoch, train_loss))\n",
    "    \n",
    "    model.eval()\n",
    "#     auc_list, precision_list, recall_list, f1score_list = [], [], [], []\n",
    "    with torch.no_grad():\n",
    "        t_uij = generate_test_batch(user_ratings_train, user_ratings_test, n_items, train_users, test_ratings)\n",
    "        users, items, labels = t_uij[:, 0], t_uij[:, 1], t_uij[:, 2]\n",
    "        users, items = torch.tensor(users).to(device), torch.tensor(items).to(device)\n",
    "        pred = model(users, items)\n",
    "        pred = pred.cpu().numpy()\n",
    "        auc, precision, recall, f1score = evaluation(pred, labels)\n",
    "#         auc_list.append(auc)\n",
    "#         precision_list.append(precision)\n",
    "#         recall_list.append(recall)\n",
    "#         f1score_list.append(f1score)\n",
    "#         auc, precision, recall, f1score = np.mean(auc_list), np.mean(precision_list), np.mean(recall_list), np.mean(f1score_list)\n",
    "        performance.append([auc, precision, recall, f1score])\n",
    "        print(\"Evaluation: auc:{}, precision:{}, recall:{}, f1:{}\".format(auc, precision, recall, f1score)) \n",
    "        if auc > best_auc:\n",
    "            best_auc = auc\n",
    "            best_precision = precision\n",
    "            state = {'net': model.state_dict(), 'opt':opt.state_dict(), 'epoch':epoch}\n",
    "            torch.save(state, model_save_path)\n",
    "    \n",
    "all_loss = np.array(all_loss)\n",
    "performance = np.array(performance)\n",
    "np.save(\"./loss.npy\", all_loss)\n",
    "np.save(\"./performance.npy\", performance)"
   ]
  },
  {
   "cell_type": "code",
   "execution_count": 18,
   "id": "0c855a24",
   "metadata": {
    "execution": {
     "iopub.execute_input": "2022-05-30T13:22:48.371645Z",
     "iopub.status.busy": "2022-05-30T13:22:48.370849Z",
     "iopub.status.idle": "2022-05-30T13:22:48.426661Z",
     "shell.execute_reply": "2022-05-30T13:22:48.425772Z"
    },
    "papermill": {
     "duration": 5.307025,
     "end_time": "2022-05-30T13:22:48.429032",
     "exception": false,
     "start_time": "2022-05-30T13:22:43.122007",
     "status": "completed"
    },
    "tags": []
   },
   "outputs": [
    {
     "name": "stdout",
     "output_type": "stream",
     "text": [
      "##################### Best epoch : 340 ###########################\n"
     ]
    }
   ],
   "source": [
    "# from collections import OrderedDict\n",
    "\n",
    "ckpt = torch.load('./model')\n",
    "\n",
    "# model_weights = OrderedDict()\n",
    "# for k, v in ckpt['net'].items():\n",
    "#     if not k == 'init_user_feature':\n",
    "#         model_weights[k] = v\n",
    "# print(model_weights)\n",
    "\n",
    "# model.load_state_dict(model_weights)\n",
    "model.load_state_dict(ckpt['net'])\n",
    "opt.load_state_dict(ckpt['opt'])\n",
    "print(\"##################### Best epoch : {} ###########################\".format(ckpt['epoch']))"
   ]
  },
  {
   "cell_type": "code",
   "execution_count": 19,
   "id": "8ec547f5",
   "metadata": {
    "execution": {
     "iopub.execute_input": "2022-05-30T13:22:58.974792Z",
     "iopub.status.busy": "2022-05-30T13:22:58.974468Z",
     "iopub.status.idle": "2022-05-30T13:23:05.698047Z",
     "shell.execute_reply": "2022-05-30T13:23:05.697321Z"
    },
    "papermill": {
     "duration": 12.05385,
     "end_time": "2022-05-30T13:23:05.700482",
     "exception": false,
     "start_time": "2022-05-30T13:22:53.646632",
     "status": "completed"
    },
    "tags": []
   },
   "outputs": [],
   "source": [
    "users, items = [], []\n",
    "with open(author_test_file, 'r') as f:\n",
    "    line = f.readlines()\n",
    "for l in line:\n",
    "    src, tgt = l.strip().split(' ')\n",
    "    src, tgt = int(src), int(tgt)\n",
    "    users.append(src)\n",
    "    items.append(tgt)\n",
    "users = np.array(users)\n",
    "items = np.array(items)\n",
    "\n",
    "model.eval()\n",
    "with torch.no_grad():\n",
    "    users, items = torch.tensor(users).to(device), torch.tensor(items).to(device)\n",
    "    pred = model(users, items)\n",
    "    pred = pred.cpu().numpy()\n",
    "    pred = pred.reshape(-1)\n",
    "\n",
    "import pandas as pd\n",
    "\n",
    "data = []\n",
    "for index, p in enumerate(list(pred)):\n",
    "    tp = [index, p]\n",
    "    data.append(tp)\n",
    "\n",
    "df = pd.DataFrame(data, columns=[\"Index\", \"Probability\"])\n",
    "df.to_csv('./submission.csv', index=False)"
   ]
  }
 ],
 "metadata": {
  "kernelspec": {
   "display_name": "Python 3",
   "language": "python",
   "name": "python3"
  },
  "language_info": {
   "codemirror_mode": {
    "name": "ipython",
    "version": 3
   },
   "file_extension": ".py",
   "mimetype": "text/x-python",
   "name": "python",
   "nbconvert_exporter": "python",
   "pygments_lexer": "ipython3",
   "version": "3.7.12"
  },
  "papermill": {
   "default_parameters": {},
   "duration": 27727.746636,
   "end_time": "2022-05-30T13:23:12.996049",
   "environment_variables": {},
   "exception": null,
   "input_path": "__notebook__.ipynb",
   "output_path": "__notebook__.ipynb",
   "parameters": {},
   "start_time": "2022-05-30T05:41:05.249413",
   "version": "2.3.4"
  }
 },
 "nbformat": 4,
 "nbformat_minor": 5
}
